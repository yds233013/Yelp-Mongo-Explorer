{
 "cells": [
  {
   "cell_type": "code",
   "execution_count": 153,
   "metadata": {
    "deletable": false,
    "editable": false
   },
   "outputs": [],
   "source": [
    "# Initialize Otter\n",
    "import otter\n",
    "grader = otter.Notebook(\"proj4.ipynb\")"
   ]
  },
  {
   "cell_type": "markdown",
   "metadata": {},
   "source": [
    "# Project 4: Mongo \n",
    "\n",
    "## Due Date: Friday 4/18, 5:00 PM\n",
    "\n",
    "In this project, we will be investigating how different database systems handle semi-structured JSON data. In particular, we will be placing emphasis on the use of MongoDB: a database system that stores data in a construct known as documents. These documents are very similar to the JSON objects we've explored in lecture, with a few differences in representation and indexing that we will explore in the following questions. \n",
    "\n",
    "In this project, we will be working with the **Yelp Academic Dataset** which contains the datasets `businesses`, `reviews`, and `users`. Due to the limitations of JupyterHub and the Mongo instances we are working with, `reviews` and `users` are truncated to 7500 reviews and 1000 users. We will be using the full `businesses` dataset, however.\n",
    "\n",
    "Throughout the course of this project, you should understand what Mongo can (and cannot) do with regards to its documents as a NoSQL datastore, and compare and contrast this to other data representation formats such as the relational model.\n",
    "\n",
    "**Note:** Please use whitespace gratuitously! This will help you with catching syntax/typos."
   ]
  },
  {
   "cell_type": "markdown",
   "metadata": {
    "jp-MarkdownHeadingCollapsed": true
   },
   "source": [
    "## Logistics & Scoring Breakdown\n",
    "\n",
    "Please read the submission instructions carefully and double check that your submission is not throwing any errors. Please ensure that public tests pass upon submission. It is your responsibility to wait until the autograder finishes running. We will not be accepting regrade requests for submission issues.\n",
    "\n",
    "Each coding question has **both public tests and hidden tests**. Roughly 50% of your coding grade will be made up of your score on the public tests released to you, while the remaining 50% will be made up of unreleased hidden tests. **Free-response questions (marked 'm' in the table below) are manually graded.**\n",
    "\n",
    "This is an **individual project**. However, you’re welcome to collaborate with any other student in the class as long as it’s within the academic honesty guidelines.\n",
    "\n",
    "Question | Points\n",
    "--- | ---\n",
    "1a\t| 1\n",
    "1b  | 1\n",
    "1c\t| 2\n",
    "1d\t| 1\n",
    "1e\t| 2\n",
    "1f  | 1\n",
    "2a\t| m: 2\n",
    "2b\t| 1\n",
    "2c  | 1\n",
    "2d  | m: 2\n",
    "3a\t| m: 1\n",
    "3b\t| 1\n",
    "3c\t| 1\n",
    "3d  | 1\n",
    "3e  | 1\n",
    "3f  | 3\n",
    "4a\t| 1\n",
    "4b\t| 2\n",
    "4c\t| 2\n",
    "4d  | 1\n",
    "**Total** | 28\n",
    "\n",
    "**Grand Total:** 28 points (autograded: 23, manual: 5) "
   ]
  },
  {
   "cell_type": "markdown",
   "metadata": {},
   "source": [
    "## Loading Up Mongo\n",
    "We will be using [PyMongo](https://www.mongodb.com/docs/languages/python/pymongo-driver/current/), a Python wrapper for MongoDB, for this project. **Note that the method names and syntax in PyMongo might be slightly different compared to pure MongoDB, for example `update_one` instead of `updateOne`.**\n",
    "\n",
    "Every student should have access to their own MongoDB instance, running on the localhost of your Datahub server. After running the following cell, for the rest of the project, you can use the Python variables `business`, `review`, and `user` to access the corresponding collection.\n",
    "\n",
    "To prevent bracket mismatches while creating your queries, it is recommended to **turn on \"Auto Close Brackets\"** via Settings (top left) in JupyterHub.\n",
    "\n",
    "Furthermore, since we are using Python dictionaries as our query filter, make sure to wrap all keys and values inside quotes."
   ]
  },
  {
   "cell_type": "code",
   "execution_count": 154,
   "metadata": {
    "scrolled": true
   },
   "outputs": [],
   "source": [
    "import pickle\n",
    "import pandas as pd\n",
    "import pymongo\n",
    "from pymongo import TEXT\n",
    "import numpy as np\n",
    "\n",
    "myclient = pymongo.MongoClient(\"mongodb://localhost\")\n",
    "mydb = myclient[\"yelp\"]\n",
    "business = mydb[\"business\"]\n",
    "review = mydb[\"review\"]\n",
    "user = mydb[\"user\"]"
   ]
  },
  {
   "cell_type": "markdown",
   "metadata": {},
   "source": [
    "## Troubleshooting\n",
    "\n",
    "**PLEASE READ:** Please avoid printing too many debugging query outputs—it may crash your JupyterHub if your file size becomes too large! It's recommended to use the `limit()` method and delete any debugging query cells if no longer needed as you go through the project.\n",
    "\n",
    "You might run into issues on the project where you are certain your code works but the output is incorrect. This may be because your collections have been corrupted. Run the following cell and uncomment the specific collections you would like to drop if you would like to remake your collections from scratch. **Be sure to re-run the Load Datasets cells below if you drop your collections so you aren't working with empty collections!**"
   ]
  },
  {
   "cell_type": "code",
   "execution_count": 155,
   "metadata": {},
   "outputs": [],
   "source": [
    "# UNCOMMENT AND RUN THIS CELL IF YOU WOULD LIKE TO REMAKE YOUR COLLECTIONS FROM SCRATCH. \n",
    "# IF YOU DROP ANY COLLECTIONS, RE-RUN THE NEXT TWO CELLS TO LOAD IN THE DATA.\n",
    "\n",
    "# review.drop()\n",
    "# business.drop()\n",
    "# user.drop()"
   ]
  },
  {
   "cell_type": "markdown",
   "metadata": {},
   "source": [
    "## Load Datasets\n",
    "The following two cells will load the JSON datasets into the appropriate Mongo collections. You will only need to run them once unless you drop the collections above. The second cell **may take a couple of minutes to run** if you are running it for the first time or are running it after you dropped the collections."
   ]
  },
  {
   "cell_type": "code",
   "execution_count": 156,
   "metadata": {},
   "outputs": [
    {
     "ename": "FileNotFoundError",
     "evalue": "[Errno 2] No such file or directory: 'data/yelp_academic_dataset_review.json.zip'",
     "output_type": "error",
     "traceback": [
      "\u001b[0;31m---------------------------------------------------------------------------\u001b[0m",
      "\u001b[0;31mFileNotFoundError\u001b[0m                         Traceback (most recent call last)",
      "Cell \u001b[0;32mIn[156], line 5\u001b[0m\n\u001b[1;32m      2\u001b[0m \u001b[38;5;28;01mimport\u001b[39;00m \u001b[38;5;21;01mos\u001b[39;00m\u001b[38;5;21;01m.\u001b[39;00m\u001b[38;5;21;01mpath\u001b[39;00m\n\u001b[1;32m      4\u001b[0m \u001b[38;5;28;01mif\u001b[39;00m \u001b[38;5;129;01mnot\u001b[39;00m os\u001b[38;5;241m.\u001b[39mpath\u001b[38;5;241m.\u001b[39misfile(\u001b[38;5;124m'\u001b[39m\u001b[38;5;124mdata/yelp_academic_dataset_review.json\u001b[39m\u001b[38;5;124m'\u001b[39m):\n\u001b[0;32m----> 5\u001b[0m     \u001b[38;5;28;01mwith\u001b[39;00m \u001b[43mzipfile\u001b[49m\u001b[38;5;241;43m.\u001b[39;49m\u001b[43mZipFile\u001b[49m\u001b[43m(\u001b[49m\u001b[38;5;124;43m'\u001b[39;49m\u001b[38;5;124;43mdata/yelp_academic_dataset_review.json.zip\u001b[39;49m\u001b[38;5;124;43m'\u001b[39;49m\u001b[43m,\u001b[49m\u001b[43m \u001b[49m\u001b[38;5;124;43m'\u001b[39;49m\u001b[38;5;124;43mr\u001b[39;49m\u001b[38;5;124;43m'\u001b[39;49m\u001b[43m)\u001b[49m \u001b[38;5;28;01mas\u001b[39;00m zip_ref:\n\u001b[1;32m      6\u001b[0m         zip_ref\u001b[38;5;241m.\u001b[39mextractall(\u001b[38;5;124m'\u001b[39m\u001b[38;5;124mdata\u001b[39m\u001b[38;5;124m'\u001b[39m)\n\u001b[1;32m      8\u001b[0m \u001b[38;5;28;01mif\u001b[39;00m \u001b[38;5;129;01mnot\u001b[39;00m os\u001b[38;5;241m.\u001b[39mpath\u001b[38;5;241m.\u001b[39misfile(\u001b[38;5;124m'\u001b[39m\u001b[38;5;124mdata/yelp_academic_dataset_user.json\u001b[39m\u001b[38;5;124m'\u001b[39m):\n",
      "File \u001b[0;32m/srv/conda/envs/notebook/lib/python3.11/zipfile.py:1295\u001b[0m, in \u001b[0;36mZipFile.__init__\u001b[0;34m(self, file, mode, compression, allowZip64, compresslevel, strict_timestamps, metadata_encoding)\u001b[0m\n\u001b[1;32m   1293\u001b[0m \u001b[38;5;28;01mwhile\u001b[39;00m \u001b[38;5;28;01mTrue\u001b[39;00m:\n\u001b[1;32m   1294\u001b[0m     \u001b[38;5;28;01mtry\u001b[39;00m:\n\u001b[0;32m-> 1295\u001b[0m         \u001b[38;5;28mself\u001b[39m\u001b[38;5;241m.\u001b[39mfp \u001b[38;5;241m=\u001b[39m io\u001b[38;5;241m.\u001b[39mopen(file, filemode)\n\u001b[1;32m   1296\u001b[0m     \u001b[38;5;28;01mexcept\u001b[39;00m \u001b[38;5;167;01mOSError\u001b[39;00m:\n\u001b[1;32m   1297\u001b[0m         \u001b[38;5;28;01mif\u001b[39;00m filemode \u001b[38;5;129;01min\u001b[39;00m modeDict:\n",
      "\u001b[0;31mFileNotFoundError\u001b[0m: [Errno 2] No such file or directory: 'data/yelp_academic_dataset_review.json.zip'"
     ]
    }
   ],
   "source": [
    "import zipfile\n",
    "import os.path\n",
    "\n",
    "if not os.path.isfile('data/yelp_academic_dataset_review.json'):\n",
    "    with zipfile.ZipFile('data/yelp_academic_dataset_review.json.zip', 'r') as zip_ref:\n",
    "        zip_ref.extractall('data')\n",
    "\n",
    "if not os.path.isfile('data/yelp_academic_dataset_user.json'):\n",
    "    with zipfile.ZipFile('data/yelp_academic_dataset_user.json.zip', 'r') as zip_ref:\n",
    "        zip_ref.extractall('data')\n",
    "\n",
    "if not os.path.isfile('data/yelp_academic_dataset_business.json'):\n",
    "    with zipfile.ZipFile('data/yelp_academic_dataset_business.json.zip', 'r') as zip_ref:\n",
    "        zip_ref.extractall('data')"
   ]
  },
  {
   "cell_type": "code",
   "execution_count": 157,
   "metadata": {
    "scrolled": true
   },
   "outputs": [],
   "source": [
    "# THIS CELL MAY TAKE AT MOST 5 MINUTES. BUT HOPEFULLY YOU WILL ONLY NEED TO RUN IT ONCE.\n",
    "import json\n",
    "\n",
    "# DEV PATH\n",
    "# BUSINESS_PATH = \"~/_shared/data101-readwrite/proj4_data/yelp_academic_dataset_business.json\"\n",
    "# REVIEW_PATH = \"~/_shared/data101-readwrite/proj4_data/yelp_academic_dataset_review.json\"\n",
    "# USER_PATH = \"~/_shared/data101-readwrite/proj4_data/yelp_academic_dataset_user.json\"\n",
    "\n",
    "#STUDENT PATH\n",
    "BUSINESS_PATH = \"../../../_shared/data101-readonly/proj4_data/yelp_academic_dataset_business.json\"\n",
    "REVIEW_PATH = \"../../../_shared/data101-readonly/proj4_data/yelp_academic_dataset_review.json\"\n",
    "USER_PATH = \"../../../_shared/data101-readonly/proj4_data/yelp_academic_dataset_user.json\"\n",
    "\n",
    "if business.count_documents({}) == 0:\n",
    "    print(\"Loading business collection...\")\n",
    "    with open(BUSINESS_PATH, encoding='utf-8') as f:\n",
    "        for line in f:\n",
    "            business.insert_one(json.loads(line))\n",
    "\n",
    "if review.count_documents({}) == 0:\n",
    "    print(\"Loading review collection...\")\n",
    "    with open(REVIEW_PATH, encoding='utf-8') as f:\n",
    "        for line in f:\n",
    "            review.insert_one(json.loads(line))\n",
    "            \n",
    "if user.count_documents({}) == 0:\n",
    "    print(\"Loading user collection...\")\n",
    "    with open(USER_PATH, encoding='utf-8') as f:\n",
    "        for line in f:\n",
    "            user.insert_one(json.loads(line))"
   ]
  },
  {
   "cell_type": "markdown",
   "metadata": {},
   "source": [
    "Let's take a quick look at our collections. For the command below, replace `user` with `review` or `business` to count the number of documents in each collection."
   ]
  },
  {
   "cell_type": "code",
   "execution_count": 158,
   "metadata": {
    "scrolled": true
   },
   "outputs": [
    {
     "data": {
      "text/plain": [
       "1000"
      ]
     },
     "execution_count": 158,
     "metadata": {},
     "output_type": "execute_result"
    }
   ],
   "source": [
    "user.count_documents({})"
   ]
  },
  {
   "cell_type": "markdown",
   "metadata": {},
   "source": [
    "Now let's inspect our collections. The code below retrieves the first document in `business`."
   ]
  },
  {
   "cell_type": "code",
   "execution_count": 159,
   "metadata": {},
   "outputs": [
    {
     "data": {
      "text/plain": [
       "{'_id': ObjectId('6806a702a79df360aaa86a56'),\n",
       " 'business_id': '6iYb2HFDywm3zjuRg0shjw',\n",
       " 'name': 'Oskar Blues Taproom',\n",
       " 'address': '921 Pearl St',\n",
       " 'city': 'Boulder',\n",
       " 'state': 'CO',\n",
       " 'postal_code': '80302',\n",
       " 'latitude': 40.0175444,\n",
       " 'longitude': -105.2833481,\n",
       " 'stars': 4.0,\n",
       " 'review_count': 86,\n",
       " 'is_open': 1,\n",
       " 'attributes': {'RestaurantsTableService': 'True',\n",
       "  'WiFi': \"u'free'\",\n",
       "  'BikeParking': 'True',\n",
       "  'BusinessParking': \"{'garage': False, 'street': True, 'validated': False, 'lot': False, 'valet': False}\",\n",
       "  'BusinessAcceptsCreditCards': 'True',\n",
       "  'RestaurantsReservations': 'False',\n",
       "  'WheelchairAccessible': 'True',\n",
       "  'Caters': 'True',\n",
       "  'OutdoorSeating': 'True',\n",
       "  'RestaurantsGoodForGroups': 'True',\n",
       "  'HappyHour': 'True',\n",
       "  'BusinessAcceptsBitcoin': 'False',\n",
       "  'RestaurantsPriceRange2': '2',\n",
       "  'Ambience': \"{'touristy': False, 'hipster': False, 'romantic': False, 'divey': False, 'intimate': False, 'trendy': False, 'upscale': False, 'classy': False, 'casual': True}\",\n",
       "  'HasTV': 'True',\n",
       "  'Alcohol': \"'beer_and_wine'\",\n",
       "  'GoodForMeal': \"{'dessert': False, 'latenight': False, 'lunch': False, 'dinner': False, 'brunch': False, 'breakfast': False}\",\n",
       "  'DogsAllowed': 'False',\n",
       "  'RestaurantsTakeOut': 'True',\n",
       "  'NoiseLevel': \"u'average'\",\n",
       "  'RestaurantsAttire': \"'casual'\",\n",
       "  'RestaurantsDelivery': 'None'},\n",
       " 'categories': 'Gastropubs, Food, Beer Gardens, Restaurants, Bars, American (Traditional), Beer Bar, Nightlife, Breweries',\n",
       " 'hours': {'Monday': '11:0-23:0',\n",
       "  'Tuesday': '11:0-23:0',\n",
       "  'Wednesday': '11:0-23:0',\n",
       "  'Thursday': '11:0-23:0',\n",
       "  'Friday': '11:0-23:0',\n",
       "  'Saturday': '11:0-23:0',\n",
       "  'Sunday': '11:0-23:0'}}"
      ]
     },
     "execution_count": 159,
     "metadata": {},
     "output_type": "execute_result"
    }
   ],
   "source": [
    "business.find_one()"
   ]
  },
  {
   "cell_type": "markdown",
   "metadata": {},
   "source": [
    "If you see a document containing a business named `Oskar Blues Taproom` when you run the command above, it means that our JSON data has successfully been imported into the collection!\n",
    "\n",
    "You should be able to similarly view the first document in `user` and `review` by running the code below."
   ]
  },
  {
   "cell_type": "code",
   "execution_count": 160,
   "metadata": {},
   "outputs": [
    {
     "data": {
      "text/plain": [
       "{'_id': ObjectId('6806a737a79df360aaaafaeb'),\n",
       " 'user_id': 'q_QQ5kBBwlCcbL1s4NVK3g',\n",
       " 'name': 'Jane',\n",
       " 'review_count': 1220,\n",
       " 'yelping_since': '2005-03-14 20:26:35',\n",
       " 'useful': 15038,\n",
       " 'funny': 10030,\n",
       " 'cool': 11291,\n",
       " 'elite': '2006,2007,2008,2009,2010,2011,2012,2013,2014',\n",
       " 'friends': 'xBDpTUbai0DXrvxCe3X16Q, 7GPNBO496aecrjJfW6UWtg, gUfHciSP7BbxZd5gj-c4xw, NXw0bCLF5ZtFMfhcj7CFSw, OGjmMxPuIoLTJ3O-CO2A4g, mwUcJP11UkIjCB8jBAaS3g, fDmgb3Vi3-f_MtFOImH0Ug, -x1516ZG5GllZiBjDQlRkA, tx5UcfGrsud-CQdq8p8KKw, HKooPGsHiZV_0vTn45fG_w, 2iSBJHVMNsolJ3AH1g_D7A, NcoP47QP_eMVtoZvinwU-w, XPOx-mCubVGQ1rRknztFtw, K6Tbv3a_qUQK0ed4T0_u5Q, _dUWTJf0faMXMdr_RFW5Xw, 5ni2bacPC7scIAHAb9DmlQ, cG-UHRz9QdhBEBz3R_8X0Q, BPh-OMqPul6HXsnCHxsk6g, mgzNtI5XOuPwwukp6yh1Vw, pMbWlP0cAvtRSFMI-8mvaw, yf-DODoyVwAh3OQYaRIzzg, nnImk681KaRqUVHlSfZjGQ, AH3SMQ4HwttTUvqvkieMxA, RZwjMDvgVUi3yJdJofziJQ, 8Zocr6jVED5JQEBvqwEBZw, 02r6AiM9aNUpHeCoWsOxYA, pkJvKUjA68vnDFhJh1gHEg, cPqZKGcKhioqRZeokvV0cQ, LX4BsaXflALTvTDnft_6FA, dw2T8SFAU3f1MjN-zOaS7w, BUB_t_Rvzs1yPEzZipkWjw, 9p9-1hlmpNl6otWYujJDYw, Z0C_AdA4vJwzrg1Fe4yddg, YoLuCwckCU7nrH807XWCQw, RKT1rPAoiLJgXcEflvJ95Q, 71-vm7Jzxat9t42mX1IaKw, rcU7ysY41qGppbw4pQgjqg, q5K-aNiLiksURl7lphjhoA, XT8MsOIh6_zZ0-d0VaqZLg, rk3deA0rPWqjH5ylNK2y4g, hvPjekutiRbkVJPKkUKT9g, lfAATwK7-luzRpXNwnHbfQ, tC6o9xPdWVvyxL4MmEXPdQ, xNJlwYz_tEXkaYxP1HI2mg, Z5dJR6fe-X0Zhn7aO3_ZTw, my2T74Ifjz0eR_RE1Neb4A, is3csVBxWVTE_CrQ2-argg, S5WQcThM04eH7Eu0YJ1a1Q, tPyC_7oMmNnhynw0HntyRA, m_y6jQ5AeVpXfTSc9c_LEQ, JH7UxS7w2fI6pNxup2y73Q, Uki-1q5A2p7pC19KpXsGag, 3QCkc8tpBK9cDYorKqvahw, aoeMo0aVDmbKByUNXKr9pg, pnU0L7MWAKf-FlITzfVNxg, 1Y5sVYKQACmepTltxEby2A, xlklAS3yeN5DHN3zHA75gQ, z1fFMZ3BFGGSMlUjfq8ZQA, ci7Q6NvXQ8UZrBHusVX18g, 8aZifkcVB7AwJC2uPpGomg, qWjC1QQPtz2uMT6mlWHUKQ, pu07bPV3wW1VCc0cwtr4vg, ciGU5fy1KclSNx5qRjc01Q, 6VbFaYbtITwMzuCOj8567A, IvqEWGUeBgdRiPyvQckIGA, Bchgh1l6l_qRiRc1M5eIHw, F6glGg2elw1dN1JJzf-sPg, MbGeVeZWu653SR_Gu1FgAw, 9_v7GlnIikGwvoMC9LUYkQ, CU1XWxrVM6U3UiSgMRV0ZA, QyLp-2pVJMcpaM8wR4VTVw, bT4Fr7znbPBCpC-pILtbmw, nKjUdubz0NmReVF8Q_5UwQ, PoS7_OQE4AOEXjfZ3447pQ, RHCZzyfypt6Sff3KoF6pgA, JNz5hAhVLr8uacC3h5jLkQ, SzuILN_N2_32YWA8nRe96w, wRAy5X8K7uvq5uQDEgVOLg, djQcFeW5zKq1bG44Ip0RZg, 1dLDRBXBECCGC0nAGeCDdQ, g7TEQ34Sz2z7Pxr67KtwXA, b_a5icXGK-AXVYZKehgKLw, H6BYn5MssX2dcIXcglQTow, ba0re-NUWaNvn5hxItLpEg, tG95mAdxytI5PHQRGEaLfA, G0FGeAGBj7IUFgCidXaSqg, uKRKr3-dLWQdaHUqDHPImQ, OhHAMKB86xi8CZjpZNtxhg, 56R3raK9IJEFd5srS8LlKw, oyFBkCKjALTJ1LTSLUyirw, yTOnngBu3nNt7f1e4LF1QQ, dsZKvd8xe0Q2nivlJd_8iA, jLQzrJ9DrfSQJ-wVe0Iw1w, -Owz5Kw52teazejmDkSHkg, lBOsZyBrcmYsDrVu4t-k1Q, GKVvfAGVLfaKN3QJj4Kvsw, PxdoQkTMaeDcHnAhwUiNjw, JXVFeJtxlHp3vmrd-XgvFA, q452w0-GepXlqZTen7QVIQ, 7FdCfHIAV44yLMQ7DddAjA, feQNw7R1CPriBoAPcOmSTA, -OwdoTvqWu1kaZfc887fBg, E7cRrrsiFZlQWkVmViq75Q, VnmVTEsmQ2aBeY4XuLyvig, no1Eg9lva-cgTTVX4s46dA, ZIKS_rlVkcoQOWifqC84XA, BjpIebCmaccXh41gN52Xww, UsXqCXRZwSCSw0AT7y1uBg, M8DWB0oq8LfNDe4OzG4OBQ, wZPizeBxMAyOSl0M0zuCjg, MPr-ppv6loSH_3sXaSk72w, qK3XSBDoRpf-zkvTHGze6w, oCKBnlJ3cU7Ev4MKLLV4SA, oTguCKj6Wvl2Sn5TGRyj5A, VFJmCTvwyjfAtGvkb0tLbQ, tlb5Ug4dPqz7EzUXNFc3pA, qruOUB36ZPf9zztkemL2pw, 5oR48O0j9-uGk4AceKIFlw, C2SBmB4hKSjuRC79QPSwEw, jea0GjnsCuSsoVrCX010dA, Db8DPbnw20ySG3h1elcqHA, xsBjO0GTAvZK8i2A8_z20g, P2fXcmsU_vrs4zB2IfsHnQ, _yrvI3PPZf_zmgZyGSgCew, mYqGpVKiUESnXlVNefzw1Q, ltKOdvD0mQ0i-pRlbV75xg, -27yBEa-_2LpQvVegupazQ, Vj6waVhIVS-G1LmQphQpww, zJMFklcAyZSEBYV3jHz-9g, nfAjhCrtILEr32lR3z3OQw, B75woOWwO-oDVROhHR_4NQ, l6j6RLj9nESSa-6yEcW8ng, LouDA17U0tHIt4YuNAUiYA, ybNyW8JplCGiFmdeyTd_7Q, arGPm0-7FMqnaBZVDigIug, W3fBQkb9DNhOO8LfqqN-DA, ygtawqlsxv18xK3UHcczYw, nGbmtNlL1dSnkFGrfGxoag, ZudpHn8s6DiGEOGwWSZOIQ, Ff3zxD71rs9NtY4637Gk_w, v6U8rUdoFrkSGSmm4yk-Mw, R8QIU8vRH_jJU2Gq5FlMAA, Zcr90BeQ8QWV32XIqpH82A, CF9jfr_ukYa2FFRiXu5Plg, FOoupO0sjghVuGt73KVa7A, Lx65SHV9SCSR6mcA8-_LIA, wJHi66YaiFg3dqrRsm4AbQ, j1IpRoDB4_EGalcFItxCxg, kSasjiC96l_nNWKCx9bjWQ, fHS0bQ-l5rHME_xXKQSYXQ, dciUI0nndBenXrDcN552kg, ewarhR6NjlTtFg5sdBusSQ, okoyIfPTHXm6wabMG_RCIw, CggB4Oi-0sul3OyrT4ogYw, 5rbtWDsTSF_VGs7_bx_vsw, LO8Mh-2hlH9cvTd73y0nvQ, qxGW8CRlLUmmwYx_h864wg, leBs4vAwp2jqmnFvHLAMpg, Ghu73Ot3VreRHN3NXXXMLQ, WaO503VEU3NBjoLOVOmK6Q, Gk-_y5mcAlPZYIn4P4cxzQ, pEGXhIxOBSx6PoQkxb8gFQ, mfDAo6cvKi01sdDR0BAlSw, HsTEfv2QiJBI1VclnVsxnQ, GRLdPDEz67mnuXWA67Myaw, 0mgy6emSgVZZC0j6ltKuvA, uMrMfnJbSWjHM4Qj2r5fIw, HFPC7kUjgRtuBQdc_1X0cQ, 0Cx_PDlLpWDq7so4xbp0Yg, WSRmhLyXFZaCLYJo1CBIDA, za4EJJR47ri0zD5YWiVQlQ, 3UJIJhB-C01bAXU_L-2JKQ, puTSBtam-RIRJfcbJeKDhA, H3NARW7fwWU-Jgwls_0ugQ, U18EjP0Z8cpz2tbOUY91mg, xMKpXNaicvI-BgSA69yp9A, Xbduf-sA9EGn_FbEnzlsgg, YP09ALk8BEhlwPLDXnxixw, n6FSkqTB-qYggeU2C-sSsw, iHDSmAA-dj7H0rj07flRGQ, X0WNtRF55kOmTyk5GULIHQ, FgBx3WFYm7R-T_sSp2XK7g, NoOaVw8YAe4SlgWGLWMY8Q, g3n_4X2B9hF4Sqe0Hbx2HA, FBQ8aB_55GqvtaROAzU4Ww, eZQ4-NwaiBd48niC0jm8rA, 8NmMfbQpmBrvnaIohOrexw, lb-Xw_rq1S9nzL78NhU4Gw, nzvhjUGfjBQ-t840YHASKQ, B3rcSLL9YE8MOjsP49UMrQ, j5TWBPHHMMZWYQj3zhzRTw, B7ecAeAIrXg7sgmabS38pg, f_5MDgGO1KQdtb81HfH85Q, LZ7GwDUkuFVScXCi7MGKUA, rxVubUMQNtnQaTm-dfbi_Q, _HbjAwu6hxkk1PgnpWa-Ug, MFMq0KLiJ3aN9BNqmPBFzg, _dKXnjYpjKKufCdrsz3JRA, UPmVwW5K4CGtokV6nASY-w, JRsH2jQg9F1Dtib3Zf_PRw, muByxKpm2uDSFJjEONxkuw, 3_RhiBqbqlYy9Q5gDc0Mtw, 2aYKApNwS5gi1XS_V6qYJg, QHA3xSHh7KFNwtHs8eBQAg, w8VG9lvZiQ5ZH0QE2kj0cw, 8xev0Avovx_jp7LEw8JqvA, IJzqykTRzsncdXEkc8vXLg, hKiS1zN-CdG5J48fabKSGw, -4viTt9UC44lWCFJwleMNQ, oY0RIWGykQK38ZbyBvb44g, s9Tz1t1Dem16-lVlNfdS_Q, 37m_0IfPibNqyPMbaurjVw, MJi8cYsq4NC2qYx48R1XRw, nqnKkCMlAgpI4ul1d38iMQ, Fdx5g2OfkbAp0utbvyuBxw, oyQCEu0611M8VBBnxrvV-Q, -GbvPJJlGBtiU7thG2OR7Q, Fj7YLnrHZ4lEDSol4RMZmA, XVheYsV33xITQpp7Q8A5OA, mL_m7liqM8bCVkEwx4h6RQ, u_qen3hBiJ387trVpYVbtQ, 0kGjjGftV5PdhnZanz39vw, 9RbahnJRvbUFpuWI-3bRxA, xbn_1dXRHXa3MJlS7e6eLA, X8qQBHUgHu6mMZJj24kgTw, tF0mOWYhWFAAbC14sebS4Q, b2fvjyPt1V_o855gm3lzhw, hkXOUrU6c4U63BeGzNlASw, UPAs76evughqIugde8hmDg, MVdFaBSfUCtqh40PRsXgFQ, RgQJt8RgIIsBUsFIk6rUdQ, GawyLibaMGt3PCsv-hI5sA, OQBzhmnAj-tICtdEiG4HzQ, vEaVyWS09Iss170svi6qpw, c6D4MazJ-6d4Cg5_6HaGTA, LEAALrvFZCWpgm3Stotx0Q, 3ZrjvKpBvez2uHzvDNxa_g, LEfVQOC-ehp7D11LGd-L0g, c_dYAN-NCRgF17kjWcl4eQ, T6nnSygZdjI34t5jYw1ERg, YuZrnU8DvMQk-v4iBqWv_w, GiPvassloy1k7MWW7T3wGQ, 3zxy3LVBV3ttxoYbY4rQ8A, JLpDl474S96VQHRaq-VqHQ, 0XXIv9a0LWiaCjAkurjMMQ, T8Lv47arXedQoojet5F0XQ, mXvmdAd087jydhhqCCgEgg, eWEjr26YbjqExog9TC0Sow, xtBacXbAE6rZDWI2859M8w, iYR83AJdtRKD28xutxczGw, IM4lDi2-HA8ivqJbiTP4xQ, QPpPIMxWWDAWP376voLWtw, IGIysxLGivyIV8yNk1LR4Q, YuRxaIVb5e3KaKAFkUBPwQ, q5Z-YfKAI4SN0To38e31Vw, bnPpoAsVbULVN8EsUYGGCA, vRnQfHIosARMmxDhCLFF6Q, JzDPb9rFVNHsMWqaCGWjHQ, oxRXJVvo-I0ZxTl44jsdrw, DXrcAMLsXCUv9pDkXGuqYg, OR4CL6OCZJyWUt29H0u1dQ, CR2YUWP0PlSuegqpFRrcWQ, yrWJ4YZWvFj_NDOvTRaAqA, DZxbkU8jbrh5hhub2f6bIg, R_jRYOOQyTsVhvUjhCFblg, 1hJJXtCULGN8NT2dQtYbMg, TgOF-p_EHILpw_bQ0HFgCA, Fd8Heu1mZEra7bCX3Xb3-Q, JMe_FRUYkLjJ1oPYHhjpdg, moNhelvHfXSh2BtlpGiDvw, mNfNPBbynCe3OWeZFkARIA, SlA97Cu7hgSKZdNrbXBOSw, 9rxmNMCwstQ-Gic8UQzT0w, xHr52vm-A265XmKguvbrzw, PstT5Pmj1LZ2Cl0foATU2w, UI07V971Rj7N8ec0C5Xrlg, wwh1D-yDvJDrcdM_9-FhYg, VKZVFRks6MlAdG3fjJLwvw, Tg3Zvt_Ewy7wcm60AF5Wmw, I6EJNeqjz2xaVEWpHRiRrA, lBLcMPwbc2u_HjwhCJPKWA, bPqpDBDn_os-5XVSMq28RA, 6luPKWgdtLehNwFVzPMLTA, UpdJ1qEBNRAwkhxJT1Ykxg, b8P31rpirTr_ZQr3NaW5ng, J98FpjnDSgxgbWUetH__2g, DNU1GWvbkwQNqs4Uk6KveA, twQYmZIVHxrtJUyFVforhg, q5R39EeDXWg32KghCsmBmg, moWhKsKw2LKKoBwEyw1FXg, VFOxWbLLQkzrpOFu-96PRg, jlk0EN6MsYvjuIuNCEpWHg, ZBfSW-4iG5EOEy16yt1Vpw, F5rPOOrJQBKuEA7RtuLnWg, X60MhC89BL--J13kXdV0cg, GiQXi2g2LS2foyVLNwU51A, lfXcnvDhhM5eGkiDt3leZQ, qSLJjln2DloeG9i-69BtTQ, WXH46aGZ9YzUXZhogYdvqA, avgAmc2LvTozt9oQmTv7BQ, UetrN9E1VqejLhsBd7vmBQ, ixYw_Mk2cBxOepcn1AmZaA, TFpLcrl9qVptIsoUrdLZAw, -kZw8Ez6RyOCqBNZhucVrg, MPaWnzh94qmtdjMMrGpSCw, EL1iocid-0ytxU0EY8reaQ, nyeCMGiGArJze8TdAyax0g, rppTTi-kfF8-qyiArNemag, xzmdesihFeW0QMv65VmRFA, NV224WyFzkZyZauf4jrjEw, YOkQuwwRyzI-VHCxn48dvw, eg0g8E4047B0l2-7JHs3kg, UVhDum1GP4AdwkP2_XtoJA, 2TibHUrgEKey8kOql3FWwA, Z4rItwH8eQyhqkfGi9_6qg, erMibXck0Oz4VXDPDHeboA, OjOgQY9xG4OpkTzknWh8zQ, 2OfMxEhkL8LW-bV4Vp40iw, Mu-UtK0j57tIkuHhEOhlmg, o5STsEtfvD1Ig0J7Z-1uxA, OUxm5EJqnBaaq-IlNOhfdA, 5yarmAA_Dgz0ipos6DGsCQ, LJICF_vF46oLdj2QXBsaeg, 2DJuPwcUSaGDATaqJGweCA, GUgpBHOTvHLP0ghauooi6w, yQ-U0kne0WOueQcGDD5ssg, cB-3-VK6MStJwygG1uIH4A, X-OII5M_BkUxy-ptrvBrXQ, Kh6u7ANji4VvuC2mjIU69A, ZiobqWdVLk_wsLWfC0URyQ, 6I042PLRiYub7RvufcqjZQ, zdTbPg5dMs6j_aDstb49NA, TSpDFBMFx5ug2mvA5lHrPg, 1ws8hqqRPJfCRs7Jr9J5xg, 298TJBvveTCRhQtMevUSzw, 4w1MaiQc_wVcCymCC9O7rw, cnvaUpe5FZG9yQ6veKZCUQ, 6WG2IGTVr-xKn0pYQZJGjw, kE8IimmroDrrr9SN1I4o3A, 7FEMTQ2yNTcEdkifK2PmPQ, Mjla4TgwF-WOWmF0qR1NrA, -7nRv5CqU8qvMjHxS-GRmQ, nsFTgmEVC4qG_koC0WVuqA, h2LtQ1s5X20d0yrdqUMJ0Q, rkCVHIWTQXZKPrRNX5z9Bw, 2TCSjBezXv-ODCo17BRfkQ, qAi-aUEo5yoW42WzsAa_lQ, whe42L7-FobVN1-RIMpVPA, 5n38CfPl6m0sFIdyUexRCg, aFZ-8qh0p_9sygmjeRvyww, GiIX-ramLZ8FIVtPJmC7Ng, BwtgHBtKodsPGHJABzqwiw, BYo6Dva93429omapXk7ycA, iL6zTnqpPX5lgyLnW_qAEg, -lh59ko3dxChBSZ9U7LfUw, E1LAN2GQspvv2alo7aY9yQ, 2oNfIz8SOcUIclduAKXlwA, qI3uzegMdq3q3WxAajECGw, pF2DzI7zkfRnval34NE5oA, ixaD3AHrHFgxtQwX_SMu-g, LfFQmASjjr9mJAmy4Tga5w, PnKiZnF90zJuZ3FKdcSw4Q, 4EK3nfB6BQz_MwQ4Z3F91Q, lI3Ts0WXhfzzFlYSuEGdUQ, E_h7cLvvwm4orlFOEAToAw, swuwbxKQeq7qSwp_f_tpGQ, 8yxgue2p6SwfU6GRQk43Sg, gOHAWaNplM_L56DIn-M35A, vrfTgRjuZeIHWPSZibjpQg, DRBxdbhGx1wgsOq-MIsHXw, vqNtKMeDbIJ07RUdexsAvQ, ozOneB4jXOD6hv5WBGj4KQ, hPstxXsoJhVo9UBNwD-wWQ, p89eNZpxse_qKsv_ssgNPw, nnwBdqGHIAJQ5QX9lHOtrQ, 9AwgLX3S8J8bNdofN3oaFg, NF3vF7IJ1g4r0V4vVf5O8Q, Uhkqe8kuwEq6cS3cBfaCgg, k4QCyFJDiu6abuDYaPScSw, VG8X3saF-je72K4_PSoaDw, BP-PhtILS68hOkjQGcUKqg, dHoRjXGcQbXg2pddeyhvWQ, axq0FObmNg_NMZNGjBtYDA, 5Ub39JaoY5SngyFKqyo6Lw, 12fhiTWy2EkMb9RTXvJReg, 4kMelU33RGVtRDdSth2QcA, VM6Z418-PCY5s81jorF4eQ, 2VKMPfPLRt2_ByBk6K4h-g, 1pzn6YnotsiP9REncocpPA, 9UjiZRnKwcg-DOeGX0mPMw, frRDi420JPvtPY6BckujGg, F9eKaJ2tEh0PLKZLwxeSlw, j0alE92BmVwveMFNIp_VzA, xB-puX2023yEME8rlsuThQ, TTaCC3t8s-dtfE8ztLPC6A, hRFE2gFCixeULJFSgqIh4g, Vs3lhg5wkkO2dNm3tiBRSA, hlPOotTeYCyd5TQAKpv5LQ, Vkk8YfesfF2aAehFb5SlSA, 3flahBHfiOABzD86huLHwA, 9XYKhIpYSIBNyJb_284Xbw, RtqvyG-gXSnHAID81BQVyA, 12FpXmAlVmAXxPhQsaJDBw, zD6mjhFHcEWgcHiV5zFY-Q, 4ZPxHxEfLcVFJoFhGAuc2w, xC48-enrhK0JkW2FQUfU9A, 1Gjgz88wjj0Z6f1DYwfmAQ, Y6CBSEOwjbIsWEtZe3SqaA, cQAZN2ZKyMI1GXGm36lDhg, SHNLQ5LY-zUyMpgCWENkuQ, _oZdgbugaVnpI7Wk0hJ64w, jkyo_WBw6D387_L7jSMiwA, mYnsobUJUagqCmtNYcUaRw, r-Ck0JPoMfHI7h2X0brm2w, Ib7t-bfQLSrkAlkD1waKXQ, S1Dj-76mtw4_zfbTXIS_qw, ZveM5bM4vgn89vPu638-5w, Zq2RnUCnx3rFKRkz37K3vA, EGNWy10Swu4SEf6-1z6rRQ, koEmahXdDSM2bPA0mUHARw, M_RfffXOrW67T6ftUdw5qQ, lyG3nZOIquQhcJBmoOz2_Q, Ffa1cXIvFAy8H1sorICaiQ, CrLEQZm_xfoRznGgl7ELrw, CJmtS1Uk1KSsY2MWol_E7g, -A2FkFF4MRUNDRF4GV1iHQ, 1Exx9x_Y9zraYKi6UvQR4A, UMHC0kzV6TS8O6HLb5mpYw, lXLYldR31V0rYIIj3BZHOQ, RW_V24vEuEWIlYuK-hdyXA, iT60BGM3qH0nxsWVBqZ-MQ, AkIxjGSTgcUjMbwG7jqPag, FzgeSPVonioMutmnyIMnyA, dipVxaat-2-XN3OHWcZjmg, QV0oA19p0l_rTyNwH5MBbQ, nFgUj1y8SF3fVLKi7cETJA, 1lDD944Akm-u69S_tAw1qg, OOSDMRoOmwj_-JWNEOVuig, xcUp5Tt4mu9uzqL6GT40nw, U0lJX61bXS-e-qgKj8Nehg, Sfav9j1AU-2fC3v9xwjcpA, xO_1ubqy02nALPkbgxVoAA, 5rGn5Yu95WFg_9GY9VkOvg, DXh8yxwZCg5Ckj5kmDvKXw, cRXTeAsTRbXUUVAlRH4TUw, KXYh37dUDtMTCfqTrPiNzw, ztoHYxPESbzsirWoFhJZuw, Tl6K4ZwiBrzCQ7374Z4BfQ, YT3zNX3bEJfyw86Wja-RqQ, oEwUYnttT1RPodqwRvV4UQ, imfC-nYKQpqV2vrWgbqVhQ, b76QTJmYZCjrFyuGFTZbnQ, 5MCBLBxr10NLUKZ4AboAMg, A6NLKj4w8ephynnkXipgtw, vbADSXrhsTgPaSX-jHS-GQ, gxHRJoVRx5kFXJ5LYFW9uA, iPL8V_dOtrcMUH6tQZq-Dw, GwzHxmVEk1GZ80lfCXcZAA, u4t0wqjJ-xkZ0iJu48jkXw, cgN9Sr3v6d_xpIr-7mUJmQ, YKztw4Wpx1-akQn1B7HnRg, Qa0YTYIqOg8cxrkZ8J1mbg, mSDUBykg_CH2iydVRCGMFQ, 4hj-rUKdY20Un_h37RptjQ, tXVCCVjyDy6nvj-EILbmEg, Fsiy92jh4HUcaOH3IUCcXg, uhI0RocHJwqltSGG-M5Xcg, wvo6CDYUY6gD6q_iLjmAOQ, sBYVrXGv643iR5hbtntvEA, IVEuPluq44tGeRv3-htf-Q, HhLswhxlYhoM4Bl713QuVA, GXYT43vbo09RnwayzOk7Jg, EJUoDFqabGoU8k-csX3qTg, bN4DQsT0UimV6FG2KYF2mA, j0eBR4rcbtpylG6b47TD7Q, 3ZUJhODAt5BGavEdV_y3xw, pKYdbFG765f-h6UaSM-QXA, IRvdERIP6WvFcKruVgAAFA, f2MIeW1xDCi4cJK_i9_jxA, vsfG95vDU20d7upU1Zs6uA, Z0ZYCyu_jH2Hmx-XFE1j0Q, jaReHWqQQsHALvsoZ2dO7g, N36m11RXOQcHhTcJocuUww, pJALqPYTjzoV9xpd34WB6g, QVT2IRXmjcvkahm3uBZhMQ, OMr4L_mbsMG__NQoWoDFJQ, lIxBVwKpOutXrvO7oDntRA, efgb8dIdahvQ1V2jKNwxFQ, L1IRIY-hqXHkQOki_mQm1Q, eW-IQGFyOcqg-aKuhxKf3g, i4xv7vnN-o3G4pDDec-Xvg, ORbYl8aYxeQfd9wGZCyvew, qgFTHoyjQJsRfKPlLzvbTA, alvPRKTMbzhOwzF4U2Lf5g, 0hOutQohy95HgqOLXCFGNg, SuRfzJPAB-8rNlIaYGHBrA, qlPoar8qKPYY1fkJ076LQA, ir5UE9PlL0_C4Y1hz4auUw, IgcaK4d4TErymlfZokrfFw, E9gsijWDGW9VWVtFLAqRHA, JqrVuq8XcSI-VJF-T8HYJw, 7Dr8yfduswrSIc4rgWuTNQ, UV9waKPxiEt5SAsx73s-Pg, tDY7WqR3e7Atx5-Wo7Vx1A, ik2CFhiniSPAjQNqgxj4cA, Iwe21n0wd56r-v6GDGTpQA, 3zYE-Qx6KXeKbkiC_x8RyA, nUbZL43lUv-o8Lo09byJpw, fF0DWko_jfOnlWcPxzEeXQ, T0GNMDLelTwj3yqyeU3xGQ, hyfurO25SIIAiK7NYDNDDw, XYT9GvizeoY-8tpAbrKUBw, sDOIrar8Vd05JQm7jCKzXA, wuaJo9zDIn4JDNJKTMn-2w, gCDbeZN8p_g-x5WDc4t3ng, F-zJaVSY6wlUb3_3M2I83A, nyQviQ8xDpxKW5g9rZ70Pw, JqGJcq9K33-6TlPC1uxK7A, OdSnDVd0HLGwRB9pD-lxhQ, Mw_LhaS2O3vAXiHQFd3BcA, rL6K26KB3lNwmTn8yGt-nw, POPkY1dgdQ4avdRazaCorQ, 0jJf8FAW-EmkwrQnXTGdTQ, cguVlgqYepbdQY5cSl6oJg, ZBnkjW32J4NvkfvmLLnI_w, YzgVf6q7yNVwClFnShMNOg, D7lke8-VZ_g_Ln6aCjoITg, tAHbYBL11VzOZJHq8yVfqA, YLeUAjf6SAjSgME5OipL7A, 3RxmzYVr7BHzzfsfYIdIXg, YMXosSQvL9CwXLe2oCSzWQ, 5_aj05B61A-agnGR4ZNzjQ, sYzWI7uUvEGM9G8EDrT6zw, DZFd8HvzvPGIR1vhHwxKXw, CPn07QMjtkihE95CIuZMww, H8fA1ow4e4EO6DDw0hyhQA, UTgWfrgs_qwOTrkIrWijjw, ASLAlswYAQEbj8GjmHbBlg, fgT4v4QIq6VSexQNpeWwjg, g7LFnFruI5NQeVQp1DGlVQ, 9Mo4ayZ53aydpZcxK5C9Lg, zTgmTmDT0G2KYXpuifxmYg, c2lqtTXqB5crOw2OEUGcUw, _cUtxCvCccwgNJzD5I0cDA, vybRHFQbS_EHzgT65m4dBQ, wkghUg2_ba0pzwsEiDy8iA, A17iafBKUgtrFcLh_iuwOQ, vEzS1635Jc8aDq8Ugk1FlQ, jnLATEn4k8VE9h5mw840lg, QEOj5yViIq2SmylKt6o_5g, xwDjLRF_op1J91F0lplyVQ, zuUm0vBGPzrgYl18v7qM3w, OF6Gnuo1U8B6Z96QSB21TQ, RlI8vfhbYeUahO875DBFIw, qik54VU4OQftBthOedKvIw, LSfPnmsoEcqTnRZ6JQbgrw, _AoYuuVuxHLNGAsC-TmjPw, bNt_Lkk2KpMTZaZoKKptMw, 07nm9fecS9Bx7Hh-_y-OKQ, TovBJEko5Dio-EDHAkpThQ, uAla-VzbQkbxeM7lRfk8gg, B8D9WyakYaObjA2icM7GGw, vPyVWVXfTwuXJxwIzup80Q, rfGeOOIHw0wcX3ibAzTqTA, kUZ128Ym3gDfLrONMPF0tg, MdUimpfJQHijcy1DZu-r4A, Kz65UJo5Qv9YYfK86AV5wg, s37sRQGcAaP42sHpHjW0Nw, dupO0RrlQY0g3kjmdcz-Ew, YWsGSr9N9kBGjTxU63LngQ, 06xIElWq6CAvmtk1xHJWNA, lgXHCZNSOK4KmbKFKF3whg, fCi9gRWldVpGgSf0sq_Y5g, lTZpv8i-VEhY2aIIFAYQqw, SCTuKrEe8aimaU0-yXMVwA, rtynohSXGVZPFRhuJc5tew, N_R-sL6y-u5xR4-JYMTQAQ, 2c4jGNhAJmYI1kwznG2oHA, BgyPeglXotPAaFN3vESWBw, DT7n-uHw_Wh9YyWeTNO-og, HtLCevwI6lb9Qp3BfAiVNQ, LUNa9bXZ7G4lXs9PySc_Sg, 6HQGValzYkr-ngEm0eAhsA, nf0hqqvm7EqN458XYT67Gg, oOAepTFkiAuuPY3tkaDjwQ, NK0Es1yyvAK8_ZwlcHXqaA, XoceNEi7nJielfFTtemhyw, mNJyT7vZ6leZks5-xGq03Q, NwHeG9HZAutoTjUOZEmq6w, kpHsDs-T6QMTebEFED0Skg, Xv-poXQTK-LapinolvemSA, ZxmVgm2UnkbJs9keyDdCng, r34WTuxQ8H5I-eWR6bl3Tw, uKp12eiE0WS6HfTntb-Ibg, jZ1Nb5V9V9a3mkl5rrWW6Q, qqOcmpUctU-Zn_DxhgW-Vw, bsMGQruRQGgQZK4KA9Q4Aw, Pj3aEwSu7OAOnKozCao5RA, DK0VXvIZYLVUydbm2KrXcg, FJF9BMWD8O9HJ3HaQ1gShQ, dx8mYmn5lspJ5Mv3m2qxiQ, 78LlMsJvi_eORXJx31CsHQ, 0XG9nPtBEmVT7sPlZ67q2g, oAj2t0BSAGW_etGHD8SMNw, H0o-4N5ccowr9ApuQzKMNA, XCC_NSovq-VkXj4ovHTWnA, KckMVtwmUuc7mhxWJmvvdg, hW_Em7ky__PqMpYjSJ6PRg, sZ0Qxjn12H8jjHBPLQW32w, c3viau7SQ_7Y3iZX5QV7og, fRrJEhIWdaC8bhT1VgnlMQ, IB6su6qGVKcrWl7cOqrqbQ, axXfsoajyPnPJdB05KUNVA, L5Y0XM_WQdCnHbvKG9MfqQ, 5djAu-xh56marQMwfibQ3w, JU4pjxXcCYoNmnrexhcOEQ, Qvs8BN32uyfmzGeiU5tpXA, 5VOn-KGSPgRd9eqEebA8_w, ie_ExtRYSbW9c_HKtBO28w, vZWavcdN_4F4CWBxfloTdw, 9irF4cbuXcbOKXkE86O_BA, 0FFe2zCmSU4cYteVbhYR7w, T6XB51SwF-9w4q7cNvU8XQ, qctH-ANPIIcJM4w5u7JyVA, yPSje_lDMRTPDnPxbPoVQw, v6pC81QhI8djYG8Tw17qCA, -bLdd0wCh6LnxQ3Z88_5jg, l2FP_ewP7kz5pNwXGeIcug, vlJT_obuN-lo5kFS0omPRQ, ITV3sNEHs2Ap8DGcPFY9Uw, m83HdBq3SpJ-naq7b5NKFA, v_amx_SdNY3pwqAs0BcBig, e0lV0WyRCYbYs9k6chh8YA, NEdT8rWa1XumqMpvfqYIlw, KQKB6wf7Ft72JBxLnAF1bA, q3A2T4SjVtWiTyWCzCWGXA, cz76cbJvk-ZLVTofNff0XA, J7JsvMi3NKhuS_tNPhUfIQ, ChxIpo1dUdruyY3kJtcDSg, yE0nWSOLuHYlnb5fzS4oEQ, f0UiqGsmTtnKcft6Y6YTJA, SUlvbEKqNYyW4ROJgywHPw, 1W-BzXctKoq0oi-ECqkU_Q, g6TtKGwVj_nGMHN3FFDJjw, 4lm4E3WhS9zlnC8n2CiKWg, A6n0ziuHvlvbc5NrKc646Q, lx4g7ip8sv4nb4HrlKqZug, DX0VTt5OuRLL-kN83syB0A, 3LNwyE-qmGsJ7huKRcKcjg, 7CDpwBhMhhh9CyCxTDx3Sg, _v-L_chcj5iz1LD-5OlMeA, 0-f0J1ZNf8s4TwdjojIJVQ, cD_hpkvErXCyQHBQzv8KYQ, 3dMfU3D1U6SAMXqkXzSCKQ, z9hL9bqkUPO9USXG8Qfr_A, Pu5bhf4htqSc6jD5fYvmUg, EBhgo4MyF9C91psGGyGc9Q, rwunB1NCVJnBMLM83_vv4g, xAEjTLoKpkTWtHT68TEGWg, prrQviAYP5RVPK8WdWoGhw, _oPtg_4TMQuB8Hb1ANQxVw, Z5tRfEJyk1cXfLMErY-q6Q, do9LX2ZdTtusk10ATUs1Lg, m0asdkjXzMExFtuSMJsw1w, GnPIEtAOx4NsZuq9CNmEQA, 1urSTr4ysAiekZ9P3C7tNg, HYTaU6zC8y8pat4GsKM7-A, sXtYdtCP3Ew1gHfxJxk51w, oVCCS8XKP2ADd9QnyA4jyg, sbMcDs-L1KHXROkNbUnCFA, qX3NXNN3Lmz3vmafgcLEsg, C0ofHWggAxR1CW_QtYGkfA, Qn7_GhAXmkZrjeq7v4Lnlw, wwCypFG4iUIKQPTIZxKTZA, wPF6ZBd75ibc1pNIVZitzQ, UJ34ulNl8mDraF4Sn9cySA, -VGJZRdnniTxDNPpIq-QDw, 7eHocdro2LiYUcIBk2KJyQ, D4Eznn83MRWUK39n5WI0JA, Fo6f6NVSA-Qe9sMtiVC6qg, KKTz5K4SwPJ4TirJRIPZfg, WKjBpTB5QfkjPxXrKOWcMA, WTZ5i7VeDV1IREgkao3ioA, qF6L-tp2kQ5s_WuiY3Fk3w, Ad0VYk36PbH0LsgHCde4wg, k8gEkixUaX7VA803EDegyg, yk73Z3dd4IJV_9SKwv0iNg, QIGregGmiFp8j4Ck0OoKqQ, Bv0Rf0c7IMW-BkFaW5UPIw, oZFle9RyCtMW1R1OUa-09A, yCEFoyKQOMD6TRJaG0BEUQ, VkVmNyM8DGTpc453AcXOlA, 2dyfZNhtyuHdestczTgWjQ, B7wbZOogh9FbxLv-hK2I4A, WY-Q_J48IxpIru1n2hgF8Q, VHdY6oG2JPVNjihWhOooAQ, dEjCe_ETf67ks6dSn4SXMA, vd9Ka1GHSyo-aUqlR6vsBA, mn5x5Dm-i5Ygi1j-at3ZBQ, jLSqqXE0TMSxxjWPRqypwg, x1S6ST_R7GGZ5lFyTYKHpQ, 3ejotiHbd3qB8M1ZSr6iuw, BiJhTjitoMBdGUlPIUlVqA, neuJ_m5SbcHqQUkyW5o6Lg, 7ord6980MCB3PH-NrCD6qw, 48wN4GpyJ7hPy4uuwpGFmw, BVeUHUlybRV6uVJY-koeIQ, JdW1lLixFW72OzM0EOdCuQ, Oq47PwhcWMAXMzUGITVzGg, LlLDHOTuvvg30PJ0m_pm6w, IcMtdm5DBRORLOSabj3UsQ, zlyKmaUcKVM3dc3lQQjfjQ, ylnlAS9bCbxEcPRfxuhJCQ, LtBMpgD3H47u9vgqenadYw, RwFMbKklySC3yxf5M4y85Q, twISWUMTq7r80UP_s11z3w, hSdRYH-Hs89yffdSi60W8Q, LingGPNsS0uHnMpFOEks3g, lHPv4NfNUriqoAxzYDJFKw, mgR51BAka3sT7ojrifqhKg, m3pkWeqkS-Zsxl_rGZZqfQ, B2EgGKMb-CKRU8cARyqvUQ, t_wV4brY40TKUzqquTaX5Q, a6Bd06xE0lZlwrk3fxnx3w, 7urEuP0yENDUp2Ahm1OHEg, XrCjnxqBwfl1Ztn7i7ZLng, oltdwod38_e2OcBEAsLx0g, eMj-TqewY3VqeiipbwhhCA, SIC4MlaNLlZ2e4DIh81UkQ, TKEfnkMOGDtocIXgoIeIgA, MYzWA_yx-zK0FI3LiJmSfw, sU50ZBMe4_s64QqoIHlhaw, DsyWNc_XhwBR3wKElWLtzQ, bTH0qtLZXhy3bywyBktqJA, bMgwJGQWrAmnMezPJjuptA, L8FyLvIxMwqQmSQb0hzFMg, iwNRWI8nF6vpTXVodR5Ccg, AM8s4g3NafOfjrGkGCrNiw, WiVZDutopdCT96pzXFpZdw, UlWDGR0QrBbdFsVY6ugocw, iWUja856MrnDtEbU5c0hmw, JEdjQuoh-lfezMBnRQylCA, WrHCEpls59Uu4XNXNaK7fw, 5IK2_QEkFDVjZpPVzDDDsg, z2qM7dk8TXUoaYbp5SWP7A, YmQJ5A42cAzSQVmP8ZeRIg, 8x7R0ktkjvOD-wYqIKhqJA, XRYdDW2W0jN3S5ZDt6v1qA, _PSYF4vrwPhA7HBArkaSlQ, DaDE_LtIcFBLMkbIirRXIw, GqHrL09yyKXq1OHa8DhDPQ, DRpeoXO5QnLiKo_IckEaYg, 6MIOlM0jqbFVU_QftAIPcg, xVe6Vgf4yt6XPH9zXe8_zg, XFRAPd1gfakp7TTSkqG0bQ, M6aoPfBvUbVNhMO9LX5x4Q, OHXJ0_MzrByKNVwwBRnGWg, tejGH-sqC2iRz2ZQTZgsqw, hQYc90YPvI5WAhxUF4Bo5Q, xqnS9GM2FHsCVHsnKGloYg, X4L1HciU6BjVCFqvAxgCVg, DP9Zr_dhVhEkWvzzKOJmdA, JPKsf156OQUekqx_S9h1xA, PFrkq7xTQYSL1LKElc58Gw, b_Z2vamgc15EzlHeW9t6yA, EKY5SFZpwxUITtcE9RF5wg, O1XuBBVyLyHRS1CkrRUB9w, oSuoZXaIv8toubHnhpzMyA, nCzAfugiq6-6k_JkKbaKBg, L2jxqWm2fRw_2cqbIGiySw, rjQ2G4rq9Vi9rOLJyqQQ0Q, gTqNqsCDE2xHXre0az6Ixg, Xj72uheE3SEP6XPZyEgFVQ, 9aKr3IOfjKUlXdUdYBpzKg, nrsQ_N7IdcD0o3rA739XHA, wc4XAA5pC3b1UgooSypHwA, CJo7cQia4aHyzXo3C8_HMQ, dnynyzxlkPSc4WtKhxGWLw, 2SjvsGz6QI7cSpr0v8ZQEw, qmNeaKm6xff8L3uxXftJPg, I_JOZtmJixSfdKRjUh0QZg, ysCBsXWPB-LAiewVS3jZfQ, 1vXJWH7L0IMEz5-8aU3SOA, lJgujta95FtMX1tRJ9L7zA, 15sOuihIpJym1UAUNkXxBA, HniocOoohzvEY_eEEL7iGg, MO5NunfTd8Oj1LEwzINsQQ, 52_WakONEIzY6fG2RCIESQ, lDaO77xzHsdilkoRV8mkmw, EeI4yjrvQi_H_q-5CXjUfg, vgoP3i66vQ3IDTJMy9rC9A, elyvWgnY-oN7TfLMDt9o4Q, KhCN8Ehqx8IfPezcwqA0SA, I0qHzrj8lCEfeGMBLd8ThA, OiQ9_Kquwl6R7hAqp8_4lA, TLx5FEjuFt5HfBLeAXfSww, 6VJ59-CVWWKhOvCk8clrSw, WwE0pVflKoFbUvzTXiF3Vg, PEeDNHeKyFg3hSSgFBG13Q, OrryjPDd1Rz7vYhoEuIS9A, qnBgDIln_o-4Klg2oxCCmA, D6-Fa1BcUvBXQt-f_MjrYA, nO8_47tiD79KPd6EGefvFQ, h_r7qDXDjF0dplGrjAw4IQ, E7rEdhFfUm0jQ4I055IOeg, YkJ61BgbYEQO2quoU8mcbA, 2dtAEQgCFt0LiixvGgZRkA, 3vfKikc6xlTbuxk8yva8pA, edg3Ua0A8v64ZjrzvgntIQ, Kh-c1GnZgcb7uvO6c7XowQ, b2jA4t0NbkD2nSV52NTGmg, J3pXjuQLVOMBFjqsviy2pw, P5YgpldFACkZDRIQCQgCBw, m_F56SZaHoven95dTB41-g, 5N1-wib9I1Osyz-8LUk6jQ, ub3aswQPaLGG5R88IImoSQ, n21-NjZviZ9Y0yFHiD7M2g, nIje9dU2PsEHDR1FuEvj8A, Iy6v67D7P1xCUeIGP4VWxQ, HoEgkGnBkmgNVW0RMwCFUw, PZF3mQU0tymzISR7nallMQ, WiBHLjDmGzed8SYNushXyw, I32rbpITBO_SGUd2gyOKAw, lhwTb2S1_siRkz4XVzmj2A, dLNE5v7GVEsdZM4HVsJIbQ, YMNP-5ia5rAPml3_tL2WSQ, kQMDBr0V_3ocuivRr88oug, c_IPmSNuypPSkkmtMLHBXQ, 2hyJzSMOO8HA5xu-853xBA, jebKmn1tqT2eFvj4GcL-pA, FI8jzrNrVNhYU9TXmf_fng, yQz2KH0JnkZgEKx_LayR3A, SZUgjPqRH3ra6q6jHINZ4w, bv2sPwdvhzv61ugOJERDDw, wpr6gw4FnptTrk1CeT8POg, ZvtK0k-lQqPs10XKaEtSCA, wULkTJtkfxQUYzwLyIFwAw, bZ056JQ4XHXCgfF7BTwU8g, E4g3OPc7afFfTaNSujrYZw, Kl3INS3c2JxJzQkj6Ob9JA, jSGpOLp0uiJr05HulSG-iw, x-BQs7v-lnM-sohMn_-bsg, 0c1gogUk1YOlsp5WCl8KRg, RZ-ffuy5QHgYiJ3qNOVzjA, 2xmhkcC9RHxKKoiydbw-2w, cEDMie5DjE_00sJ23H2q9Q, vxk-n3aEF3m1wD29fb1Tuw, T42MSWvXRVauYfhhGaFd8A, 9TYpecJwv-HtNJtadramWQ, AIItwMHenH6w3tqwJVIBDA, 5gz8szYeYntJMCBtReC8gA, zdQDopRvMIZTAgn5tSxA0Q, 9TT_mBR1xKn5I62vg1yu7w, g3ynAxnj8ugMCx99ofjE7A, gWfvfngN21jGkWtr98p7tg, jh-LgBFqixDXZ4H0JPTo6A, f67I09vM1Tf-9iaYy9j8ww, 80bhTVC9Ks1KlkmhrowJhQ, CPtao9WHPnVJGUS0H4Txww, rF_08msZeUYT_mCb2o_1pw, 7Pw0oxQvF9f1xl4wiMmBQw, B01d0voBCWaa-ZI_YOWuUg, 1Z-2hFKu50rX9PJL6YSB4Q, g7du_HTkIrE0RxfgVt086Q, K3khuFGbc0piu8ECLV2_RA, hibHTaOaK8MiRHZTHvXqzA, -ACSYgnF55s9FIx61ppKRg, C2ySmLQ3g4Uubcw8vAsa7Q, DW9yJ2z8GLNjN_y761Pcng, dxqcg4MMNHnTchPGFA5psA, MbC0xPzIdGkFMCpPb8yWDA, F2qwpNoizQ9vMfAdwpXG9g, xzYCP4PoP-tiGUQg0gAcHA, dwtRcUFBg-s-jIDfSrprIw, lGdFB_5coMiFomz1sDg7bw, 7l9HRI8VC_CHoQDCXsyHhw, KuABuXQbIOSCfIH-0YgAYA, YNp5L8jZNw0ur_io46JE_w, akXECOeo9HcYg-JnRZYirw, LVLy5QSNdYf7no4MplA_Zw, jU9aSDYxNIXb7j7oESxe2w, Ss6Fz9oK7HCOvYllxpdwEw, nMUmwVr31ySPRZb7lvTZEA, MmNeaGjGmTDElBzpyh_v8g, 5tA-QJBANAicg-z_NLa4ZQ, 4L-55ZSPKGv1L5FvXrQ1UA, wPFMwMxhk24iSexdIa1rSw, RqUJo6tjD8m4JEuZ37VN5g, 1VcnuSffOzXXx1G1yL8p_w, zZuABrL8wGokEt5oNpSAow, R7uBBpxV5rr3c2jjqyS71Q, d3B5yt0RZsl06awdiZkXoA, yolNvq6ztkP7KPdLo-RzMg, U-_d1qMpvHgX8s4v0zokYg, -C5FUT_O0_Q7ZaLtAYQHUw, GgwfrWZkPZJLIZpkQ-r_xA, 3KPlr7sw9zrdNA6nduEV6g, 9byL8SRoWOVyXeoxB1ou7w, CQ8eI65BmSODmgoR4QiP1A, F9T9RFlI4cvcFpheFgAGQA, CLGPytUHe9UZuh-OEaroEw, tUd1lsMhCFWL0fs8p9UYLQ, _qUfOw3tfV9WxkoNkegv4A, z1tEqS-fbmqfVNqTcVvcIQ, JmYV2CcDOZ22xEFRXd2IiA, GxrnyX61CZmtbAlP_03W-w, 3IqMfKhYK6Fvz5O-5a5XGQ, n-T0DLZNEeQ3Q9brZcWLWg, 9Bk45vvZ_zpeUK83iCjBrA, Tj-6FX0ZnqHEZYO9iFSD4w, _RqfVAAiq8X2beU7bzFr6A, 0YVnJTwnCUHiw0_Nge_FiQ, xZpzZcqIlHCYb2XTUpEhDQ, _HuL_OJbWpx5UxMhUU1Kag, Tqgi4RCCz6JA4yLSpcC24A, XkLK2iBsgqF6mWwDfRgqqQ, TYxnG8_AdTlaAx6h0RE2Pw, bfyBPCEYLPpLM9Dn9hVdIA, yOTZThePX-4CeN93M7GFnA, yIEuEsxYjluP5pG5zplohg, kWBfT2i3vowoYIgtmcK5aA, qNhrkahVrUTpNp4yU7u_ig, bXmJD9Xcr8H1wgIkjC1Blw, qkZOFyAEBpOdQc-7Nn7eFA, MlqF5LyWCVWLI3xhBeX8BQ, hxLt7PwQCvnmwhvhljIM9Q, U77cn1YiDGokPJvUKQwzRw, FkAzO6mD7xIydood2ccFXQ, yVXiC_svFQTQoNWmhC8n7Q, RGtVMD5J4feCKsPMFafYWw, U4INQZOPSUaj8hMjLlZ3KA, 1v1u6gOJBaMj96n2m1znwA, UzUnpnlH1n346MDgaFMOmw, x0o0gYsoD1frUPyud6qpbQ, uTDxT-lAVI31gBg9Fgz8hQ, q1xp8Pirb3tWZJNfjCosGw, 4NXJAP24CntwroYlBQMdiQ, qNrHLZPurBWJzeAMkFLvvA, AYgtjqtnMDfpkQzGpMznpg, sANmsFJphuB1ib9LJ2wTMA, HqMWEEsYIXoFhdDIX1NtrA, AbOYTLZNa_oAXylrWw1NvQ, Ph7YqjVrt9Xp6iDZwen1Fg, L2ZtkrAbqi82jNqLTJdPSA, 2gO_1izqC88U99NKbm1FRQ, qXycxN-AFVnr5GkSzgXpzQ, DdT14A1ISWSmhFhvf9Bmqg, hGeXKYWkqJgFC1u_Sh6kCg, rlSiggm5Xb92HdO5JkMo1Q, vt4nvD7FNvIMel47ikMifQ, oQBbnY3W8FYYQpU0UGqjRQ, EHwdRz6Lfy1CBK5Jw32QoA, ys52TRQ6CTLICUhcZ6M7cQ, HwCWwx4PXIYJIksZN4MJZQ, egbpFsEYP1EklYR5O8WWfw, NT-9YQBgunypX8e3jCWCeA, Oc5BoHKRvWT3lOqYrUtkcQ, yx1ydCyYsEW8f-5PVSUF2g, 0UchFfEWsX6VY7eRn3MOSQ, jmFA9cOEjURO3rnseA7W9Q, MFI4twbiz8UJxU-XHSlH-g, KPsxPoU498gkEgCsDif19Q, 3o1JaQMfrf4rGt7gj9sghQ, 1fRNC5riBa47WoLjSJonJw, xI1Xe0vCDtri8at8lX1jKw, SRjrCDKvwjWZ6lbrihu5Og, UcA0WLBA0HCsKJu0cHEnfw, SA8joJXYpI_spKBA6hNHAw, Lvn8nHBRf3tNwGDdy0FzkQ, j9o4b8GrBUDT-McpTgUcJg, IvRTfaBouyAc-n43-Y1nPg, 0Cwus8T5TL7AqKa3iAqyFw, dqfLce72HaUUj9E-nUxT-Q, 3mlvBNj_-6ARV2_lMBMG9A, v7JwgjHgzgn_WHRsAT72GQ, c-f6PptuUUCmlo-bElIckg, SqFZX04lyCa7S7fDkwEuEw, E9R5nnzay86wwXFmRaH_wA, g5SFefRmShsgRjvN-YaQsQ, henDqMyd5F1K6jBnHTrYqQ, 03vWBNf7kf8KIjFu3A_0ag, qABihtPmYi8vTGJsJDH_Aw, 74YhBHJjejjfp6QZnn0Y0A, BLRWxYpXgsIfIJI2gS1R0Q, 3QEjcKoR1wPS8vmeMJaqvQ, olEk94q1_pj_BLyYeJ8HYg, jSmu2RSWRrcN4Ed9wjEPdg, 4Tx7WEtvoHM9s8qrNoD_Xw, 5F2CLpJ2YcX8O1HLtwarMA, 71H7sf1m7OwvrCVj13LJAg, yJAkBODmbaBQnaCgMlGsbQ, pqyuUYPjyOxA9763MOqQ6Q, fWnwNbdk4z8m_K30uuavxA, T7Xdc5hJ0jsZRD1cY1V5gA, koRaVoswRx1TJwsvR6QAWQ, sIz02nAyQIrDtFavxZtfTQ, IraT4VZ9pJ1gPwRPy9I8Zw, CPJJbXyzRGpIuZmkEN_igg, RgDVC3ZUBqpEe6Y1kPhIpw, npUlCZ2RyD4nR3_2ULlJ-A, wEqETrWwpsujK2r8ZueOFw, geOjVvbjvCHOXno679Fj_A, Pkj1vgilksZbVqWmqAl7zA, OuVm8cGPE_RKfCyDQ28Bag, HfA5JZ1I30tUZfPrfW9eJw, KVJUQ8ngQ9v9c8k0EIPcTA, ssTlUcEPGDDKpfsZAOs5rw, KFYlDqG-xF1xZpAhQUB3EA, rSVMMhppE8HhyE7Yr8MirQ, LAX-mM-cOJ2ownL-waC8ww, sdIQBwnS5AKDWAlBaqJMWQ, p3heVCnq3M0H2LMxIuuc5g, lNSkba_B8yrvpEuHAi7mXw, GY_oEdoqWDAE9VDeUhEsHA, qHgwbkHQGYHYhyQwh1Ex3g, Rnnvrv0gPfhKPlnzAxj_Gw, 1cLjgCnHPYOBpjUyR1SsbA, iLjMdZi0Tm7DQxX1C1_2dg, UC5GAmUpmN2wGgcaIw-n_Q, SM4iSFBV85VzG6_DIwyXNA, q0l0x_fiOYQUoLcJJiyAZw, vjpRR9_Elrz4bli35gCq7w, NA_E4-5rfYxr011hHebfww, l2bYZedPQxb9kPAbSM7ntQ, grC863tNa9aGVmqQPKr0bA, cPN8VF8ItzZocK_rmYTPbg, EFy_1YhtUosvtOUUiJCRkw, fFGPBtsutYpn3A155Sf75Q, B5vLR88KnH8h6xQsIi6YSw, v0JtfrbTDNPvSp3rXv8IRg, VfzPRM92Cpcq-yUiPFtfbg, daoitHxAOwI4dfYDTlbyqQ, gdRCr6zauOkt2GTN7X74JQ, UAT1aUMv8rz1GHa9jEDb1Q, xJpvRrk04rb4rgWtMXaPUQ, Kjlg6PU7rntGRd56pkx8SA, XIc3X61B7YgRknk5PvXTOA, itw5t-iHS_gB-LjmHwx1MQ, q6QMh2E_V2P4H0rPxn7yow, NRGJ4IvauajqqCbhT640cw, rmTlbcTfaMrV3zjAOk-BGA, cslP1CmBJRx8SBJWN1vW1w, W-gWLfhlktzy1PhUckkfvw, f3cfvtODD8Ski8ye4oQV1A, U7uz70chElFq7a5hbFNpwg, aDlwg8N82TY66pSo1eFhkA, w1hbc2RJychGWMWg493DXw, ZPKrfZd7gO24uRl0bNA1zA, 4s0ZnEK2VthXFCiXxPLFjw, uw5Fm6fFW2FqV4EP-pZvPA, aTVOFTxVdfdIhdPxcEt1Vg, ZK7XpsOY3KHmKL-Tnndr_g, VIR0vUMOoh_qV56GBJCfOQ, XOQx6phr6NWXCkC9SvnLQA, MH70fmhyIMSs_i5F0IZzLw, 4trq5fubkBwFppDsVsNDvA, 078cV7nhmKZEczFZVQYT0w, 8Nc9AdfxIzaGdrW7TR0bCA, EVlNHC3J1Y46LN4fkTwfvA, rDElKUXylxRHpsV_2mgOyA, K9eoGJKWY2bWbJxfmMZYUA, TAw9a920VeW1Jw892jvfqA, jIsfsUKzPNyMkCszNWSpkA, MZqzjaLxrOpVtUigVqd5qg, FPwK9KlvQ1HTlF2yUGFTHA, BTMTxC12vdGh82yV6e3_Wg, j2q8QWL1cjvgqgGnaq8JHg, kFhlxpsuzw8UtwR271J0Lw, ZGTe4SYPNMt-BS0Ugo8H0A, Ty4QGuVfVZnLgJ_GJXM2LQ, Yf2Byoib_wvbzoaXUSTyog, gCQgCOzt05HrTOv03I13pA, OkVWkwoN9NcSysqGKhEQ4A, hAiLpqmPuMc9pBpOtKhJKA, OupsYc5vx2ZSkFrUQlVlrg, OEaThhnsLmbbhLRTs80C_Q, UWn53Zon5qZiSHpWVYq1DQ, rq2WsRkrPKrCx5XV_4Qavw, NJgJJ8ZodDoj6Y00p9xoBw, jYknm57qpeZzTueiVIYTOA, GLP4zDGlLKqZovK1DbvKfQ, hMDkd6t7cCNOFttKZ5H0Fw, CyLiZBGbBWnNrEBwjI-48Q, cLKkM4VtMnP3nB83P1J0yg, lmL1P6wJi0Z8Jg8DTPqawQ, TMvp5YDUtrwHF4qS1eHseg, L9qMRYzspbpdZozgn7GI3g, uzYp-A_y9YhdvvcNkYjciw, cd5oyuOCwRdbKdbTjWJGGg, RNpXwICDZ3wi-0QzLJJFbA, 7GK1Y2aERY2aSTZQH4DdSg, clEkBrAkKQQdoruEXm8M2A, 9lBEwk8veEthHJygn-hfeA, Cph7U9lIT23uCV85K-nyZA, BacY3eFCuYzbwtvcq3XqGw, Y-kpQgK2KU36TcB6UPWuYA, DfRe_wMXIxS9B7bDSx4Stw, m6Beb8Tt1tfa6-5ET0aNWg, dZm1lGmIkJ89bn-3prW4LA, qewG3X2O4X6JKskxyyqFwQ, 5DpB9kJXPRl1ytl7r6G5jw, bCemaW_-wrpPhRIn8DyePw, pGZDN-tQ2nxiQ3CjIZLniA, eUmVXP9UnoWtz9NSBwY4jA, XyBVThUzX0xKs_bmGvgwoQ, _W_re0vi1xzRs4HdRs25-w, MH6eaMRIayLchbPuhs7Jhg, vId0ikr2AX4XLIaaBMZqgQ, Yv3gYnt-dOg9ddt3TCJcBw, CbmAVfos2KLYLOEpbqiv1Q, 3b9Az90KDo-uhWZ7LR10Og, MdNkPKaDL_Has7bruF5S1w, gzJWTBK1gaErxel5x1EdVw, egDymReIGgB2USiHWVSASw, F7bHTW_7Z-g2R6T7VkAOpg, 24j4WfSmbXiRUgzCNLaG9Q, TF7owdyUPHPP6b6lFMA0eQ, 5g-zg_Mq1RfWzas37dqcZw, PpHUYEtV4Ai8ffHKdoGYuw, Myap1nlh9T8zDCBdV0hPyA, 4l0R681moAvZ8swaTD-ohg, OwcVgneINm37rDW-bILXnA, 9TEfjeVtKLrOrfJDa1OWow, ebiaW1-78dFthEERihsHdA, 3Tg9axkzDeLzkhKfyLKQPA, 2vA_1OvyppO0t3JI51CuZA, QhD1uNntKrVWbL10gZySnA, KzM2kLwCcilSbeQX0JUx0g, f63XrDqorRSpXEhEj_7Rjg, 3aOeVccmezfYCRBT9tP7Ng, 8bn7WbUBREfIn5nKvk9Xaw, 3M811vV4S7L4GS8LK6kO1w, C4yR0xWLDukqvEqGowCRiA, k49XnUNhwa_jRdhaG4uE6Q, cG_KfnsOHB_c7EwZKMEnyg, Y-ApErVoFOxbRo_cBOGCIA, hZrMoLGN8kGMmMJwbzcCiQ, DI6Diniu7QcxIkRn-dnTdA, 0xkUVnmiD1lBqPTfjz9ZFw, sIqWhCquJTfuzwfy08Iwjw, mRQQZOEXL9Bn9EWYArvi9A, vV_Rl9FBiCB4VldPMKxdVQ, pbyxWMCyRe8_NZihJToYKw, InF1h_4LvMc9hwRUMDm5QA, yptRTFAm4o3GVO5kqgDAVw, K1YlBAGg-FKHRwghOzBQmQ, 1o26Eas2KAl0nqHF2Irv2Q, 77zQxagPL54Ltu0OYiCGRQ, RHvSqyOR0BJDa_PtqkMGow, 9V24MS49auFtIiWrU7gt0g, nXRstqA05sHgTf9IgoS1wg, 5BpJEC8YVi80ecWT5CtlfQ, ETlNWpN2POr45ByqLORDiA, YZ8ifu4BoaEGZYmZwLfZWg, tD9gSK0dmPPi-wvl5RZabw, W5fq-0GQ4aPOfijRdVUm8w, yOO5Dj4CU-UJsnVxsSpVPg, uJkqtw5vCD2lic56PXs9qg, qu-p8NxmBHjzgq-qTcokww, TbMobFxhQwA-Ny5lNL2AKA, sknTBeBraxYgLUfaBacavw, _Cddv-V6MNNczgkDRO7tQg, InuXdToAxoAP81HMMCdeCw, SSzUr02xX3Ov6eN1tylUjQ, mm-2o0YpFIv3LJNXLF7I9Q, WTurWYOFVsVBOgy_HF_Oiw, _xGGIwl5h5sta9NdWI6yhg, -4pU1kYulMf2L07Rk579fA, uAXOxPcNzHO5JHKFKIrCmw, cK0LLpYY5x1V8HGckbdNBg, zcLrpBJgzZYlApUuaicSUQ, uqY0yL_zKk-4CcOdEDJ-Ow, znbf3LtpyDeOJGGHmvkhLA, GRJAgOfLL1oN7lh9mhj1Zw, Oa7jXEe4dGsYj2H5t8ZYlg, QRSEB12XL6y_zF6s04YHKQ, 7nKlC8Jhv7LMiEayQ9Zddw, w-mt6Ak0uge70Rw97fi4Lg, duznRuRS8TqSitJA-tOktg, -YTgQH_6HfT4T4QXlngjRA, iB0FOdMo9hPUhLa5R4E0Vw, YZuSslZX4DbPQ0nI0tnOpg, IEqPB_XCzBKsFyIBkFu0IQ, 9JYVLjAAeichPUeXNbM_xQ, yqvnruwWcm1K3nLwz_ILSg, HNHfSmOmqVsuz23nBFMFFQ, QZ7GJcjF-U1MdUfMUhb_oA, 72yvSIVryh1R6WxMhuskCA, JW_742Kc_BeN-tvACR88ew, StJ-svsBMlkeaQKs1djE3w, PkmO99zR-93y5uWZ_U1sSg, 5Qdgn9b4KZI7gKX1gLIMeA, GKjsXdeiE_jfuXqVmQ_Jkg, tNwFfGAjhbGdZg3MPCxKvA, N6U_080zH4IJSh-_s25TFw, 22N9LnQCDY68uFxZXQYJ4g, sJIJ7CxvDKnBFPpSm-_eSA, r4VFtcZ_9KFyAJfAKtyM6A, SgcfsAL1VPrERnJazpYv0w, 1E2BjIbh6bJV-acj8TcMRQ, 9ikbeB7JoikVNut956hNLg, h4RaM9E8C0d20Uw-nLR5aw, XddLMXnUKNdz1T7hHnvwoQ, c5D3yLiNgyU8piXf6oer2A, iEONL-v4W46yliYsovCP_g, EO-SiYlQMTuszkuae7s2Ig, xzZ7qpTuL02S1ZxdFhg3hg, UhfQb1F1YSTk2zhX5P-X_Q, lRrQVWNBIvVMQ1he1KmZIA, VNlZ19fEZflt0BQJQLiB2g, 3hXzXwleGUXK8dO1byzbwQ, 1p8P_xvTH6N2FmzsYWSk5w, evYh5_98hZxqCKDyXFKZfQ, qbooM2-Yyl2KpbB9enEO8w, LYNPR6zNR0eAu6q307EwRQ, iyuo4SJ_wMZ7rcbJzexCVQ, QGslVOrS4gEGbY2bNDRU4A, DVhrMMjptaGyUYxyNj9gtQ, 5KMXCjHk2Qkb_FqNKldFkQ, Wxx-3cK31IpaliHpBeixpQ, kV7kmmBw_8IPLyI5M6wgTw, a4KIatV-l0yV9S6rVs3F0Q, t7NJEwaJ-S3bfldT1RpZSw, 4EvMmwNoIcVCQapOGtOupg, pc4PcQivqHwp0vS12VtjFg, ZlPIH7AlzBc2rDlK7Cas9A, Nq2TJNYm37YXyqqFIKZ4rQ, YEwiTGW3OdWdLeckDN0zCQ, jguDOlhxPJcy2Us5BzPFsA, orcb52jK1qO_mKSCxwu40w, yV9G8NG_LyktCbHKx-ieYw, bOKpUPBQA3tsd-_wICdAvg, P7sWojBskutdb7YvLqGlbA, Yjer78RnYr7OCzirgdcOaw, vCucrQIU1F5xv6OLhUYI9A, rpt4eOsS2Elb2MRCSPl1YQ, kM9G5jXJOL2p7xR3mXxEoA, z4AZKqHnhQ72tmn72ZeEQQ, dxuTBJvxwHupWPwNGMTsrQ, 2hz-H5ae3Tm5reI1OE-dGQ, 05nrj3ZK4Nl42UcqZDlWJg, CQtj2U6jlLij6OqjgcVygw, P_z-3B2C7JXEeEAcN1ZaHg, b9rErGlg7sTnpyVIsCILUQ, DH7ABAMHvl6IQfJ_yK7x5Q, pussnemFuH5QkFSXLfmUQA, dIIKEfOgo0KqUfGQvGikPg, f5KxH3YahdmVBgS1axPoWg, N2Q3alwiT8yV_yrtUcwBjw, TWRfyILdVNQH6r1ZlFJ9oQ, moKFCJAWq_hAC3ghS-ul1w, VzZUyocJLS2uAMQXb-HzMA, 1aDE-Xns1vqHgQsegbQlcQ, k0bXqm5JpfX4PorZmN5AEw, nlS6qkfCaZ3WPsxXhIVQbQ, 4bF2_0KnXwQh7Vtjp23_AQ, MG1nbmlL05iYDIOoUNKmRQ, raw1bEieOeVATOEmNx81sg, qPRxYCZ5p2q5qj0WS-1JoQ, zVcR8aYFgbgxzGCdpja1Ow, ReVyNG6WJfeQWRKfKizvQw, ntuBTxE9M9IeucKeMtYPyw, HOLIgF2ByPKfXzA6l1_fjg, qhLQ2DKuvxLiwyUMHAbzmQ, oQSiEraqJ0R9O29OV3Eafw, p-EvpHxEFkBwn8Eo_RXYOw, r9ecgI5mnHgPo4W0fPRqPA, oM5I1RmGAWIOwQhIcMHQ7w, 4v-aGuRY0BuSy7KZNIJmkw, IiWXOMz712Qk5kiZs_vGYA, yCeVm9uZNOjsErjnbLoP9Q, s1lEbZF636gVUDQdaNhdXQ, JgcGchBELDK_xnY1jt1C5w, VyzfpSGm43Mvv8toQnvBwQ, NTDiNLn-Cw0aJVY_MzxUtQ, NN7Yr-9Z3pZfIZAIsrWDXg, 5S10gdHDYisDKflbuazOqA, ppiZAoXF0p6DBvNRt1UcwQ, maozBA_UUcL6yV6C7yVS-w, MbvCYJl9WCamWzw3FcK0ig, 4SwtuZbEus2yXHZqkmOHvQ, Qu1zpFYUxfr0LwFG8Nfkmg, k4RzgNB8D5BN4sUPpQo2Ww, MypOSyVruGtBmDAT7FicRQ, OIIGbt-j8iQLn_O-pwUxmw, wE-aewbKd5Ft5BzUllcHVA, x8yerCMNfrqu5gmVk9AdKA, uQrwu4bN7VOhnM9pgYHasg, 9_HI-gUyJ9k_nSxxtSVdww, quqXqGxY9aNDBDtJaFpDdw, pQbLLV8uzry5S7EX114gUg, v2v_A78ZpIWuCO0vEE1AYg, z6F5QFaQ90g5ztZc5jTYsQ, YBErkzH3wWKKYFmWoH8vvw, 6x3DGBm6iqofa3OrOyfyew, KOkOFxhyGMKWsHslO2cfMw, daWc3BxxSIHsC-5QvQPLoA, CJmgeD4oR3B10GXRRNQpMg, sZGvynYsvZhjstmQI4VFuA, X5gSx0VieHb_TvwX23y_Jw, 23jw9jT1blYeuoz8srkjnw, agqCf3e8riY9uvAd0IG74w, nBzuQpDu8yYyggr3nZiBCg, Fa6wAE9sjSO9rDy8guuUGw, L5-kZBM-iBQ4ve1mS3Kj5w, 9bs67S9pUCnsQ9HEkfY3vQ, eyRLae6EEROnwnd7-gEwuQ, 7QvDBjYGPyITqTWiO02aaw, TM2Sa1ATH92VHB5tIqSAbQ, KssN1sIsWkIjl3DObnrPbQ, F3Y_tdykCstyuamg7k_CCQ, A0oupjVLcXlwC7ozB6zq0A, cEYDTbulBzVjlCXwsKqhjg, OCr_VUp-QFo2fp2X3FjHKw, utwcRkYcQp5fHFGwdbk8gw, oJ8Vwz4L1SsNosptuuxGKw, EPKOeKw-UN_GltCDfHqdIQ, dDdCpvIrmuwiwfs6CD83fw, R40HEVnV8tokmSW66Q36_A, KCKMjBXwlybZrZ7Q1wUAPg, YK2M1wPt_s9GNQ345EVJAA, MWcpoJUFi5LbwjlF6F1L0A, 3Xxt0y4dOg-ewnudA8eWsw, ivIdU-ZVn2Pf7gfTBUDahg, 2xN4wqEMpBUG3PFy0ThbIw, uG_O-x7MLOZ9hX7KwZSvzg, 19LahklDf7ElBBliSHhkcg, 1iSeJikTQI02bj2WGCjIUw, Qvy0y1W92Zn-hCdKZ6lFwg, 3RCTtF8TPOUHoi_FfcmHmA, MnqUg0xKRmytKhMjH3Mi7A, 5pDJuri4g3Wfes8GGlnudA, XqoocIQUln6uoL0zixO8Og, bH_Fcuo4llnmCaLxwr0ilw, RDbde91dxsMfQRuVzMAsgw, VuwTRWp2N_Ns8rXGh4ocxQ, N1bD0opb4zT_PqkyuuDFKg, _UyWvlMYB2LeQdXc_k0eng, Lma6GdvU1xDKTykSsu_e2g, a568EgYcbbJdvUuOex6Ceg, dX7yHmq7a3YsYYzkwBinwQ, FH79bierETA44QEW86mx1g, SjUDX8z3Vy99nMORO1liNQ, KX61VMj5Sw9MYp7t4fJO-g, 3Sj-u8oETWwk64Ks2ojYQg, m4F1N6ikcrvtyNfrTG787w, u2tFz1hQJZ6jS77GzLfAmQ, DIsgQ5GTklhvTM96L-IrUQ, D5KPQGVpxWnOK5dwaLKXuQ, 1hnhmd_E30j1Mlx8ufmmQA, FVTr6_VDWTotbzLcGdAb7w, zjoLieX6S2F3_mHvUTknnw, E5TKOAFYN7DxwTXkEy2jBg, -0rRnaXKg0RWEx0UZkc--g, nkN_do3fJ9xekchVC-v68A, -Db9qbIoQ3X2-dqYu01oSg, m9B-QhIhNvBDTI-bpSxfWg, Nxw26HYwzQ5H8TbRFp2QXw, zUKeZNu4tCG56xjwWH54Vw, n2bUMPbNNUxz0N2WkyiMjg, tj5PexVAfowjvoBW4u5y0Q, DGKzIrit1OCij6LQk5zzlQ, DMVhR2YSCrMCLWUZeEsytg, 3FGVRGOY4x1ra8xOH9HqiQ, Yvkl0EQk2AZDhGzAZtQGHQ, kaA8A0Lf8MBpx1UGp3r5EA, Dtap8eCiRj-qmbt_WljMLA, QKWO3XJlIYJh8P_vZeQqCg, 7PKQCmJXw1Acx19fkUrkhg, -z2L3_8QgJv2qE1e5Y7N4g, TUGnYmzjq84oxi2TQdMr3Q, 0rS3Wu5igBsgH3XAtCtbSg, f2uXO7u8KBbxNM5-qmYpAw, 8yZ5q9IOyPHzUY_4cZqrZg, 7m_akadoxv4hK1SjTeIcqA, OhNcd4CSvU-shsUsoV0LTA, sSB0PehhLx5-QXRh35hJzA, WcsDm_x8JkUGUjyGUVP9BA, JFTt8rdVR9IY6Gilp-xEGA, pKMb7ciBv5u_38hU2q8EBQ, VKYhK6uMoA4UHmQL5_rQEw, AdChlMfkk8djTL1Ie96Nag, GJAJHGyIPaGpOFWYD8_HZA, fzpeRRbY7tU4huDeNI0Img, 0D9UTusBIY84PCg7V9I_pw, V2XrDhrGYhJjAxoUPUVLdA, X4KP6ZK0ST-jF46KpAhxzg, zwLq4aVDSH7HyMbVjKfkRg, NtCnUrXKIqgHKqj4fTlO-A, KurEE6elpRdJpBzyBj1nAw, vNcEeimG8-wBp4KD51hVKA, rgHK4_IdibIrF990TTRoIQ, iUp7DNYOZKt1EBuathy_sA, NRvHPdyUQOsqNHG5_BIutQ, f7s9L1_qAF72LFsMEWYd6g, pQMbjcDfr7A1aKtU_ls00w, DFlDuQ_5bT8EIDefpLqdWw, uNs4rFqdyold7Ye_rae8pQ, aBh5s4PSlA-nfz7Hyk0W8g, jGUdsAMkurKYZCh6l84n7w, G__6tbr4D6gPJqviInqjUA, 818Mw0M0iJOYVRMeU2tp8w, 2qW-VO3UxZSU6HSHQ7fh7Q, fqesve2yw5jMKPdIO_Gbqg, xiT-b8Om_k9NfDtv6hIzRg, _QPSif9NOkt-3mRa3hrz0A, Mcv3WBoP1KYba_GaKKDytg, CYr-lRWMpeJzSSsjwu1Iog, aBRG1b7wqWLs1J11jb2jOw, Jl788GK1eIie4EWbfcUqxg, doQXBU_DBp8YEzvgW-DEqg, Hgg-NXs0ikGRLLbmppi00w, FOhjx_jUb48JKEMNsrydSw, IuwryTK_t9zblPlcqhDS1g, GcUv0dlBZE0hXKPKPvG4Dg, EuqKZQj4dwYEyphr4dExAw, I0p3z-6ZjU7AzFE52qNcTQ, uTYHJFJo9UZiWMhj_jRRmw, stdqCbuhoJsUQKl44bxn2Q, lqy-4oBbM4daE_qKbOPbYA, 1FAKs3CAQQLBgdB23GeDIQ, iZjoF1hhnea2IonmyqyZ3w, kxTRYfkpnuIO5re9ADD9bg, KYBEVBAP7QUlt1LjmatTJg, 4R3EHfUdgi7f1447UYdfeg, LhaCRESJ4crmo3HtOnbqkg, wbRNk5bcNvNvXW_hgopzFg, TZExGajxC02oetl7iQ77eg, LFyVwyB1SESUzZRCMLn5KQ, azupW8UYwIzcFGchoEz-Dg, ZfR8GQfbPBvVQSHjso6KKQ, cRzynmMMyfgmJjMoHszKLw, Pm8fO81B9g9zp_iaJCquXQ, 9_lNvpbWon8GrwIAroHELg, -b3u5RtWPosey0UzuTxEdA, AInVFtRp4P-y5ZHMbD8yhw, N9I-aB4QJcM6kIint6QQ2w, ZWZ5cA0Sm24cUlwWRmAJDA, zKv32g3kJXY8SrPVMqKiSg, szR7_XF1FZMKHv5kt7rW7A, Ua1Tr24iWYMniITpcnqfMA, 8wQIoFapkegkC5fcVYg_Iw, ZH9GBktJcn7iK-IP9qHqfQ, xa_FXMq6bTdBaWsbZz7wdw, CZQUtmO5NIY-bZWkCqHeJg, d-Esnujp9CpNWOC7rKPMDg, 7XQmsxxSQfZwflNVrLV9UA, yGyIdy1uGaYWO2L4RKkERw, GOTnjZz7dbnL9GKhHqOHtg, IIGsSOO0qUiY3VE_CmA-7w, dIzX9b7IWW-d9THE54XUnw, HIlLKmDSto1ertuFjxLTmQ, hfNCoIpAsvjahkVem3enwg, RETrKXiaRckikERLfdJwSQ, enome-L17TqTINhDT98xqA, d6e9GdKmVXeM6FVfMRSQIQ, KheemzNvPqrxDtOqdrOQ5g, 8I2EXsSuXFOhRhQFfi3yjA, PmFirlTCOAAUNzIjVDnOJA, lmFRxUkH9vhPJ1Lzwh1I8g, WMKHohEja45ls6uxdIABRg, _lqg44t3mjH0LDOni81gAA, CkaYWcb3AEW9Om2EITIeyQ, BbfrQzkCKBq0dzgtrhE6dA, Q2tlrjumDyNpB2oLYTEpZQ, RuZ4QPPT4PrNUJXg6LiIDA, PWd8ZlC8WN-JKXVHzrkElw, 4ENBFSuIT-8vfRHZysQHag, i00jaN5YbTQS7pJ03EAdTw, BCXnt5v3hy9MS8kLgdfCag, wjRFWRNIyw-dWDK6C9OPxg, 5vt6mU3TvNfyTPVrhQ3frA, v4iMN-vR1v7sdkSbSyIVYg, 8Q6VlPOdpbQlsfkaBTOS-g, n6DLYVZScjr1uycqExOGhg, 8302qBEmZeTJZQY72xD4Sg, IrC64HBNdFyAFHan9aUH_A, tox7Ae2QsdFsWw-d9yKWmg, 4GGbFyMjreXwgKfMCi_3Lw, 1yJ8EMj8sXb0jcFqc7urUg, _KGMFTUhJMBPru7fW8bUDQ, gPd-IvesuRh5hVZBLCEL2w, IFqBvPIbAq4fURQgHCetug, rolk2LOiK9QVAmv1NkVSnA, 5_jwevUG5s9dIzu06zjXPg, e_7p1xR4BbnKpAcpy6BxSA, okGEZdbiFxWktDkClrY6wQ, EBimYyvLN4_vDXI0TicbIA, m9oVFC5s03j2nEHgdqIlgw, upZTsoIOCmxE_lWHZO4WJQ, S2ndDDRSxCuYgC4cHeLp6Q, w1crYZOvvNNRbt-PnqSzCg, hz5RL-6J7vHilvWRzq3mfA, 7XZjEX-5_CMSi_k9KHXsVA, AL45aG1FUVmjZt_S0w8glQ, VZL6ULXirnVoalLbPOq48Q, Afta9gois2EgiO-LcwyV8g, -LRtk_Z7kVP0rRH9O2FRUQ, J3i4yfUqSAw9OobAB0WUKw, MZnyTlMDco7d2URb6ShnFQ, FmHjhpxLQx43UaD9mjJFFg, JapsODq2leyIn5JTgjOvkQ, x3hyh8K4XIAyJ_K39fpOuw, JXg91QpYYgE35-jBCnurhg, zL5LQh8LyYQMUf_W-d-WOw, 5v8D3YsyhsImEq7s-DrIAQ, hvOlTjSeucPuK_LJC7fU8w, lW35rwNviCgvTXJO8gvs-A, cEIyyWK5GV42c-jZR712Dg, le5kT1y4I2sxi822NPnoHQ, 02_CBQxDs9nYQat-M0pPgQ, ChmjRxM19bYsEzq8lHkISw, C8mn0Y1EV8wjsVNCwSp1Aw, 3k0GUiSpc1vuflJZtVq0cA, J8m1NSP3dgT5A1iyWqLMVw, aR1bBBWtjSTbnEtbuuNacA, 0JSD6bUsqxEuwwOfYt4Z_w, FT1wuyA-i8mSL6UiC85ikw, jx4HSbZ18wqFXR4UxkU7yQ, EBztuKfEFnsJPCOtNSydgw, t37V8jz9h2QBKFHK9pI4Kg, dUIGsNuEQcjASwKMDs6Gkg, g49xa7UXexKxqvl6ihBXgQ, WqALPbHazL4aEO8YxXVTHA, puvyO8VZP0RqQCvZVMVKjg, Lbs1oQdIKTfCnDExSQInkQ, 6dK4Tqq-o_mrZ9lEVuAT7Q, FMysfy-JWE198b43jTdyxQ, q_wsHHWEP60RcpVdZsbDUA, 7AFKGGBqtwOGi0viswpc1w, 09T1oyi6c-9lvyt7gQCD2w, v-vFmVcYUA44YWjyFpWpNg, 33w2znENOgwLrUMqW02tsQ, dECgeYO8lFzdoGztGNiSxw, rhQl_JFkCwrj0Rb8HUrNRQ, IlXKZEow7HHVmHcdP-1QTQ, rDSRx_O8CMelfsPdRm3ePg, m-I4Q4f5Peqwq5HNL0jPAQ, Ag8i6MQTOhaRSjpUBhLuAA, 6YNaK0mmWfz0YCa67JPV5Q, F1pPc9mjTQprzfMhy_-vyg, 5s-nynaYg4SUFiB0FS3bsw, 8RcOuoC2eoI92LIbOkeAoQ, adJtS1SGVYE8mVVkWdxaNA, IobKLRDPSjMWpodaGWp_-A, HXJABm2X85FB2gvKopbXGg, B0qSmrm6DlTolaRlzj3yIg, _Vd-dedw_r0TsxluUh5ogw, gIN2gf_HFtNxJ2E1vDf0dA, Fio9RpyMAejPEsZhDFdb5w, 1EeZN3nAp4BI_ocSdDO8Vw, yUCzjLBSd8NtYjQQqAhz_A, 15BKwnXn3VHHfbgU7eY5bw, EmNOljXr36lF72uFOTxOjg, zJPmputFQlf5EcNjHIbQ3A, XKS6RrPHPZeiP8Nn3vhs3A, Gsg0KxkQUeDjRaqf66k1Sw, NnlVqmxlN0WhVq_332GpPg, fkMocvZFw541YkElnbzDjg, Zat8LJzmHDRE1GcqaoqqCw, vZCm57oN6G9ekZHziGSfYQ, jIVO9nKNEtpw0kNY5ErkNg, NbuNkgEJnk2kpq7KavBIHQ, sNto_BL7x2vL7oEoXFqmbQ, iqF9DSNzYKPtPmBE5byK4g, ZH8KmHS4JR-XPVTDW4M99A, ZWfuwnCPH4Bi4ju7eI8WXQ, cLNBh-Dyja-aQfrufhcDKw, B5RKIrK6Q7bM9QSwQwguJA, ffUBPJoyVnco3VhNa0EYgQ, F5qJJ9beqlybiCFXUlJrVA, a-fi1yr2p1m2TvyXBHN6gg, 6qLK_QLLs7XawfPoOGOo0Q, kGqyCRaiWj0j6U2Trhvolg, SGK6uUYF4KpxNyjccWJTkg, XctLfkay8pGHGfJ2LZQtMA, 2VVB-geH19UoeeZ3MO9b4A, Vh5L8-bK5ozLcb9kaR0Rkw, drTayfYUw9AuGLDAmpRCcQ, Vaj14Sp9HburSg6JFBijFg, FmtW6lKCSZATU30WOrfgkQ, oDa9wgyowQiKkgTG9cPNJw, L2g6vS1GDfqLEpiDOFfCkA, sDt8uiCj23uS-3_ZXhOZeA, CWmXK23pM1hCauiuscCgjw, iuiVbdu7JHoYM4sJzTIaRQ, XmJSFTU4ht8xe-1RXtCgkg, YgIeIQBlvff6CCasQBn6fQ, TTIUl5CEWBsU_PSi6VGmmQ, -0Nvk7jIo79LaxChQtDyLA, h7GloVptK0mEgZo2VrPkxw, kHXVdcTjjvM4__s54-pmqw, 2YAsjq4El6Savb-zrRCtAA, Ay_5UL3Pn6nTPhLNl158aQ, fbSivrj4857hFrBelv5kLg, BI3oAhxzuE4C-Q3i3oieiA, 5rr7_l7XSrj4oiMUi4r7sw, PXUGDawIsbHWorK1H4g1dQ, mPb_rzKd8JoapJB9dkEjdg, --KQJPdrU0Md97DiOliDzw, NIM3weEJ0W2xsKtA5L9EPg, TLLqCvKrg7qqhL-QdzOIPw, qswSUAaNkm0lMORTAXYGoQ, LYVSYg4YmC9kOuzMmqCEhA, iQE4yNyQWYkkBKF3x5uvZQ, gRij_6KnLiVfDoDq_-B3pA, W305Vv8_ZqFf1LKB6dvGDA, 410CvPV3G91Pw79moOQQUA, K8gYOWtE_iLnn90cAD-Slw, EvrT_21w6SsR7c5No-QcLQ, u1_OF0lkoU274x6yhsXIyQ, TwZOmbKZkDfVqF0KI64Xyg, 0q1lPtJ5YJBGnqP68_Hxfw, G4QCxMFXaMeLmBnmHz6I3A, xfmgKq_JrCjaLq1ncnA1yQ, A5sEtzjzUWBVcr3w_pY2Mw, jkJ7zkQemWYRXgmoANu-DQ, S765x0O9aI2e1ISaB-NYfQ, 7J29b1_Ds1vnMh3U0ESNZQ, E-A3ei62Y1vXj9_UPVvarQ, Xfy4ez9iPY7n635JyvhLMQ, M29GrWN9_VgAAtASbKRVeQ, Zcmt1-j7YNSupg_Yd17_vw, fawPFhOFFO2s5dcaFZsvMg, Vl5LK-kuYQ8tEFWqg9408w, POY9zkhyWYDuY_XFTiHdKg, VaPz78R537YHuPGL8nHnKg, InLed5rkDJowHAaXoOJCLA, yewPMUo5WIk2Q5aqE8pUJw, etSZXgPyU5OZb28so4ACMA, o_oDHtflOmzr4-0xGoEW_g, F818dW0NnJdqpRr9R04aEg, 2oXMLjR2lZq9E_IlBPBNRw, GpZpKakwykH-Gsw-1LpLHg, TEtzbpgA2BFBrC0y0sCbfw, woC7gLSm-vaFZqFLuKA1Sw, 4Y81J2Tdq5XAnkeYmCZ2ow, iiX1vWpFW34Vcxe39jdyxw, vDH0-cP_N7j7KCuXjN4Z7g, WmLd3oRxtp0zSNlpNXNivA, rdynlpfm6bdHCepBREywJw, 1n_mmOj2_oE36cYdsWZsdg, l2JR5oBNXDLIPfuK48w9_A, bAY41O1kiS6G6zzkGBv95w, LB1MxzqlAWLxfoKN2UzVGw, 8vN4Nq5tCdkeFlpASeR-Ww, J_M-GT7t8sWGcYyPKsTRVg, VRYcAxRSJDWtkA4YPk-f-Q, 5vbWzMFsoOOPKj5Iuh4xkw, DyzJclapgj6g1s8hQek5FA, ZARwRzW6RKug26eUPa0PUA, DAvrtfdKcTrROSNnCD6fYw, O9_s3uT-KfQPidGOhaO-NA, ng2wAJiKXV0AWddik1rI6g, C5zgkSd6GV6r8SYtpn6Raw, sNoxAyjsuBsJ6aT_qFwCXg, SgXPk9GLoSg8vM6PyKTCRg, xAW2IljiNgcf85HjmqUvJg, 38uV6LVE95wkFvZt95ntGw, -cXaAXUC6Vy5BFY_d06zTA, 58phrCbASUfiyTXaPjHK4g, KaCmQCUatYgEKWlrI7HQ0w, CdbcgPnrp5k54SfViuaEbg, fGQaHraQVO5_4Y8zYd_6cw, 3DeY6uTHUa6C76edMM8Tcw, XUfIbdyLGtNHQop38x41CA, Cv9dgtqH1gJBfL0WMv4Htg, gO97WJQf2uPe1og6x27bxA, h2mdrtKPguKSghmgnyGqkw, IKi3LZLNsveZWY4EUc64Xw, oID4QGAu8v1mQfKOSEt_Bg, Ux2e9mZftYA0lPTwXFmrZw, l-Y2MqBfNKTIh960Dpijsw, uek5cGT-H0IFekzf5hwnJQ, WI7VDWoaRayTEy-_OENL-g, zQTEbn5nWGPypxOf2uRPmg, mvsjwnW_5MTTmn45hS79Rg, UA5FEnlxpdtTSwk5RBToIw, Nop0_NPITxK6Qeh5-JiVIw, wFamDbjhhY_myRb4dUEwoA, frtklalULDtHFxplH0xxew, a5SuOsx5bTO-cO4JJrZLuw, eG2CCsSZPlmD1Zr_uAOQ7g, 9bW1ruO21xrZ-mpZAqPN5w, GSFSPGnt6qu3bRGtOwQ9OA, i8bPgDfQTxZkOVVPk_u2Yg, SFVlIX6s90N3D4UJ2i-IWw, 2ahgTxXYojeulvOkVkZAwA, 6Nm7CTnmdIovZAKJDPSQ0A, bmiAy-CdzxWPi3Yr_fljHw, -fWI-IQCcrxE7xeWwmfYMQ, cMYEp1-zSlD3d9YNMsUy8A, RaocpMaJn96FL2IILCQ7JA, 1-oZsNLPY4vmCLj24TOc-g, FyWQ7Zonws_ppf06Nhu8zA, FkYtqDiDuyke2GTRn0MOqg, eX8ycTLUeiUbfas3XwVrdQ, I79BOsT9WaWlYU9HJiW-NQ, z2bT6eewGU8f9NtAqW36Wg, j9XaO7vnuRaicrPjxisb6g, tgLzjp_tasb-D_LbAArApA, i07Z2Fu9fZ9opMLKsXWutQ, 3DqeuxNWduWVSSD44d2zPQ, FArIEoSKbCcVqWc2eWNFXA, vPnYo5D1oIH587esX_aibQ, 7lsGRTQojsGweHU6xxdrTg, pB-M3lBpkdjKJnerlHfMKw, JTcHZB6t9INzoigkUrrw7Q, kVUKXBVF2U-B65pCrhUeBw, IbIBc9Ld5sF6qbMqSmvW6Q, U9XLoZuN46AeiBdQOApfMQ, 9t0S0maHcpvWnId8kIvuJA, 43r2NEB9BN1DKrwjx3q7Vg, qZqqd0ZleZ7k1Vgdce1MPg, IzPcd4kjY2zXUkA_Buumhw, WaO746Poi4g9T8CduEcQOQ, U_3I_6v82zdFteZRVL0Iww, 2jTqpqHAQnIzIfwHdaOiqQ, cwbjd4cT9jlQybaQ_orxoA, rJXewNV8nqUFRXoM_wM5Jw, 1NRPFVXXTMSmPE8tdpzjPg, ykgsq-E9Axu_4LGRcRTSUg, O7XhauJnf5aNTLcwXxU0dw, j25Tb8B5f2Bmsp3E6RfpXg, IkqQDwwDuLpqmFf8VqNNkA, vBhywX2zWL_w0xxirMy3rg, kdmdKBm7ObKWkLTPLh3v8A, DjKUa1KvHl2cZNqa0ATbXw, 3bl6cL187kwEURFMmKq_AQ, 3TRwqW4J8Y9cNipQ0phwig, Ve0tS5o39M4MRiQ2H5T6BQ, 3E5VQUpdNwkryejQW-ZxrQ, YKycXkXZjWsMO8DVOp7cAw, 8fSaLfemE1G403PMJzfATw, XKZN0_I-uu9bAHcLDpLLPg, ZG6ZMbRONzkRNo_UGeoDXw, wAUwV-DwJy9taWYwD8lQBg, MAZuDuLLphwni0YP6B7EJQ, DAp8eNvSha42odERw14GtQ, AtZ5hAERArUCN-9L6SnoPA, Qd5GyT45vcCydR2mM9dcmg, 2mETec13ExkxZxlquKvKbg, xRFYw4cVyRjQqEmdpS35YQ, lGcNkgiKL4zMzijY7u9k3Q, 1xvmDofA0MvWDSD2hJAvyw, NK2bxEbv_9iS_QWHTumrSA, vT8VKSNdoeZ6fIh7pdorJA, bgVxJI9Jgr7p7bKIVLkUoA, hTXQ0w0-EynCewaPNwjwAg, ruKI02UFEyBcvow5DXoGRQ, 6GCb9VUTR4LgpyASowooqQ, tzdbw_QCpsF5abVKQszmjg, uEUhUh7KWIfKWqk4z9mhQQ, AQDJyyT3xVKnxamYE8bRSA, TyIik5grKDKOUAACNz4AIQ, w0YamPO5PQMyVFEcXSaylg, Bw4ODvYrv9TzTQSGSoXhBQ, OvpLk0QvsCrM7pQLG7kH6A, EMSkH180X1MdlvHmuEqVYw, LxP9TFmhsMkXqTYQw8LATw, Pz7Zfsg_AdxHqOL8K0LE3Q, Us1AthDpqHzcO231z7OlSQ, 7jx2Fcxo3eMzrlibFfqafw, veYx6H1fEr99NFfg_jdPqA, _Pb5lwlV9oxEDmJSgafhPg, d48Dui7c3Ab50hy6pcT56Q, wboypZKNqzPPSymulMfwVw, nQmL6KqFOJNAtI1tgPFybw, gu8F8PCS_qJsV8VjwpVNyQ, rWncR1C1lQ6yRhkXNvh-OA, x0YaU29rKVGPQKCsj-O26g, kEzr8Z4mPw3WCnV0t3sQ7w, jsqoFof99wNilnp1dy9cHA, QXnzi8sW0tLIaGor_-jzTw, j2_HQJZHKLJUxUPcULBuwQ, Xz59uovKGOx0LmxCUx-7QA, bnZV_GKQA_RcOsyPfNUFwA, IdjbtCemrzaQnVRsk-5G9A, gDO3tWQbvEPdofZOmATJ1g, J9msbK6sEKFo5JHr3U3vbw, lXq6FMLBFqGwy1Bj08PkZw, MYNHu6jqRsdkCMJZkvERXw, SRpA3yfL-6fr4rn9m6CZHA, X7SwvRrnsZ8I3bEPGELpnQ, L3KDSX8SYD5Vw35Ngbxjmg, muPKUHFQnK5_G55k48Avkw, 0rOlnsV4VflE6qkaOy4Qlg, f38ZHMNvTv-GROWEgLz-Lg, Ie5Ofm9BG4RcZrkn1uetVg, WNbrB4Ze2oaHcCbbFrTUvQ, ZrxxqVgyxOXCxlSsMmBnUg, 3UglJj-ORCl_SsRxqN3gXw, S-fHfTLzrHdewHjfOmBh8g, Pt0U_hHpRWCJflNDPfywFA, 5FeNbS74gZJEh-l7wLU6wg, W_aTU9mo55bwRKzX-znS2w, wjzUaukPQdr1pEEhIATZ_g, 1piumPQYNtZFH1dmuHXbTg, S8E5vntpTPWHEjDgF4S0pw, 5HOQJmutpm_ayg4twHAsbw, hHCPZz3qXDTo1rX_ZC9ZKA, WKu8N3wK9k1sRfXCA3SZ8Q, 6Q_itWphZ2Fn_qC6I53Fkg, 39dzsMBnT5gyaz5HHEHbZg, vpb6VRi7FLqnJubLJDsGIQ, tO-gcm0hJdVtMviRtrTFzw, drgyt7sOkDGhZ0GBdjD-mg, LavIddOlaL57sxVrWBmGpg, BZif665Q1LSW9DgKUsZeBg, cwtyzn9JAFgArNBhdi0SkA, 3EI_dDMi8QhwkPg-wUkBZw, xVe-jAWzP7qKp-j2RitvHg, Rj0A4yadfc57NMcJxX-jkA, fub6fw80yLNaJnCg0VSygA, pfkT7ALY5Tzyax4mrvHapQ, WeQzt2TgNR-P-fCRIrRPVg, NQjVb1lgpbOk6kY7UMi88g, -eeEU37WY8tpRd7lUwsJaA, hcR16brnuZBS0NrebFP5Fg, SEZw4BsHGBfXYYN3zmPpLg, JHJC6BGcSG8Rm0bta_ICYA, gpR3XkOEdw-PCJGUjhYcgQ, 9M8BKwfm11abnSY9BiPK4A, J-TaT86tsYzz39KpeysgtQ, Rw8VcGgVxJavNc1LePlDgQ, LOd7ojQqqCrfmK4VPKEBSg, 5mZxkLNiTFhuRJoYcGiX9g, dgxVbs0P0cO4GYb-y8Vh0w, Mky-dM4NgOMPQLal3fpaCg, _zBDCYrhs-zZTpbe1ANEtA, JqJmTV9xnPlIiaY5xfZ29A, w5JPVRFTJbAwtzotZqh2Cg, VURkqcuPEGnxrFFuyGG8hA, q1_W5mVYfl7Jcjilgk5oZg, kCIeEgcZIOvsigLrHn7rcg, RNcygpFvZQAcDYBhqa2lww, kCKcQAOM3lQQCjxQUySjfQ, kDWop942VTnAqpc36-z-nw, YXAsEcw3zjuxYnGtMQ47Vw, V6mXoWJKLqukKlb6Rt-UJw, 8Zpwd5isMtOFxcPGU1dUKQ, _pakCQdXhVpANy09lfK3Og, NvUeb5G_mSSxgKhEE_Hueg, ORJtryDngcfXQcLPY_Dv-A, VMNt8vQrzWL6taFm7tlKWw, N-ARGtFbM5r110lmcxqXfw, PCDDA4sW5uDr1cni4IihLA, nQjgUGEBOu-jsCQlp43WGA, tW55QnzTnRRnYcvcMZ4WOw, NhS_O7G1oaNa8wLbh2SJ_A, QDj6jucUiEqUTUICLFYzdA, Cosv6Xeby6fWZkmjnjk3-Q, eJnwyot0rLyWN84DwyC0RA, aSpNOe21Z_sMaJ0vbmDmSQ, jCFR0k_NMwC11um1f_LuXg, 5bcULvg_jQxT8pnA3iFUMg, msIH4ZvlAng668aJ_a0Z9w, APcVjuI_GKVUFcJ7nbsBzQ, iFXL6a2Wp2d4RFkeVgxwlg, S9HyH4muuMH6BMoodFyFcg, j2g8sBCaySvsoVpbqbJuEw, MsLtQW9mk6wQ01cXhUotlg, uTlLV1aAq-u7y3AWd8cnzQ, IdcM2uy89NaII7p0oVoeHA, ukumFYw_zvXS6hekaJBUSw, jVSRv_RXg8nnPfpS3xAlcQ, Ncfn5orjUvWsZUHfx4q-fg, 0XcjWr3iY2c6FeZ0bMrskg, 75zizbFKg_JGelsJcNiPbQ, 3WewXKygHhpV-Pa53n9fnw, 5crqm-hnnpMCZ3JolKL4Bg, p_3Dsx66mt7j7P94vfdgPA, lkArFuF-ZCcFMB8X4EknAQ, xa0m1CoNNFI3VoQNEN1bTA, LAAuycmn_2knS2Nst9PJrA, IsI2fipBqlsQcFBKFbnAgw, -SlWJhzUzqUO61vJoKYbOA, adVI87W7gLjHM4fw58Ce_g, CDm561ff_X0VqALDWr9_bA, XcO_zeOaAFjrdee3mC9aJQ, Q4kuNEStaVLX6LA_bbfqZA, TJpPDsFGNm_MfO6Z3nqfDA, eTwBmRouY20XLX5XRgFvfg, T3rFKB30XYOdEfDOZsIQfw, gBhP4qha-5xACllqMmAnXg, z1gQ_Ymwr0S-bblR3b6aMQ, kFZxyR1tpNqKBkqV_aHygA, 1_mBpVx9YBXYdhszGRCKzA, qu9AgALdZ0Zt3QyFG7FZbw, sBa-YOrYCNlURx7U2PbbZw, mC3oCWEg1Im-flyA3xAxbg, AWCY8laHjH0-3HMT0LGpUA, _hYcW0OD-s-BPK_8GIpIig, B51PfqWAkMKMeFbi4sNnuQ, i-vlsfeacJCHpcCVnSZrYA, axZU4eHtkErT_H14_uMnAg, 0af2usSsy0Vx_l3qBIy0Sg, 49GB94ZrxVyvaJL1b7xJuQ, 1V-z8TAWKU35ulhKE4qSrQ, -jZGYE6BE3kz-HjgNWdDdA, V7GU7zKe5ZTfxQEwrWUcDw, Lw7WQVeQKhKNdKJp7llBIQ, HJdFNtGwRUpDI6KvorA4cw, 93wsx1xLRgWsGDyXdynY2g, kIeBFp6DU3E1THLz4RFOlw, abdOqfP3Mmpf9ruQKbZVNQ, l3JiQmrbNApZWl7W8aggEg, fupu1KGb2Gcu-IS2ylLe7w, I1VvxjmjZ30Nb2aqhVY7hg, -H0yU9OFytKr3AcIuWrWpA, xw76FAN_-5u0YCUicVxnKw, 94HjT956Nd3Mk1WU81235A, MypXEACE_vbUnoZx-codJg, d4u8qcUX_tSchYWNv3HeXA, lPxPlRORP5xMqXP2XcIUGQ, A5TzAxPGHcX9coYWc3X8fQ, 8a4WX_ThwtACzZoBz8GJVg, jXEB5vzxCWdMMMQurgA2mA, R4sLCXjvw_pEaYY7Gif2-A, 0E-dYP3hTrtgFDGRyBbOwA, yOuTpVr3cXIw3lWpN4l8YQ, eFpTzZZOmeDXpuFojR7dUg, Sbt-FhlQWkwlKcbg4OcU_Q, JneEjAerXHMlK_oPINPf8A, xMJIbkoa7rct5hmroH_soA, jY_SGaUeeLA9n2o04iwfMw, UuPY_tA4-c9TaWEMytv_zg, dwTSQ3pGpw5M9Grrr-xKkw, 33UfEdT6qtzEByNEbZ7Dgg, cufhYFdyrUAt4SWe-m0grQ, klpI9w8MBmwnD0SsCSqAvQ, GBlpfDzmx4Dzsfh1JpjESg, SoJHQBDACtHUVEPhr8jWEQ, Pml5S810o40zngbzfKz3EQ, gJKZthL4oZJnR_KdEjbfTg, BPwthuNmS3X3QdyTnnAYAg, OAl3uF2ZDmzleI3J0RFYog, OiGy0-KqlglLpnMIIGy1hw, r8lz_trKO4qfwAjsjRf3Xg, _LtWaQrLagU6z6wpDkfVCQ, m-q18lAVSe6rKVLCpmebSQ, XngPs128PX8OClDqw3OmwQ, HN8tqsJtkVzkGZ4H-wzYYA, ASvjSBCYRd4GhOtSIn8Gyw, RQGp-NIlKb-BIquCGk-inA, lV8W8rWZ-6S_kZJjsfTMBw, 9lKCs1d4AE5eOmtIpuviAA, vCzx2yM58DHTEw2qPg0SlQ, 7_FjX3DZkWpK-tkPna7E1Q, ZoPRSaDwJdXNE_E0bft8vQ, skzyMwdXmBuGDuDPPZeLxw, R1bIQRSNg0us37blGV5JrQ, AO_Tge7mRTQV4iOy3fg8fA, Fk6NFaJclQvP1izQ4KcD5w, 7IKYbl5-abV39aW1-0VpXQ, UqrIcDNdUJczEwnRI30ONA, ICwMfseYkrB0ZEK8tDUOHw, VdZXeTROT9uLIf4bQFvTdw, cUe6WiXlsjIRBLOZcJa3cA, TGrfouvxSk-bhKoPhwaB3Q, 8IPYmfFuMT1U0nn9yKLbWg, 81QlsKRy78RZMCOjy6WWsA, grTKGF9JCtQRXacO0YqNTw, e163g2rItHz7OxW8vKB2lg, om5ZiponkpRqUNa3pVPiRg, 8QkYr9ftTna9oZTcjHH0tA, _sK3Nm7JN1CluaeDf3Y1cw, NGs9dH0xKpemSdh1Qqx-IA, CssSQNgXTiRa7NsgqZuioA, NhURcJsG29B1NdcCzJP4_Q, QTPOSfaKMRsOdi-K5FmiMQ, z-KefL7SFQFUpD0txMPYvA, gEhSvI_DbPWsGMvHe57pvg, ucdQMzUQcgPf5XSWVKQ2JQ, yt60ZxYGkiBij5Ot5bTlkg, eR0L-XFecZIYSsCiraxQww, uAeNVbAZEokzit1rm818VA, nnw3o9TS5SDBk4htLWjPQQ, oICx3oQrP-9OD2E-S7pm4g, TXeit1jFxW1ZyOkrFUkWUw, DxXQZb2ZWnM9Xfvu9Yc6ag, 8hFlkCwRNKEdqHB_oVJsMQ, KJOEC2AIKycmg1qVvT-_Xw, ATsAX_qOWnJp9uMBnuIxrw, r1R_kLBVfKEblwu0caPUKw, 8K2thN6xtI0V1FgjOjL-lQ, jcvjkWrJ1_dOA64RcsTvfg, iMy3r5vhITNb5GZIVfh7Vw, zJePnrN3gb1r4ArZ2X3ajA, MHvoIq_6tGDlUpsw8j3bZQ, Hm1FoimmxOH8ImTh8x2Bxw, TTR1j-06w5J19PfRxQuJaA, VI6OwZDljKj3MxwFvuIdcQ, a-iC4246VbNodKlXW4sdIQ, Ug6ngfzLT_cPzSttve1OzQ, xzegr-hZxpxnZM7kie-pag, VCBqy4jkCVDSYoTidwNzQQ, v5xqmtmMEUnZaBQ3p-zQQQ, wfqrsIHB5lV_kVHDZH-Uyg, zmLIRpcALzF2EfdpFiRiDw, ON0tO52n-7Xc_f1O_3jc0A, oV_baOcy7TRuuxeQxvewzw, lccsIaHyqWcvhzhLYN8LOg, 6ow0IikyzryEwUnPamraMQ, M97iQQdbSANb9NTREYEfWA, QvnhwET8ajdcZP68conHsA, QMjYOQuGkGVLnPiiz64iuw, r4sL0RFSgoXZjqiGiyXLUQ, iHeK-hUsY7VPYMj0e_bAXQ, dUkCH_gXhSmn0Rh-RuyiwA, sRlCqgecazKNfXaPTjbhpQ, sVLr0KVVgT_B4VxoTtlZsg, 7QWe8QG8iar3bYUbB8zb9g, hpPzJdh2vSvLTrn7vrUSHg, FTNaQZ3t0dsVWw1WZUQGFg, ytWFR6cNNhKYVlFdQjkOww, PAeEkjrXTub0ENa4rZiWvA, 9jZAXnAaulEC40wtEZK6Fw, BA5gOB8Y2QgM6KsvcgJ2tw, MI7TjNlOSHsPbf69VTqrOA, 4YRCDMzd64IBecsoJCU7Ug, Rk5KzJzGlkybEhRfdG7_cA, _Of0SeSvYmOfe30HU1Cy7A, ioRYQLOcVYq35dk5aPDndQ, W_FTcjj_nAQvz566zD4sXw, Oo0xBAmkuP9u7aOsqIGFgg, OT3RrmI-HNqKo8P6ahCaZA, 21QDiOO3x_Fv5b0LK4P0Dg, Q-e7RVojhzs3ZKjygFQ7hw, 57WZ52qb0L-ktITIcbyeaw, BBtJh6YcczbBzdrRknNMXA, 5icr6o1O1pLN6pHpOgfcRA, ZgD7o8W-NJtmJ3IEnUMJcw, Cx5OF75_xqFicVH3WKbRTg, m8chY7QWNWfeisYG0yiK4Q, DpuT_nJUUQPxMNgCikc5ZA, 8wmunhSar26qwMubMH8vBw, bnf7t21SCFw3HWfV_soG_Q, 3GP1x_iBu10rBs29u71Y6g, kgpYNsORZrW9OVqVKjoL-Q, MBx56ZcMJtLea-ViVO2Rhg, PLHVzwOy7A7oMy2z6XfHCg, JdE7Zm42loK-fuGPJxYo7Q, G9P0ZwSb8njjMkIgfe3XRQ, kIcWDFTYCXcmXQLRDvbBPg, jt9n2scBSaP7jC3UPPHZaw, qtTd_VDFXoeNkJKrtQ4R2g, 5bxBWAYGSKowLsGHpWvS3w, fHJ-RVXO1WLEB3_NrGS2wQ, OE8wXrKAbn2Eoo5HMgUZcQ, Qzy_YnQEkNEeG1xFcjcZDw, MdAFdr224EvP1A6ieBgbMQ, _USg9zPi8mzBVc6N5lcN1Q, gqk4X2qaNQ13hqFxT6qkYw, cRbGZMBcOySvHYoYLb6jng, 5e09EwRcwTKi7ZMDLzJpqA, oohoTz5R-86dGxQS3giATw, THRw0P2cpCSOuUwBVthEtQ, eE1UC7s-wcW6aOlELANJqw, Bezh6tDmCrL0-SnsV6CneA, AzYWujrcE-y-AaIQbZPzfA, GvYyEkCdovKI54TCwtqnww, WgLxfbJRap-NTbyFHK1RLw, dN_li-1H0Sx2FQYtOOEY7A, 7e4CioqxGMByqh0lJP5FZg, 0NZe-dGGvEDiquDawAd1wg, Y8QuqyiT6-eSVkcqFwcgDA, yVZGQfKeBBYFElt-nsfxBQ, UBiL7ytR9H9T6M7vgWjJTg, YOw1yg8THktCCioY2q55_A, GrsOdlI6yDAFTqsMbo9EQA, 6MM9Yqn7UBM8tmpSHQHAAg, DP1IVQOLnv0zZqlG0vhN0A, 8ACtCLSSsZhY1EnYmosAVQ, aNUFIiEdDJ3fIGrC4893KA, 2DW3RlHyJQtS6peAM-Ry9A, oWIQMZUltpvohmQ8_zMmyA, FFQeh4p0s5HKriZZajJpfw, S5eTznmzK-Cz_s3_e95xLg, IncBVlinO6w9of69FlhLdg, F_JPU4dW3V8fd9o9cg4tTQ, JAsncrDhr4sOZSYkjP2XFg, GZMDgKtwuP7FFtut24IZZg, FctHrpc73afPr2-ldl_zvg, v9X3Ym_9r9ZFa4-z-WvrQw, x0kWTqFnTASWYhWlso8_AQ, nA9DDRHKeXXUMkpUUI3Ulg, Bg7K6vqebsTEZ6BYXUrQ5w, VGBg_oRoAuiYg0NpXGEeEA, UODkTPIrephmT8agpEGdBg, YqWqDKhtOSdpeBex6xFoVg, W2Lvdg3z7b5qJvg7GOWi0g, X5AkgLOsDySVmIb69gp7Rg, fAtaSQepxKK336NyLm_NOg, N0ZwaRrf3v5h_JZ5i-Fklw, OYaZ6agL-OMiugwqezBnCQ, zyhHd6AeavKVdOAXAPz-DQ, _YpSHTC4jIbiONM53XXc1g, m9GpxZ7T7D3S3VVeoitXMQ, FMde0nu2ppgdgoftcFsFiA, -hwSiUFIhGjySCUbbiGvcQ, LRc0Rr8P-v1n9ew-qeHhAA, GYndf-h6dAwpGP0lDBz2Wg, SXdQAY8Jk0hszzzFSdqsIw, vqKLzj_SGdnBEnG2wSuGyg, qfv6D9rfylbRn3pRoMBjSQ, Xvcg2AsfNvMxxyl47i3v0w, YTauRyNG950K7SdSuFnfZQ, g2YnG8VUb9opaWF6fx6viQ, DYEOLoDaxPVnZbs2JHCkww, S_41Gdr0y-uaU3PJ3dH6uQ, uIk9AeJ4VAUuUlFWcdQRkw, MYAN_neBXA0L5Kl6mTSNsg, frKsF2_7SCbEvbCEts_uvQ, grG1Pvx1RFuwIyxNjr1bOg, LzBrR4Qj6-uni628z2U-Xg, h7m3zhT7mzOMQEXm3OFFhw, 80E1aropRMQs5UmHVOZnvQ, Or7LKt1U4hu-5P_kWbDBrw, HH2iwMjIW9bmXgynu86h8Q, 5oKvD1WQnkuAhjqL5FJWsA, VQG45LKVq2H_Owa7hnUV-w, CE8ipGkMu_g5gfmjcAUFnA, PX70bx3NQqWmQcSrG0Yr4g, tToOHav143V1NXH0nf_YIA, MpOMfaq4ikuhmFqj2tJx1g, -VgiEExPUlFY57UNBxRwzw, voCInOw9T3xt5rLqrAMnPA, NYQyfCQxDmHd-9B-YwYuTQ, rFPYhQ6xWXS6LK3Z_T9sDQ, Em4XpeXTKXVy4GjBL291pA, 9-d9zLGwEH9aCWPIpq2sNA, ajh1-oRC4GPRhgXezGFhXg, DgMQqeB_ygm9YBgHPfZaMw, eJ05t1sm2jLqU_tl3VW6KA, UHm2auqzAq18Du8Dz2EjMg, OSiH6VDMiPGIzvH5S5lpRQ, yj9uA-q67sJIrBPamExeug, fs5GofTyThbs4gwQk8PO_g, gYJ4ab8avPEqQ3Lf1MzHhA, rSSFbdxM2MTWHtkLAsZNUw, ens0W1AzB5ogdKSaTVd38g, vnKdoiaFllttGSpCqedXsw, T3S437KP0-Iach7RuAOk4w, qf6QhHQOJQvE1LjCjH2tBg, 61V35jyD8o1Gv1TVXaoEjg, uYW7wen5WOYoM-uYfr0ZtQ, 03ItJTWxVolq_Kx-zhACrA, Gq5D1V5jwrYPpOxfwM5lag, L8qtFT4lx8BkkFXRtXz3MQ, ZQLtUnRjDa8kHNYLBs5wBw, I85HG2hja3RjZYJCEAS70A, 1Iwv__c8_gBzefWBwmkCnA, jK5g8c-smuw-NYztL0W6ow, 97ycn1KISVB4iKil_MTmVg, 5DNecz9pp8EcD3UAZKlY7w, lpwPfZIewEzBsP2Z6X9WTA, NRsXv6l5FqkS5Y79r2zE4A, 9bxHIMDNF2FWHrazGqUIzg, G6uiBIcMc21mxtIsR6K_3w, Xdd4W3hp7owxCprqQaVV0Q, LFZn7jtMpFuAyVg8n8LPqA, 9W8FYppiyFQEI2DO4weXBg, PyFAMuaCzimc_d23Z6mLmw, lfVoeeBiBj-PNdeNTupoTw, xcXsdVNhMRKDUR8zDTfmmg, t4ov9htyEbfqM88AQmee5A, Jl6NjfYElTTh-eXuT5L0Zg, JB_Qflj9Q2I_c-22hcMwKA, bx9ySpzUdOgLU-DjiTJ7fg, nh6u3G9fVyyCHLbCCioeQw, -kMccpGl3HAO88ILS4wUsw, hc4FcL3cdt0I_IvrDMhp2A, xTGpw0x5EUj11YFhwr6m2A, lbi45TH_vCNrhYNEpjaDSQ, QdldlO6iqEaOMmjYRZWCTA, E9zRaR_jeTywildP4XZDHA, OqkYqLCTFHhxWUUQxpWqdQ, EBe6BKitBl34Od-X8Kj5dA, mO16Gqu0fBcGDlAybtIP1Q, UBHPEEA3whv9X4rEZmc--Q, dz-d9r_ZvN3UxrQKAeFTbg, APoAugdz6nscL4HjF4Oryg, Xd-IiXVFSZPIH8bqHsDqQA, n-6BaV4wUXqHab8cXENBAA, 2YuYRqSTsqHHZaiWXpo3Aw, zYBJNVrJKYFyJbpeQX0IgA, lj_vrYL9wKpf0L-lb5mj1A, kBmF6f6Q3dpgeiy2cTrfSg, Zg4Ui51AHxwQ44QZqNKXhA, UykDxuWQ3WFEArA2Qshscg, Z19DVz61tCmLM2wrBFGC8w, nkB71WPTkQYDD8WR33Ou6Q, Z5N-f80hoSKNPo1WYMy-Qg, aKmT9P5WSnt1bk0T_C_6lA, hKd0uSufW8gVqgmcJJsaIQ, KnAr1FnvYyT0jRYlIVj_gA, 3UrE0sNPi1QQnN_kUNWcMQ, jcVYh4sLQH8_s4CP2qRDNA, b8TpIQCKDlAp1Vrveu7W6A, nwIjQtQAaJ879hNliCtwFQ, 1yF3ku8FgfirKLG8ZKp5Lw, lGaEDVz_477FckJ1OqCniw, ixMf2r3v7glZd3hrXGq97Q, 97QMP0qtc0qzkNyUh8Tfdw, 7WjiWqCRaWS7iZT68Att0g, bMaJP4-GBuEsusmLdKBIkg, 35rwvTjXWQPjr3la8IfwEg, ioAMyf_gXlLwuiMXmyxptA, HXOfPXPMvdXNpQ_l0RRjKw, YyUb_55VljtqR97JJURgrA, IY87lQQIrnx5pUGD08R2FA, VbGsEtGTXmUmgfLTEh9Y-Q, y93I5chy7FKqSIN_hbu0oA, VXFyGUCz-VwC_NFdSmuhNA, _4AqO_ZiT5ZKviFHCNXWqQ, lgJZi0bY7UIw907-iA1Zpw, 3jZ7W7ZPXBCX7opq1IUdPw, nHAxCUChNM6crzXRRk6nPg, 0GMf4MUpSmag0OBdj4wGgQ, KNWHpD5obtPm8A0OZR_h5w, _Vs4ed-iOmzkm-sLsAeqyQ, dJYjphRWIuR38RjRD8yx5Q, KjhdcYvq72vD59K8thXmrw, uPSMuzOf3pNnYFqsdamSlQ, _6qzYTyQ3lV9DJqoep7_og, xNjfYgNttoy5cu1MbcetPg, e8polunsuEuRRMIL1kEjDw, MTwT5smzjYDhWuLXwZhRhA, jlre1VDKfQLJzhvSkYYN-Q, aNiIj5an6w7MpgDqjQCQfw, 5aV65iBFss8BREScIE_-2Q, NI8PcbML_ljaE1m1_jGOdA, 4FuMnvwepWgvrUoq7jF5bg, h-YNFLxpI_i7qEjsMQ4e-g, mUfIekHhjpXpSUdDXPkHBA, dzNr4Zr9hx6FVMrbS92C8w, zF85pxjfmjCiawBNg4dP5Q, zBov8YBPz7_tDr5s4k0FRg, -sZsovkOVzZVhke3fxrbtA, WUAz0Lqk_QReaQ7CxTksnQ, bJJkP-SFtBlYYGRb2XhDdQ, tOl_ymjLzPE-CFedM_Zjjg, 0luKNVhyg9Ggl6TKy2Hf5A, xTR77thAekOJ1Mlj0OBKeg, MH9VdoaJPhQJ9mQxbyUhkg, xRZ4LKpDv1lk3jnzzASetg, SEHhe79G5YlUU0b6Qjt4aA, M_WiJITZFxPkdMW9MscVIw, zXMA90K21p6zEVVGYmgHqw, x2kIaq8x6Q2I6uJxmVg4cA, TfNLDRjEJdrG9gDsK86bSg, q6vyvMkjbMj78uszhUmgnQ, fNU1k3FS6_w4uZBhhTpRYA, LKJT1KEwW7HlAMDEjtnkmg, 3HNgQBXIImJJuD3EmOlFCg, R-q1NjCaBHabVCsq9_Y0kA, 5LFQq7FYfT0VQAZuE-KByg, x_aVFl7kXM97GA1OdwNOCg, bGrPWr4I-2d7YZTnvcEamw, R6r0RbEeKGLYqbop-4ILVw, 9wdKwQiKwHSQcAXF2I_Z7w, IU86PZPgTDCFwJEuAg2j7g, gmZJApB8fQeJbo_GuggTaw, 593AjWb2YoExHfXt4Qg27A, Apwarys_7XiLPlo-lvZYFQ, jwE0pY1pNpmvhRCA7PCgvg, NrxP4LOLDbjjIjKz-OmA1w, LfhzQmsbcL3mBENJoUSzAA, fCEeoJBVvMW0d9Hm_ZnIZg, hizGc5W1tBHPghM5YKCAtg, hsJ9EfrkzQls6YfCDCsDJA, YQV2T9wUfYwO9nfjrooO1w, TfSnkfJFrjyyuuNDc9l8JA, JBeYOv8P682wJ94BvZdRWw, q5taZIPXSzXTppXlEiNanw, JnPIjvC0cmooNDfsa9BmXg, Ygr8IFuKLQU27Te5_Kl_4A, TvRbvyKSeEbzaoJWWWjovA, u5cuZkrIqiZLUc6scFlrmA, Mc7znnDK9TeMLdvM46cILg, 0MKQCTNjIdqSqLXglHkUBQ, VgAaT511gJWdYQ6DEMQzEA, e3X3HhvndvXRnpevNnE__A, e-mhU9xIxn89F4TUDlKN8w, BGfoHBMpbgNb-xQU_Nop1Q, y7me0F-9XnuCoqru3IZgHg, 7kssAw5R-TULFkWjeXHtqg, P4JqL6dhrYjaMoESVwHtPw, ox_ftoO3S-HGF1MhWZ4lRA, 0L6XAQ_wYgR2d4lfX43XTA, WcYRWa2g4dhpDDTKAnoD9w, uOrD3pcXhytCHzI-Yf0xuw, xGi_56njzbTrNaB0OcZ6wQ, DaL-yhNEX-TdOjmVb55JCw, Mw2tZBze6IMMt5SpDgguPw, hbkNBOyFKhZhx0x1aJM8kQ, PKaRDtzLIO7BznR4HmMGLw, VZUiyclkwIULoWtY0VEv5g, aKN3Fq2uaRJTwZRPlI5GcQ, 8d3IPeJG0uCvZnshEThoBA, aS0VHRtdh-gfLCC4mCNVLQ, MJaCF-nrn7Nhxvaxz_DcyA, 94b0y-FFFIF8hy3SJgXd-g, k0hJSGcEvj7WYzsb7qhXGw, NZnizUXUu6jb0v59n6eobQ, tzcRkQnD1siOAp-1D4Lv2Q, VhPsMfWMqslZkFWnyj8_sw, Zd7B96WjQPsbkCqaIWK48Q, mFCyzWgNJ0ULyvgdD2yPag, yYllRGADxPwDn6y-X0ALsg, RLjGUllu7Ne2owXf-QGcXw, D-h71Unac1LvoGzgMe_F3Q, sxxez-6EBXnU_WDOVO6JFg, OqaXwalCHfD7cCcGdcqduQ, BAubLUgq6etw9A49Z9S0LA, cieOlfmjqwYV5ZgMB9wuyg, U38ToTuu9BeZh9gAWIQ23A, uLbMQX2Z2QNIWWrZLjh9qw, cGSscPilqZoxjJ-UY1Utvg, a-9t439Vd_-AXaiIgYVqig, rXops73qsJgW91oImt7UJA, cH9pCuPL64pw7QwvPh_MGQ, pxFrX7iCYn8rLVfxVg9PQQ, VNDUbw4bgzQioxIU3R4Tug, if-6FnW2g8Y47PWQCismFQ, X5EAMkKCHTpmso9ILIFRUg, rMRqBTO7VmzkjvqiLzUFnA, PdYGyM2AIf7q2egZZUOALg, P8qWXJWjS8ekA3pPPX_6Zg, RXKTMIw1PLvObvs8niGb9Q, jG-g8P98R0HKNBz07nlClQ, SqUaEKnDxyZiQRfTu3YYWg, 0tzeMYgNQYdh0-nU4pBcHw, FRjyLVhLnegD3rSC40JikA, 36i1Wyi4fmOin7ripLZxCA, sPuUDxvqB-xgiIpTCdFvHw, s2c7-9bqMhjA8POuKIHm8g, 335Z1WsxtYKnXGjRYhh6pQ, zXYONCksi3WyYz6S33l8nw, TZZ0dnm10_LnC-TOsSOp_A, rc4USKiO676ehEqj2vESBA, Nx98Vw6UQx0AOP1YiHi80w, Wu7efo-azPywqyxjrLFFkQ, MZXQRx53FXBnt8TDFAKc_w, nF8AtFietMX3dHKw8DiY4w, WfUf93jxxOGlniQSt-qciQ, 0O5tamm-1mfT1PCeatReAA, aNlwEzzeipKlyLai6cygcg, BrIqMZS1TxklaVbzb45U-A, 7OQ10gyTOt8wfuHlGO4WeA, m698_uYVe3XAZMwbNm7_cg, xAyeUz7QPrtFWSfAnOOc0Q, dT6Id6hRUfL_vNcjND9BNg, jwbcs_eQ2QznrOyMuqz1LQ, CSvgpDZt8i_JvThh7E9Otw, 4fZyKUErQMnv6hZXkAQSCw, sE1T1wT2alHRdy5iRezN0Q, LDtlPQmus1_knyGSuI-bgQ, J0ecdZf3N2o0GlNB94DE6Q, ZCWrH8wMEZO7qSH07ca1xw, QIxQ4IvK8DsvmCsABMAzFA, xS9B6pifNBYGPp6ujoWAKg, T8_Dr9PGuc_XHAgBSN-jZQ, UdFpFux1mTIV-GXkspHE-g, YdL4tlfHZIrwQVoA8KEqBQ, WV1xiBShL5AT6xvNyVzOEw, qRjEIhf6mQxlkltf69g81w, 2Qn1wFzX6pTrBy6npZzZvQ, UAISv_C8nQRRccJOY_tcEQ, is2sq4pEc71w_w9rgQIh4g, Jc0T3q_8bOjg9pPlJb3MBQ, hZrQ_9aNdXp4K7TjD_9dVw, 6EFXeUD5pb5zESkmp-iPtA, jYowMfO4Gzh_kuwgFS_oyA, 8nMcfFvXkE_l_0JIcC6tsA, Q5-rRUXsy-z430YoeUm7hw, T3oP4AC3YfAzNKsnypERpg, CgpsYx1dwOp-YuZ9yavKYg, rFC3cUNXH4iudVgNJEAoRw, 0YB7HCTndjppPcsSzY60gg, Ndl-9Adf8SBSnUhMt2MfoA, pyvaDVkCUc1xWKGzeMzn5Q, DR7b7abxfuMxJz6xbWBhHQ, fKLkNjb-8YLTNn4aXEI4FA, w0rw_7uZ2GTeQHMto0n8yA, 0h62_7fdRhnOTsfE4rqamQ, _eOlBrrS8bgfMq5v9zA4xQ, ymgea2LnjZcSXw2Yhxa1ww, LV69BCKBr8VqOJKMifOhFA, M7h3ZRLfL-SZkTA5tR0Exw, HGauRJMDi8p-mzD4LkOl3Q, pF7cTPM1wBAJV4us8AjfrA, NF3z2NCheAOzRpSmK9SJDw, nkCQg16DbT_1P3NqVPjoig, eCMsUHN0FpLJmJDmB9d6bQ, 4qDfZZ2xIO8G_1RGWikPPA, D2P5f8AWLWUYw9siJdvm7A, -IZg88Vefl-8YxJH_goLbw, wCrg8GPUGMqP6fczjuM4_w, gjZp61JZaqcLrKjEDVSPIQ, OrrGGcQEVN6QtaAuRjzoDg, RulXFzJKs84-7OHD2oVqqQ, 40MywB-9aaAPmqRkThlaWw, URMCMZj2xfy1Tg4VMCoWBQ, Z-9XIvZgAfnYx0OxtaNePg, jr-ANehKmOp99BOkm8uuEA, 7O5VR81Zv-fp2vsqPaxafQ, 6S5rClH6VQuDvSnw9NluTg, 1TduuB2dc1lx4bvZKo3fug, G-yVZv8llep-0K0RlUtFeA, RprQYqI4jmAzDjWeqWoVQw, ldASx62BYu8eVcTduUNKsQ, SCxHKjB0uPcYLmTmfPMMig, ehInBdcUQeO4fLQiuq1-7Q, d5hfCY7h68tkfSef4AoidQ, adfdFYXeNw4givU_PsaEFw, og8NdiiAKIhv4xFU6CbHkA, mcA6k40SnLB0t2Lag6dC6A, jlTm1u1EPMAKRIc_XqHQgg, HgD1j4AcbIhsKJdz8oENow, uYDeoofS3HsD4quTa57ucg, WUGmIzkTHAi-hbZ6-44w9Q, 1CTQ0524KF5guJwXeEOeQA, mc2oETiYeayAzkMqf3--ng, GF_Ceb_kQZdomX4EywHpQQ, t1OeOiGYJHdBRRK2HN3Ypw, pz-mWtmyXIea6wcUhvLgbg, YBJP6HgzMfOB0lBt3FmKzQ, _i3uTqtUfyVZDryKzUGGiw, FRRtwPZQ_0j5I8McJXMfIA, FsWtWcLuBwu4FzzybgjePQ, i_9fZ4-sGTC-5cZRvjvM3g, 9zWOcOVsA5iQa8uvLcJzVQ, oHTIkFpaHC9XCjYip0_vUQ, tdE3__i2otI_nL3M3sy0MQ, aySxtfn_fAgLUF45HsmLVw, 3oEumzUv3hQQJPR5cW99xQ, LaIXVrfD27pjLb_AXjHK8Q, 3OAWUJ0EVR30cCcYFVNUuQ, _BcWyKQL16ndpBdggh2kNA, NkVYcoaThHjOfTTgq6OdHQ, _m3XJdeVCIFNUyGbOwXqMw, Ex9q1zbkhK-PPhFplJ425w, YXMiSBrLNcnbxnfMK4BVug, AnH3eC7myKsTfoqF9vfOxQ, PsnlV15SCS1dkrjTGsjqyg, ptZfgwLGiUY9PfzJBOU10w, ZGiXcOTc508cAer5aZlQqg, xT9MCYz0k5JX5pPheZUuKw, wo632pzj23-Di2RakSugjQ, HzoQKKHDq9BI37dyJAAtGA, X26tuiwTyN4B1XaMuKWPUQ, GSMsVE40aIVBIxPgP9dtUQ, qhyWnfyfQkLXcifX6Uh7lw, jGbj8fl575EIQJcfaA1FKQ, O8ZQHC2aa78Fw7iU7Ingxw, _vXGkgsrV7ual6nlyzD_sQ, AJmUkS2J_HVr-HTUoFTxrw, 5vg4arEfVEd-6ZHKgZa1oQ, pTuRfSinIVIQUq2_ukbDJQ, PW_SDu6bjymJfSf6b9Bj_Q, Agbv8YDkOE7V_ZfJseLVOA, H43AWKCFTxj8OwVNvySciA, rmWxq_vQl7exHV6VobaxgQ, LMLP5IA_q4Z5jnpBFgVrbA, jMXjTHSyRWeR87mGreKEpA, YTKWSoDNxnoQdBp_yQ7PLQ, WF1o6AyXm6-NovD5dFnMOg, IkOZgozJ7t2LNQFHx_OzjQ, tWSHPyAL4FTpbBpvj6oITA, Rm-fS0kR27Mrm0cMeqYyWQ, BUwajB8j__9-fA8405vYNg, uQAqbM07zSTRhZcZJyGYrQ, 7zZxQBeEwgIWhXpiTEDTeg, E_4tnrjYKZIU1q9v7FVp0w, iiDgOKy29IR2qYWHUDKrkA, -6MiBy1237RgiTO9mNEGwA, luy8oVX1r9O2GwN20PbMeA, x-ryZQilquoZrkmil3u2TQ, qt5HFC5qptWobWAvaJ240Q, Yg39hp1kvP6xQaFX8ejwEA, -zkb7-Tu9Q_0OAu1dVgmyA, WfKE8gMclApEiYkH0BhncA, EhO5C7t3yfGFLvsTyK5PPw, cvM2ZkEJWAfUXxai_WL6FA, FiCniOcNq79l7wJyrG7joQ, EshrtQQT0ODnFpGkU2DWKA, mjwIhcUuuBW-YOnOE0V3rw, _bOCbVf4MnYSJsKn2oULsQ, iGCtbTLMy2kEObhoBU7yoQ, Zj05SeI6sDXyxYyRZ2Cxxg, lpQq1BA8QJpEp4f6fAt5Tw, ToLeJ907DkIgUslLFCjq5w, ToIFzSAeEi5UFIoTmy2qLA, XhL1llngU-Dk-i1OHgQmRw, vOSZuNGlPlbFAbbd0HUPkw, 3X_I4wIvr9cwm6wq2WOWpw, OWBkZJY40juo_YMqTYBbbA, KGxIDWDsTxa0vBwfbIu0yQ, sg9fpm9tLglEXZDos7l3uA, ww9zrBLvcsy3OyBGofSxrA, aqWXHhcR_CdmKmxggFOlEA, m8m9wcR2tVCA9lDJg3NDyA, QLS38huk2OpqIBkSmSjhug, oySsLbtiL41jzsI4rLYzuQ, of6tuZzY4EGOJdauwJGq5Q, KW09bYMJctmnmnwUYcoprA, diAPvmj56DWa6CXj_fIadA, MNJs3-IrFWvO_poZlAVTWw, 9DHN7BlQa99saTkC1jYSwg, l1I-qqUnSwryhz3D1drWkQ, a9zlxd2AQ0gD6Ly-zW9WfA, edCPA-6lvh5wqclDBZPggQ, j7A2IIqZdgn8M6Eqg2FfOA, HdUpeg9oYzvzHIgeJuM2uQ, gOHJswZrdJUiPjjWubTk3w, -peSWOplbo-9aPt3ZJr8QQ, 3_m4HysQsjleT_sYEq8TXQ, I9CC20HarE1yKYCS80Rr1A, Ixa1QkLf-lk8cQePnllD6Q, 0G-QF457q_0Z_jKqh6xWiA, KX_5ImTpbSH1ZO6GFJQI3w, GZ8jRxMGm6uheKi7SpDC1w, RjXGEpcZ9Pp37OUaGqYrJw, P5sdAskFA972iOjq6_9nyw, ol4cgTO1vuqTiTnAOG3ckA, 2kfZn40wZZLQRhtnZ4XBGA, mBrzDhLBMin0Dl-V7CRv4Q, 6wA_CK4V1V2HfW6L32TO1w, Gad62ubJeDhY5g8-MbYHQA, nd-r16vXpYKMrE6JMXa79g, 3fw0ZRNoQNbyCxcmvazA_g, Kmoq22kiWIMBZEEXB0d4-g, W2lFq_2oNnH2TYorZM3ODA, CP8YOGOZfohUnY-wThSvRA, uweET-MH7VJskH61oUd5mA, exw0Uyrxod6DLLtrZN58tQ, nzi5_ShgKMSsN5ks0_Qfag, vrrTJ3eIvQgZ9QJlfcI7ug, FWeiOMXkbKPM8KKksgPsiA, ffLp6-tspFi1jD3RpISyEQ, dS96bSLOJRYXDcBVZV--gw, HDGq41-ADdqxBGfG0nHhCQ, k8S-LkbwbLaTZCuqkFXbQg, o3K8wFaDFmh6akI7FsiK0g, Qz7dgi5udz_fb6CzOEVzMg, 1HaNJssnu3Yrf9m_ITbqOQ, mrC19Qr9EoXO3FqgpDIkaQ, yx9V9AgWAcrLGQFgEj2AVw, RU50ptl9Oy5IGXRvxYVhRg, AkCArV9YSfulwq3KcvjySw, VjBJV0ChxCI-tsckcIbDpA, IZDc005tLjYNn4J3_Tz9_A, WkBSBfRRloP6QFH7O8I5dg, c6HT44PKCaXqzN_BdgKPCw, 5CX8ilaGZ7kyv2rUxSdQCw, c2BbxDdn6QTy33682gQDvQ, bgx6DAO2YhSzeZKuz72_cw, X0-wbzpQv2n_oeSbSmoU8w, tj9TliU6Y4vFOhK8Oy1nBg, OgYi5x02MBukfxPNFe1ePg, 52PJSaeRKd0qcACi1OPoCg, C3HRQI6MofApd7ub5Gxk4A, EdEfyokPOKj4-agEtXOF_w, gwZEIB4Ntez8BlUwrSuOyA, f5bFri-PI1PPFuba_1Dtug, Y33h-wLV3SFKeYu0mCmwcQ, 5yjegskNBAdOBQW_i2bNuw, vmffnPd8M6sUrNFJIedA0Q, K1q3KpF8pwYyv6Eq9cGvxA, sgvBJ_MxrGGkr_HC1n6h4w, zMEdR4h7FHNExwQLKvPP8g, YufI05DgqvOVwNgCvs0Big, kg9ukad60zsfyMmWD9xzhQ, zJ0TMsXMII8WwubtjcRBrQ, ASsznAAjSCiQMhDR2OJOfQ, z1Owp1v9GMFurwhR37gd-w, e1x9978mZ4PGctDD4kr20w, RtV2UGp7XjwrDQNVnwsOaw, Ka9wraxoN5Tadpwy2Zz2aQ, Y3QU8Jj3lYuVa2LmunvnRg, Dix9X_ocFsp-j1R5p2K-_Q, MearlVd9Fe2LZyFenX1sBw, L2JUm1kc8M3ji-Ud2HUBSw, 96yxiO68C3DYleAilge1_A, CMTtxqavRL7eDALZzCC2tQ, 0MJ5sKX5uq7Ma5hbl4l3BQ, g_PLVqBqySvyT1YTBsKcDw, Y20JOmRsD92VNo-XozNypA, t1klseTOhjGH6XAPdQ1J0A, a31-4-1bGlZfOKfCGQ2z8Q, fMdgChfFv_fI_HRxif7T_w, rMcyf2Tj4UcWZ4RYekAXVw, gw6Fubke8pI8xfbm9I-aHA, scETtcv6M7ObOtr-rotLmw, NDhQ2epG1jf7gn9DQ-TTfQ, U78epcY2jSUJZGFpYp6wbQ, tJiY5WlEJFW7gdnf5rMMhQ, WOykE5_ynJ5_YHMq1zbkYA, vX7hibM5opbV_8w10Q18Ag, k98ns6_BlCjgm5LeJwU3vg, KObolttMUx98MHLc6g25rQ, ZhvsfTd96smzD-uI-g6Jrg, 7LieeOZwXvVX0TncHlYm2Q, yER51dfpVcBn8RRr6Bua1w, ck4oX0q1oGTj_flOHmA5zQ, I48UxWV5cMTktrT0GJ4rGw, 4-wiAq4_YiX5P1Dmg_oFvQ, v5LvxWrscDM7XKpD6f0WxQ, PSeQ6GekNO6EAJFReNSCKQ, BujvYvqpupySiAD9ykhXqg, 9dIGjJ4u5BSgBD3KpV_JVw, h0B4dYF30rQEgRMSVOAKHA, 8mL5O-PiwVvY7R50RnyWuA, ZC_S4CjP52vjXg9nN_Lr0w, GmLUjbP7gsDHXLHpEctCKA, pqAGBv6mF7RgW3IUBOvIrA, j82-DFm9WG9T61BW8uNYlw, 7GT19rrk5pA_5KIvbzTiag, C-uhHcfU7Iat9NEx726_fQ, 1wwolPuqJOZgM0j4Ph6hNw, 2LfozZiejXfQHcS52-Fv5w, oLdD9Uy2j5pQzzvY8F2pDA, sTpDaUM6Hw4IyHijFyZO5g, 1R0Xncz8Lzs2N1OwFzNqFg, BPM61EbNGNd6PVcJ7_nVHQ, VL-9cLwT4cwMgTBB443zrw, luxWmxe0qhbrpbLvgfvAKw, kCu2HOZBUqFuULQAaHhVSQ, 4AtCLQGZppy_Dl6PhDJOmA, rzkWqSohAYW3pM5kjA9DIA, bt6NzH8QBy5bxC3mrxUi1g, _DOumR-jvZQ1KtuyRRF2hg, 2DHkTqYVW1PpmusOrIB-YA, _YJbQSKGh5cnpf0W6apQYQ, bDmMAZ46rhEAjOP5cmokWg, 0GqZPS-MVnwwz7XqGObAQg, FQtzOw1Qc6ePKdh_jmHtWg, zK8ZLPeiHK-9MUjB4aAsIA, Pko5EzIj9A6MbfBSRouHFA, aNOctMs_ungUIVl-w1l_Ug, dncjGoa96bk9pRKud2OuuA, mKArxDc4bJTvwMvzSm0IJw, yReZezPRWA4uU67Iw_fIkQ, qPp-49YiSet2TQ-qKJDekQ, drJ7qVGbj9ndeD_p2MyR3w, zxSMipSRjub_zkp76Iawaw, BBgkFxh3xdFMRqkVvRG5Ow, ZNZDCWnX7tRlW_5I15ArXA, xcSAzy_j_kvXtGBWBMhyYQ, pMwOq4ouOoUrkS5VBKMq4g, y_WupXzazEZm-zPvzHVlrQ, xHKfQyxJKBTRyjQjquMpAg, wfa-QShC26SDdwzV4kffkA, pdeeBQdpKHOS9qYBDxq_gQ, izvwGYndXdJ5uPb7YKnTBw, dUCI0KPqAm0zKddIF2O6nw, 5OyMyMD_KhuvXg0cRdepKw, ut47xxphXHLT2KKHiyuBdw, HaqStKX7oqpx5ymDHE58Ow, 4V_saPjHmLywe0BODZiB8Q, wfWFrmwGoQdIffK9JeQa9Q, ZtUT4-kMrvql6V8GOVdP8g, Wb_lm2xFakSz7ATPrC5QJA, P6MThYEoN13n9IO_2Ad8FQ, Z9dTASGj0S3Kb8eIP1RerQ, 0fdjyxY64QYtmJ3pOrFwMA, qOm1-ijpwf-3MP8UR2csUQ, Vq4QTo36pZSu3yNLm7BT0w, XbX53DUWFAzzc0BqS9BdyQ, cdOdMPySAfS-lxerCDwUvA, cpVcZZ5u6JzbABmbWaDFjg, 33q7YVUXixF1DIikw4qYEw, HTKdk5Z2hDdBwnxWI-3qWA, 78vh10Vbg9A3BKKCBsj9mg, DhqjO8vmuS30IR8kL-Q6YQ, EtrGw4wdnTUu-ih13OGPfQ, 078ExUHc5hdTn443NWC2vA, kkwqA5K5mqywkqCIM7oM_Q, b1KKadGyeh2rv8PJlQ8TLw, KdvJ8e42502yBRSBuxtXNA, qKH0VDM0BC7Rpj5UZV_o_Q, aKY4eFOJeCaXnw1jGPozTw, HEncape8aii836Zf6pO9Iw, DYi9taWheEa7yNZ6i6DYBQ, aJuNA6YDuJnBHBBcf6MxoQ, XN11Cfir5pVLqiS2JXCQsQ, Vp_C7oIxeztbd2PchNBOHw, YkSWqDgn-xXRuTj4WZ7zOg, uLwqimbwHfyzCFqJfGtImA, qpsIQSfGlT1qmvLLty-m6A, J2WsTG_1qH6i_JJWTf5A9g, 0FV5QOpxiroE2vBblaP3WQ, 7L1eSHODyhv50P9Mwv8PHA, n4ntpSs7AJggVmEhJ5xwrA, VGi5Jb-cGc5--lh4fvwblg, vQjpwJs7CtoX4RF86TWAFw, 8jDtuvBT3nO4ZixJviRc_g, nwtGBWnKLWUJ3PTX1Yx9sg, BtuArez74LHKUjHKUiGX6A, zR2iAdGWaqN2dq4O-jBZBA, wj3q0IYoAl1r4evbj4OW2w, 40KfMMPq7L3EGReF9x-wLA, U5uJlaib9TiL-qj_9Qpxvw, 4wp4XI9AxKNqJima-xahlg, kp1SDNjwwBPFmdF1kadRmw, 7Cmqt--XbFPGMUXhMeeszg, TlOeWSK85Q6gBg5hkB_EfA, ncd5aMVh4s4I-SM4b20BpQ, W1WDC7E2czTk_0jls1nTaw, Bsn7mxBFRJTCY4AKbGDM7A, RqzSTVJw_QAdGsArc649XQ, m2iDhj7jFfI2-BgRr2AX-g, li3prb0UU3h0obsBEYDhgg, zMmaQdrilVfTqn1mAyw0Mw, 0av3F975Q_5iJexwAbYZTQ, wdOHjBJXbyzlBzOhILsD9w, ah6FZM74KWdbMyb8kI2sSA, yi9v5IFgz9FE80FWwpx1Cg, CGxbDn-mpcpuFSXZnuzI2w, fwdvIW8G_Hhgku0ANvtppg, 2QM63ILdx_6SgQHs1NXKJg, V0c-AS2FFCeSaV-3JfG5vA, IixIxVQJvJg7SDQM_WCMmw, ki5ujFsocgMdNPMOiBssZw, QwE2_hfT-merN5zsCmAEqA, qSLMsB_c_kzfUJsrmlNucw, CAQv3QQHUasQNtN-HEldAw, RfJDl7sj64M72r0t6xYHSw, a484wFlx8TqOGeUGOR_hDg, iw-UryAqI5C4Q8JqVULcHA, nbpLt7fdd9crj8V4Gtc1mw, yEdgZXBYXd4J0BeC_J6NsA, G0ASppsty-0aWUyazOjRFw, i5kY3475nFUX68BnhqTlUA, s27yKpx5cIk58vD6xXeipg, sCT65v-bDHY1FXCKxs-kVg, TiPH2ZwSX53uK7IvFSHVYg, _Wv2PqSDVxhNcGhSSneYiQ, 5R_Xg2o2I6_m5ja2dvjAyw, ucAN8VJoiA-_ysMCgZev1w, NyPEoiB3jPi8FB9hzXgaWw, 3QZXMJvtbzNU_ELLJbPu5A, 9o9l8fnI6Gv3mLo387HQpA, BAAKaScq9e96wT3UJmtUzw, R7Qnmo7s-5O0wNmXIa-46A, X2jgCRIebd12aIHO4PNSWg, yOoo0jHlMUeC1ElEKnif9Q, le3Xn9Mheb1hNxWurF7RSw, UNSUk0fGl4vhMziQT4qiaA, TVSZNgaVvDeJuknRD60xTA, gSkLmHzXi6DcjTtmUwiZAg, CD3kEIyrXU1lGJyxQvYD1A, 2hF74osS1cryijd88BpsXg, RVC1dlK3MhAjMNZBq_aX5w, 5bZQD02jlQhTtOF5BFTVDQ, zgpV-oSReemU_50i7tB0wg, H7O-v1zTMIXmV1qg2rH67A, UmnXOvvyuL3ynK2qhdBl9w, 3pTkcBjNAiPFLIbyprPKgQ, MlewkdJklIF6f_13b2OqBw, Lwst8JWW6Uvf4i1jYv7hhw, pJvo51OTnL9T_JVtq3Z8aQ, gluG9N9YbDMtKlVykdvu8A, rXMxtpN--c2WQS5s3hHijg, 5xeOzA2CEKbEBj9mUw5G4w, jX20IE4UDdFiCw85oWBvkw, pmK4dRnQfsz_vGAUWIVHEA, GYqDZceXX91XrIxe4Zi0-w, bS2cCXQVBVxNGoTD3zdxLg, BwNyW9t82COXLF9mB38d8w, gA9CFuUIZ0nYbJAwLWG_-w, ha4DDPPKiMQcu8Hub9CAAQ, BUKbteZ8wHfANb3PlDHY_A, 23RRdZofs1E3jUBWTYdGHQ, daYwff3kBqb5cD8aBZPrLA, 0zRLjgw0PQUwqiUCOIgShQ, P-uBi-3U5l2FNDPW1R6EBA, Prf3IP6z1u37kRAp5b_C1g, c-lIH2Oh3pRNyRIjQZYu2Q, erJIhQlgob8ChHLYFUVtCA, f3fStg7TnR9kiX0RbCLsHA, bGnTJmx6kjUjVdDQv4u9XQ, RQwpmmfmR8chA6g6d_UXnw, DOsCQapEg7bzCSuj__TBNg, Sdw7qjMXXVuMmoFSGj1Pew, 3i6hwNRlFBhWrk08iaQHvQ, mWsiJgVo5rosD7c23bxTMQ, Xce4DXoFkQJZlI1sqXfLtA, rB6RXS0dwwcXtfKttyMM9g, RmXIjppHNtVveguN10iO1g, V1ntmNPffmMa80gF7BIgyA, o_Grh1LXeVHITZf-0ZIK3A, AABbt-1Y_FAf1MhMk8N4Vw, YoIetx-aW8BKw7ZxyUdCyA, UH2KOmZC5Xtzo6AJK7HRcg, TZhtA6XDw97nIvbAH9gwAw, jQni9roirSKVZB5Brv_9uQ, BZZKX1-LuWoruSstXPzanQ, cvmpvsmRBfEVfmBEmkIrWw, vDCCEp_bOJ6kcyxZOfkedQ, f9AtrE95dwWtUEULU5BpJw, 8i9z-yWvAe_eFxS5eJLBAg, aC3gyxueyoVtKZE3WU116Q, Ubr_0sNEo25G3jus4hYBqA, NXtWzfYKquDNAE6J3vWAgg, POwF9wTx5zxvPkte43IAhw, dSzQ5_gePlEANrlJt8w1mQ, KDAfIwEDN6vjWQ30SZzUWw, ybIoXWnrkfC12PJKTs7pJA, E6uTS2rw2nVEEik98ubc_Q, 6Q-gKLKATA0IIlOnUoQx8w, HfX8JOI2IA1S5Q3dgei9Kg, AsR3WkBt7cPMxsfMSDGCBA, FC1ZSB9fd4WlDMSAbEjq8Q, AM3XVR__ZLibthzYrb84fw, ljDvuID7AyHmJ0GJqfV5_A, cwoVuiz3CxQYXYwAilwmSw, XPJqOMVCDVeGZMmIdta2OQ, b9OT2uZNAYFsZUgR6imzKA, mQE-57owid63_GjCqdsD5g, A9qdr45loyexwkOHIqhFpA, n-su0iYgeYG05H0oePKyqg, qpFCY_wj8_G-HOV8MxIaHw, BJg5U_pK2oOLiPp7iGhQDA, cEHbniP-Cj6Yl8kbSrPGGQ, SaHQtjBdJtbjQBdq80cRMg, u91tCY3Y68qerYXhvyaRrQ, Az4QlKx1J0_9BEVfIA0byw, vb5Ei5AM1xPN4ZS1sRDquA, dfYNTBw--CYlZbFz581kYQ, OZ0nircH1Ea5_qDRAmIBew, 52R1k6G03m8ES7N1rXiB1Q, RGydGY3TC2mfqQJOkxkDzw, pu6nj6Cf_p09KbeahkpjyA, KgoQuaTxdb4CGE8Yfuhr8g, 7Q1kEarpWLU-mK1XbmPPuQ, 4c476nX33LrEFvtNToF4Ow, 35vpAgn32ck0AQbg6aozow, CY9iLsE2z_yLhLqJdD1WGw, wYLwTZXWZsw_L0lFSLZ_Kw, 3alS2Xfi7LmTrlK1wtaYLA, EUqHErTsgv6aMOl8Opnncg, _Hk1p88ssVnLqpKcoyFIzw, 0ffCSLiWCIls0KOOnGwOWg, _u17gDar_OIant1mpgVUtA, TFNEVJep9T41b2O-DPpmpQ, fIoRacyaDF2mp_WbB5dsXw, U0E1WmRNLa3_x7U91MczLA, 0dL_skWO7pRMJddVKGVyDQ, uVekh2VzY3lnMgbuFD4_-Q, pONlGgOwQe1s4Ga8yXa6Ew, UefE3YqFHk2PJSvCbrNaNA, opqW9WT4u-l4qPieOnhuOg, 8xBSc4mAvtoubs2VcRZJAg, awQhT121Pe0R33sukfTyuA, KtwV6F2KoC2zNegLPfdjnA, 0UGxNWSfrKaNJzdISCSN2w, ATFH3i8u7ezmqIzLTXI1HA, qQ_IOstGA56cnBQ_LxvQXg, AyQpuoHu2iiesh791LbAqw, wfzwLq_S0lJxDJa3ldZFuw, Mv9KfSLzhA9H0oBHnofhTQ, u8OVKQIiKF1Yq0O3N4-KEQ, MheH_u_qWN2WHhP3F7lJyQ, z-T1gKa_qGi2y-6H19hZiQ, U4-q73LYuyOsf0bH7pRMzg, TZelLnaGbHgaG7LBI6rfgg, eZKyqqZUG06YxG2N-9nhKQ, h_yDKWk3mMu4YtWxiLjGTQ, mEY2B92bxV4G3HEcte11ow, BioByX1slkT6CjuVjGMuhg, o0S1SPnNznyYW7KxSkjRrQ, YT03jRI9RRbcCyBvgPGT_w, 1x-iYCaJae0lXqnhEzeIAQ, pK-_WoG0MBiVfc0d5t9nTw, Axg1-yW11if-woLIPvHDYA, nqszslVkKgD3fvAgxknxDQ, twfaYMpjzUY-ActImczkrw, 1Z-YHUF2CUh9jFfHRLouhA, Wjt4UlpEa3_e9dYTdMsdmA, gcLpeRbrymDhM30rK8D5pA, VQgTbVzxDM5aUEewLjiKfA, rpSICbwXxHsvtzCT3GLxxw, weysc4Q__h7QgorgoxLBzQ, 0bmDU5Kx9R6zWqXQTNmxjQ, VdZvrm0IojE1QEKlVg8wAQ, VE1GGiDi3Jm-5-oL1vitkw, Ya5ob4Jo0SKQ4v5wPJjDjA, hCgm-d0QEbkDLs2b0IWLpQ, _gqhS_Kad5VfwN5rm64Dlw, vWJjWlVmc7CRdPpEu_Ixog, hBicl52tMVsTecdZSVL-lQ, 66qwktPoNqpJGkgwJITdhA, 8A3lyUutoLwTHAqM4NwtHg, tWIqNY9ZrF5ZGaE4pxKb5g, 3alcl2uhNHXvqycTXR04SQ, mhg6AiliP3xjzrDo1WLnfg, xHYHgJq83qAkD91SD4WMDA, Ly2Sz3ZnHl2_Lu9asxAK_g, v4hcQYQRQi6ReeIH9rYi3g, dab0_VVseT1T8nkufvblqw, MX5un8SREoMV1CkNq1HNbw, KFeXet2aNXEZRkB6qs6L0w, ecoWlg5ITeCtYDQTihIq5g, QgEyS5rntNTgXe9M8yIwmg, yT288f0oXVtdKfb-Azet8Q, 1DDDJAA6CJd2EsaV0B7GXA, M9puGD3VU5FuhE60HklCvg, ZaLl6u2vrqIeqg58SH1yQg, 17cJeDzora1D6E8_7fyFEA, 8xTLVUhnA1BS7mPDUiek5A, 5CSuatcuS_FmMD_6yFyPgQ, 9TiMhzChMkTwVcfNUmiijQ, _jXd74oZFTB4V-p2mdiKdw, KXrpH8rR2JP0WX6jax61CQ, x6FBZjnRe0mwibshxyUd2w, sXODnRpZWvX3deLi2sJo9g, 2KWbLkNH-9me6zXbmsXBvg, -91RhRFg5ftUvrkAfYInLg, WOqlWNng6tyLuZ6w54kw2Q, N79uriscA9fFXA5GJwOcpQ, 5kukndzCgsvDe6wdg-ZGug, RaBzqyTNfp0zYExYDCmTsg, 7R0OZ85JSAaUMaWE5kaD4g, NfU0zDaTMEQ4-X9dbQWd9A, -bu-aGY_zcksvQHcOK1DlQ, olLL4rSOwJcYn--fGisiFA, 9OoU9AMHXIu2BB2J_4cqcw, 6pUBKyjQYMWBs657ppknMQ, E9DPhFJTnNb0j3G4kPTsNQ, gZccDENrtIUmRdFxGBmdpg, 1JJs7kY8PZGdld42hzIaeA, KpD1zZCVqVXloInn1c2WJA, 9-_AucRyoE3gJMjTaB9JLg, -RCkm0KieGuGBMEhsim6vw, FTqbSu7pAgq9Rcvaen9T6g, FkEfISrjFkgr8MoSxXeWig, nkGSKZjbDMwIx4eG8e5rpQ, uBk_j5i1N7FC6H_uGhaUHQ, S5DGX7S0HsBw01a7R1ZAEg, qWtIcw34sPqK4Fhhcy3WTw, DOumSQXyAyeusTLppEFWUA, mvrHjnR043Cg4v0xTGAACQ, yLW8OrR8Ns4X1oXJmkKYgg, 1SpQhyTYbs7eq9xZbry7Fg, rhckKlErcgXF9TsWOa929A, jMg1gxyECohzDFoX7qHrzA, STp3BOyUk9ezAIjrCUHhhg, aloEoSddxBw8JR69-Vmhhg, OXlfFHsM15JYh_lvat2w2w, 1kpMAKRZuAz3OzxBav3XTg, -u3eeWqgWrBXcAiCssL5Ow, ptltDMBpVoSyhwaXG0pypA, J7G_SCi8n1AZUl-DxePkhA, BCcozpMUq9UGTkz_pyc2gA, Mw3qFdb9riAVXGZPKsBwuA, XminhH5VBx8hISdKqztLTg, 5VDzo2o5_nWajtB5emHSaQ, nKmFsQpWKsAxUwJeZFjdDw, blGmvlbPVfu77zMQG7kF-A, GY1VReO-J-DY0IgOx-Bl_A, wT3SUB08bo7OCUxYL6jnbw, Ai7ZSET9dbL-h1qUdcyC5Q, BGzavA_ddMr-jGmhArv7fg, jX5qnU9sWRu4cztLAHUIkA, eydaYzZbJ-2cLcEDA5d5hQ, BYdAqhh_NuO5kIVLgqfkhQ, NS-aytcEi32E0h0POPWfiQ, I_IIxXEfhOK1vjNZTu3axg, aPWIFCc5NGAkdEhoL2d4Xw, 5_YKd72cqb4wNJ2-vZAkKA, 06ocxS8DESIOcHXz2MQFWA, JwbPdBrAREFa8IJKi11hiA, h-9nMTW9uR_q4Z4W9as1jA, EZQa0qO93OmfcgMMozA1Xg, KZ562FjWQKs-JaQyKdb1ZQ, w7v71hbQXyQNvMJXKeV3FA, 3WQketdwIPgEU9P1kYFiwg, 74gA23tHq1k6lYJJ9EQgdA, FVNd5h9mm960xLI_r58mgg, oEfMQ4hOaLpifYL9DYsqNQ, tj4f2AIZBXvHAVo-fDOIog, Ajq2A7pjQoCEaOng_OzVBw, B-4E5LViFsH6SdxTZBqONA, BnXNjr2atiDSzlQjq6gfzg, Van5KeZI2VKTKQgGn_Dx_g, WN89TyPG5ZUAOxoAgBlqCg, LTBzcAn051ynFvXwR1stRQ, YfpFAIv308CxXSoFNQXxWg, Mhs9TSwi7ujapggstrfYMA, z7whl1KjkBqugUZRG2G69A, bGwF6srLNfQ6-Y9OKabB4A, Nlc-SSdVp8E9XIxhhhFpmw, gT-2PXfjwNkmmMRUJbiuBQ, b_klXoXka6Dw3b3apz39rA, XvL3WrRN0_3hw0P5tO0J1Q, kcpr5HTHIlMH-aaHX_5amQ, CJPOL3XoGbQJJj-IECEzBA, e2JIy8_xq1JzVnSZleu1-Q, rJv6J4frBEpPg5Bv4_FxBg, YQgMbwm5uTm6QJADmbmExQ, FE7X-oIZ7OtlhOP2wW7PCQ, BAFjVK5D4-yshCaYGgTQoA, PEtsN7VDXHM7LOEWiL2WyQ, dA_rwgzz9jqwMi4R0DgoTA, 0s9FTlmmB-h8-B3OMLjjNw, AIhfuFmX62k7a22gXXAB2Q, KF362ExVb4sk6mYXZYuyCQ, pVnKwUZ-boi7W6q7nZmCww, WFSZRV2xZJEBNNuPzs85Eg, hKfYxKJOCRxEVQ5SJ81fnA, ODbPacCvT5S6OLZfctXXVA, MGPQVLsODMm9ZtYQW-g_OA, KDewJBJknfWvQyHHFNbfdg, LTs0FZb7PkJ4hDIuLjVZGg, IZ_o5AZqDE_gsNZXd_xiXQ, RvwIAsqfuf0e4R4SIAjrJw, Nw7hfuYzQUfup1k_gWNfdQ, MfoQb-xikidx4FCZ7syh9A, c6LpHL-DOyKg-xZ60v0pwA, PK0fRfZSE9neg-Ca9sQUFA, Hbs2IbQKTdGJD4xg32cgag, LFKMYSt9_B_b0CMtRktxYw, ZjyiVjRmsgBOjgo1waDQQQ, uDrdKkvewj3buwMZZUy0rw, vlITGEDCNwuFj47QZGgY2w, LPjGa1_cSm4SlKgDITbhAw, jRpaVArDJJKUk7YffBbVDA, O5s1G74O-g_PnRy4mh5czA, Wtq4zCZivTsqkyKu6o3p4Q, r8VLp5iYMrQbSbn_Ap6QGQ, JkJggBZ9UkJMKgH2QlQUrA, D6KMrXQVvyel673yp9FAxw, -Cde1kHfS69Ms-pcOoN_tg, NxFoHef5pWuwPTAmHF8gQQ, XHv5rOqlHELfSWHzrd5grw, 0cNZ8qJkg-toMtyXl-8MJA, sQTbzUlY6qiNlLSHTvxNBQ, nwHfqyK41oLvp_R0WkCA1Q, ZnQiZ7UTgj5kHHMVhAYAmg, dLUnUC72_M4sDpKmTZdhXQ, e4OZ7Fk-lzCMecmLatyByg, XNo1Wda9_i8aqHsQf3cfbA, 39kOE7gdgy9VKSCiLge7UQ, 3UYFLVfLRpzDVeaQ5mTZkA, b2BpWI1za72Po4iyvzMVnA, IOTZ0XTALPJltFaQNVg4HQ, cXZhFx6FDmV6GCwmdF5HzQ, NccdJfVbCaiNYin5dNxLkA, 1YTzWC6aoWmonvsNAyj2kA, o3K8CmCPkpWzwFE7hvGnuA, 3CjNYzVpOUOg_qd_UX7uOg, M7nN9ZqeDOWw_TaWh_RgoA, ET8n-r7glWYqZhuR6GcdNw, lpzqSNFtNdrvogNFARMbIg, joKcNN0nyT6mDJO8JEIf5g, erEkV4zhNP9-KzZpuAul2Q, ouMycWDrrDuc42l_fOsRBA, b9mzhnWGbmv5YFAbSyYJTg, hoFxjmAFMfyYnLnMgQj21w, Lre9GV4jQwWoiyMxlmRzig, iIRaUK7LEqkwIENIBZsNLw, 2SXRW2jpoZwvXAPQxBpq-A, JJeJJAGiKe3I1-WQTjjDyA, nDfP6uBfBGvoF4mv60AAbw, VvUwkeVYvqJUrfoiw99-xQ, vUHkvDW9OmpvrXlGrC9HfA, XACnj3C7CbFbRCiXx_15jA, Sxq2Yu0kJkOFKyaKVoVYVw, w94HKf41VrvgT1plNsTulA, EQW4L0HLm8pXqFMN8xPwrQ, y4Nbr9p4zQ5ZHW0InPcXqA, Fe3_K1oaETMxpMYtH6GrdA, PRFY5Z5TR2Yb0REz3tcHPQ, 0PHwqHTkCwZPrNSKxi4uWw, XFYxIx2vdC-lofptCc3DjA, 6ecgLpYZ8o7AtXgPl5je0Q, UViQLa3SIsRicSVhmhYVBA, S6n2vvLKrThK7TU7JmoAzQ, bMmn8aG1A27O1X84uVabOA, qmda2sNZaAzTHh_i2ayD-Q, XuF3KFLkifmXfBlZhk7jiQ, o-BojOEN9eiep1YqysF9IA, NV0u95G-WcjZRAfCX-jcWw, Uyh33cIHewIWqWWSrS_oTw, SZxq6CqIpSCvl9wtGf_J0Q, DRT-FcIa-ls1AqCX9e5Nvg, 1kuhp3BFYZmEjhatSulnXw, ppKAInyypKf9CstUTR14kg, -0p3_wbXYuIGNgZm79wNwg, A9wY8qqSbAHehDKpvuIxBQ, -D09DkhLOWKkNT7lb4jkyQ, oP1iPYnFsIrnp0pRULEm7g, LuDarhEa168h-cg58_vcGA, SDytcPY5fiuuDbTkPE8GyA, xrDBP8eP953JKyEef78LPA, wsaG1TzN3KSoEUmyqu54DQ, 32sxRjdlvBsQRiwuGQUeXQ, A1jeZcFyR6UI0eAoXl4WBA, 9YdHyRH4uodO_PVLWQisUA, lvRsPFN3Eb_ZwxEsyakYKQ, c2JAXSNTeDXtUvNyzl-M4g, hErDkOaoz-N6wvZmEGRIeQ, OxzHVX9vlAlpT4YLml1JbA, g3nYvS1CzWTBOMIBte05FA, YUxH_F9jMGAe7PIe8DO34Q, VuMRzLOFd-nRf-iWzFm0JA, St1zsUvi84_isuF4bdnc9A, YsbQxsPcbrSbYNxEx2xy9A, sgHTr8HOGnIcngUKWe6yMA, 1sNaDf-4va2lKyAWns6RvA, HMvULKVNvIRwE6r9QGXYyg, 85JNDfQ0HwOYvY1LhVGGxg, nX75TpIW9WGrFVRQgR5GFA, R7lOhTYFuIxjSz6LNP2Qcg, i9iwYQEPQXM_1b0zsEfAcA, laanMgSeM1v2t-Jhniy7Vw, HqWG2qRLtDpvlfbcR5eVtg, bP5eVI3XKiX5ivifq5d0uQ, tYD-v5M_3mfKVe5-xesKmw, f-krVYNREpB_AJq6PxUyJA, ijM_1p22InPj3L2JywJjsQ, InzJ-eWuwljlWuW3uATQvg, wCIPxCL2Yy5o4ZpTto0WzQ, 4494zgHlKIDFCqreLxQxsA, WGg2MLXJLndsDoWGzxLP6Q, 51GkmfCs08QabOoqYMegYg, 6bKzB5NkhCwaRIvI_fyhRQ, dI49SU3Nwd86dnecG6-6Zw, W09txjlkIhbh56WmUHSB9g, KD_nOsJb3dHkooNOvqy8rg, Rsm_4wXk6c3ogx4uGiTqbA, 3PysDb0GEkeH5gIUAwRPng, 0rlrQhDpQxhVFz3lj6d4aQ, KKVW1D_xK2TJ_EX3iv4N1A, GVSAXGhXcyZk8I30NapVGg, 9G8EyOAEv5mfSOdsbrIF7A, KF-JCK9RWEqeUHapatehQQ, qZPNjrkj0ytLIqYQjybsBg, QixH9QWYaipN27eAkP7hqA, stNrGv-v0Kq3eKlWfuF9xw, B33t0QrCItcyuoDM_EmzwA, My0Ulr2lvmXDJ8WGkDjlsg, W7ze3kEq4Br2JIOPP8okNA, CP28puvAEimt4ziuGTDaHA, a-NmLH5G_bmE0fRAxQmkuA, WCNGZukxfMCIAmkfm_U1mA, zKZ73tFKls_kRWMMrQjcRg, nKZGGzZv0OFWdDw_uY8YDw, utRlrauZEOF_2kASsIoJ7A, 3xxTCHS62IbAyI9L-eeXLg, 10nYpFALR_quiShulCsgtA, i7OlqtvI6A_hXseXp35QRA, 7br6X5jihcvXL7XD_LNG4A, oT0kp6KfC8n1R0NjfaK-0g, z1YFA2M_oNJ0HyUA1_i_Lg, eVyOPYZLBrmmaq1aQD16BQ, 7ywMGxkF-GBIU1FbCknn-A, XsDRSed1yjp7MFyL6t4JKQ, GFcco4RV37WBZKue6kXmew, zlhgLkTHqPxy6QWNyRRJpQ, LxXBhWhuhtcq0eEAopVchg, NzEacAjFU5wXrFK1tq08bw, avBGDwNgmx8TzVq2zWFtLg, k77dBy1I74C9TAI3GlspFw, VUWVzgB0eNhBF6Hxx3vGlg, RHUIu-MW4ohQEa6rGUHrKg, j21AP5ZePUPMEUtfm1N96w, 77lMoUmjtBqJzOphyo08jg, F0IAtPBSkHWAeg4hP2EZNA, yaXCtQj4Q2rTVvLv1gfRug, q5ueTpJZhqNUZSZRchmKWQ, GXn4ZsasLKh0qZ5g3nIqcQ, aiG04fTKrBEmgMFTMo2ueA, pUwgz1BQB2eeeb7Iy5R11A, jyKgvn-0cKMX0E2OGbzP6w, UfgORQ_ryTFumXwqI1Q_6g, UsilxRv2kXn2uiCpCQGjNg, sGZOCpWwBDX8TlODnlIGrA, afQzPsfi1cq1hjDUar804A, oH9K7eCuNsYr6MmlM2ZjUg, g1NIDqi8m58WRZxF73wY7w, YsniSpRM8jjA2VWiHXeopA, rtbccdY4-eiZWUegOIo2SQ, nswWHjhUtnhuNlPS67HBsg, m792BbpHzcHIMceUlrBccg, m_H93eDKdiBlRv8K7Ffgsg, 9ghoMUAGrlUaExIHm4lzaw, ZKhNODNqHVJYg2tZHwK3sA, 33_ba3krpFtQBJpC2C9KOQ, -A8NWVsLSAQX_XTqt4WPmg, hGWaykWcZS6Cey2krK67vg, YYv7GM5fRCo_RTMRu6lVAw, V8J3zw3YIG12Qy0qE8hRng, ZNB_ktp43d9PV99N2R5AaA, 1mrmCUSiU8UyjIZhv0koag, QQMZotw100LyEruy4Xz07A, 8cJUrnd7U5q6HpTpZwRo4A, m0guLfC_VrIco5fmLU-8GQ, dzTiTDVtL-NL5YatLG4CTg, pEIzH_tNwK7pcqTViKm-RQ, JmrZp13UyBro1SiS30Q45Q, qRxnqt8Fe1ij-EzfNBzVlg, vvYvAo_psnosHn7OvsQQGQ, s8VteRfL3Akxclam4whU8A, TOzqqTCQ8icvksRHxVIvLQ, oMAAOZIW6uyrBvVVtULk8A, _zJf9lUfjk4vZsITpFvQHw, sHE7rPWZoP3Spfj5DBrVxA, qswXS1u6cGWZYsNqqSBe4g, gHrvRHhli06hRjMjTaM8Yw, BIeJq8uPG9-cGTeQrVIEpA, 2AjuxLanPiLkEflPP7k5BA, OFUF2g2uL4cHrrPBamWl-Q, 0Y2pYDsL_7bOhTPa5x6fIw, QFYmWEWiGn-6wG1epe4PuA, nunrl7iC5cvnwmRGH2vIsg, 56t1wL3uCTDPYzgqRjBYyA, zfQy7kahXsmnaqGZlq4uOA, uWgEmkU3fSqINtCOkmYC6Q, IzQyQJ_n4ty4o3-VsFybIQ, mVX994rBlLzWugN-gjwZfQ, WUdCcKJy-efBEnYnTQ71Ww, qDgApqioN9qReeLiNytQqw, ZYnMtjfxkdOyVaKvX53fbw, XWJOsr7ZXowPYC75NbW11A, YmA74R78DPwtx7JxXshndg, _O0SLE7IvLlTZJEidUYeSQ, BxN12yxC15NTWd1MdBarSg, Nmroz47Lx9cRubBpV6pYQw, 1zIqdkLkqxqbYD9WnB4d4A, wNxIB_GdgqViLZR4N3NFiw, ijLvEgD75_0zjY5IMJU3PQ, eXhTTMbO1r1aQ8BXjyO16A, 5KdPwI2-sL2eUHEW39xoBw, D5OQh-4CSlMETTUtoUYiXw, EqDIZSQ1IsSGZwBkEh9TjA, VxEHEnIc8JxAEftLK2AfqA, QfeSkun4VaUxiaNUnHJmOg, PTbKv5hX3lC9jqwwDfh8rA, 6AEzGvryXmbIdKytVkznqA, n5NatlzIpc17OOvAFqujHA, IjxJiSab2aQ7gP35jAMh3w, Y6-XqcQPBbxbkmDVbQdCCg, WjIbYeSv4P7BKhdDFVNIxA, jy8v8blPNlwqi_AXncDl6Q, M022Z3WFTpqG-d2cWJ3eRQ, Lx8xo3SyVGiDXY_2qT5hGw, cuJ5Cu2C3nIQCzrwGlubYQ, NavXeC6nBQ4eIWiMdWU2SQ, Y95Y68KJdWASgStZH0Mxdw, FpPBw2YrIZNu23NZejMykw, AP8wBCjb7_xNZS8cNKyN7w, si0UINYyjOnPVHX5gHnaMA, cPiuSbk1d3ztOCoSIUBhng, ITa3vh5ERI90G_WP4SmGUQ, H1b1PgrEVuNkRZZ0oON-ZQ, FFAIW8FxxBmz5M7R1pd3VQ, dcFF9akYubn_UIwsXX_JTw, 5QFtYfG-wbq6IYlJJuiK_w, Pf7FI0OukC_CEcCz0ZxoUw, tTZc45XDz-Jo9Jjh2c_d2w, kw4Q3Qfj_8WxjTNExSi1hw, VWmA5XyR3rETVp8gvsJAkQ, fSp1VzU-JwdSYO7YKExZVQ, xzdEPPOsLzRiHN9Z3nPKag, w7Lhd_0DgacZyq2cLB6z0A, 7uKTXBFHbL2fOQRXAYW1IQ, 3SEUCCm7_PAxIJtkMor6jA, Oo_f1n10rb8T-qHGNJDJ5A, wTyLpmT0xxROq28jFq9zXQ, jxCkp97ZDW23KIzr-4xfCw, q052qM6Mi8fy0BsxdclsYg, r2Jx1Wxdvu1Qsb36rBLhtA, gLIm7MuMCYHxUUt7mtjTlg, YhzOZY6hYLmPAdlqaRiQ0w, pxwErljVaok_bbuoVOPK6A, eUhXx5dgLOjWKBZLOP1gCw, 9Eds-Zw6oHZVa5TlNUgvrA, ZppUy1YE0i2EV8Blx8EpEg, Mey7vVVo-jE0Y82GDPOY6g, ZCZwjZPsrZMluzHdVYiiAg, Wl5r-7X66seNbRINjhdj0A, CG_igV7-r1j5JDhtcxwDPw, JBJD1RNKG88QOkJ_s5ggnw, IYhexuvE0Mh0KdVuNey1fg, Vk1NUJ9aHaeJnDwgtBAkZg, 5ddBiDPHSUeE4g-4uLaYjQ, PK0tAJ5v4hPTyJ81Iu-eyg, 3pmAYxf1c4D9K0FPcF3cZQ, 0DIjn_iaaQgeypH57L3Pag, XlHCvp69kyJMAnPW7duAJg, sA2ErPvgAkiLHtNUM7idDQ, mbxcGcngthYjlrwT8tCIEg, SGuh6KBUNF34sdTFaJntBg, H5O171OAjjFJrcJ830CgTQ, zvpSGizQRaIsrejI0vM59w, Ks4G2kW64xr-Zx64d-Tr1A, iRF89YEjFSZyD3SABscZYg, zT7nYZxYEFp1CuLKSxQWiA, BibzA2yOZw6kckE3erprcg, L4aKILEYXfAH2jWpGitwKA, iJGJogHpwzhMUsFynclEzA, 8m6H21LECYIRPBq1Wc5qKQ, iincZkG_O0aASWcySG53bA, YttDgOC9AlM4HcAlDsbB2A, G9Vb6yQ047TC3O_-GG4WZA, lXYJzWJ9G7LuhUvYEmfYdg, Ltgwr6Ge0S9a4CwuoF7RJA, h8Fpu8QJ8yuAterEUeQjAw, dHxvSPU6PZqX1LQRXajGDQ, T5MxSWpNHLju7-_sEpK1bg, uVouo2w_xD_KHd65O4TDlA, 05g2HXY397BwZ2IW2OnjSQ, 9qyFt_tQvdAQSAFBRDXuMA, eOKEikP-317CdIO7hGIrvA, Y6kX2qbNyV1DQ6-UQ4bgxw, FlLJyNmBqTOSWRwbISgD3w, UMGrWOukNQu9FrkazB5-eA, m5KzPUXdsBfRuBif5AAdRw, DiLCBLR83l717gqtcnOCTw, lmFJyk4uEFWzParnsMLQmA, _nBxow_euAZWBin0sYZgIg, lSlRvXD3QQxuTaSufmlJ-Q, QwMwWNaxsi5byH0VcRYjiA, 9uzcaaMxTx2LUaJVJrRdoQ, 3GwL6BzciRp2nxWXgMlCyw, gPPTQrQjCfkHCno9iIN59Q, b2YCjKMWblDusLaVuAONUQ, o3ccRaHePdbfJTl38pmwpQ, t2O6rs4fZeY9o6ZY52RyJA, JdMUDVilAPt5qUxJ2Kgi4Q, tYSq-W6abB0azvTNdvCpGQ, 74PSk6Qvugi6Jx3XKdd2Ug, p-TMTcrFoh1j8SnfOiq8jQ, 1NhcboU6heGfgzXcmJQx0Q, G9zQFp7TXeryx9K_Ri8lVA, 3mOemD5RLzuF5hAoB6CUbQ, KO7CuK8p5u4AFGQ7voXe9g, eAHHBNO2_JJ6p7EDm5-k7A, lReYWpV1FKbDSWDWSLQBDw, rO2YKN1PqAJjd6YgP0PM0A, X2mqryTwrz1yCrDGxJBvyg, x9EgGwQkHA1zSST6VcCE-w, IXO16QdZK4WMvAxnuQ7CGQ, kK31v31k7gAOo6-YrJi7gQ, s5N8kPJp876FtbV7WMbrDA, XiLxIJThWsE0x4d0IeSPsg, EC8ymewqjjb3psHABsrdKw, AkAbdFcW_xtTnwB-89vr8A, D2GDe988lJltpiFvt1l1dA, 7i99AdpQKpPReHPb8pMJ2Q, eSEAcLVgJZrBMHSIqHvS3A, URHf5mueYVR0vGuVPr1oUQ, 1_6mm10gcO-BuKK8Ws_ukg, ZHpI3ftVb9xTStglDDCVXQ, Z67X9Lc_SZ5tzxqjm-acww, ENoluOsULaw1IBy86K0rvA, yTd4Nv_Hdqum1KxoXVxW1g, twBptBDySwA2M_aZqwcMug, _aG6w58lm0g3fl_ETZEyoA, WU2RvZfxMLgbr6KVMBQUQg, QOfu4kt87-Gvmec6HJhe6w, sAshPtV4OStq1YDxXZkBFw, pwjLGNUnIa-RldZNQJ073Q, OGV40r9v4MZ7r2gwkutNbw, HAciNxeuESR39x_1-mKr1A, b5xky1NsvoaUK4ScJT695g, 2ATMWzm4MVFzYwncyoaJHg, 7Bx3zGXbQCmAjXzEHNG0fw, Y5ubWFnk2FRinbkFusxE5w, mmKC6Tophh6LoMa6Y2wmVg, b0xuH6aOowIwf2SLcXXc9A, dDsI6CMFIrBHJ68b8KZNCA, We_dshN96B4SkLIC4nkhTA, fqCxaOI1cvnXx1OlHRUDPg, OBbAH-vR4SLyHVuoUuUfvw, py58LU3dCM6bKL0ygeCWmw, lFbS_judSdQzUw_ap6rZcw, dgmpGSzdyzpXP04GRur5vA, WxaLxK6U7md9w2WB73fBBg, vSWLzlBdsTo8qOdvJLr4EQ, BvnchfgvNbzeXvz-7sHVpQ, Lm_XhHuBdUV6XxCC4WZfFA, A0kXciuLJg8iRU15bQZhTA, HRWHXaNHFa-y-2zUUE_bfw, aS-233C6Fap8PpOD1dtVOw, ckSmuR2q-MxYDmASMsmdog, 4yFGH2QZ6enNlZfzTN5qNA, p_pgonq1P6rgyEgc3JfaWA, QMDBx5JniWfeL26ZdnaCPA, 59VwfmIk4f0xrkS5nxVRMg, vD3l2PRoJ-zI3OlJo2c1KA, z54R75kYfJA8sWClK7ZhmA, liymdX-2oYY7jy4py09Vog, rbh7dOnplTwjzx8lF5BAgQ, tacfwHI5VSVNGOsQOUjcdw, 6QBthHJwtqkgBycM1-X1yQ, hmCnBX4wkhw79lc8_YL5dg, 2FFV6At1U8w2nefNiI15vw, 9beqN2L7kLp0TjGwa9YGAg, s0QNAXmRhiOOa2eofVXlng, LCZSBQCIss8Aw3AXcdFSow, 5YOCNZIzxMYtj20egY_WSA, hRetTSeJMD2YqOl7QVZOCw, yzHNmPperq-26FUOv9zhTg, jdN8ghlX5th9HoEEzyIkog, aXIYpxSxwxxBgcSy0xmMgw, YztOLqKEwNxZCVAlIBbXGQ, wWyR5AdkPNwxEBZhYCGiFA, lXsjdRQHWmziBX8CveBVdQ, Y3AiaCpNORjlIhoDr6CIFw, ljyrAdqBwRdYBUdjrVV0qQ, RQZoVisdxG380eaRyiYsyg, WavV_48MTprzDHj-AU9RTA, OPSTvgOmSOw1pIeba23zYQ, HDsQf_ZhOzwBh12bY7WQpQ, 5zB4K0s9tfgHknkhWyjRcA, OMWJRtCAGIb-ZuwaujZzFA, t-LBV-MqCCiLEGel9_uw7w, 1pDFaGNK1BoZ8w0_UBvKzg, ax4ISmhQU_i7AuoD0H1RfQ, znJXv90LylWvp_1HZyngBw, P_WNIaBMNVUts-TcSCSGDQ, T13QxdSGXV3oUZCSklS6nQ, M0UeZRnJEhmnq3PfiUjv6A, Q9F-x8k8Me3XIN9MQpT50w, IVWyAFp-9xQ39Y3zO7nehg, qXJ7pGlyfj57vJiq4H70hg, Rp715zpGIDMiZSZsYD-z7g, nD60twHjxkBw4rqoUOk8xg, -GmLLSOVbwdk7OU6PZod8g, LlM80P_ipufWYgomwiElvw, j-ewLhg_NgDDTC0DcN6TSA, mIGALFq3kVQCzhvarXNX9g, xEc6S6ZTbFeNekKgWTZP9A, e_2o3neKJ5vwDXKd70XLBg, YHSRi6alsPToBH2ZNq1xwA, efz14gdfNldenamXpnNiKQ, pM4deD8vtEn3ZgHMxCMY8A, vA7dioa0N8OJG-kWvxxE5w, aw548GBK-1XxtSJSqu_OOQ, wxsZtdxSShd03dHatQ0rqA, NHzc9vblp6KooJiWGpEHsw, Onvgv2rUjbirfcLGhEZ1Wg, J2U1ZeZN2aXzOLzzcnGuTg, I0L_EvnFl6jZJM-SqHJkQA, XZPuXb3_uKro6iJ_s9xw7A, XSLzmNxObUzuaIKxjBJ18Q, InN4eot3Q3TunOVNPQZC-g, PLlw_-Na8GeL38NQ-EDd3w, IP5EBFpeqe0sQ_xaXIqOEw, 1-yUFMdIBVNnhqky2J8iWA, DM-xhAHMpMYgUO9cbtcf7g, BESTOAd9vasPsbdE55jSBw, OV6JZ1M5ov65F8PWQzhG-Q, 9Oir9HrPWGs6-DAFBT9olQ, ijJa6hQ4B0GrWpDnkBk_wA, vKkOqlqf_pNcMrzROxpnLw, lKNRicnoWP6tLUjkrD3IBw, yVR1d-TDPugjeJNMrky_NQ, dh9Z73_QZpsXXmO9id31cg, fSTZ8DY0ncJHK-WD_hayhQ, jmz1D8NOqeeaZtlJAuEgeg, Z9jRi-4ZvzZAR_ZjNz81hQ, a7Q3oZiXCgpZVdA_dpqDLg, L8Om2473wuZK4LTxLL6RUg, tgPjX5MplSOXubcTqvCNtw, AjBWVjeMOmvfd-iZCgAtJw, rwKdOza3TdY2bU57dXDs0w, ePZ7I1kKl9n3QjfaSmCK1Q, n873HWLkhdySx21et5uh4g, mvK1pv-x0Z5rP4Hz9cWBWw, pzTWpg46FIOSlRgTgCjDxA, EowOJOrpKZ3MVfiluPYEHg, kXos5sriNfRbayfgHRaCbg, _YMdy9dGF06Pcg0Hp-q5ZQ, bvxQwlF9IUqQ5X3MjpIsuw, MxZuaEyHiUXeZJtFXkr05Q, hhKCsoKumqmbLLT8OdOBFg, -x5SFAAVck6AoXAWobKl6w, IzJhnfVZVnmKCs2hPfukYQ, lffclfjg1QWEqpz4PpJmfg, Wn_-RcqyIGm_T4f8zyP2QQ, lByMP4tkeruOw5HdjtXTpQ, 01qg5NTIDcp3YBMvdB1bDQ, OmgZ2ur3FH6MimBChMtr2w, Kc3XGZHD92dSh2WQN4UQ6g, gmKdBUpfXu8CAQrnhOZtLQ, 5Y5KbsI5buMcNh2hTFaRpA, APrVwAwRRSJelzy1cMzPiA, DiiyWCoTG_urZBffTsvx-Q, 6SwldHf9OwBJGDt1gF4h3w, UtOOf8zE0Y8zaX_pxFfoDA, 8UKn4lY2vVWqC2lkrR3fUA, i6kNeNRrER8ocnpkBJ3wBA, bTRFge5pRWMh7IoCLn7lBw, QC9UPsVLn8w-diloJA_BaQ, g9fb9xwV9299kImBKR5DQQ, kg49IgzsS7-C7d2AaY-c9A, 9fEDimPZLcYDWbztJi48kg, PePrKdlAdOV1rayxXBBLTw, wzuUWUN4TZfWAnGvyT0tpg, BIJu2PHs8AcyX9iH6lS1qw, ZcFB7xOpJufgX9hHPFh9mQ, iJl8tfNhJJYvzsDJZdu1kA, t-w6QKxa6Q3PEjlC-Vp1SA, 7lq0aObOwhFmO7PlYCbwdA, -_8JCGg9sNrPwKlG2cBo_g, HUsG-VU-BkEFmKKDldEtfg, 8Akq8sh1LSmJbqa6Jjxxqg, uNRWIR4hQ8MnB-48N2QJtQ, eDykub3lhchUEkv-KboREg, WfB_jotA5NG3oKShZkVNDA, P8duQUTnoD7ednMRrYtK3w, BL5CRWZF7Fchs03Sp7_KuQ, E1tiSOZOnOfYAiIRnJTlbw, _x9_cICSRw-52vT9eBNa3A, YfNWCNsYo3A4Bin1yonKSw, H5SjEbnl9LOqqIXAr8_W1g, ZAdL9Ck2A9OMTbmt2oDEAA, Vpmz4qeITAgcKQwDT_MUUg, K1dpYDXdPnHt2CxUbrrwow, ps00_kAh92IMjXqTzxuHrw, J9o0jBahsyOgo8ePzmAWvA, CQWMk_BhC3duNbOoxVH-qg, iooLzkDjldXS0pZUDzpqmQ, X2QjPg0MgLzzFDYZ77N2fg, CueILrZJRAa8X3aHUuQIwA, PsIuAa5oxE_GTkfctZjACQ, gZDKIAGIUlti_eO-YPmWgw, K6FpHYwcJYznoXXu8ySZHw, zdfOz9mhcm3HM0Vt-nc8ug, _V2BZA6ZKxSM6J9wTBszkw, r0qxzPa3dnX4vPC-OW9l5A, Wcsz9YweqVexijYbrKIVQw, WTbcVvUZwcBXrHoIKHuUZw, 5uQgryKZQgaG2Fi3I2BYpw, AmshiL24z_4ckW1W-yQOSQ, jei-GOFwQ44ZYJQiyuLLtQ, kw3Mo3WqwFpl51_PPtHtUQ, 3z7E1Gg001_1YdZZYDnO2A, zypJ-huQFbKkP5metoC5kg, XXsKHHyzJWW5KWw63lug-w, 9ikKhjWdIL_PlJITf3MtlA, QPCu-FopZzxKEHpO8iGJrw, N1skHtVWsZJaO8pm0CEjzQ, fgwI3rYHOv1ipfVfCSx7pg, IcQJ9Ewki9Bu0cR-D__pXg, A22bUW4KtNl_NN0d_s_4Sw, XUEx8hrvhPd7vrzmSHbduw, DepOoogOvr82rM5w-ApK6w, 23m-MHDsz_YMiJ8GvjigYw, AqtcDu1e7hYcONBQyuzSJA, QLStd67VAxoXgdrcjB_BYQ, KOF17Ze13-gqY4hz3c0R_g, k4cFE2MB8m-uvCr6uq-dEw, dEE2JiPFxWfn-6cmR64tFw, Zlj4ZJdgx3WJA7IZt7j0Qw, tGT0pwzr1PX192PrBv9e8A, 355W7iKObLwu3greKAJcqQ, jCfyi8mOBqMJrj_DZFalgg, HXlwSVtEnyoKCV1QvK15Dw, RcGGyIgKshl7ox-MUkjkuA, 8T6QJOdFvwLQ6r_q1hjgKA, Ekz4uukdlq2QprHcWEextw, gjhzKWsqCIrpEd9pevbKZw, lzh7gmEWXToFCh3CbOLmLg, t6lSdQLgMpUOuh40nqJS1A, sSveQQvgkDrPbpopNvbPSw, smw7n6Afq_FJ-f9mSh5i5A, DiaxxDCg4Pd7moMLBv6dSg, rI1DGgP5VuSTN6UUXOkdvQ, Xi9rQmCT871UpMvNRzAfuw, EjPYrHloU-L9QKVztoOHmw, dP8SvAdF4QfNpKcHWHk--g, gteRqC3WPFZ_D9QjHAjoxg, RjP8x-8r2vZYn-Er5IqHdg, JA6_g6px6HSBW3iuc81rYA, RURtkydPAMG3Kc_MqcIP_g, zN9srcj7fgmSl-0Fyj3tPw, IrBr1IBag-P9NKOzcFsSKA, sFoe5Ks0HQCOeH_iRQYGIg, avo2ivEhwkYSJvAAKLJUGA, nfmVxM96uCeWZ1AQhgReSQ, Bo3PIL0gfZlKM8pEY9JEng, gC05IZRK6p3gieBZPDuW5w, hqpZa_-BOM9l8KNmzM6CGA, Sir0f7PA9CagJof9992BAg, JO-ugy1GYxP6QRdrTaZiqA, pZg2ogUBfVrcsVkVts9-4g, wGEWMqOxZb2hHg6WACmEQQ, L0nNmQmAZz3YxD2BdtZVBQ, R69PoEb41-mD3VDigLEjfg, jfztwy9UOs8ga0eLgyF7UA, DoNLqGdF0mNLoGYTcS6B2g, oakSJZ8a2gBagZxud04uVA, Xmeb74R9hhk84sJ8QOuAgA, dPdpfqKL2y6Id8RtqPqdkA, H4M_Jx4XYo5A58rFyCllsw, dzi17Dqytqaq8WGdZsJvkw, K9e0XwXw6bntI1QcMauGFw, Xa8RK-oier-5Ks0Bm8L_9Q, qewqi4rJnV5g6-MZPrOsdg, IsM4rrXAt6GvuC7xcP2kLw, -CyGaK4wktK4D30XfZLocQ, b-zlqv363nrNm_7g0VjXnQ, fX2eLAYd9ufkCrBJdZF3Ag, 9tfzHzjed7GQvwFWejUHCg, ywf1G9IvDLg_KytwLimFCw, 3-PQCYqZLpZ16PQPhtYg5g, N3SLh3dm_u610Ab3rBkx9Q, tNgxmynb12Gvd7PL8xxeaQ, qkcU4AJJVCjkZee3UzBuHw, fpYftTrs-3MxGOBTJFpB_A, LPR-Nt6TrLq1P-UDmO-cLQ, QbBKSh3zW1XifaJbxu2OCA, RjaLd1MuAYlwZkRG3lxczQ, 7zB2AyPrCq_Ju2uIe0hDJw, mXPpMRWMYXCZUqDPD4Fycw, q8OdcTdl_VEsw-zL8Vwrqw, X9c9kd1zUjyQr9osUDedXQ, BixayGc6BtXSQo6cWni1qw, nVj-DPYL85ioRoZNqQfTYA, tJfrTG8C-cGP7jgUcvr1BQ, TBLlHv2PlOdaRyG2ZNk1Mw, xZfssbFXzM3-sGQPj44R5w, 9drMs2-dw0Ak1MX3EJVqKA, _zBdph0PCm2HbzGcBFFVXQ, I5mR8nQz41ttMZ-GEl6MVQ, 8J4Pd5L9GfSCpq8md3ohqA, Cxc4C061evPMYWyDautQkg, wCqsAYHlNa_nT_uLHS02-g, q01khtt3I3bWBvHGxwA6vA, dkfx6nJ9Fte874cKRfEmYg, 9nQjDX9yvNtrCbRhRN2Bxg, bBiR0bKPHu0HrizWnUvj_g, vFnD8gEkauOMHmPTXx7OIw, AGukkLIOmG8Sx69GkMZhCg, jKBYaO-XhI2izStT0EBTpA, 3dI4ySxLTmt4M9h6L5WlYQ, Szq9P5JPWxtswCwlUogUOg, dm9Fr4a20kfBfhyB9KAtVQ, QqnWg6SpT7LXNheHiYUw0A, dPRPuYE1OYrfxEtqfFqFvA, WlPG63p2jBuNOwVndugpPA, crwdFBwzD2jIzAkkL0UfCQ, nikZWRNWo3kMVelRk3vIvQ, UV206CZjffwWiFulJg5q3w, l2G-If6LRG9VpIRA8CkSGg, 8qsf43TICItaD4Btrjrg3g, pgxbiGCqgNV878Sd_v7XBw, cVErDLDF4I0N3pikaQzWwA, oeFiWvoOG0hpMOXXxblfyQ, OIXIGUvrE2sQkBAgPKf03g, UY3nDptOdPra_-W-NU9Ghw, _8UJRj0b2U6VScnVSljb9A, vRVyOzmEKGOxMFkJI_-XKA, BYk1Xeiqbzomo4UtNgOsLw, 8dVpQp0EjrI5zLLCfpl_wQ, wXxBdhwDJ7G7jPDraAPcCg, 9w7dqlc4oWQwCv4DCQMRBA, QoWccE9A6QyFo_NiykCFqA, AhMnNAMJweJDRN2cKL296A, yhIKlCwl2SZeqkYdqa5NQQ, GUI67QTsb9pz1RPkjlbgvw, yFLNHDlCriteboCVKjtpbA, 2-qjCTBWu0E892IUfS9_0g, 3AUTwsPS3hUPPQ9w17oykA, 7_B4esPA6nXMsr1lh-aldw, bSOZCHSFbh53nhOUErgldg, PRvVelvN_KbXEsmeeEaiJg, nE3KdKDCFMYMiRHkr_l-hg, Sadfir42vt64m_AWV18WLA, TLElemg3o3mlA4GGpupNiQ, Sxq23xvpMDhyWx1WG7pHkQ, 8vBYEBc-L1yzDggLz0sqqQ, hCeEeByBZlbf7ygW-wg-LQ, 8ExCZVowOo3LK2QG6G8Xmg, taPq7IxYskEWH7Vfc261pQ, V5scj3G59YGahFwx9Dtz1g, HQbpr2FiF49lvPPg4wD9HA, tZk5CeIvoU7MWPPI5NiiTg, hpv03U7v6HjwjiiC9reAEA, vHeubldeDHfEK5XKqeRRHA, YEgBQZ_UakfJa31NWLODvA, zR7YfDsenwaAMt0TS_An8Q, sYtvwiyf_SslYlasqdz8GA, 2Py425pcia6W3n4xV1EMFw, DOO7y1UJymmtW_qXClfzUg, hg6tlp69rzq3aWl0RjwHBQ, TNoEYxovQoLQ88Y-DEatUg, Nq6IDrsjcwAZTB0SPp7K9A, gAjBjwIJJhFUnPNaYxCC1g, 8NEMSDyGCC9kEv70Ytgvmg, 1Bx7Pg9t89DinwsGwSDB-Q, fougoi7A36fUImknO72vBw, V5OxURo91yaB2i7Nf_4dsA, 0Yc9Zn3KG6axkmZv1XpZ_g, 7wGS8aoP2ZWHdKq0MNY7Sg, WzG7GkcCUOClODH2EoTLvg, fUTH3iuBtz6vnHDFki-7Kg, _UK7roBIEpHyQa_-3zGtBQ, I66DKIsy0VfMKYlrsdByHw, vW6aUuJziZBgDGCKf26KRg, xjdSDCR6Dxlxmmn5zvzzug, fOene-oheY-a6CLebIMXAQ, iwlUWqCBtXdkiyhLVjhy1A, P6eqmPXGLJVIxOm6zEgnSA, Dxjt2QkWs-r8pifQeNd2WQ, P-TsHfOUMSkMY1GxK62gwQ, hg71CGHy9bwpgY8cGVVg4w, cNunVMJPteH6zJXMr4-lVw, F_SwHNL_QQvqV6tF0qW-xg, NaxYHUxwgs8gbik8aM-usw, MDoGOKu4jxYe2NfI1WYupg, IQ6W9kSROzGZE3pG_s-ucg, dheeM9UTMy9HyBWHh1ePQA, yh8_9Ix1wp9dekvyOZbilQ, xIP9dOjJYxnkWPE2oFY-1w, bcqPSRqgx9BvOkmh9BFZsA, 284r1ZbKLbCfYPZc6eJ7PA, B2jNEZXPcieDWgWhYtg0kA, H9jzMUdVrsgYZZ3RxYu4HA, Ggi0i1gcHUyIYddbv1mK7Q, aHXmhMkLIS4cOqSagIA5qw, zarf2ZelHG13yZJaH0jyTQ, mDBAmEsyxuVTTT70dK-dqA, tFKSPuiqc9gajGnJxnqdog, GGWjA8v479feCo6OPTLQOg, IkFjRnnI5trMcwHHl_1Vrg, 9uf4g85B_gz2W4d_GZI-Wg, aAk5TLI0YY93jYeDouMIsw, TDjgxCEc6wJPzTjtGpZu2g, lKkCORw8YRjfOMpM465jeA, z6NGKMH3ZR-bjq0iNXZAWg, _thKQ2rVoO0aRXylT4Y8ug, Nuf8gN4ewAIWyYy735vutA, 9S3D8-QOC6KOaZfuQwffgQ, xRBkcE6vbycnGePZqDrK1w, QFCE3JOk1J8lztfsxYlD4Q, ohHvzaOGGllw_IfHORG1pw, rR5RiMzQygyVDT0B2f5Uig, CtITdFHWadagdOCn0sIJAw, 34x_6-FZ-yatQoTU15vAtQ, jk6qlKf1tRoEzSZoguzniQ, SLZwCLUhVkuu2GZkYp3m6Q, QIikzy7cJt0AjABNsThliw, SN0Ko20KzCws-V1f_g_bgg, QYmoyJsNd6pYuUWfNS8hcQ, VhtVeAJbJLgLqgdijDBaDg, 2xpxDoxdxLTEipw21N3TGg, FuqXV_F0CYWkMjqR6I0CEA, RHFUGGNQDjrJTozW4b9kvw, hsCj9RJla7Pcj8mq8_71dQ, asqAnzxBHj5ZF0KQGTB2wA, L-kYBR6q90kQLmU1hGrxjA, FKKLUKDzMVbMPYSp0fbiww, XgUVVyY1ZKOrRxGxXqGYrA, Svk_B7kzKfvLRS2vmqgbkw, pwEe7UbgOfy3bDW-rbu2XA, 7hpoaqFkJc9wddMAT53Jmg, sB-UBn5C768YgXhDVK48Mg, XnfdZSQkosi5ZojOWZZr2Q, ipleTHGh9KR8hO5U1yxzXw, -xK57CErAg-2opOdBDGkyw, 0buwrNb-4PIfcsa5XOXOEg, FGNaUuQuyOpCQHIvKZwMFA, o5axnA4bmZF3_NVGM7izsQ, h-efHclJf2YGvqq-OZbl3w, Rx5wlM90yMao96Kke_y7xg, DhXJPTSEn_15nB6PlkJCFw, B4wII6GQslCW0vxmcA7SYw, RvCyFd6pjapvnFJvwlJGog, lgg9CDUOfl5G5vFUHskVXg, e34S_TJInchg1lR72gcceQ, 85hUvyTE0UA7eDMI18OMOQ, 3XChnfpSBg32Oh_xhonDTA, ra_uM-7_9GIMCjc3gZheKw, Te5SCWj2v68quhZeyyVjog, 2hi5QmyM3ehV8a1io2NrHQ, hsjRaof_e0fZN9YX9hs4Cg, JYQ7UzYGPqcRc70wo8Ghvg, WeEDRIaO7AuswKa0sQXEUw, OD0RY2myWrKr_f7mQcQVkg, sAb47uEcSjK3uQcylhkhPw, 5Kef0JeNixYH9T4CJsyDxw, gvYdMI_M6clQDGkrAvbRuA, f7FhJ8633Qa5ZBdNPKSqvw, sXwb7VCSj5iKx84vUXHM1w, 9KK7caSPXi8rGT7tvqpryQ, qv_7ug0q8m_sHRESAkorUQ, A76kakxuT-Cuatbt4uKdnA, X0fWthx2h0N_UNnyE4etBQ, QemiGqHy6JXmPR0uFlhrRA, tOVqsfH3I-WAQp2Xw7E4vA, -XZOz3ViFET3IZFRGFoOpQ, GmJNIu8lhlKVVf3vkM_0oA, OZexlK3A3IN-6LGz3ywQjw, fALEp45lThVxironHfk7QQ, 8omPqrFzhPo8ZQ6Zz4UTMA, zK__MouHgQpHSmLl3smjww, tR_mIq-KApoRrYHbBWALjw, 3HF73F_EhZVjtitHoRHYvg, BO3Q8Y_pkveKzRym2ExKVw, fx8spVfjC9CeCYoWTfo5vA, Z5mQMLXEA6LzZCyx03leHQ, 3Mwmhq0N8uFH1UM6PVza9A, VBK_YBlsH-UQ0aAVPO0Kmg, HDkeb2idHphldqW7VWdrdA, q8pAYhK0Mpar_Vb_1R_tkg, X32Z1_KUGNNTtRkoliXzig, tN0lpNS8j9Rpu4ZEZ-KwKQ, s5hemOR2IxcW-0MYA6hGug, 6rPFBGXZ3PHmLVoyRH2_xA, Ci2FtyUgZnnNi0y6-tRYEA, 2zim7YVafzizJWvH3wCL3A, BgKI2KkghV6LgElZE7UW9w, kLQmqXOB3-71jR6STtVZ2A, EXYKJAELRnZ1-MB1Uqapcw, eZZGotIUjs__TCvp-Wr5YA, iGoE8f-nI_DlyXVolwy3Zg, d7BT6ZgV5gC7xzw56WHFKg, 1iWTODCIm1K2DG7GYLkG0w, j44fqNROjHTW6RZuwTESDg, Cvvu2V_FO3FjxIHpartSMg, Mp46QU5oAiUUkJYt1YcRtw, Y5ceeC7IJJD3t151BHetFw, arPTZKPYh2BaRWe2V0E76w, cBl9MzmA1sEc8ssFyZpIpA, ywQSsNjiqR-W-kfbDn1Ufw, Jhez6n1xGYS-k_EeEAqOMQ, X-wwwsFe1RxdTZppfppWXw, CMNeas2Y8ai4ImpPwgwAew, uLjHYJDuPl8NpqCORaELIA, vh2ZipR7vwIejjjMU6qBWA, 4xia2a7k7LqdL-lAhTgtOQ, OGI5Cx-V8BKZSJ_x1oEMuQ, wiQj4yYF5wfcGmEVGN3Rvw, OxBocKcLIZ6oHEQGXgVRjw, F24BPx2hdqXB35ad09nJRA, GW4zRFkH4zzF3H1T33FcyQ, dVcPnj5pMY3Qb3b0AO_cAg, TIy6uDA1t3CSBBU2O8pg5g, oPmMbyow9CWs8f6An4kAxA, uAe3ZXiR6nDrB2g4m1zkxg, 40c4XZsg6QVOjJ7W5MmQzw, HiKXqt366G3FmHZyIxM20g, xhg7qomdf7tlCjbNiYfoWg, nDCrdIP8r9Q8Kq8Mul9RSQ, PrvC_O_UqgyoV5m3E_bpyA, OvR7aBIryt_j0_Z9uAMfVA, fsr2fdgMoF1zsocs2Hj1hA, QqLvq5Kdk8SvyxWCytK5-A, 1TABtOmE51AhDjq9vHz0fA, 1T0b3NhiSN3iCwMVocHygw, IvtOuCNCr6hukOlLfgKFVg, rFYkGcIzKaLBGGEKN5mV7g, 0QVlT6__zyvlupqJzi_RDg, lFU6_jhHd-eHHOQDcZdrYQ, HjpOpZPYy3LCuCvRut3xOA, GOrrRgMzoVG7WXvMOmkq3g, G1-4S0kOOxru1svawQkQow, TSAd-Ft4996xyXIUiWjCuw, YY5paofgPpHOrM-nzzgJqw, aEWAVdNBz2Gie0H9yIJQXA, 39V2wy-CXndNgIrldsBKCQ, 01kQkLTXV2Y5DjYb-ai6cA, XE56JWkXyzInTy27cPdYSw, oLel_INtpu1pXYZCtt0alQ, bWU2z-VyNrEyus8ytd2HAA, Q_EfUaVQxIG9Sy662GEqzA, GHcyvBgVV-F9s_hq2jWUNw, e3QEIZcXtsEnWiui-71TpQ, rvEGYty6_UzZBXOeCLobog, mQr4popcpi9E_hIIJ8Wumg, -GZjWtu8RVzJlQC6T-FG_A, yauSuFScxL-fSsimkoN76Q, _oV5nI6Zf_dQSYHjS7V3eg, 8IZvten0AsI048cecDtupQ, rQygceTuFff1PCaCQW7mDg, DTOErzkuQn7tN5o55B9ZNg, oB6k2TnUNOl9Tnlzc7cdHQ, ens7LiIE4Cs4RjW5Mz65Mw, 2OjNNLpCCGrtfQtpcbhlkg, Gd_la55K-Oj0Hq1I4tUQuQ, WJHGAIcKnKxI8XCR5-9i_w, kWOxVk6l57Bi0KmhsjowJw, pz8KEHHqYQ1jlj7Md9g3ow, aDBQGKgr7t_Va6IP3GPhNQ, y22jM83qCgsNGryv9328gQ, 11mnmdjziJI_JbqfbdG-rA, GplRJgP76SCa3HqlAplwqQ, -jqyHyjmuM8w0GAgvgWB-w, 0IQJgvVXSc_0LIM4CA4CiQ, atC-lJiiFXh-jtnz9p7pEA, N_oVJF0bB6mh_mmHH2Q_lQ, QO9o9saBP1fibTImF7ix6w, pVaJxplbV-oKSxUwO4Go3Q, 2Z5_gwW9XKDJKvUKZMVlBg, m07sy7eLtOjVdZ8oN9JKag, IKwsGotasR27FMY2eQ2gHg, WEm1CsiY9xleY901TORRFA, 2vckWF26E3kidviBORrm4A, Ve0LUwcrzxL7w0RYgY4Aaw, f7CZDaYYxhvFVMjUSOUDWg, YzowNqe2_h8OTuOLmJhwFw, yNPvrikxgqTSL65aLne_Pg, l4Fp7ZYWqrtNhZCblVwxmg, DCq-BDEYjTOe_ZEZLweRSA, YZNkgjJbhQlKD26YuAi4uQ, Q6Grzw7sP4X6IEaBpQbOxg, yI2x20GRVh9trZ-_rDv78Q, Vv_QNh9H-gTF9WabR5vH3g, qkX2Z20RYmXuhqsBpMIl0A, Cqw4fJYJwkufdQSmLXEnug, Sb-D7NqoQKOLbLjzyarwaA, 6eipwrk2ZjOdvuD6GI-TTw, YAkNDXeHUlAJVS_lEelmZg, K5F_Ag9X28p63SLRvH0ytg, DrBr3gDtUYaWp-WVp2DW5g, sVJZzEs5MNim2YeQ4CcUxA, ExXAMxq2mIUK4GJWIuHS4Q, 0vrai10-pbTmuH2pwGLFDw, Kk4k6bjtHYk3RRkt0DJRPg, yx51612rXigl97ETIcFR4A, KqP6j7OFKxLm6utxqaRMiA, cVrM2BvOvPV0Vi_rC8kepQ, gvOuN8PAUJHOfbO03dOgUA, pamRz_Dc4rRYXhYCxJEo9w, WClsgLiC6Yb2ZV_83qJD8Q, IJTjH1NzhNdIZ80UZLtfsQ, 4pSgle-1djywlyj7rdZsUA, jSYKcVbdiXNpeBrhVwgkiA, rBDXUa7frakVjxBBJL4ydA, U2aPK_uBJe2eSDwXegoo1Q, H5TEwR-OD0XxILGNaewohA, DCcffwrUYCGzX3-HVMEHkw, QTf6jl25zVWSc2ESz3vNeQ, AqD5aVrPDSn-ed-F7LBm9Q, zDW4FFCOVI46A2kzjEfuzg, rrdBtp6OP0HLs-BQc-qmsQ, A0j21z2Q1HGic7jW6e9h7A, Auvm3FAPEKUc4k-thKYKdw, 2JELdmlsJNqubj8S9AwMiw, 9PVqkbXavigsY6m-toZBYg, rB2E9vLyKZaDl5djcofdGg, m_69ZKjQgqu5NAE4MCFiiw, k6VEe4G7dXWhooqFIQcoRQ, d7HDtGyrHDGxVBZWOS2S4g, APJH-ZkzLJ5Ry9lBsvUwPw, o_tMfZ0auZ9TJh6RNWq50Q, PwTt4f4grpBOWj-Tchj8nw, DH4WuSi_W5YP0IqiFyJ3CA, 5Y6nXtuS87yjBnlXw8HufA, NrpIRvSP7eonXYu_qhFA4g, BAXXJrlGW6o8zWfw47q1Tg, 972omcSXt-ll1zrrQHSnoA, 8K0cRa_fQRoeuWqrbt_72w, e_JVHcOVqDIab_3v5E-mHQ, n31zWKg821H9iC8UDlQ-MQ, Ctbp-9aU3xw8YXH69iwsLw, 1A4--6GddhsjbkPqTPjBVg, evRwCG9m-lwfL5TeCwrAhg, nt1ILBATxQpSfdZ0EqHOmw, AHRrG3T1gJpHvtpZ-K0G_g, zwLyE9lZLDf6zOdGMD8jgA, D2WBLgdkgS69phazNyk8fA, 0MFR6Su_osQ2h8mkNu4sPg, PI51J_fKhEfZKhi-MjWBpg, dkkMQorZE0EF-F5wOiqA7w, 5KFHcQgSCzQFFeZ0u9W6Vg, Cr1-jItXYxrpeuG4abvkzg, IvGoufvuI6qqHXbeWSSAhQ, spDS7HPrOUc3wCNRyfSUnA, CsbAUkFP5lVFlrZ3L5vQNQ, vZLSfHpcMV44QhSE5znfBQ, raGcuVMo4oe2rJ235NdLcQ, Eq-d49GKkcV7fcQONzOpBg, NvLgFLqBrkO2oGFXb-IrQA, phYPpvkuIxBmZ7qde1A2-A, 2nenUjPFhIu9sJ5GL6VriA, gF3csxEmIEA9cJFCMSdbyA, xD-Ou4BhF53FAGVO-m-CGA, 7Ac606qRKGp4zaLeOMxgoA, dhXN9xvNv7hcQc8scagMOg, zUIefzuiSQHEtNNHkUkN5Q, 3Gyy-Qtw6VsmDozjmu3IFA, oYP8g-RggBnzjd_057UsUQ, jqvD8kYTVEEEJDZaXfC62w, pqz_e1m7PV79AQzJc0-65A, KG6S81gKP3Wnxce0qLcflg, eTbUDvmSO84aj8uptl_fGQ, fy3QpRjWNDHdRidZpb6cPQ, nx_0A4xoBvSo6owZY7Rn-w, i7ZCuMZHg0cS4cquMMu2kQ, w2nPbCkFkFcnSfhBsMqsjw, 84ZIMTZOiRYwQVgI94jyMg, I1AFcgNSVU-NB_iDOLVbgQ, H2JOSkOvyYNGzWOhAxq0dg, rFGsfTFFqaKULoiU0qqFiQ, 8N155aqhHS-iV05P721d-Q, rLTnipJod0epzJCv1Ojtig, 8tsTafbcGcDJv0N3xZdmGQ, MRwVBSvY7L0YM3G1ABHJSA, R_y69iVnYxgtfx8LxQisQg, VDGLcYtZR98KyxffCAuLTw, oAI2vwGoCZbp2_sS8aeJDg, E3dfnSs-DAQCw4Qf7J6zGg, fW8SmHasQqdfCgMrCV-MNw, qhJ6N4yG-kViq1BRDu5hIQ, l1JFZ648WRzaXHWhyq0STw, 4bKM9l6_N4NFZdYzF_lThQ, qQTRGcvQ7rIm-p4G8uWm-g, _WTkut5-fKZOkq5AeSOrJA, 4VTO476chO-o6pN8LUvK8Q, GSoeMQBUpXyoD7ffTdiaOA, uY0LXr7R6GIppLhcvpy6vg, rIbpMcRYHggTmstf0IZHqA, 4Lj7Lyb_KhVhEMoSo5gj_Q, LFMMq-lrYte9s8ej9enBPQ, q3RK8zKIgjOIt6wVMCIK-g, 05pcjWt9U8uSUft-EyJeOA, UW1DvS1dgcDTsXFhaLnhYA, 6hSNTPQ3Dn4q1cSXKnqyCA, 4fkVz_0HwtyM4h7NLdczGg, pz7SQ7nIxm8Fzj-rcedS_g, elzwDDs621VsESR_NCw3rA, 84EopsfQPrmekSBQcQtasQ, YZbfmhKsWCqoq8P0_iFv9w, GqzV1cMocEv-a0JkoyT30w, c7wuLKsifXms5BkRvl47mg, ULafEAmIRrcv1hRAUlqiMg, OxYo7aDSfhZOV_K2DztVlw, pWf17k3mr7wyPxADSxF6RQ, fGFuqyxTZUiCRqM-4OsNkA, 3Hi5jy1yQFJkZbQpYHITNg, m9DFkPfNqWMh0M273mfsXA, bq1KtvQmv7iaWBMpLb_J1Q, a7dPjzrWpB-KZrFNZ5HWNg, ADT5J9T2AecDxW11QmtrsA, BqEQ1TpQyhoRPNcM5hQzKw, ytkm4VeTMOEVIjrHRle8SA, MhuCrTRuAufRkNyLD94W4A, dwt7XcTNiwP1UJJnAwHahw, WUz8s1EL14E3rexUuoeHAA, cYkX8wvRLhYEFKbt5Mws1w, OT-0VdNkBh0HOQm1apHGNw, 2n3PaX5cJvSYLRyJcSTpcA, z-DgYXpa2BVgPAhCn2_wFw, Q38R2Oc-3bKbkZqC-kHYhw, E4tkmm4KPvrUAOxyMONbiA, BtCt8ZeA3XvR344Zti7mMQ, LpnrjmrUDyQvZodldeN_PQ, lGgbSv40jBDq7sqCKAIWhw, G_SsGab5KDcBItTN3Muwtg, -HGxT3OFId94lOmvBF0DXw, z2u9wAV5PSgDAbJI0lj6AQ, 5GQVK_CjN6BT7Uzv7X6J-w, JFRw1vNm4Hk6E8aiHUYqQA, By9pvkDDu8PrFRqkRrwL9w, fGRWdxdVw5RClS8dYQXmHw, p_QPJkKgHi8E0w-5SDJMtA, SlSjs4CzECMc68-0EvFtYw, d1r4UxQ1ffBfLxCf5VioZg, dtgdR_rOZzycv8Wz__-W6A, xw8uHGyaWm0d4sR286_rWQ, gerYEXDvopZYkXph3Yv_sA, D1d1qrjpSuziX6dFmLwy3A, IS9yw8P2uAPBX6FNLLX4KA, JKiXNyX-hvaSW5TOfuhnEQ, AN7guZhwx_jdmF0GehGLQg, DCnTz4FasrKXpacIR9SUYw, 1XM5jWj0j4r4yQOifQ7tOQ, 5Ujdrr6RwPMjoZskZGj2cw, Y2lOwCZWvtyLJaMNtWuHMg, fRpHHlAV0zrpMRF822lLPQ, C_TAJzxp9976HVKP1HYYww, hj7o_BPgj-HdLAxdKqdx-w, Iy1nw24qw4AFTulN9pmgvg, 1h1nAg38utTdmZDpWtTr6g, ZrarkxIF7BCb9ZCz797Zig, q05zLCUuS1qZvadmR4TDEA, vk6fuFRrZrrd0HXF1rLM_Q, 0WSAB-FodoNFhyBzkVsnHg, g__mB15SHx2IJF9yEX6v4w, 9f0ItXu2Fp6n7GbOlYJQ1w, 2kMBYokEyJOfF_M9WXgs9A, v2jKV1DyspmmWVp0hEUSZw, 3SMszLXS5YYhVoyeRDthtg, vbqoUpMLtDFp5MAjmkWeNA, N8DbTRfBMG6MWaCqyUr6cA, pu_AQig2fw40PshvtgONPQ, Xqo1ru1F7srvbUJaCNHkvQ, UiRx8jyS6H957ItwFsP2nQ, baY673KvStvBeypKnO6WvA, yZrHWMHvX5DXhv7aCo58rg, rUr0LbmJvvtSOXM4914K_g, NZOTHK7fVn_4L966mk25EQ, figUy9NovtLLYJsnNv7F_g, 3eIZJH-qa9Bz-l3i2xPLgg, H7fAWLCUI4f9TBClef5BAw, -ltsrbQIHk7LFle96iJqVQ, f7LRd_OxmCeIraC09ubo4g, 3TSWdIPQrfVNs_JFwwY6SA, T2ZdQyjldypu4xPQJRDblQ, 00F2VQ133Z0SW8q7LvE-tA, hhLAdNAEV7E4t2-uHX0Cfg, 6LdDp_H1jKQHiOKoTKQh-w, WXqPLv7Z6GbSxrs2IK72dw, wSByVbwME4MzgkJaFyfvNg, Nu2kOyS4ircX7rajM9msgQ, nMoIFAEfDGEbzULmC0HnAQ, grAU2GXnT5YDSkNE09v33Q, _u_lF6-BoCDTN_M_bRIZFQ, MxdblDt_XV1z2A-Ppz0dxA, Sv3Q-VQ4jBi1KPpdnKztAg, 3sJOd8vNmWs5BZyKp6aH5A, 2LPA8i0WC-Brp3QO1_5LOA, oIttuOcP1jRLnDUOfDAwKA, IAQLQVeVOC3mIRbgqV1u9w, uUzlGYDAMaDvvCgTb2bsJw, LIvR3XdUX-7VFwICd7dYRw, wm61MbTS5_3DX0vHnlVk_g, _O34OQgnyeJ-9w3VnjDR1Q, D2_pCen-sy7bDjV0m1ijHw, 5tTyKStYNwePtxSBucBK6g, f9hMlebaW2g9r9S747TZMw, bV32kL_5R8uoaVg82_Jl0g, hxdI3AdBJ_8O3VHulhSaWA, PKrpgvwqEtutn9xnbDtmSA, cmT2QXl_41MRuYvk-ia1KQ, rg30WnelnsaDka88wGobCg, x_DLyD2rvK7j6pKEgMhFbA, yVy3WHTymMM4JS5Iqd7JvA, 9rEQtVw5En6jm8gN9vCWPQ, nUHQDBJz6Cr5GbJxOy9-Iw, SKWIQkKWdxVHrcaEC_AmZA, hcCFyJJt3OLV1OtPlQeDoA, qh5hvsxpHm7k_Vnx_idF_A, bjtdW0YhZqj1jX4G6B1Cgg, skY4hRpTDABs_Sg5X-bWdA, L24HxAh3iFuTJpYMzyWOZQ, hrWnftKtSg5kOlMkMUW0cQ, SqwC0E3vMVIsDM1tZZs6rQ, XtrE5fqiSDr0L4dupGhexA, Jxt2Lk_tMPKI29YHl6szjQ, Wc5L6iuvSNF5WGBlqIO8nw, EevDDorv9uqNHN9zzsXccg, 5UNPZrd1nY0nUpwYWGWjAQ, pqfcu2Zy0-JtmAuehq8uzQ, rqJ2Fx1dZ40M5NqRZrt0gw, PpqlGapwJ8aXjMZg3tHEmw, E1AksZ1Lgm811JvFhJDINg, 6omYIh_HF-LkJLB3BLyCLw, Ms5JzYPZpUxsprV0MABcmA, LMLUcH23Ekm01Q2-1Jtbcw, CXYZi-TAqYGJcHuo83bXCw, -3paZwdNXO4zRa55ZQtNkQ, Yc_DAhEc7maqaRFli4T6yw, AB2DOb1feD-pXcrcdecvLw, QH9L3GhzcfmUCzWOGQ3EvQ, egZgcdJ4Kvevn2bBCuvVeg, NhwBxw9yWLyWMTxGOoNUkg, 5tAupu4luR5o3nPqHchWUg, TmDSFVUXKjRGBKBDrdr_3w, D8FOHNjPwHUjDrbjf-yhkw, QZ3FD2WyBf5asELsQCXH0w, 6u1WKhr72bjf7ePF1T7ajA, SINDNMObhllRUu2UpciMAw, wvSRf_ViAQ08RjfosBxMdw, wrZ0Y1cFIkEQwut093rN2Q, QhKMySXiUfR5B2Zpq-JSkg, SJhXDZvFQRb2cQkt6SJDTA, 2xF9q99RV_Qhnky0rPZ27w, TSTikOawc7TbmC_o2qbIGQ, YwNLEnHC43zD6wSY2d-_rg, 4yfMubwvCq_aZISQ_Vn3Aw, 6tPXsiDVPbJhHpufXZye0g, HeYwlJ1wc8lg85DJKm906Q, 3LIIBISZfTbe4SyIPjCq0w, dVBhU6KLV8ggyZHMr3MDcA, Ms3ZdWo-6apvu5LRaajA5g, jkJ2UOWgVLmd9fvBtptQoQ, FougMRcdlvsmNsMAgoz-Lg, PpJJSdgrtE1r2J0E8CpyoQ, omHBWBqjCUQ2bDYbNz03MA, I5F_XyBFf8g2bt-g6q0lLA, Io-aIRwp_ChzddNg9X3kNA, C-W3PEwk13mV74Hc8UB9Zw, 0UeuEY7HHOLfEBbjdLzZBQ, 0krKYUbHBJC3nX64SxAs8A, kOABZx7hr-83iKK1AqL66w, jc3jhh2iQ1dPnT7rPI5xvg, 1EchcNeHE0DU7rcCkZJbVA, BwH09AdfMsuH6HxiXwEg5g, ksBkzFRMOwtDiW7KMyEkYw, DwAoC83Wlg1LnipfPLmOyA, 2oMIFxJdft9g-0t6qJj8TQ, LOLGcB8sZy0nQ91Q9ESe_w, EXKDLuYoZUKUNNNYA7TlGQ, cVGMaIVvadrcH_ItrZPs2w, gP20yP4taj8EKLdV-P-fzw, 5n-q5h4xYeJVSNk1TKMMeQ, E43QxgV87Ij6KxMCHcijKw, T4cflb-H2M5W8_hw1OqAUA, Qd50vHXMDilOhcj8q2lOaQ, fvZNrTdIDMGty7Kqa5-z9A, q2vt96WEQ7_pnCmMYbSzjg, 9pou_CUl8OYBc1e9fDL5aA, EXy26DBjtS1pLEb852t22g, Cx__oJnyxxO00Q6DRUs26Q, jrttAqimnk1dhihZ90kulA, 6ZKlPUIcbNO77nD9zCApJw, C3GioxTcD5bjaweBOatpcw, Eo4iEYfKEyKVoNOzJdY2Rw, RBWQpImPJ5Peb9Di2Jogpg, X6-fqQJFul-MVB4d37q7RQ, t2LoCqGXkr5mPtu2a336SA, 7TLbY5i9HX1_uGj7T-gJNg, Ic6-gs1_FjrWGx6JIr95Mw, jg94Va9ggC-KDCbYJNxwJw, J1JI0BpvzLE2aXHpY-zPiw, MByYNutOWC938H_-MjyjoA, zfWB7U_bJ_IS04pYQ8QHhg, g70IPltOErrrv1d6jFo8mg, BtaZ_aACWeBLC-23Xcredw, xlv8kfKEy5ljkEzhuYRNSw, c78V-rj8NQcQjOI8KP3UEA, RBZ_kMjowV0t6_nv2UKaDQ, GM4g282AXED0JyHHmTrqug, hnPTPyh6wNfZe1GxOm21Gg, Q0Rknrzq3CpV79KZc65F4A, SfRCSBf1d3s7ToY2neXnBA, JVFlUIfvHHsdpWoHlgrCJw, V_kpXwxkaji_RV1TZTlGsg, 6a4BkSo8TjtJlawk2CFD2g, pzu4YskxYf-NZqK1KnybsA, Mqz24mknJWtcegITB4LxSw, NoJyv0pHrcY8kWzgYhjO7Q, ORRmZF3sxBD8sKMnUqr0yg, 7jTMa_Zoa4MWn08449xRRw, U_8-uJitZmZnCdyO6HIsWg, Fsr7IWVf6gLj9Vwg4sHz5Q, v4BYqlCg2xVYCwQ_qXNUAQ, IVHiP9mJD-M82NBkzX5M5g, xzWwfb0iVk4w8u1laXmuSg, D1iPaLo95SRmlJJwoEFQXQ, knuV5nP318ei36kHOUO2Qg, SK_uJxoNO5artojXa1H_BA, KExHJsDVw4pkprf5ifxJ0g, wKjWnPqDzyBTRVlIJ3baLQ, oQGJA2odaNU0WdY5jYok2g, _Agd8UV5m8ukcW3CJa8icQ, KMC1e3hvOqF-RQQaLCWvig, Q9mA60HnY87C1TW5kjAZ6Q, 7WOfuNxzKaY_bhgzvE6wiA, e4mPhiUpHDzJSm27p8rCvQ, fsIBd03OYyvpKZeGw52B7Q, TmDaYip-8qSuSIMtYW872Q, ooBKO0v4P-hLDn1Yg607Xg, QPzTMnuK3S_FEAONqWK9HQ, _BeYEdrj10y6itOvpU23mA, M7kpgAs7zPvIVVxCV2gqLA, J_ZWdDmxDrYGH8l7SPPoGw, w9RhIeEFjR7Wj2J9YnblIg, iENsOC9TaD4qjx5MhBpFDA, M-wOCX-5Ep1jn4MAYaE2gg, ZngnXJWz29yEDXN6IgbWGw, AncvRQjxjbu4sFjnNcLL2Q, CbRrHbZasiJHSQrIPI4iBQ, ydFMsDh0FyJC0nB03hHHHA, tkcqu5zC5lFXBRxLfm0wWQ, 2-LSWFPxjHc1KFvRhMAnpQ, pEMWzZ8qWY1T_K0HUoKDIA, m6OZG66JPXVIZRkqm6reDg, hl812QcYcZ0cRP3Hxa52dA, ZdODEy4O0-nPdPKwkdQkdw, LMoK9BUP6Tgfc0AeDVbZHQ, jTJbd6h5Py8Np8NwDv3zaQ, sztU7PQ62rRmT7mhomjUGw, CRuHWJfX7Y4e7R79v9M5Vg, BqoSJngpnyBnjnlrxRjPvg, 3tQRGbWJyAHPijnlzhhTsA, JspyRfzGVdWpTDe6MHQHYw, mPtzT0vMBloh0RzINTq1tg, iC1WA_nixdJ37iXWthqgKQ, EEWaEdr10jCtAwyK0U8_dw, rgdtmqEjgOdKuEHHlYzNJg, X8IHQ_kQHQF-v4YCiFVtUQ, PkjQ6N3JfpV9xyXLtn-6jg, a6N8JHlndWAgYmJB0IF0Cg, -Qde5WA5dX_Rusllc9ZPaQ, 3vM_Z0WbmQJWee7IeaPIQA, c4CDRASAWhb4otOPSmZiZw, JiAMgI0vtrFxEA87CUMJ_Q, 2jKEiTGB_mLfCfXAIr8jqA, z-NI4IRj6f5xLxYvl8hcXA, tJIzUxwfaLDwO6R6wSZ9vw, f-ysez9SJSosLUON1BihWg, LrsX8ioOG6GEIHfsXI_9GA, C3Hpsx_eDfeSmxEc1HBzpA, n-PgOQeo4FWawuv5sRaGCQ, aqd8ykg0wO1jOamohkm1iQ, vhrp6p6I8FgwfW1FFnOMsA, NhYnh9l5TAdeFBqJp7Igog, sFxl5GB7mXI-NeeIlqbX8A, WlQxn5EKSVKJ9zT_BOU7gQ, -mSM1SBFSe45dfneuNDXIA, -I7btUNRhTSS9EE8igtpjA, E1fwWKQVylzu4KLJ5-HflQ, AVMe2V3Ru19nD_bBSsiGRQ, QLh66IrhezQBYKh9AOsGpg, StvxBMsttJuDbMA5h7Aaog, m1AUK8tI19tUT_N3DMkyIQ, CQUDh80m48xnzUkx-X5NAw, RykSInCTYynaLktVCUDvUA, AYQGK2AZkIPkrqgAb72Qkg, ogoOO4mz5KIJkIv3OgjIHg, Hjby48HB_t-mL9EJtNxbMQ, wvOOt1typVqbEZhK96sFog, fkwe4UPhjbF4yNVk-rtQkg, LHZfiocfMPBlqu-6vONF_w, 9DT9Br5VXY9QdSzySCIphw, 7UmLcpp_A25ju5CJKuN25Q, WDWi1l_eA0oQJTwJnVQngw, k7QTt0bk8F_uag3W3MmsMA, HpQ6AMW-v2iDFPOE6fkm0Q, 9qIUTUzmEzJRD-W0tdYiuA, Ct9wUiOBOJCk7cRjK9t0UA, noYBHfcsJ2GBVOay_sdkgA, vqT9SNut0TaafyXIkfaxrw, NP1LnWyzz6VsZ11xfspQpw, oIUOyrMfDCE0gUXjt3F15A, 4pAUswNq5A4_RbL0EvXRng, pN3QTIRIS_XyklEkHjWOhw, fqCtFl1Rd86EOYAofxVKuA, 7maQzb8Ze9PoXuSVW-tldw, F78tJHr0qW6FsYBtWMmLpA, cGROWEeORJLLBkzlpq9gag, 10K9fMf9GvteBUVgIL4PTQ, IhtATC36WJSuOXRXQbhQ1w, w1O5Ifjaf0y7RDJjFWEDlQ, jKH6R22mEBIX9fjtPZn5fg, 7nRSU71S8mTjFOjc7ztcJQ, a10qLAGmgBy4cCAHNoULsg, ohYnCSs6eTl7O6o3UySpgg, 5JTrWSZf0CT0v8eGrDUx9Q, XCy4Kf8FYhqGefrWm9_i2w, waFVmyoTgu_jnbd5wTi-ow, 2kwzrSO6HNzBEgairo08Tg, WeVkkF5L39888IPPlRhNpg, lFmQA9EQZmH1aymidj2YOA, TVP2T9sYUwn_KXfZpqpj1A, drsLhxMw7PXEi2oZE1w0PQ, hcZqq-a16ZTjaM2p2MljTg, q-BLAuwZpDvXZiIVahG2uw, WB_BwBAZlipXu1RTUMrUlw, ajbqroSHJkeHAVOwWwearw, L0lU3OpmMcQ5dwCf1OOrxQ, CRlcluQV77ocXLjioJxqRA, gKrYOha-c78YWumtKU40eg, 74Myfl8pOGeKcmkVTimsvg, zgP0lQWF5b_76WhFHjNidg, qZqKSuypXuh4jyMnUvKlQQ, dhrzylvHFIAtLEbI7WPxVQ, VinA5Nlf2qSo2uNWvnrsfA, 8X4zGMSjo0SZS4V_NUCbaQ, 3AXFhz6MmQPh-iK8748esg, OAlxlDFxQIYbtXNWjx_TDA, Ww9IvgIEWvLhx5BtJkDtmA, fhWbnHmgapms71SJkymuHw, wJL6LoWv0Q6SYxgrvnWF7w, eZmbxeSMgdfVhk6RGElk4g, qVRavGPFSpCarN21vCOHRw, 8zXgNCkusOHMwh5Tj_8yCQ, hUAVAdSJgleBb8Av-pe0kw, PkeDOqXbgEOkR-aKUHoQ_A, RuYYtPAdhVjQ6u6GqmgZHw, UwZB0TNox713OAQN5xgmRA, I9PpxV1JrGATW-u3gew3Ew, Fh6Z1bygVNsmV_nHdGKiSg, BViBoUCdaDIV2Gzhvyx82Q, 2KnoduMAam0OkBERfv6Uvg, di8n-g1-LQZacB8lUBhW0g, p6UmJIM-nUNyVawbIJizlg, ff7JStZ18Gt-l69pIi-XpA, RvCYB1acQnVBtWoeUIK07Q, BSVThVjjFaF5orzkW7Of7Q, 9fWrp1fUlT1FI1xOsdIpfg, JK8aciYyHaMgukO1hc5RZA, 6LQWMScVWraQsc84VdAObw, HFFSMBta_aEkLcyDOVfF3w, pPyprfFyaKm7SGqD-__J4A, -GKEFg_92pp0q842clS_Jw, C1ssM-ZNjUwugRHIPXwYrQ, qVEmas6gFaOoRLAhLIyJmw, gaw5VIe7hdzcdzhHQQy9CA, IHG2xT6U2zSpow_w2spmqg, XBkGQOSDZrNKsv5KGiec1A, lsUDM7gK8Vz-1vHSZj4P7w, CUqI4GQJGnfbHsSStUUKEA, awvS9_zhu92BCjweUu3q9g, AaJ9d4OrFmgc4S_U2QiSZg, 3NY5kjg_w_YsC90NPmnwvw, Sb4aEQHKeVLxHnQpKdETGw, B__RplDF9jcGozvMdTd47Q, GerMhlVWTNkcyI77oQ8Ckw, LAwptwS7nJwPkV5Niy9jkg, 6tbXpUIU6upoeqWNDo9k_A, 5BOtCAgq9I8su-R1HFnR4w, CAPzxiBgGCzE6v9aecn68A, 9CI1qqyKNc2pytZi_s5j9w, xgNvTTJs4CtLz51Kiw5cbA, 9qBo9zpu6ANVbXGIMWJFZQ, 3UeaKeT9nKyJya5S78r52A, RU1TuPUCiBYAlAIN97YNag, rJjsdtbROBc0LtNdFfub5w, 5NCKuC2ESkDQIsy1gc-dlg, Bveyuu-GqeQMf8ereY2I2g, DNr1zrOOPgWcrWL1vFhr1g, jWQ5r62KvOWm-Cdbp6uZOQ, H4xuONJuM6geZox65s5FFA, OPsI52JQ7YLsyhzC8UwJiA, nPz2xnwQV9Wsi6F--tvlPw, 88JX4e9auvrYfRsySSlYrg, uQJ5DQJn5tv3GM-u2RIpNw, S8_zZblzKcp85GBe46dHhg, nWxvB7rz4_FkG1ATKQuy5Q, KlWkTcknyRYOZHsf6djQPw, yFT0lHvirI67RKIRzzMVqQ, Dx0ACfv4VMBNg6ELRLXtgg, xfLs69jKMTI1gV0S3w7Rjg, xvu8G900tezTzbbfqmTKvA, BbCDejjuaWpTvwlIsae0hA, TVx59NmXT4hikvFQvPcvKg, WDpvs6U_TCx4799oxXcnag, ZVa664jWF_Pj9Se446OeNw, zze77nEO2AP50S1q_qRYBA, RMZ8lyigZW4wi-Exf8Z6oA, H9QzuPZn_wWlx0NYStSO6Q, M2RpII3Fpf8T3Qra7rXlsQ, F2XBg6PcM_sxjMxJsTLCAA, jcCyKF7HBbgIVUlfgvAf6g, 9RQNl24yvHy95BvMHZ_JcQ, 9b3N_4DwCHYNZtGhJSRdvw, oPTb71oGPZq-wOGIWLKnWw, AqNFG3aBvTSXbFlXAwub-w, 6N3mHhyfcd40UA-1v-fZqQ, hqzMCr1h5PldJn9tR0646Q, 4my0cylf-8dOpSITvu6YPA, qPB582fUGNpE0Z3Hxqrbbg, TENUlNZxOOJAuoa_5ffTKg, 343CDAgqQvM_oMgFFVtZ8Q, BXMQFF_taow_CnhkUkGilQ, d_kSpCssDqKFz83_kQWsPg, E0VlCJzStGIztTA-rZWX6Q, NMJ26wvVf5F1J74kz5Iqww, Usu5D4lHQ9-k07SzRSz_Kg, Oosc-yFCp-NEhWAknCX2NA, UNQT4GrN4AiNw98onZkfmQ, XvB5X9qlTnF0iNPc6PlKvQ, gBEihTFxWQ5CzOH1tGjAPw, qhlO5oEiPvvQ5o_uYrr73A, k1qHwwE8l1IorL3nIV16Ww, d3e3qEKy80oZg7aLzyQAVQ, 081v-QAkqoXgtOr9b4pqyQ, LtdeIzUQR-McNnqIaSLQyw, MT-73fkI8lI8Yst-6M_-cA, Q0vVbhgIa_k-OsVDauc9tA, 3xT6by94wrLh-AKAdmV-fA, feX3w_dYTI8YUYrw47MlPA, B1P7_f_f_9kBPAToipbEnQ, G2m8FqxEuYpjPqt-iXrBKg, GfM3RBJU4MQ9CGbADInxcg, xxL-DwwdT5VGvss9mCzOGg, bTwIhZ451dO6vdF7IFeCAg, rp9ee4JmMVLkW6U2Qa1dlA, 5ZoFDxLOdP5AEZ5QRwV20Q, _kb_6JCq8AODO-M8x5s3Ww, LrTJPD0wO8L_zBbWwzbirg, SlXAsp1lJVVPDFz09s-G-Q, uvYzmeegLOMrhXVv3FWAtw, rPN0CLxna5eR512hrRXKTA, 72zOsYS0zOOBxs-iegaq7g, Q3io_FwLASE6cMRf6nxO1g, V3kfu4l9VtkNYQSVFCDBwA, SK7dj3jwOg6X3vVn4GHZvg, v8yim5Lr_gJRPexTdP7s1Q, 2IO_0p-QOU75s2m1rgbMcQ, HbWRxImjjk9tbMARaenRTw, gZKrQxAG2cpsXpwOMLvcow, 80Q_KAMJAYMEWok2G_KP4g, MnspkEo0l18Vnq9BOPR5fw, jtkXg-OITT1Wvq0jCpLudA, 0Hf85r3hTBO5_h4Ufs0yFA, c09dikfnSO4bHVZuuHbffA, BvmdXMyHqQeWA_K_Z62OMg, UYUPodKpe7iAwq9__ZUU4Q, fwgDD-QryqtHoLaaS1gtWQ, qljmbW8Yq55yWJUl-kWOww, 8_T6gcpFGIQZwx_K676dqA, J4sv-OKmwoCE1YmMLdhKog, 6xkE1_wbT-3vEXI82aKPeA, H5OeDLSSFpgYDs8uB_J44Q, yZrEGy4u17Zh_a4wmuW2RA, JQX7cVRN4iySbcrz-RPeqQ, ApV0i2K9iCLOcDVSGGGX-w, NlDLHL8IKBdBkJZT3oh5-A, 33yKoZXN6LHEwp6op0x2oA, TDwHLPszX0gG6ubEWK5yjg, eZzlizYkMcadZwMCXJgsPw, sKZ_FtE-cPzX9eGNQ0Mltw, HzRUnWTZY5Q0zvRlgimDnA, img1pGZhk_iSSIyS10rF6w, tJN26kuHD2FHpdOCLPJUEQ, HtRpPx1tr26ucg3EqDmsQA, 8VzdUKTf-RsV_KuUMElZMg, RYVmdVIZ95mOinIXrfaJyA, F9IanrsSSPjfBahEBB2Krw, lI_BQEP8HctfwKQQc18EhQ, nIXAMwHJ4FUHkETntA4aaA, GIoIb40pC6u-acOL0hXU3A, bpwZY68VHl1AZArScbP2-g, pSoq8npeQ7t2l9qmVL0o4Q, sraTrYU-7q_bQ0TxQrLJvQ, GYLIjGosx4F-ZUu7MEl8aw, Z2B5JVZKk9LEiQDalqBdjg, _OiPFJgVZb6ziWanc9Pe2Q, z_kO61KQDAr6QIq6CVonbg, w5i8KsRQjdkIC97nOVcTPQ, A9rHs260lszlmShrxb2Q-g, HUCarxEmC1p34a_VIOg5VQ, t8PN1mFxF-FHQc9cNfmWBQ, 2-3a1lAZmpFanWCxHkfhcw, OqNC_kzdbDb5WLW-fZlBYQ, 7a6D1Z6qzmliWCqL0q0SRw, fOvQctMBYCgK3jLICq4QEA, 5Uo7UM2biDjzknGD7qOx5Q, 4cbcPu_1Qjas-6kgOCmz7g, 7IV3JXTXufasWNSkDEdrcQ, PPuK3vKlgoWlTF2rfvFD8A, wuYqjkBHfsw3sq-M9elEpQ, 90j6qZ3ObxaY3cSbZRLHoQ, peuxbSQwXed-81cSqL7Ykw, vqXRWkloumbayzntY6HOGg, f-DWkf7YU8H9jCWcEnr26g, NGCvWC9jMEQrGe7z04RgGw, QpZrjbgo1Lk_M7WycNPD9Q, U-lk_RhRL3PfL7gN2Xn4qQ, ZV0M9-zgi69LLgf8hAGrRA, agpIh7qcaVtPrCqOjLhPvA, VWaT2Cd4wQlFJi-t7AeJTA, Xv-JtqTJK-RV0xUOC9XSGw, 7JpPvfDAE_14vA1xgFOFjw, _P3KKmMs364IWyPD2pxSwg, ws9yiKtTlwaxHyUj2_uWvw, yig-0Vgh6uVNBg5Kr4J_sg, YSLc_vQ9bhjcj9X6-kWfBA, UXBYCdQSy19sjDhCO-9LHQ, JFdISiIJLfSKIOt4od230w, b-zE2WdVZzXb5AdKwLqJ9w, DL-KW73oKYwmuQV2LW-unQ, 7oD2MOQi8-cQtWMGCu8oWg, j322ToCGO1bJ3XLQNF2EGw, CTcK8Y2MueCSED-SgzaxKw, Wo4SOSTG6ZOFJOHbNy-YYg, Qf5dn7W2o1m2drqV92bzfA, Eb33CDHNMEHsnycXu7Onxg, UKSw9kfoBfdatSMUl-jGnA, SEG9RyI4udi6kOQBcVR3cA, fpYMYJowa9Levq6SszNcvA, t4BEQj-T0DoV_NqsWfcX4g, zkAiEpmrcgQApIAftePAzQ, RkVc2dkOPgE0CBHNuFZuDA, AEIcP_hMKphCXmDjr2qLZQ, td_natkGnGYzA2w7qsUsQA, nRt0tWC_apyxR3rSyKdSQw, Iq758obXLxnuO4tqkoX5cQ, _FOBm7ge_89DRZAVLLqrxA, RI9U93FjT0bKYhz_io0wHQ, sYvyHEOzqqVKQNgGxpeREw, V9pg2hQyMvzVGRT76hiwTA, Pk5pWlKt7GkDUDtaSYb-NQ, 1f_okZXjbQVptz5DBgNB4g, eYetp5tGziu9TOzR6ojRww, iLzf1H_dfGzHeo6bsDVMNQ, 3Ju-rgeYZo83pp7-IzTyrg, 418F_vnEiJMlU-sKpGttHA, qUkCe54rykCKeEhCGKzDWA, QzVLe_5eKc4wy3FoR06q7Q, bJqGtnn10qbmA5g1VjrKRA, LZebUuimpJRNOaw5X99LPw, cT-qW9c0E_1UV46KSQCAuQ, VqD8c-afc4A_hhI0wxRW0A, HrtR_gijmNMthywbTtkG-w, Ls2StWJi63YkwCN00A_17w, ZNVjBdQD95LkdRU0vb8xIw, Dq_Jkpx4xpbh4iofayOr6g, z_AaPHYvJ_qc2I61x4q0sg, QmyOYaOZqbD0teQ_4DfK6w, Wl-euyWUU7m1MgRVkZ5Cag, 5l4PETuuSGccqwM_uf_3YA, jVYzrVblDFSuL3GHtt8ZSA, FQwxNinOBXofW0rkeoafaw, EJUAI9htSuRNT7DptCk5eA, 9oVP1DCLYYvZ2_n2-vBOiQ, dCATwLTGaDZAbSFxA-4pkw, L5I0oK8XdFgAX0UBLkvkXQ, as-YKy01EGCRhAR9Qfqnbg, 8RcEwGrFIgkt9WQ35E6SnQ, nD7uM8oBhcp4sWeXiABJuA, E-l859cXysR01w-_LjKsNw, 0KbF1MtANxdwu4l5bdzQkQ, 1HYh2HITnAR-UaiwypMCgw, zpnd-D0-ahcfrYYLvt04oA, 6DgiIS8jgceOLnW5QQylIw, 5A_5k5tD3DqrxIT35yVGEg, y5Lp3v3c2MRN8hnv6NDafg, tMjkkTZOeqW-Wp5JwqstuQ, 3n_QYiWlZdt5C9ogbsLEdA, 78-M6-TwfvbbFDtpJF1bXQ, 1_JjYo43dpLVIPYBcntdkg, y3W7oMBVoEUC7vrd8kCAWg, FRKnLBnlFiasr1Dc8oOIGQ, aW5yXlHlgVk0W9hv1W37WA, 3objr4rUjUhUDo9NJj4qiA, qYQXUsBXW0nvkl9rzV9U8w, 0M7qldVN3TtYw5BcU5I4_w, tS3SNtkGts6gDXTpO1jFrg, _jjaEH9fBGOAix61nsltkg, F_1POtUHu8KyIRcKVxjLyg, VlLSXd2_YRYyEnXA7-1z1A, sl00Q5vjAom_hcuFBrHwRw, Lb6jO7qrlNj86V17aCZznQ, yd5pQ7C3NTSrveNjj2lN3Q, d25T7Jpxc4BJARP210yaMw, d5bOuSZxR8_QzU2nVg08uQ, LBNSZbajYr_9K8athSVi6Q, q2tKokhgU5GgFFJRzETrSQ, fHH6b6yDm1PSoC0G7VPRdA, JQhOnIgDALdsXQkUwk7Z0A, zokOeVs4Md32jyB0sHXl3g, 2HXzmRsuudk9k9UMRsILGQ, XHA4bSJs8tQfEUND4eq1Jg, mx0AZEmzuFg9ZQ2i0Fak4w, FMW5UU3-fPE1QyqMlVeGdg, E_EB5khTIBNCnWueA3Ex-A, PRom8PhNRq8q36Zv5stSxQ, J07NgEC-sy3gs29nZ-b1qA, syA7uYoDjohc7gWBWaEZmw, hPuQIudnLHBJaJL7swpB8A, GFyA9ULGAeD-xZEPto2y7A, A5G5Iqvvb37Qf9w2v-csUw, Rqyopl4UX2Yuksn97yR2PQ, pou3BbKsIozfH50rxmnMew, HT8OLxIDYGdTAXI5SO1ifg, lp3-aLFmcOQePCkrxFE3vA, 8NMc5J8eR4APLj1goo7dcg, hjCMbo8mx8OT8-bPKrPeJw, bTZLP9PiAQy3IZ09gpb4Xw, Q-yenZOAFQdSpuIaQO8FDw, 6vN2VJtaglCiWJA34vZd6w, DsHkwKjrwl-RUxTvmFcO_w, GQXjpmB0IASU8W3GGRia4Q, -PWzzCskhFvUGPEQGsgTog, QdVrTVr-HbjXUbHRUOBF0A, PAbX2enaEQKFQoPgwB3-_A, XeNiYOqzlZmFy6uNCrCl_A, 8151wjkWODeimnlCFsIEjQ, BbjT5pj4YbU9r4OLD1RYsg, xXH5v1kl1r1PU12Mb07oEQ, aBsiNLm_glGx-cizDnDqIw, rN4RItq4xONM-cjgSfbvDQ, v9VCObZVWhOPdm1rKt8Dvg, cxlgoC3Ig-1Qgqa9gNHAwA, TnvRk0LBsw2FYzJdgP789A, d19VWxkXk3glukbSsE-VUw, KeqTo5kDr0OqQcKP0FBEqw, 4NsjA5EhGevtTwCB7f5NmA, Jv5iAXxpALquHOjHuSseIQ, 7QTVz_MH4Ybprhm_y2wRWA, S90cznhfdL29yMSEZ_EnJQ, a20ExmMjVjyjpbBG1TePBw, AkIZlaQe7GUXttx_epYcfg, KzKb7hRHw45AScttackzWg, ukJIYNNYujvZa5bO4ONvPQ, dNGQwAjxG3fSTrtL6qHCJg, mOfSrX9AZVbY1rveWNh4Dw, 47qD11fyS-3Dv8Wg6VYmvw, 42b9Yc-M2WDD6VXII69b7Q, vkQVqS2PpCAjlzy_EN2NKw, xtcmuTVCYFCUSa2-dIrxCQ, 1DXNYUy4zrF-c6vbfvA8Pw, mdTkxxa5b0sAZRW9wQZBAA, YQ_op5613KWtNF6LUBY61g, GDVDWlJAneHlpr5zbwshCQ, 7oo7Bke0OW-6_aAHb9olrg, WNZfkL4DBspueoGSUOMAqA, LDSNM_IUxbZamZBmVABemQ, OiRkouhSWDb5wQulnqBTiw, Z4gdi51qgzqyqt6bwfqPNA, 65shcBVO-we11a6LWpsdSg, b6U7Pgjwp1f0s52xQFM8vQ, ypkQnfi4nyOCaEn-kUCU6g, FgOciwxRCgy6hOO8f5L9tw, m0fk5A_wmCZ0M3qwHsIUGw, HV0ZUWYpEywTuJ-3RCl7Kg, CNdJaOdUjLIceVxhWcMNRA, ZoFuvG5D-nIieKYxQB-siA, I0fZUg1Ht-5E85Rs9zcihA, II7a3IXN0yan7crmPMdYfA, y6SdzkzYUsD8wKK8t8gTNw, AKYT7Ky07-3MEh8NtC37eQ, e5SChJAjxvAYRX93OXK8WQ, aM9IB-cgCgNTOaD27825Mg, jqp5BEMzEUIWTCt6pezS2Q, x7v3sLJYa8lh1mtt70L_rw, r-Ylwav3TFmum-0iWqrq_w, L-aTiXbfSeWuBpqSPjT29A, YsiTu5DRllSUyS3xsZjmLw, 9EXe1IpSX9H6OhEAXftHnA, uWnVvgXhopXEPdEcI2vXrQ, YP2-QGIiBtxh4CofrabjyA, BlQkk5V8Q5jcN0rxU6xIAQ, KluCPcrl9oqFoVHZW3_n_Q, ZaU03B5pKMriiuN2NYBaQg, UFEa58IGAoBECUPIsId7rA, FtrOUgjDEVk99OD3xTBrcA, rUhmoZaOH_cZvJhRT8MK6w, TJMgOTcm2ShyOpablSYbXA, RrWpgjirADFUK9jGF_Uzmg, PUae25RpLHQyMYISMlulGg, iqh2oHqldHIasT_AlcjWTQ, g4LDCHUV7wGiNwH9OB8f3A, spoB6U-Uvto4dqhPLku-mA, 0ugqmVwp18aVCbzoI-HQtQ, s6CB8sohXlCL6XZDgAy3SA, fj3RfDVZn97RzaFEBqWRVg, 3NHgOT5EMoLXMHAlaftBMA, IdVNDNQ03-MQrjDZ3tbxvw, l5J_HyR1xn8PkqZO3CVV1A, cyWrqEUooJamPpbfq-k8hw, YiTowKHADual-Gxngqemqw, C5Z9aF7RAudlQysOINRZrw, 63SQPROZ48xwGUb2LloFQA, YIlY03dS0YrJtba8N-tMGw, SoyomeVqmZYGZoJC7TQ9ZQ, a5qJhOOQw5WZpulsgQ04Fw, 5JqHKfYO8rrUN0VlC9_RXg, afzRHTXn5KYFUwP9eye06g, m10XFifWc64Qg2rGYJsEOw, v4so4-Gdm4aqCdSAAUbzHg, 0Q2qqDuCFyblx15D6FHzvw, lj22D_jA-b28JY0Lvr536g, c8dA8S2s-Ft0UDE4MeSNYw, NXl_3P6ftT6elJ6oeM_VqQ, hbeGlLKYKyBxWfim52KdQQ, u1nKqe3vDY8iI13xa4B1Pw, f9xHtDot9Yjqalc1x_8-0g, Su70sQp8xpENgI4JfNk3uA, N3KsaLFU1CssVVka4aU0kw, iB9PLopL4ASHTAx_62o05w, vVYZmlco7x4KK_wY-wO1cg, _1-vheNMAWoAeBdykuZYZA, 6smxS8LjIARQo-5d1UwgxA, ApcBkzRri70YR7v-phnPgA, dxsgjrn96CqkKntV_1qu-Q, 0sAL8xHBC1h66ppvsNb6zQ, _vSA8Ps9s_npHOAk99p4MA, 18YMA-abof4NV0_X2XDgEw, Wh-PbbdbeYlyOGumxTwFJg, ECM9zMLWpq79HozV2dZdLA, W2qtqSgmP1AVlMnk_V39Zg, DNmeLov3wXNxlxjN5feBoQ, 6cEREiNTauSVYs8eupcHhw, pz0LoEHTyAr5mlE3nT2wfw, fk_XiFG2uDZJ3E1nKrAmJw, CShpbzQyU59Ev8VkIHUWsA, us6o20E59WChdGGf3jIAGQ, cW35rn-Q-iq5lUOJCb85ew, VK-ds3dGSSBoavkFde3e2Q, LwJbUgiBCc51_yd2s24k2Q, C9cFMxkQMjKKeY4Tkrcczw, k7oCOPrtQ-2UcU2JP-cR-Q, R5uL7DVR1G62ljAxf4-_UQ, 3BiL1QFjzE-tkz1vxFUVwg, aBPYFxpXsl1lsyF0XaHcmA, 7xPKTbOEYZXmHnUzXq1ACA, hXg7SH428IiVqtuycPl_Uw, 2-sRIfKT31GFQD0OCnOmwQ, p_Dab-fCIi4LjAzeS4uY4g, UBB1otdjgUl42gyr8azeAg, DctS5WBmYtrHb2_8cU_iiQ, xvpNqQ6WCrxKbJRr51vMIw, iHojN1T6f0W1-Ho2_muneg, 3XtMlMcY4k1Rop3aCUrn6Q, 1oZxIoMmIX71PHt_qYOiGQ, bEOV8xVjpDeGX4WSwijBnQ, s_HiwPvBbNVSa9N_no9NGg, hj0R7hzPLOMfVuK93jNSiQ, s_iPFPe0L-_fmBbykebBhA, MKDVsEzQK48og5S0MItoyg, r9IzP_cX4fjdX6QBQ3W4RA, bxz_iJRHZawU2GMBKZ7MgA, Y4WAwNxDLO0NDUc0zSd8aw, hyBqbsjqfczTlrcR9Xp9eg, n2sigCos5GF6F6lUvjw7WQ, MojLDB2zZnIDR9ZdfZSQhw, vuDVb8PluZbGeMmEg0sw7g, ow6wOP888_nHHGPjys22mA, Tj7z28g_QsdCcb_EtxruuA, jOyazNrOtmzv0N1xo9nAVw, _Xp4Pr71Gfg2Q6qRQbubow, op7vG8ezcJ3EbUv3DK5Gfw, oWyeEJMjrwcwZz_G2ahXxg, dU1rhDcqbfqy6qyQKiba2A, pgT8XsxIsYeUJf--wYcmOw, ZHqwFU0t1XGk7hZGjA-46Q, IXUM9fEmXnRpH-KUm2YdyA, 1LPU3WxWGBRAGQ-avGAHUQ, Mj5I1OWMScvkUDDowjaMpg, SnNiMXV32lHKK-_DhbwZgg, BYotwilY7fec246G5Lxsmw, USZx-55MA2-lG2hBu6PWJA, AvC5XQAElcGAAn_Wr5auEg, qRSmJ-J_DYUgvZl2Ah308g, S_zBqgQ0P3UcmVHvf1mSkQ, VJAqaodAGrVa1Isic5GDtQ, wL2Wxp3voHclPguvUencrA, -71BzbE5QL1PwjloudvGhw, 8MNpLUNjwEBAeQ_OcC2ANw, WhSrqG9a7u-3vxCB7Mxwcw, XEfmDkW7gT7ULD2nVH4pLA, BQ7rpSFyaXya1snqsrNdfw, 9THbZ3tbjudB-alsKWmDaQ, qipHmmkFoP6o1l4TwUViNA, 4B6q_VMhlu8w1se4sjLRxA, PZfchA_z2-FFxdngd_3LbA, R91JLSvG4SpJi5fvGbwzlg, sCbVlJODbG5Up6PIDc0j7w, 3BV31HOJ0auhKkGotvzyVw, YKY7MmBWcg_QHbP6wccg-w, cjkPH5okBwOiS-8cg7rCOw, ksxSQjrHQ_Um2K1w6vbzlg, t6dnI9F0_MyLKNCxI591RA, p7OZx3RIeJPxSM4hP6wqEA, O6H95qEBxAedd8YeE7lDhA, 3VfuZx3wsxcHSwwBsiMBuA, KMmKDQEAK8ClGnHug_5H_g, kkWx049bUNRj33mPc3Chow, F6hOzZYpj5gi00Bs7eJdxw, u9hIaka0oTOQCLXsRr2Pug, vsKVglWCtDFHEGm6eTVUkg, Cv26rpHEucGZFK-NA9ka9w, -QMhl_YNWWXujypVItXyDw, zwGwWcqYVnaF0ZJVuPG-ag, XIZ93IR3Yrj2GDlhs_Wf8A, -hxUwfo3cMnLTv-CAaP69A, T6ni7Oxt5hu6vLz8ZLJ-3w, j71qnDgJGCk0Xj_buglZTA, cbItqaNDC4xgwxbNvWodYg, LmHxPJoB63H_qgY52IZrtA, 2T2iA7OYTvFXWQE5B6-RGw, tnfKPxs_S9gWHrzaetZl-A, 2JSMAPftrr2LhXTGgIhZyQ, Bf87HcPERF9yiSjb2tQBqw, I0mhlwR8_D2mF_S2D377DQ, OlhH_-yyVWU6jj8H2TMSiQ, wIs7BiEcGzb2Z7eXWvk1pA, qazfYUpj0Kcrxpy2rffBiQ, bBTFuudnSPzHK0lNCyW8Gg, JHZZv7oUbH6DUvisJeWXZw, ZnxHAQXzYCj-s0xdUEMczw, 5SYyqgKHfwbV32QcMRwcXQ, Uu3COVVmHQpJkPR25exa9Q, m-ktngoOqAidY1-zF7Evng, pY8vU54-LTfC9KvwCR5yVQ, hZYaH19h9RKAaWF06aVwzg, iUj5-KdYwkiQtaGJSEzGow, 4R-rXMqs-j3eWCjnzGfT8A, tBvftlnON3gtg-x_TFoenQ, r1jSd7XW686g1mwcPycZNA, aUuYL7uWMUfXjwcpdNkhIQ, NCZTSwXkGR_BFgg_7-3ozQ, VTljqUl45obpwl6gOSC8Vw, 44Gtfu3YEUIev9PcVESNTQ, FlenbX7_aYM7_bQlVjjNNw, Qx8ztzCNfS7kJnhLNetTEQ, cjIM_UQVdeLHDJVsWtxiZA, rhBT5AQi8LPTc3Mk2Qpxpw, ToDL5iQtx1yMSMOSE-z9WA, i4_hog8a6pl0ul_vZhkHXg, Eoi-cp26SFeDnKQIml4prg, iYJwx13SPptlNQVG9IXaUA, ePB3pBx7eE6ozJ3QHRTxtw, x_kA5XoJzNLuVAQqnmsLHw, 7ImZZ_3-SMNaz1uiE1V9tQ, WFcYRijFhs1fjqD_s7DLVQ, G0K5EDd1P06pExwy3NYHLQ, N7xcCXiG_S_2XenBTSA1RA, _ISWvCyFDmTo68QY94Oxxw, t5k635ad-wAAFUHclNlCXA, wQHrhy9-M2g0Gpecuvde1g, MFzdeLwcRh55lFBCDCsOpg, nq5DFPNuaGIZyatXqkry4g, vdf8jJvwqOcJ4YzKGkuPCA, LYQ2-rHGgf0H9jkvVaxQwA, IrfEAfzAPs6Q_s-LennC3A, D0TiFGejeYHiHwp3uuIHrw, ARJW2n4AZbi-TOOWVmgLGQ, axNHYjVPEA0p9KCamXujVQ, Obabk7clLZJX9JOJTeH2kA, B72qa8pgcckP0W3sZG95EQ, DJHAt1ldC3-1UIxt1xJQPw, VUp1uCp6K9F1uuSORnDkdw, 9pp6OH4kx2eJPvqOHbxOvQ, ACUVZ4SiN0gni7dzVDm9EQ, AnPUDSgbEhEDveaq_GmnDA, eHyv27JiMMgLY8Rl8Whm8Q, s8nkbQAlrVPfg1u4anGKtw, CH7hqv7GSDb4Ai179EvmFg, ws9aRipiZN5Iw8HIgAWT9g, js-_03qubma9G38LAPTULQ, GC4lqA4sgLckqni4tY9ScA, AGNle7KXfst1CuRDQsaSiA, xShKMR-f3ume2YLGsX2CJQ, cctZ5e0OLd1g0jNdRk5Buw, -np6N5_2ANsgVMGmNGrcrw, Exx-dTaqoVzLkp9-FQ2hjg, Pnwij9Y13xSCrJ6rb3MJhw, 0SSt8_hmzR00xbyvQCSj5Q, z9MGVkH-o5ShnJPLvCgsfw, HYintDgCgfX6FuW5TU78wA, fjrym7CX6prOoK04eet2WQ, Z1acUdleVuINN3OiVj3hKw, cEzz_mGm2WHeYqTe9LK2zA, mwRBFkkoJwJ6EyPSXL8LtQ, rMmK9e4lBdNtBC6PPh1HaA, 3Twk8t0udyDuWyCfONiteg, WG6rlq_SMHQBHdh0SvYDJg, u_sC8x70S-zpHXsEYae9Qw, 8Aki23A8qcEy3ZiL1faNBg, jKqrA2CWRqJgRcZwMJYsWQ, ziycHJzo8rUtlwEE6JXL7Q, Uw2JnDNO7iti_qvTm4MlRw, zZnfmKnlXdWEsTT3l3QpDQ, 0OtVkPjzYuT6t3ZtsERq_w, Uk1trW0jC4IMChBTayZP_g, ZtuQRjXmyRdP6BzxIAkOVw, a_cQzPlucOjN-TfNScGlCg, fJno8NKEYiSutL7cL2Wewg, 2iIc9W0l4LoLdZwqlwh9jA, V_597tLGoIPHsb43gLAVwg, iXEEIF4hDifaro0XQcnrAg, rIe8edKKI8Irs9hAiTvS9Q, kajOFqQ9q6hv0D7I4mnXyw, zJCoq49y_K9KI9MuOksAWw, ZyCOjZGE-acD71n7a5kZVA, ZJbDS6p4ye8vWoZrzaPXbQ, 3Qpp4Khhi8mErLF75Juj2w, DCHhEYtX3AxUhVNUWWO3xQ, hvVqO5ymyzgJH5HRSlqIJg, ueRPE0CX75ePGMqOFVj6IQ, jFNLPdUj5sXzAVsr9RlnoQ, u7_qkKX5nOm6y5wc5pbmwg, cHpXABKFJ9oWZwE4IK-Z8Q, g3y3h-TF5EHaNl6Lw11EOg, I4tUOT_ZVpJs-P_0E4AAog, L6iAzwlfXc2WK7a6XxkviQ, bXdD4kfAA_fwcAgC2CErlw, izoKblvdpxcDkoEPAKJ7GQ, VPYwomGNHOMqrRnvAoE_OQ, lX7jZyrGp3lBYc3cpiz2dg, QdfFtp430K_-BP1GTPNnDg, pws2HEyOGWZfpAGmzsknKw, Dtdy_XdJHuMcGb1GaTBGrw, mdulmKB-Sq3dAdZvlqnqng, Z0CcJwsk37DtYwqLsPuusg, apiTxf_jsk8x-X0VmxMXXg, Vwslifegl59fQVOe5BH1gw, 3mq-KPG-nkDGqLdB7uGuHw, wAn8plYvwNW21zKhY1agCw, TsL6VXZPLzy_S3z_maTuPA, oY68HiyBnAZ8FfniJOTHHA, APJAMnqQTFmK3EGQdY4Iig, -wmGiVj_Hv-femabSYI3pg, kLOvp6kJN_56bjkiBs24hQ, mWuSZDPVpQ03pzJBT36R0Q, EO1Cz15wYnHQ0aGc9T6tzw, YPuefjfa8t8rI0Cu2D3zJQ, fxkB--Irn-zsFSNQ_FDLhw, FgK5oxbis9mNZ_oYuZKbZQ, 5zedlY3ie4YFTD5uGZXPsg, XmsH14_06Ap8NGzQZY5ZOg, tQIG3qtLSIekz-guYSdOOg, oYWILlXqqbUd5M6AyhQ2Yw, KEYvRprxcmL_AqlbNpRHOQ, hgclbGd69AMv86OaMAQSJg, cJsNi1lg-qQXKC2dAxfeLQ, kSRgn6HP3HMDHnZEL48YHA, dSfbreMGKVI8QUL_pwjOfQ, qIDy9zJfCuqxy6A3exPe_w, 65jXjDVhMEq7xy3vZYM4TQ, xj90739Dd0rhRWcKTAqIvQ, fmMCW4sJsERKsdF3_nTLvg, Y0EwMG14kdxwo4vMGcV--Q, 6fkeViTjGeYJ95oLYRU0GQ, zZPvkMp9_egrmqYNkOhxXg, Ctx4K4721IrjbvM_XV2JoQ, KAXbCaVWRy4OufdQPRZYUg, qdzP76HHq6GSjX-b8GWsvQ, 04gNSMp5ZdSdKa_fM1HA3w, 0CAGYjTxx0MzQPd6SViAYA, 3v7uUVoO5kOeDHif-gdxSg, PXUKV4QRYJz2hybiXMop4g, agpPLl7EDd5ppAtNBFl4RQ, Xzj74xlYxDhEcYzWMTh9PA, fHDoDtGfTEtm0N90RWPD7Q, jf9cNUJEIBDxJpDm5QFWlw, 5s1c5fl6naqyX5M9RDQZPA, C5-XYonEpF4uqH_-Ywv5_A, ppgniGxuSQRA11HOsLn9ew, gooFPDkLY-6E8H-Vh4ym3A, QnbiJ2O-4Xwpq-0xMFsRSQ, pIFt8SAswbvEllwfkOpCMQ, 5LdOMme70uFeVqe0gqMyeg, Rvn-Ymc8_9z4vbcm2ZwenQ, 7MlIdc3GNydQbiPmHyblGg, KaMkS5JVelb8sBZ0PtDwzw, ScKyghUl8MRWkL3x1N6vpw, Q2ClJY2rYSBWDEFSsdvJFA, eCPsdV6t5xea-ttB3Ekybw, CUEkVYtbaxyKHeYNVejCyg, Kchj2U3yTo1hOZoiOkcErA, 3B4QL6wi60BFVdNKjBo65w, xZHLzegYYiv-4EyynGjGCQ, Bwt3a3lYmb3xGcy3lk0M1g, vM1IcOZ60ULNqCuJnNwnXg, MNoTbtii91Z6GVn2YkDZDw, KxenMCV-xtbc5zIxXiR5jQ, 1yL0jecFzyYRdUFi1uzosA, AlXejdsF35Zn_563DFppaw, nQJTJz_uUorrCPIiYbrHeA, Fg7UkdjVcNrzhAcMdj6hrA, fZuuoWS20ADgINir_Qbupw, LhdIGJbwAgfslLaruuQq3A, ikdLkEDRE1vV5oQVPC2f2Q, yLAHMJmcEIaLmcGdPQmacQ, dpEtyfB2o7MH1Mc_Ygoolg, l2LtbQqcduqrFVX2wxHhTQ, nV340H_xSy7m7icIS6776A, oCYxjlqjpnW5WJAo6HNR0A, 3W3ZMSthojCUirKEqAwGNw, P47SZ_bo0tWEa-qCs2qmVA, XlrJ4b6i99DnxyYtrEfAcA, 8e-klqjvpmXiRkDVvUf9fQ, aIJ-2R1q5G7oqzBSgK_Vvw, ILr_oWfvh-Flix3myVpAoA, 3dug0atll6agplAb6h0O_w, Z6qjUYycollLTASJIBb09Q, HGR_XgaN20i59hMhs7ohoA, cAmd-fttNSq-8zgreIy2YQ, bWCKqZXKgkBIFXPeEJIxYQ, GaVPlcvhlm4mZ1W5O9mqOA, iBvTgMpdb3ki6APv0pS1og, 6fELAdrPxMZVcx7i4tsrUw, 8WGBw2O0h0B-NOVzcrn7HA, CIi0UKyKWjjcyuWfchFwNg, QltvAsoXAT4RApEJ11cLhw, 6WSKtJBe-jCTrZQ0b4uweQ, 9GUHlfMnsBW3g1KcgiKoGQ, bMDT71cV5PhiCFqzsTY2ww, iugpKfj1CR2rKzfSLLVkdw, Jbnxnj_bhY6-ls7WdOHabA, zHWQe2LR1EgRSqvgO-A1ow, oyRKhwTODN_H21jTxIgEIg, hD78bcq7wFSIwGYMGUHI9g, 8oouFY7oTe9w8pHeU5a-xg, ZxBwso3KbedNmHyNyjAVtw, Up3A0d2R5QxBCunZWfSgHg, t3zYHPA0qjfqboz9ezf8Ww, yfy3v_n7BWiGs6pTf58i6A, xQx_vTXTRTKk3gAt1ayAWQ, 9IYZc_sX7v939OhRGDjj-g, ypMrGNxNqAADrMSHsqhr5Q, 69bKvoKzrJO4gd9X_Tozqw, O3VKiWU5ZTv2QQNYHRk80A, dwh3oVr72IhVttaWeV9AIQ, 96lc0jqJcxIx6BMnDntQ2Q, 4Tg0q5v3GdjbeAMOl7e_sg, 0r-VKV1tJ7GKpkK1s249ng, _uOkiJuKc9UMi7Xxb-cKJg, lN7Bywt7eAYpRB5YCDdcmQ, 55xT9fUnIPfO42f9A9lAYw, c-bWfrKQOaLIBo7YCQyM4g, VBM59fVH5KiJslWUh04NoA, n5b8xqCRINhkF_EzRAbR4Q, T39Lz5HilNMheTGTGAEISQ, 7Nl85zYraRyVlj65BF290g, Qcs_REFY2q2Qc9NOaD2aMw, ksMrg6HddVZ5I_MkDQymJg, DAT62jCDMV-lW15CDZgyqQ, pUbN91eqVm9r_Obb9f7jEw, lFuO6jjy1DFX0KQTlCQRZQ, 3U-ORYgwOUoLj_xX3TaTUw, wf6pQBWI2m2GovZMgPLwxA, NNPnpRtX36F_cT1Ywl4OZA, 2Q08l2osFlAveEeyoGAGuA, BeX-LVik0LT8BTC6uNe0-w, cD47pfam0nRfNMu0D0T5Ug, yvCSBYLWcbK9Ut2AHsasVQ, ALpbZ52zfB5ARLudTqsc2g, GMxzcQwOAbCKnoUVm5fwpA, RKgX1l__xYBWhYTwt84mmw, QwY_IrZ7Xs4N1ksO6GUBOA, t4WMFl5MMg0HcorAO8eOqA, bcEi9U4iJSZn4Y7KcBkgmg, q5dQRr5vyj1xX0X2acFJkA, 9ErMpuiDCSpcpn7d1NISNw, ZKxM9Z57PM6ShSx3Fe7AKQ, TY7a18gu8zIYhQFwPgPyng, kuXvhUts40fy2eqDo-VYIg, t4pTXdvuwrTG_SYLK0jMew, -OAtb3LIcH2eFRzlFfbS7A, uBPyXCdRDs-4Q1wbX37x4w, xuxnsCyjh1MZ1PmnoiOMvA, WKtjW9Ei8J7ZwpmNEc7ifQ, PmRNoQui8yzxo7MqVxKBTw, hOzOTyBQHk4WXmiTGaOy4Q, wi6H_sG-hT1ToDE8UaiPhw, DWzvB9l6D2Qax-GIC20X_g, qqYt3mO4oweaKfxjSujxAA, wrwYwYK1xbE1wrwUqlLzQg, bc15qhvG-W5LxPyzCjdIPQ, WjPicAJfgU_-hsAnwzDEZw, GuMsj77d9Xw3qRaspjHw_g, 7BfU5sCLwM0PoVZ0vZ1rSA, 7Wcd-RejmMajwE8QzIDGOQ, vyZvnSBVQV_3R-pemNn1RQ, ZjPh6VnxV1Twb4bmd6wXdw, NsKJ7A1hSZ1XUdHui6bDSg, SJ_jarxgdyqswBfznjSTlw, YbdpKmMtcyEs93BSsTac0w, wQ0lKC5BMg3ZvCco8FI1EQ, EbKdndLEn8hhLElySbKy-Q, vIaWWdKyVkxud9KyTDH1tQ, RW1V9e8Nds39y2UnvNrVCg, z9sL9d4kfAiQeGJ1dGmBng, Wck3ahmEZhnm_9u8b3q5jw, 0ihy5gmq9QOqWG6hvCcuvw, M1cMsRL4L7IUr9RILDywEQ, m2R7pydiZ7vezHD-oZt6-g, hO4_c3RN6w26qER6J_V8BA, noXjdU_BA4p4kKBqxA6GyA, h3dUyHGGx69JUaB5v6OLcA, wzjMBv_ygc9Z5QDqBG6fGw, XQ_1oQNCh8ZywXK1eTliuA, dPJHJQvtSYjFykTH--yrFw, 576mhyywWH-h7RPdrrlIIg, cVLnU72Q4H_pYhcaKZz1tA, nnDga_GyM7nrCVGgX7dRGA, pPw4DRIXj4s6Z5dFsflyAg, _tU3EtfNaBc1ZgArhlJmZw, pHx6WMbGAl1Z7vix86RqVA, 5YhKF9eWsUtZhuJzF-HkhQ, cJHiIjty5wOoHpkCgj6ZRg, c_kSlhF82DDLOriQCwmZXg, QMAVfn60Y1zb2BypFzzKVg, VvdzuJ3Vu6VzKGl-alb7qg, 0N9Z24YW6kqWVDJHin3dGQ, 5md2BnvX4WBQBCi7TzytOw, dRiZ5cZmKiTilMo1GKHXeA, mIGY03DCFOD8jhKH9hva-A, 22pLZv0eoZnFJqNaROGUFg, MzkeNPw6OXtPR73UjCHVjg, K1lyP0eGLAy6800sXZKsVQ, PUDEFOaB5K8sltj41mtAXA, WqWeS-97Lcilm3-QbwNKDQ, 0GNqPGZNPNoTcJ1PFJrexw, VhyMPBkWc1mcFpuu2CAAKw, efLMheEP0e2ZwtCMQAmP7g, VbuUXRRyfkVCREu5aVA1rg, q2QspmR5iDt01KwM9fsWPA, jo63sPDGfUOjJNUiNE5i2A, Iw3-vzHh5q4QkM3KiLHdPA, vc4mkEa6Ug5cQudS0EfytQ, ctgBa2aocvq_m_EMKv9FuA, pRjJ9tix2oJGaZep66_xlw, bzMzZE3OCqHhZyXH5JRaWw, 4ragRKFpLu2tNDrzcOizFA, R6pGrKlML7cQhrGhJoJaHQ, Y4GnsQlaWcD23JmOWci0Ig, wdXRyFAVFmBKyj0TwN3dZw, 5JVXXER_ASY2Zwt3b25jaw, gS5FAK7az1uR3NTO5PBwUw, wWuc2a7GtKIh2FhzWQ-AfA, LZPtLWnjGZVODlhZk_uPdg, WSYK4dwUGbBz2ww_-raRJQ, KRLXzow88a6m_ZABejX-Ig, pz9yqoR-89Cg60aFT2jYVg, 8T3FhaVgUOxgrNHBYSKLmw, K7jMIjmMyguwiw8c6RZN9A, cZvjXbul3fPNVDDNUFkAYw, MUhkFGcALY74zajyiaNndw, qrWyGOIbL9xKOfMug_UKAQ, 9zE_AWdnY4s9X6tbIPty6w, WKIW7tWyMq7_XN0V2ouo0A, 6-eTywkiEATl8Nco0Dxt9A, ImE1XskvKq0nKJw3zKl5cA, upyQU6FBJJT4HoEutWmACg, vXAUaZSn7reLfjLk73MeeA, oeg-Vfrecbol4bzW39fjUg, fdlVLb3VgZhC8lUm6jr6cg, WD1m-gZT2ib6L4SiujOESA, HXg2CJgKwdYUvjb9pZ5eOQ, twi3Ae-ykWnLMJxahIXKCg, QLolTvumfbRiUClnOKRJUw, EUlfxYKZSO7esvntG3HfOQ, _XxNSjq1W1AuLuQa73jchQ, wco1vd4_ukM0tHFpCbwPnw, tEYG9X9Ca0e932MCwKheTA, 9a1ShT0OT4WFo-Se8MOGcQ, qwBq50vfZX9xc8oqi-nIhg, Vjk5FemZ5rwJuJ7Sznd3fA, K9ejqgRQsGQOuM43hKtN8Q, qpgWUqHUSM6d3KAfuOxDNw, 6msqKpROti6_PV618n5cPw, EyVv075W4wvrGh0sUOGfWQ, zF8CBZRdgxyNfW3samnuFg, 4TS9ijmSgDB3wdfBvH73bQ, epzltxOvRHofbkze9h1cgA, rjKQk8c1MdFbXLN_4Vt4CQ, VVFS76n5iv4CJN_9GK0-BA, 7FkE36H0rh33YYBiHnkCzg, -OggUqJw7kkXQHI2BqXGSQ, 3DC0YjB0e7jarbI8KYZVeQ, DICLJDdq0HpvOVYR5mB4gA, qYaUln-WnZpkcaDlRpYSRw, TxaGyXjxNYxtDr1PJFmwtA, yXIFCpTAJkKzyoWXm4opqg, 3ijOrP960ixfS0YDv0LMSQ, -3Q2yDv3L8WQOIeq7mmvbA, L-RyP9gsSWXMv8eFsTWNRw, RmVqmrKAM6KvPx0RDSlckA, t5s73fQrL0kROVmuhgFWzQ, tQzP0AiUXoQve5uFbjZUEQ, Vln_ZuaWNhqkaM7Iho_9Aw, oUwybsaZwQTd3APnPGaPhA, DS0Idr2XDhz5e7ZfSy0dYA, a5gt6syDC0f6wjNszXaeew, HrVfgxaDGv6U9NfKSTsjFQ, 4r3CkKf1qOZZ5wYBFRr7zw, o9A1IJxx0W8jqonOUHpFZA, tRmW0n2d_Q4c_TXqfUSINA, aFDTRdIPpnIam1VAG2TmRg, gT-qzldqXWVIWEyQKvbrww, ZKWQ7Nz2AzbF6VpSAhN_kw, 2DSw0MG5uujMRkaCj5kDmA, OYHk59b4SATt7bILJmPA-w, WsA2pU-uhC4QBT-reP6ZUw, 6ivd2u_gj1f42Ep5WKue4Q, nYDYh9N-vfPT4c-zIQeDLw, w4j-EnIXl1mZ4RgelS902g, yXebWOKh3ILuOV8v2ej6kQ, vQ8s8UT2NewL8T_L9DLgJw, 5OLjsgRE0bacinNWtx_nmA, Ok31M51Z-A13iNWaYMevpA, 3IyVF53DSvzlFKPeBXYd0w, uHI5RT1gmr83sAUDBDu5MA, x2Te9B6otYfDq42GYZxGAQ, LW5AOJakYTOTyIFWAg2QUw, 4Rw-PGnv2FYY_3r-uCDbcg, -7XjWTYx9za7iIKxHS_KzQ, bI28gmv8fYsoBrUD8FY_qw, U0UYN8gbwPJZFXbKdLsxSQ, dfCv9fvs82uKOQDhsUGRFQ, PlBDjh0db8I2kTeP8QZNSQ, 8_ElYrPoiczy10aoRST7CQ, VlA00jEagwfEIs8OPjulMA, 4XtzLH9tmxDBXvny4KcvOQ, hnHSIUy3M6WG4ZMYnejoBA, jfTJNlD07N65AfRjj6cgIA, djxnI8Ux8ZYQJhiOQkrRhA, OGhPMe28IuWbPj-LuWjy9Q, JUT0U3HTSB3kz9Wh7N0GqA, ZrpTq6KaAvJTh-Ec7k7lqA, mlIS66xGumwkUEw_n80lIw, _NqCnS5pUlcg-cCy-1fSeg, Ts5k-hzzv8WB6J0OsFqoxA, _VplYwoPO-icL2midWV3Xw, G5LXEaxhQMF_BVjNHkVr7g, 6H5wgNQmF9LY_qvy5FiezA, xyHZT-zURVU5ItfroGzssQ, xJ0kDQeB4ssDXcM-zKr87A, H0ey0T5p9pFQzYQTim4rJw, Wa82CbyQ18SdKJ-8RBXHJQ, H-1ypVH23yWqk-DblKnBXA, iLqkdst5m1kbTCGTn64cQQ, KFV9jDa1Lb36nZ5MGcrVcQ, T6cT0gbzLcdy8arELwY_bA, gq2vpHjiNbxGltx4BvbAhQ, RE37i4RIsCZQdEOjwWtZzg, P1UlMq0a7kMN5t_rbWh4pw, p_8G3mrojESNVJ4E-zvGKQ, oXt5OzkXu9SS5WgVEBCJBA, 41VPxHmjm2dJgNLyN7n69g, HFw-YPzQxLhlKuvxWuIX2Q, hDbE6pVY441_bsdLM1UMjQ, hPr5z8ozjaIuOzVSJTkRRQ, FZTkBavnUWVQRK3ULOxePQ, plt2IKM3862tYwHKjPFTlA, 4JU_1I_UhePN3t5CVdxr3A, 0V4Ra6jCmSAgFtCiORr4QA, 5eMFJVr-pocTg39uVXyCbw, eEsPokNdYsBfUvD6nZPfNA, q23bTxd5BoHTM05PPoXgbA, Bp1gTKzLhOY2xOZhXzRY3w, pnfVIB7UhvCQ7X2K0Q2XIw, FfSNAWziTckBHe4Ne6Y86w, kaHbl2OzDYDnEviOTfcLMQ, cEj_Vm8n7O4YnUzo6zaNzA, Z-qgltvCIrf1JrrZfs5RUQ, qnvhYMAZuNhdvS7PVpBCDQ, 1j80NncdxS8b9y3L82DLDw, IzJ36jX6V6ky5BtoN-Agng, 1sMZdqmCa_X2Lf_x6XOCFw, mDufyqYSzQaskMk50SF44w, NNL1zLTP2J_SOputgoPYeQ, rynh-OO5TwXdWXScVWRsRg, dnCE0O3DvsmxBysa-TdYRA, KmjYzaFQldtGJ4aOOaO_Vg, gX_UqVIT1Ut7r1XUj1y9ng, Q2fDJ4KtMruoSy420jUElQ, f7e96Iodfmapqm3C_lrDcw, FN-Ki6hgXl0LCZwnXGV_lQ, tQ6HM9ldSsYbuPugPUr-gw, wksNwM9LqVWnRYaM1is1fA, TkLcPeDTikirUUU1q4auXQ, pjk1zcWVhODWgdGYU7KK5A, NHVhLrdEP2COylG3O_7ZiQ, -tvkjRNyZkIB3ndIftI7Yg, lYt_yhlCiWWZQXr7c4LQCQ, Xk9KPrQmQrwSC7kBD5h4iQ, ADfabVr5e4BNsbXNz9tzhg, K_qhecYlEtWcbi2qcaw3gg, rPUXQxsPR9TaDH1MmTNbMA, -r1-csqUHYpnavK6PPkAug, dN7syj19WNJelRtEozWHBg, cjotiAHFSbFuvbxTWmGi1Q, dLOfp-2TAGAb78jGZPvMoA, r6WUdUw6MYnF37ytf1lumQ, YSfAlm6XNaym-JOrRjv3Tg, Fqbg_IQrbiLwHAOpA51RQA, IcdxwCBX6rNHwlcFJEVVtQ, FjzJQEqSQPfpgvrt3_tXMg, NJZxbRrfpRRL3f0Br-QFJw, 8hrbdqiUn4LpCiA0rdxUTw, ezse7g5rzZpBad8QukV8fA, 3VUceprVVuMgsPcLdlBavA, ue9nM5QtbRBFzF9ksXRcGg, JnEht9qY866zG-22L8M--w, KYrwWAcb6yX-DLJZzxdXxg, Ge6RGpdNlUIgForAOgzjJA, OwC1FpNcKoYagXR5k6f6sw, 4YDE_B5VWhCa8sbkUmEkVg, 58yXn5Y4409kc9q88YwU6w, 8fi4Ks06EkwcJQMG1Ic54Q, 68HThtuDa5bSZk2e-9gAkw, sm6AzP6HSQhI9j9V_oiPWA, eONEN0IcyR9m5x4b8rgaJw, mgVnxIQDiuV6kxkQhvL0uw, i7zNcSqgmNw48aUvh5Axlg, ypnn6O0fFRDlHrMYOEUDBw, GGgB-gBygm6kLTxJcGP6qw, 5HX1hUGPFCx225tN0J-kDA, sgO-W7YX6ZHeNHQFOl3nGA, JwGUX7hTWDOG6c_Y4Ya2Lg, HnNjRpHKLkOoiBsPVlEuZA, _2spccDPMY_n21--mcbi6Q, NG-j19kx1V-jYNxcQsLglA, jJlYRJXPdIolKbuqGiZ-CQ, UvRt8nMPfdLjl8STa62FwA, wqoXYLWmpkEH0YvTmHBsJQ, hi0j6LEs0dWAyvSX9PuUJg, cXeMVhFcsn-4vHNCkJxuRw, vqnGhHUU2srXlRIodoQDZQ, QyCFpUmpacEg7mZLaLfhZg, 2l0O1EI1m0yWjFo2zSt71w, dVR6zFYlBnvBWiXFOQJISA, huayr-WjhExgJPIZcRhZIQ, JsOmY_afZyLbjzOauAfl_Q, 7x1hKuRRNikRPe2EX-BzPQ, 9VXa6077Ye3Ta6Eyn14yHA, g4GOmL5pVrGLXSf98HaqOw, rdppaAD4qN59C5fJ51MLRw, krTdBph4DCjhHX_6fhykXQ, DGh85anKBzRwD8Orbolfsg, qhw0RjIGgStx7s4mjqkWFQ, ScVrAuT9gu_WWBYWs30mpQ, LYCnw2kVi4nnnXsl-9Hzuw, JRcnxx1Lu1hnuekJalN_SA, kQ3xml0VisOmxZjrRGnvXQ, 57NKCqJyLIYeQa9VGIdM0w, ltRhrRoBqVmdd7v5QAKK_Q, Po6gGHh9OQVsdgBVPxTnzg, WJDwYaMrZ0-HQDPXDs5Svw, NvVdvwqWo-rO5WeiZYPKtQ, jfFOhjRgQtKkLAU5Q4cG9Q, DHRupjFv4GyD0tEdj-QNjQ, fFRNEiHk0EEhhb3w5MLLiA, 0rSY77NhhBi2ZCoJhwDMqw, 1b4Ps4r7ikH8QnCNFkABfA, SCFNBdBcVBqFZuWPNjqX2Q, yG6WtyaSv9dDnPZGKIBF0Q, myBGjHJ9EhE9pyeodWw2Mg, tkXqjDH2_3SvEn8QVaJavA, dSD4g9vgdjnjJTf55QOcPQ, zppigtm4aZBr2ndIbwwPPQ, 3BheJWohdGpH4rzIliqgHQ, CXq5rPgPtzFM_4Pz8f0bAA, kFRUKZ3xhNhYkOWzIZcnfQ, sj1WJRb1XnlHkTHozrAmuA, Vpf4k633NTR4ZDIrpexmrg, 8iAqbE6K8JbUmpLWOLAOgA, Qjq5sCgR8dfQpTLO3oiVYw, GmYe7X1js7ArVjFWP6-sQA, Ga_3qMEOefY-zHlxpcHzQg, VF2kSH6TJGHcyT_hD7QKkA, jy_RGAeAvNeCv5BxZsUWFA, 25PeNo1zuVkjduF2xDg40w, rugIfQt9KA1F6Yc8UmYA8g, ZSW4jh0lbxX148jmHVZLTQ, Kr_D_9w7fOEukZ8e6ikgAw, Sjb7O24lYrFr_XY_RmxNmQ, 6vS2EOiUEZ2i0mZfaRWGAQ, TsurX2CrXCVebYR7cG5_lQ, Y8AfnXWpUfWiddIIB8EuKA, sw5jTBVrx-q_mqV4VxxHJg, mn5qDVIsjjVajAevLp4fWQ, fwYOX3Qn_MiIbHLsK6DWqQ, i9b5MHqCdg6b6rBA9lrr0A, RySDpRT0wC1xTkq5worldA, GvwTyoERHTxUQMzOjmDhsA, NhLVDkwrWeeDLqw-Xy8dLg, 66dXchQ1kIxHRvX-0TdfCg, zSdPAPsh7LjH-6MpYin_Gg, i1fOjGDg8Lfw6hZE2kSmOw, TN8O7EQX31S-W6KXLqF-lQ, kUsKHNgcNTVk-YS4OAPSHg, R7P7WvwAPIudfckwL8LT0g, U2QIDgPCk_IlsM7l59mMfQ, NKichZTe3g5aPIZLU_fnsg, wzto16Bl-DHm-iqV8psXBQ, lnIUdkydCjqnHb2j7C6pVg, xUoP5YrS5vEsqC0fyKQ3iQ, G99ccCETKNy6OaR7PhH3Yw, Q7u3rC31LFQQ6nPqqojMkg, ugS-Yf2Ct-60eB_F1qmX8A, xug4IBnXT8BR7ySBGS6Lyw, l-lJjM6MejlDEhbuGnhDKg, nsF8_0Vy4uet2WAEy0KXMw, xLSTszQHVefHmgVKD0hStg, 6qfDwGBxRAHyW3o78l6YRw, 5BL_k7Fptq7tG6uj6NwYfg, oU7R5rBTalDH1HPfozcY1Q, vr-Rw3nMKIgGrVNT6A7p9g, Ulvoz8Y35Be36pyntLVx7Q, XCDxUzBSY8-JOvcp4jqpvg, nm5nA_k1nfAgiBRS-SCbyQ, G6_ke7Ez-NWvEMLkUnbVgg, wkja8TKoaz1Gjphxgm3Rdw, 74u0BqVki8bosqXoB0AKdQ, 1Wwg7XKKQzbsRGyO0SexqQ, i4fjro8JH5J0fgmYHk9BxA, eSU_HjKOA3Ppt8oS07oYkw, CmtuQZUXTRN0R19Nxo0B1Q, dkkLmn4f5pkH8cLFRbCPUQ, v0Cqa67AjoPYSDT-PcazZQ, c-60G5esnXkxDLIQE2z4WQ, GGvLmsKP7rReWrwZCjL43A, mai5IizOzcG6MGOsxpGYxA, exfedcki3G1jXfiitvzptQ, T274tm_tY7pNWAo-4bB0Wg, TjH9gxY2jYIVrY-zlplIcA, Dg90n84l6ehzLhByVP4CIg, NuiDuPtw96UrTCBAjtXd-g, 7WMa42UdXDepo7R-VC4ykA, b4M9lkCHWg3FtS1uTMjxiQ, B4zj518V5x6taoPmRDCjSg, 71Iv_35svaryyFiYzjLdWA, OyuXL6K9Dh2EV9BMrdMdJw, bPbhtic8bmVtKWTh2ecvyA, 6Qk1B9YNRPxep13_TdKbxg, 6h2wD8CbB-C35jLbvNWoZg, Bn5g3QpVvEzfOZTZuKERxw, t17JJTX4eybr7PEk6xV8sQ, DvNrN6PJg7PwYNvNhKZV9Q, 8W_QU97yU4x9UQtC0YGZUg, sisgRdPt85mCgANdToyMkQ, Fs7qYslZSXTxiUfpMHHA1w, 8041zUwuofShak4dpp1Bcg, ld_fXWGiXn8RxC4ROx3-4A, ZC-thxIOjcfYLRNUo2h97A, TO2z0Ns59iulqOj2LmIARQ, ewTX-VUxlxl4KeJh0mhb1w, Pne8E5jkp1grEUFChw5n8Q, PzqB1GLFlQgbP44tqeYW5g, PvwjGV1vmvDXW_tBAfneDg, VsbMF_Cp7zBPHErO9amQwA, Xw5954s-2QD8Dh7iZTNtNw, IkQdXPUcpEW4jLfOygAQww, RhM7uTY_KwlQyq9tzP7GFA, F6WqpBvg8y5vVAFzh3SVsQ, wTnG8_-SpyMNOF2yAeLl8A, d-WDfKTTwmThJKwOR5qDqw, VN8mrhzlzJgOg50e8AAqJA, iKz28QQI73mji28XNJFMUw, PlheJVS3DOO7v2uWUwUTgQ, hpw7UrWf51aaWKbaGGJ2hA, Ha_vTu7LVo1aPV_lNsMyqw, Pk_8WU7VkN_H_r7x-WFyLg, kT_ve2TBJ7lYZ2iQf8-g4g, _pc-wC5PvaMLG5GycgHy6A, go50qylG1i360-KdAikCww, RmKiGDHACNVOABo1qKkHTQ, UJ2a0UoWk9xaiHRB3Cwb7w, 3rV0FW1z5Q9BIASTLdKkLA, JFYTF-sieIrlQ8m5etKK7w, yBSBXzYJR7z4OmgjSVrpGg, uyXkaZ6FS4f8D2dyWR6QYA, 8YQu--DAepnVQuYvGD0PWg, wuNvhnSDhl_2nRRMJfvUyA, Yue0PbJJPKMbjZbPO5MxUw, NL5oAG0ZJ_XgJI0LTRAzew, lYQ6t84iO_qXWR0tBjq2Dw, BBF0xrUu74V_R5Pddc7fHA, qlC607Cyp0Mj91vDFvkp3Q, 9OUmCtXtABvtltr7jHbDqw, UrRjWCqmAekPu0ifIVj8Yw, rj38CCUaquE9AQQRAQPoxg, w-WBDZCd0CXjNLQe8haYFA, il64P3G-9k2-8r0UPgzXCQ, BqvcWPyWxzlL3v7LSEk86w, Us_ITeRcE7OFl285Bi2QqA, Gjo-VPvGNMIWSZi9H1Zl2A, bqsiYubSM1YViK0F7RbJIA, CTC4DZoVHYEITwEZsDCMUw, bdExV-y9xKnHdydIbqsvYQ, hIl_Xxg73gxhkbLcgip3Eg, k8Akldd31Hy7GKzL7Xcg5w, eET5KtLWzVZ09GfDrk82Ug, Ydfi9f3UqbiwywWeLZizBw, eDRvWJitlImaBh7h1JkUXg, 6s-g2vFu12OemhiK3FJuOQ, lZ3EzQypsUlF0ce_S58wqg, R6OCK4GcJl59fUXsb4Kn6w, PPARqrwWPiIapr5gIK1HkQ, t6jfF0CQYwbV9I1Ee9BvKA, DLO-cIV9FZwJ9IsdbpURKw, z1qE5YlU022Tv-MDC0SPlQ, O1eFTbVTzpuMCOVKXLTyvw, dnBJEGdWazZChDqUe3PGrg, 3zMTqvM74dAmvX4p0v6icw, WyJQO6wx4b_p_7kK8dVxgg, 0lKuZT5idsFxa5k9SYBSkg, i6i1p_wXBX9rCG52ajH4KA, 9bP6S3nVGVgiFxbDTtDWGQ, QHB1TPXGKvefZFJmnKRrkQ, DRCk7nLp1zUwlUABh1VCLA, KIwV1QWXQ69WwpqjzWuMEQ, oSq0NKO2x_DEllpua-xgrQ, S5tbz3gYBVKWG5aVBViOZQ, zTGqGJckwWInfmdVTVspZQ, h8s0zU_DKFS3LeMEbeMRNw, K6YOIF1eZkNbvCcy43X-Sg, IhJ0Hipocx6yNeMu4jPWqA, kmkMYWvbnuHxiUeatmB3qQ, pOsSRzm0ZOXE9FcJ5pWxYg, loq4LplfsWI-kMr6EWrJnQ, ZHXnvoXg0r1qBXyVzEVXfg, NolOOI70DTKHwkjyFWcEcg, 6mgYTBGN1Ig2thDBCjmLwQ, sMvRDAtFt-8Xg77zJaCsnw, GIBk3fgnfxkLs2ClzNG4Vg, OxEltbtY_LA2tPrGOTx5Kg, MCSrncjmej9WwelGTdpKcg, 3sD_zguW9ym11WtpogrpKA, fVcdur3u2KqV0JcA3-Lo6Q, xWrW-ER-glZuHfXcErIJgQ, b9RNr8tzhL_O2t54c7bh8w, nth2pi8IvNgx43Tntgq3ug, -TP1eTVeob4X0eeUvqp9ag, 1WtbiUEs4I6hS7Rt9UBkCQ, lWdvtLms-6JnzI4IebIV1g, BG4ftu4uf9g0FrN8TEN7Fg, mLJaxn6XmW6nWOku0VRf4Q, h_5_4R3S4NIKRmMucLYL4A, 9D8uQAEk2GEpll1FmXEPoA, U5OUeE07FVwvmjM8Dfvyfg, e2LzJZEIrKmSSLbTM9zpFg, _Xj6WcqRg9WnTU5mkPmhzA, lHMrbFsef3M3X2UBRvxTTQ, 8kiPrVd8FgMwMYIX1KwLcw, 5unHDBh32-N4FgxGgg_GJA, UIgNOKk6-OrW4AmdaXXuVg, iX6lydjM-oVdkl1HpTrykA, qlZ2dmgTN-pqyrPqlGL29g, lqmBTpnECi9iW67IhiSrng, qDSByD87pi8IY5A1LQiHTg, vtPlEX3-xWqYyo3xaIrnMQ, nys51KACeF3h7601hSxhZg, CBjuJY21SRXcc2Id3H8wIw, Zc_xc2h2Ev5lF9hwMus5sg, uAgmj4ipUq2u1VZAC-RcvQ, 6GrokFIVYpmEETAcsqrNxg, n4prpd_dHZ5pO9VrS-7Oqg, xgv5fUXxZ1lO-yc32X4j8g, Iclgb48aGzcuJTNbqUN4pQ, ycDmaiCdERSsbqu4z6NfkQ, _T6f-15h98uPxkDiVGUD4w, xfO5UNKaPQiakpcYOrrQgQ, 15l6DWMOCmDLCS5Fspi9ng, C-dfJOBfGDbdoyI4CCZMmQ, zeukUzjfQoVk4CQmhn1H9Q, eHHTwOTFpUfP40R_7HsHZQ, vMgO1Dohkb9lv9Vo7_ZRXg, fsrnuOinLOvoFhqUxQy4cA, vrh6CT90hVdHusn6c2AP8Q, xPVBWySOvT_3a6hKqtML4Q, ih5_IIVZwFOg2QG4FHiSAg, KjopnSILSt7jkpARPhgD1g, taxxAXJ6y4cW3xsWTQaHqw, 5IdQGjIH8xPfxB32-hmhsQ, WkAIcPWrsG_i8tNHllmfEA, _18H_QZIBn3b5Z4ble_KVg, QeT09ZL9PT4DpF86ElXGsg, wpg1oeM8y1VZfQwcHMLx1g, FWRwckNSS9Uc4FLfpDPlMA, CD7pClkRRn62gffHu9G4aw, TBvl1qhPuRNnJ7SV7ZwgkQ, N8RfkRC9D1F19S6-80edTQ, faR3LvCrp5Nb8reK74EYtw, DL1weSEtuZ9DXtVxKjRGEQ, bvQ3ZUWc0LnbesxMtIl16w, vPwEcNBhzpX6vKcIgs46mA, Oe4LLtN1tn46sDUM-BSX_A, ucpuieYflgEKdq1ezRKZqg, Ynh5YbifcFvaJRJksiF81A, Y4znLLG6hUie0Ej6ZXHkgQ, YYLDPgetN_4NoPW_tWlkYg, riF7zD1BcL7GaJ7Ii4zHDQ, Zf2P1nr8lydDdHRXu17izA, EkgjIz4GwfL5sgjzLQMZBw, _boumUFZvtZ0snJ_W5q6SQ, MMiAi2H4LpWgwMKdIMAdQw, DEPMQyR48EZt_UagYjUdAQ, utMktYvqAzCpvN1jEYwy5Q, fALT_1SczGNXWp0RLv_pKg, GSMBpnEny1cR12yPIwO0Dg, 8rNzNxp054ydMQ19v6iAYA, OdBMI9tsNvObvd2ad7CdNA, w429I6qIOxZm8B7EaqaWIw, oVXsqt8Pd6oNNq04LsS-yw, 4paWpLov6LjpsNNgE1fhSg, sgW7KBn12BaIhqQ_mixb2Q, cXtE-ZTrNx-hE7usp_f_xg, 64o6vJrByaGTStMvvU45JQ, ZD84600Tw1WqeKpVuNiKzg, FSwyjJ_qaZIgioY15BuAhg, KeuhteHe76DxDlXnkWoDwA, JS08wh2GNUGbOO78fRCDaQ, a4bgbgH163qZERWzJRNyMA, lpnPcoRGXy5N4mbkqMAjvA, dZhKbKMOOJo2V7_Vem6pCA, hZwHnKe9cyqzK2aA8v4yxA, 4UlpJ5GA_W2LjJ64zOFWBg, Sw2AFUco3ZZgHx-H14KGZA, PJpQAJ2S77K7BQKdhMEPfg, ApJ9YgYU-AhS4a-F5oTGHw, XUEl-PsDh92qxSyh6wBRpg, WPl2gULxrrh_GoypMzHF-A, cU1omR_Kv5sb56kwuoz3nQ, wEE-YMx5pmSuagLtNxMPKA, CMBYyVy2Rwb_saUkY5kZaQ, CYd9M0nM9V8GGX3b48jAMA, kbj1g8XrUGd_c9581NF06w, d3yyl0umavCO6B5imfrgIw, DiDEJ_RzN_olHj8z-72CXA, yhUitF5Xjsqslsmooty0DQ, 2KvMlfaeni_cqH7NPoKExQ, BTxxGYdw8CNV7UZGc9YU1Q, JyqDfAiDbtASahLea4NFjA, Q8HMNYoe9Fp4tWU80wQPMQ, vV6I6-U0f4WleDsly8xLIA, 3ibs5acczGmUfa1Jz_xulw, Ew3zyEWGhFsxeCbEYoRzAQ, cuVrNmt7_WtBn1uz5L_p0g, 1i_hTaZjMLt35t0JMykJ9g, _v2jGg9wAP4nuNTZlx16ew, i_Kn2pY-ZXAoYz3GVDbq0Q, pXEnUoLTtMXXZCJITZAglw, 3G9m_Sf29D44FCYJbQS26g, rOWVL_iBDeYNQ7TELAE-gA, HA47FiJqL7B7A9Rqqlm35g, djpMXOA1ic5wv3FPtubHNw, m9aKsxZlwi-XUDM4GQRkaA, f-aighOHEotEuCxfF8o07w, 8sv6wLFZRxteb18lMLM3ug, EZTkY00f71CZTZAF59VLVw, qXsoHrs0kv7QYOzsQz_LZw, 383fieseMn4s6pHoNY7ugQ, 5RCmzlSicUm_qvoW2_PW6A, syvwUKQJ4OYfmL_ixVLMeQ, hEAjkWPF45edP9NHU3lV7w, aCDG3t9ebsRk6D70p9YpRg, -VtKJKDtjhNrs5gTYUdOxQ, FPXuUdxXau0pZskjfZLCAQ, fSR1YTZnjOyAeQU_6mt-ng, twchqN85xYsXU4UvOk7-tA, jt49xjEjQisu6wTTGn6B3A, V3JgYgLuXFtcaMdr0QWSdQ, u0vXqrGk5Xr7hquNWQkYug, gcdxaPYiq4NJLaTX-QIdXw, 9YlmDzmuU6NamM2r6JvZ_Q, jqTa-RtGU26q3TFTmMZOAw, a3m7YghbmbIiexjaAWcGNQ, kSAvfJnAlGLM_BLMWw9NjA, PJrntlejdErSQVOeS7Hivg, TPMT15kFCbzvQ9JzIHltEg, jRcg_sw1WeFIL0POY2GW4A, CoS9VbTzh74Hh7FSlAKKVA, b2ykMJIao-jTSA78VivSPg, 05Gb4Z_65arGEXLbwGOu-Q, h9BxeSnr-1IVqDK4GCDVLA, 1gTlz8QAI-F4QBZjjtJTiA, uuKfSKQ8YmfcGoPx66nNFA, sy0T-WKaM0mpwiCuSMc3cw, HrSKF93cJhtQDRGztJkKRA, XoGoc6LoanT7SDmZ-PbTKA, BLpcNGrqZPAsqxkc-1c2Ag, bqTTgs-5uO7xLXWha9NMIw, pU8VaJuhEG8e6e3cKqnqzQ, 6GRWtXzGla4B3b5Dz7RU-A, TMLVzNYs-zwwREudyvI08A, YMQmNh3WMgA88vRTilVmgg, I14A4EQgosD1zoO2rQ0GSQ, AgzHzIzC6ZHTKgker0egAg, GNnVY5ogUKPGqOgQU3Uw5w, 7sPExwB7lJoMYPgCePjaFA, WY6i_1YoHCcMD2dZ11-_xg, Z050g0t-eFGMJot7RJa6Bw, -SkdK9egKMc7GhkR1GWghw, ZblGqHLahaItruN7zcT4yw, l0rgSl1kKnQf6e2HRUbpgg, twSDA5akPZmei6WDz2e_cQ, 0HXs-TIIQJ5C2vQtVnvBHA, uQZxjnbD15MTeCiciI6Nfg, tzG3L3w6xoVCosM_L3T4ow, Lzd7FTvMOvfg9WmR4MoNxg, neFSLXQg3Ops9KGqr1Q4tA, yPvD7TmndFmZOgNsG11GRQ, gytF0cECybUKGo7qgNsEHg, CIDrWjy2WNxSUNbkmg5Kfg, f-MhXnASXKxmI_Z0AYvSkg, 9LJr__Z47lFfWmyb0DXdsA, BcJvi33__WHEAINIvZAWLw, hIiZq55zgnoJ3mNP1ExUTQ, ReDypdRmVA3wc-QG8HBKkQ, c4uMXaHyiknMPaL5PNCJWQ, loIfyzwkCgUiy0x6s-Arhw, sbSpuBlHn8mQLlx4mPGSAg, jIjkse3BJtS09vcRgCCOhQ, RqEM5gHyOzhPsf_gk5I6Pw, DcDqeVQ_qW12OSpAv3lGFA, qIIWAMJ_LwlJi0fntUpsjg, vCUeFAY774VtmpszX9hyGA, 2TZAb3X3sUo-xUSVG5HAyw, DJBuyVr8_0k78ydUgonYdg, hesGaU1cfQinyauBQpuZrg, 0JlAyeKfdt8M22MreQpDiA, 0LzxzSM6oqOilJ_Tx8AXzg, TIipHtvVQIoblNye1n9pXQ, j7TwGM3QvxVPPJBCQE5W0w, brQq7ShwpWDCm4Cw2jLVNg, 9FEedSw39psZrG-jnuB4MA, VRS6Ohz_ii1KQHyvUhmdQw, DPpICs-hgl2x0nJx8qNc2A, C7Vo14RpRTG5Bc84l4q6DQ, 8HLcBhTyEDLDOeu45JSAfQ, DwSguFbxlnlwTjGX9I0Tmg, KLrTBLpN4csEWKdLX2meYQ, IAB2SkXfn687OdNiK15ung, btYQA5A0vWTT6gUL_9EQaA, kz1UPxeb3PaShkQh8Wtmmw, DKXxKRgDYffEW0tdU-hzdw, mDPGxWHGUowIRuI2YS_L5Q, sAZcfeWNcsVe_4_43sdnDQ, 3QnoTcrxuafMCoTzW_AH7A, mkBgQOwDE5OrrktAkBXatQ, grh-LZxM9N7lmYW-UsLVpA, DY9iixFRcPahIXSxO0hRiQ, W8IQobxtf7-0Y-msrJUxWQ, rynTb03XZ1euKyRHBi1KMQ, 9_Rj23TxDqBBAPetqQYE3w, LuQ7MzgP1MufWqcaNoe9JA, YziRZOh5MrqN5b84dQ9AIQ, _7tPICUvyHjjwOU9Edo9BA, gmReO0-DaJIRH7hTrwJFwA, dU_YEWuYbmp_T2Qb7h2qmg, GD0AnaoQO2ymuLXw0P1PRA',\n",
       " 'fans': 1357,\n",
       " 'average_stars': 3.85,\n",
       " 'compliment_hot': 1710,\n",
       " 'compliment_more': 163,\n",
       " 'compliment_profile': 190,\n",
       " 'compliment_cute': 361,\n",
       " 'compliment_list': 147,\n",
       " 'compliment_note': 1212,\n",
       " 'compliment_plain': 5691,\n",
       " 'compliment_cool': 2541,\n",
       " 'compliment_funny': 2541,\n",
       " 'compliment_writer': 815,\n",
       " 'compliment_photos': 323}"
      ]
     },
     "execution_count": 160,
     "metadata": {},
     "output_type": "execute_result"
    }
   ],
   "source": [
    "user.find_one()"
   ]
  },
  {
   "cell_type": "code",
   "execution_count": 161,
   "metadata": {},
   "outputs": [
    {
     "data": {
      "text/plain": [
       "{'_id': ObjectId('6806a735a79df360aaaadd9f'),\n",
       " 'review_id': 'lWC-xP3rd6obsecCYsGZRg',\n",
       " 'user_id': 'ak0TdVmGKo4pwqdJSTLwWw',\n",
       " 'business_id': 'buF9druCkbuXLX526sGELQ',\n",
       " 'stars': 4.0,\n",
       " 'useful': 3,\n",
       " 'funny': 1,\n",
       " 'cool': 1,\n",
       " 'text': \"Apparently Prides Osteria had a rough summer as evidenced by the almost empty dining room at 6:30 on a Friday night. However new blood in the kitchen seems to have revitalized the food from other customers recent visits. Waitstaff was warm but unobtrusive. By 8 pm or so when we left the bar was full and the dining room was much more lively than it had been. Perhaps Beverly residents prefer a later seating. \\n\\nAfter reading the mixed reviews of late I was a little tentative over our choice but luckily there was nothing to worry about in the food department. We started with the fried dough, burrata and prosciutto which were all lovely. Then although they don't offer half portions of pasta we each ordered the entree size and split them. We chose the tagliatelle bolognese and a four cheese filled pasta in a creamy sauce with bacon, asparagus and grana frita. Both were very good. We split a secondi which was the special Berkshire pork secreto, which was described as a pork skirt steak with garlic potato purée and romanesco broccoli (incorrectly described as a romanesco sauce). Some tables received bread before the meal but for some reason we did not. \\n\\nManagement also seems capable for when the tenants in the apartment above began playing basketball she intervened and also comped the tables a dessert. We ordered the apple dumpling with gelato and it was also quite tasty. Portions are not huge which I particularly like because I prefer to order courses. If you are someone who orders just a meal you may leave hungry depending on you appetite. Dining room was mostly younger crowd while the bar was definitely the over 40 set. Would recommend that the naysayers return to see the improvement although I personally don't know the former glory to be able to compare. Easy access to downtown Salem without the crowds on this month of October.\",\n",
       " 'date': '2014-10-11 03:34:02'}"
      ]
     },
     "execution_count": 161,
     "metadata": {},
     "output_type": "execute_result"
    }
   ],
   "source": [
    "review.find_one()"
   ]
  },
  {
   "cell_type": "markdown",
   "metadata": {},
   "source": [
    "Assuming there were no errors, now we can get started with exploring Mongo in a bit more detail."
   ]
  },
  {
   "cell_type": "markdown",
   "metadata": {},
   "source": [
    "## Connect to the grader"
   ]
  },
  {
   "cell_type": "markdown",
   "metadata": {},
   "source": [
    "Run the following cell for grading purposes."
   ]
  },
  {
   "cell_type": "code",
   "execution_count": 162,
   "metadata": {},
   "outputs": [],
   "source": [
    "# Just run the following cell, no further action is needed.\n",
    "from data101_utils import GradingUtil\n",
    "grading_util = GradingUtil(\"proj4\")\n",
    "grading_util.prepare_autograder()"
   ]
  },
  {
   "cell_type": "code",
   "execution_count": 163,
   "metadata": {},
   "outputs": [],
   "source": [
    "# Do not delete/edit this cell\n",
    "import pickle\n",
    "import pandas as pd"
   ]
  },
  {
   "cell_type": "markdown",
   "metadata": {},
   "source": [
    "<hr style=\"border: 5px solid #003262;\" />\n",
    "<hr style=\"border: 1px solid #fdb515;\" />\n",
    "\n",
    "## Question 1: Basic MQL\n",
    "\n",
    "### Question 1a\n",
    "\n",
    "In lecture, we discussed how one could find specific attributes from a JSON object using dot (`.`) notation. \n",
    "\n",
    "- While you can still use the dot notation in queries, PyMongo represents documents returned from Mongo queries using Python dictionaries, making it convenient to manipulate JSON using a mix of Mongo queries and array indexing.\n",
    "    - Specifically, given the result of a retrieval `find` query, you can look up the third document by indexing with `[2]`. Note, since we are using Python arrays, we will be using 0-based indexing. Then, given this document, you can look up the field `'amount'` by appending `['amount']` etc., adding multiple square brackets as needed to \"walk down\" the JSON tree representation via `collection.find(...)[2]['amount']`. This will return the `'amount'` field from the 3rd document returned from the query. This combination of query and indexing will be useful in obtaining the necessary information you need for this and other questions.\n",
    "- In order to get a visual output of the query results, you will need to wrap `collection.find(...)` inside `list()`, e.g. `list(collection.find(...))`. This is because `collection.find(...)` returns a **Cursor** object, which is an iterator. **An important consequence** is that if we set `result = collection.find(...)`, then calling `list(result)` for the first time will get you the expected list of documents in the query result, but calling `list(result)` for a second time will give you an empty list! So wrapping `collection.find(...)` directly inside `list()` would avoid this issue. With that in mind, you may not *always* need to obtain a visual output of the results.\n",
    "- Be aware of the distinction of when you are querying with Mongo versus Python-based array indexing into your Mongo query results (i.e. you are wrapping your query inside `list()` and *then* indexing into that list.)\n",
    "- **As a reminder, since we are using Python dictionaries as our query filter, make sure to wrap all keys (and applicable values) inside quotes. Otherwise, errors will occur.**\n",
    "\n",
    "As a warmup to get you familiarized with PyMongo syntax in combination with Python-based array indexing, find the **Tuesday hours** for the restaurant named **Legal Sea Foods** at **100 Huntington Ave** in **Boston**. Be careful—there are many Legal Sea Foods in Boston!"
   ]
  },
  {
   "cell_type": "code",
   "execution_count": 164,
   "metadata": {
    "scrolled": true,
    "tags": [
     "otter_answer_cell"
    ]
   },
   "outputs": [
    {
     "data": {
      "text/plain": [
       "'12:0-21:0'"
      ]
     },
     "execution_count": 164,
     "metadata": {},
     "output_type": "execute_result"
    }
   ],
   "source": [
    "result_1a = list(business.find({\n",
    "    \"name\": \"Legal Sea Foods\",\n",
    "    \"address\": \"100 Huntington Ave\",\n",
    "    \"city\": \"Boston\"\n",
    "}))[0][\"hours\"][\"Tuesday\"]\n",
    "result_1a"
   ]
  },
  {
   "cell_type": "code",
   "execution_count": 165,
   "metadata": {
    "tags": [
     "otter_answer_cell"
    ]
   },
   "outputs": [],
   "source": [
    "# Do not delete/edit this cell!\n",
    "# You must run this cell before running the autograder.\n",
    "grading_util.save_results(\"result_1a\", result_1a);"
   ]
  },
  {
   "cell_type": "code",
   "execution_count": 166,
   "metadata": {
    "deletable": false,
    "editable": false
   },
   "outputs": [
    {
     "data": {
      "text/html": [
       "<p><strong><pre style='display: inline;'>q1a</pre></strong> passed! ✨</p>"
      ],
      "text/plain": [
       "q1a results: All test cases passed!"
      ]
     },
     "execution_count": 166,
     "metadata": {},
     "output_type": "execute_result"
    }
   ],
   "source": [
    "grader.check(\"q1a\")"
   ]
  },
  {
   "cell_type": "markdown",
   "metadata": {},
   "source": [
    "<br>\n",
    "\n",
    "---\n",
    "\n",
    "### Question 1b\n",
    "Now, let's get some practice with aggregation and filtering. Our goal is to write a query that computes the average star rating for all businesses in Colorado with 30 reviews or greater. However, this won't be as easy as setting the state to CO! If we inspect this dataset more closely, we will notice that some cities are not matched up with the right states. As an example, run the query below."
   ]
  },
  {
   "cell_type": "code",
   "execution_count": 167,
   "metadata": {},
   "outputs": [
    {
     "data": {
      "text/plain": [
       "[{'_id': ObjectId('6806a702a79df360aaa87171'),\n",
       "  'business_id': 'SNCRnaSy6E5fHgQuoCmmbQ',\n",
       "  'name': 'Katia Photography',\n",
       "  'address': '',\n",
       "  'city': 'Portland',\n",
       "  'state': 'CA',\n",
       "  'postal_code': '97007',\n",
       "  'latitude': 45.4501529,\n",
       "  'longitude': -122.8849111,\n",
       "  'stars': 5.0,\n",
       "  'review_count': 11,\n",
       "  'is_open': 1,\n",
       "  'attributes': {'BusinessAcceptsBitcoin': 'False',\n",
       "   'BusinessAcceptsCreditCards': 'True',\n",
       "   'WiFi': \"u'no'\"},\n",
       "  'categories': 'Shopping, Clothing Rental, Event Planning & Services, Fashion, Event Photography, Photographers, Session Photography',\n",
       "  'hours': {'Monday': '8:0-22:0',\n",
       "   'Tuesday': '8:0-22:0',\n",
       "   'Wednesday': '8:0-22:0',\n",
       "   'Thursday': '8:0-22:0',\n",
       "   'Friday': '8:0-22:0',\n",
       "   'Saturday': '8:0-22:0',\n",
       "   'Sunday': '8:0-22:0'}},\n",
       " {'_id': ObjectId('6806a70ba79df360aaa8e1dd'),\n",
       "  'business_id': 'cjwnQMQOGOYgB5uNmiYWLA',\n",
       "  'name': 'Verizon Authorized Retailer - GoWireless',\n",
       "  'address': '4655 SW Griffith Dr, Ste 125',\n",
       "  'city': 'Beaverton',\n",
       "  'state': 'CA',\n",
       "  'postal_code': '97005',\n",
       "  'latitude': 45.486312,\n",
       "  'longitude': -122.796487,\n",
       "  'stars': 2.5,\n",
       "  'review_count': 9,\n",
       "  'is_open': 0,\n",
       "  'attributes': {'BusinessAcceptsCreditCards': 'True',\n",
       "   'BusinessParking': 'None',\n",
       "   'ByAppointmentOnly': 'False',\n",
       "   'BikeParking': 'True'},\n",
       "  'categories': 'Mobile Phones, Telecommunications, Shopping, Home Services, IT Services & Computer Repair, Internet Service Providers, Local Services, Professional Services, Mobile Phone Accessories, Electronics',\n",
       "  'hours': {'Monday': '0:0-0:0',\n",
       "   'Tuesday': '10:0-18:0',\n",
       "   'Wednesday': '10:0-18:0',\n",
       "   'Thursday': '10:0-18:0',\n",
       "   'Friday': '10:0-18:0',\n",
       "   'Saturday': '10:0-18:0',\n",
       "   'Sunday': '11:0-18:0'}},\n",
       " {'_id': ObjectId('6806a710a79df360aaa924c4'),\n",
       "  'business_id': 'l92RJMHpxZgJl7FQuqpW6w',\n",
       "  'name': 'Here We Grow',\n",
       "  'address': '',\n",
       "  'city': 'Atlanta',\n",
       "  'state': 'CA',\n",
       "  'postal_code': '30345',\n",
       "  'latitude': 33.8484195,\n",
       "  'longitude': -84.2858121,\n",
       "  'stars': 5.0,\n",
       "  'review_count': 6,\n",
       "  'is_open': 1,\n",
       "  'attributes': {'GoodForKids': 'True'},\n",
       "  'categories': 'Childbirth Education, Specialty Schools, Preschools, Adult Education, Parenting Classes, Education, Active Life, Kids Activities',\n",
       "  'hours': {'Tuesday': '9:0-17:0',\n",
       "   'Thursday': '9:0-17:0',\n",
       "   'Saturday': '9:0-13:0',\n",
       "   'Sunday': '11:0-15:0'}}]"
      ]
     },
     "execution_count": 167,
     "metadata": {},
     "output_type": "execute_result"
    }
   ],
   "source": [
    "list(business.find({\"state\": \"CA\"}).limit(3))"
   ]
  },
  {
   "cell_type": "markdown",
   "metadata": {},
   "source": [
    "Notice how cities like Portland, Atlanta, and Orlando are classified as California cities! However, the latitude and longitude is generally correct. The latitude of Colorado is between 37 and 41 **inclusive** and the longitude is between -109 and -102 **inclusive**. Now, use this to **find the average star rating** of all businesses in this range with **30 or more reviews**.\n",
    "\n",
    "Recall that in SQL, we would use a `GROUP BY` with the `AVG` aggregation function. In Mongo, we use an aggregation pipeline [(documentation here)](https://www.mongodb.com/docs/manual/reference/method/db.collection.aggregate/), comprised of multiple stages (e.g., `$match` followed by `$group`). Each stage transforms the documents in some way. Pipeline stages do not need to produce one output document for every input document. For example, some stages may generate new documents or filter out documents.\n",
    "\n",
    "**Hints:**\n",
    "- As in the previous question, you may find it helpful to use the PyMongo array notation to extract the pertinent information/document once you have composed the right Mongo aggregation query. You are required to wrap `collection.aggregate(...)` inside `list()`, e.g. `list(collection.aggregate(...))` before indexing/visualizing the output. Similar to `collection.find(...)`, `collection.aggregate(...)` also returns a **Cursor** object (which is an iterator).\n",
    "\n",
    "- You can set multiple conditions for a given field within the same object, e.g. `{\"$gte\": 0, \"$lte\": 10}`. This is the recommended approach, or else you may need to worry about the ordering between the conditions."
   ]
  },
  {
   "cell_type": "code",
   "execution_count": 168,
   "metadata": {
    "scrolled": true,
    "tags": [
     "otter_answer_cell"
    ]
   },
   "outputs": [
    {
     "data": {
      "text/plain": [
       "3.6735412474849096"
      ]
     },
     "execution_count": 168,
     "metadata": {},
     "output_type": "execute_result"
    }
   ],
   "source": [
    "result_1b = list(business.aggregate([\n",
    "    {\n",
    "        \"$match\": {\n",
    "            \"latitude\": {\"$gte\": 37, \"$lte\": 41},\n",
    "            \"longitude\": {\"$gte\": -109, \"$lte\": -102},\n",
    "            \"review_count\": {\"$gte\": 30}\n",
    "        }\n",
    "    },\n",
    "    {\n",
    "        \"$group\": {\n",
    "            \"_id\": None,\n",
    "            \"avg_rating\": {\"$avg\": \"$stars\"}\n",
    "        }\n",
    "    }\n",
    "]))[0][\"avg_rating\"]\n",
    "\n",
    "result_1b"
   ]
  },
  {
   "cell_type": "code",
   "execution_count": 169,
   "metadata": {
    "tags": [
     "otter_answer_cell"
    ]
   },
   "outputs": [],
   "source": [
    "# Do not delete/edit this cell!\n",
    "# You must run this cell before running the autograder.\n",
    "grading_util.save_results(\"result_1b\", result_1b);"
   ]
  },
  {
   "cell_type": "code",
   "execution_count": 170,
   "metadata": {
    "deletable": false,
    "editable": false
   },
   "outputs": [
    {
     "data": {
      "text/html": [
       "<p><strong><pre style='display: inline;'>q1b</pre></strong> passed! 🚀</p>"
      ],
      "text/plain": [
       "q1b results: All test cases passed!"
      ]
     },
     "execution_count": 170,
     "metadata": {},
     "output_type": "execute_result"
    }
   ],
   "source": [
    "grader.check(\"q1b\")"
   ]
  },
  {
   "cell_type": "markdown",
   "metadata": {},
   "source": [
    "<br>\n",
    "\n",
    "---\n",
    "### Question 1c\n",
    "\n",
    "In this question, we will explore aggregation and grouping further. We will also make use of the `$project` operator which allows us to output documents with certain fields of our choosing. \n",
    "\n",
    "For this question, we would like to create an aggregation pipeline to **find the town in each state with the highest average number of stars, and break ties by sorting on `city` in alphabetical (ascending) order**. **We will only consider towns with greater than or equal to 5 reviews in total across all the businesses in that town so that the average is meaningful (i.e. there should be at least 5 reviews in that city).** Your final output should contain exactly two fields:\n",
    "\n",
    "- `average_stars` which contains the average number of stars for the corresponding town.\n",
    "- `city_state` which is the name of the town with the highest value of average stars in the state concatenated with a comma followed by the state initials. For example, `Berkeley, CA`.\n",
    "\n",
    "\n",
    "To ensure your output is consistent with the autograder, **sort the result in descending order by `average_stars` and break ties by sorting on `city_state` in alphabetical (ascending) order.** This is real-world data and may be messy and filled with typos, including your output. However, there is no need to clean the data. You may also ignore upper and lower case discrepancies.\n",
    "\n",
    "As a concrete example, imagine that Berkeley and Austin have the highest average stars in California and Texas respectively (and both have more than or equal to 5 total reviews in this *truncated* dataset). If Berkeley and Austin both have an average star rating of 5.0, your final output should be:\n",
    "\n",
    "```\n",
    "[\n",
    "    {'average_stars': 5.0, 'city_state': 'Austin, TX'},\n",
    "    {'average_stars': 5.0, 'city_state': 'Berkeley, CA'}\n",
    "]\n",
    "\n",
    "```\n",
    "\n",
    "**Note:** You will provide a pipeline to `business.aggregate(...)` as your solution. Save your pipeline to `q1c_pipeline`.\n",
    "\n",
    "**Hint:** You may find the `concat` operator helpful [(documentation here)](https://docs.mongodb.com/manual/reference/operator/aggregation/concat/)."
   ]
  },
  {
   "cell_type": "code",
   "execution_count": 171,
   "metadata": {
    "tags": [
     "otter_answer_cell"
    ]
   },
   "outputs": [
    {
     "data": {
      "text/plain": [
       "[{'average_stars': 5.0, 'city_state': 'Austin, CA'},\n",
       " {'average_stars': 5.0, 'city_state': 'Decatur , GA'},\n",
       " {'average_stars': 5.0, 'city_state': 'Milwauke, OR'},\n",
       " {'average_stars': 5.0, 'city_state': 'Nagadocaches, TX'},\n",
       " {'average_stars': 5.0, 'city_state': 'Oakland, FL'},\n",
       " {'average_stars': 5.0, 'city_state': 'Portland, WA'},\n",
       " {'average_stars': 5.0, 'city_state': 'Richmond, BC'},\n",
       " {'average_stars': 5.0, 'city_state': 'Shawnee Hills, OH'},\n",
       " {'average_stars': 5.0, 'city_state': 'Spring Valley, NY'},\n",
       " {'average_stars': 5.0, 'city_state': 'Toronto, ON'},\n",
       " {'average_stars': 5.0, 'city_state': 'Vancouver, DC'},\n",
       " {'average_stars': 5.0, 'city_state': 'wakefield, MA'},\n",
       " {'average_stars': 4.5, 'city_state': 'Golden, CO'},\n",
       " {'average_stars': 4.5, 'city_state': 'Lake Oswego, AZ'},\n",
       " {'average_stars': 4.5, 'city_state': 'Portland, HI'},\n",
       " {'average_stars': 4.5, 'city_state': 'Powell, DE'},\n",
       " {'average_stars': 4.5, 'city_state': 'Vancouver, ABE'},\n",
       " {'average_stars': 4.0, 'city_state': 'Franklin Park, IL'},\n",
       " {'average_stars': 4.0, 'city_state': 'Hampton, NH'},\n",
       " {'average_stars': 3.5, 'city_state': 'Austin, MN'},\n",
       " {'average_stars': 3.5, 'city_state': 'Glendale, WI'},\n",
       " {'average_stars': 3.5, 'city_state': 'Jackson, MI'},\n",
       " {'average_stars': 3.5, 'city_state': 'North Reading, ME'},\n",
       " {'average_stars': 3.5, 'city_state': 'Richmond, VA'},\n",
       " {'average_stars': 3.5, 'city_state': 'Rio Rancho, NM'},\n",
       " {'average_stars': 2.5, 'city_state': 'Austin, AL'},\n",
       " {'average_stars': 2.5, 'city_state': 'Oklahoma City, OK'},\n",
       " {'average_stars': 2.5, 'city_state': 'Sanford, NC'},\n",
       " {'average_stars': 2.0, 'city_state': 'Ellsworth, KS'},\n",
       " {'average_stars': 2.0, 'city_state': 'Liberty, KY'},\n",
       " {'average_stars': 1.5, 'city_state': 'Sheridan, WY'}]"
      ]
     },
     "execution_count": 171,
     "metadata": {},
     "output_type": "execute_result"
    }
   ],
   "source": [
    "q1c_pipeline = [\n",
    "    {\n",
    "        \"$group\": {\n",
    "            \"_id\": {\"city\": \"$city\", \"state\": \"$state\"},\n",
    "            \"average_stars\": {\"$avg\": \"$stars\"},\n",
    "            \"total_reviews\": {\"$sum\": \"$review_count\"}\n",
    "        }\n",
    "    },\n",
    "    {\n",
    "        \"$match\": {\n",
    "            \"total_reviews\": {\"$gte\": 5}\n",
    "        }\n",
    "    },\n",
    "    {\n",
    "        \"$project\": {\n",
    "            \"_id\": 0,\n",
    "            \"average_stars\": 1,\n",
    "            \"city\": \"$_id.city\",\n",
    "            \"state\": \"$_id.state\"\n",
    "        }\n",
    "    },\n",
    "    {\n",
    "        \"$group\": {\n",
    "            \"_id\": \"$state\",\n",
    "            \"city\": {\"$first\": \"$city\"},\n",
    "            \"average_stars\": {\"$max\": \"$average_stars\"}\n",
    "        }\n",
    "    },\n",
    "    {\n",
    "        \"$project\": {\n",
    "            \"_id\": 0,\n",
    "            \"average_stars\": 1,\n",
    "            \"city_state\": {\n",
    "                \"$concat\": [\"$city\", \", \", \"$_id\"]\n",
    "            }\n",
    "        }\n",
    "    },\n",
    "    {\n",
    "        \"$sort\": {\n",
    "            \"average_stars\": -1,\n",
    "            \"city_state\": 1\n",
    "        }\n",
    "    }\n",
    "]\n",
    "\n",
    "result_1c = list(business.aggregate(q1c_pipeline))\n",
    "result_1c"
   ]
  },
  {
   "cell_type": "code",
   "execution_count": 172,
   "metadata": {
    "scrolled": true,
    "tags": [
     "otter_answer_cell"
    ]
   },
   "outputs": [],
   "source": [
    "# Do not delete/edit this cell!\n",
    "# You must run this cell before running the autograder.\n",
    "grading_util.save_results(\"result_1c\", result_1c);"
   ]
  },
  {
   "cell_type": "code",
   "execution_count": 173,
   "metadata": {
    "deletable": false,
    "editable": false
   },
   "outputs": [
    {
     "data": {
      "text/html": [
       "<p><strong><pre style='display: inline;'>q1c</pre></strong> passed! ✨</p>"
      ],
      "text/plain": [
       "q1c results: All test cases passed!"
      ]
     },
     "execution_count": 173,
     "metadata": {},
     "output_type": "execute_result"
    }
   ],
   "source": [
    "grader.check(\"q1c\")"
   ]
  },
  {
   "cell_type": "markdown",
   "metadata": {},
   "source": [
    "<br>\n",
    "\n",
    "---\n",
    "### Question 1d\n",
    "\n",
    "In class, we've described structured (rectangular) data as well as semi-structured data. We haven't quite covered unstructured data—this is basically free-form text. Often, in semi-structured JSON you may have unstructured text data embedded within, such as the text field in the review collection.\n",
    "\n",
    "MongoDB allows us to build a so-called **text index** to retrieve the relevant document based on keywords found in text in a predefined field. This index converts our free-form text into a structure that allows us to easily look up documents by its contents. To leverage this text search capability, we build a text index on the `text` field in the `review` collection. This has been done for you.\n",
    "\n",
    "We will then use this text index to do basic sentiment analysis and find all the restaurants we should avoid! Using the text index given, write a query to find all the reviews with \"disgusting\", \"horrible\", \"horrid\", \"gross\", \"bad\", or \"hate\". To use the text index, use the keywords `$text` and `$search` as detailed [here](https://www.mongodb.com/docs/manual/core/text-search-operators/).\n",
    "\n",
    "Fill in your query into `result_1d` to count how many reviews contain any of these 6 words.\n",
    "\n",
    "**Hint:** In general, you can count the number of documents returned by a `find` query result via `len(list(collection.find(...)))` or more simply `collection.count_documents(...)`. To count the number of documents returned by an `aggregate` query result, the best way is to directly use `len(list(collection.aggregate(...)))`."
   ]
  },
  {
   "cell_type": "code",
   "execution_count": 174,
   "metadata": {
    "editable": true,
    "scrolled": true,
    "slideshow": {
     "slide_type": ""
    },
    "tags": [
     "otter_answer_cell"
    ]
   },
   "outputs": [
    {
     "data": {
      "text/plain": [
       "728"
      ]
     },
     "execution_count": 174,
     "metadata": {},
     "output_type": "execute_result"
    }
   ],
   "source": [
    "# We create a text index here\n",
    "if 'text_text' not in review.index_information():\n",
    "    review.create_index([('text', TEXT)])\n",
    "\n",
    "result_1d = review.count_documents({\n",
    "    \"$text\": {\n",
    "        \"$search\": \"disgusting horrible horrid gross bad hate\"\n",
    "    }\n",
    "})\n",
    "result_1d"
   ]
  },
  {
   "cell_type": "code",
   "execution_count": 175,
   "metadata": {
    "editable": true,
    "slideshow": {
     "slide_type": ""
    },
    "tags": [
     "otter_answer_cell"
    ]
   },
   "outputs": [],
   "source": [
    "# Do not delete/edit this cell!\n",
    "# You must run this cell before running the autograder.\n",
    "grading_util.save_results(\"result_1d\", result_1d);"
   ]
  },
  {
   "cell_type": "code",
   "execution_count": 176,
   "metadata": {
    "deletable": false,
    "editable": false
   },
   "outputs": [
    {
     "data": {
      "text/html": [
       "<p><strong><pre style='display: inline;'>q1d</pre></strong> passed! 💯</p>"
      ],
      "text/plain": [
       "q1d results: All test cases passed!"
      ]
     },
     "execution_count": 176,
     "metadata": {},
     "output_type": "execute_result"
    }
   ],
   "source": [
    "grader.check(\"q1d\")"
   ]
  },
  {
   "cell_type": "markdown",
   "metadata": {},
   "source": [
    "<br>\n",
    "\n",
    "---\n",
    "### Question 1e\n",
    "\n",
    "Now, let's learn Mongo updates, deletions, and creation. Create a new collection called `review_boolean` which is the exact same as `reviews` EXCEPT there is a new field called `to_avoid` which is the ***string*** `\"true\"`  if the review `text` contains the words \"disgusting\", \"horrid\", \"horrible\", \"gross\", \"bad\", or \"hate\" and the ***string*** `\"false\"` if not.  \n",
    "\n",
    "This is a tricky task! We have not discussed creation, updates, or insertions in great detail during lecture but luckily, Mongo uses a similar approach to SQL.\n",
    "\n",
    "***Insertions***: In order to insert into a document, you may use the functions [review_boolean.insert_one(...)](https://docs.mongodb.com/manual/reference/method/db.collection.insertOne/) or [review_boolean.insert_many(...)](https://docs.mongodb.com/manual/reference/method/db.collection.insertMany/). These functions take in a document or a list of documents and inserts them into the collection. \n",
    "\n",
    "***Updates***: In order to update a document, you may use the functions [review_boolean.update_one(...)](https://docs.mongodb.com/manual/reference/method/db.collection.updateOne/) or [review_boolean.update_many(...)](https://docs.mongodb.com/manual/reference/method/db.collection.updateMany/). These functions take in two parameters.\n",
    "1. The first parameter specifies which documents should be modified. For `update_many`, if the first parameter is `{}`, this indicates that all documents should be updated. However, you can add a more specific filter here if you would like.\n",
    "2. The second parameter specifies what you would like to update your field to (the [$set](https://docs.mongodb.com/manual/reference/operator/update/set/) operator may come in handy here). Recall that in our SQL model, updates are performed as `UPDATE ... SET ... WHERE ...`. In our case, the first ellipsis corresponds to `review_boolean`, the second ellipsis corresponds to the second parameter of `update_*` where `*` can be `one` or `many`, and the third ellipsis corresponds to the first parameter of `update_*`.\n",
    "\n",
    "***Creation***: We handle creation of the collection for you. But in PyMongo, creation of a collection is as simple as writing `variable_name = db[collection_name]` where `db` is the the PyMongo database object variable you have already created.\n",
    "\n",
    "Some additional reminders and hints:\n",
    "- The empty collection `review_boolean` has already been created for you and is stored in the variable of the same name.\n",
    "- A text index has been created for you. You can use a similar search approach as the last question.\n",
    "- We want to start by inserting the documents from the `review` collection into the `review_boolean` collection.\n",
    "- Don't forget that in order to pass the hidden tests, the `to_avoid` field must exist for every document in `review_boolean`! The [$exists](https://www.mongodb.com/docs/manual/reference/operator/query/exists/) operator may be helpful."
   ]
  },
  {
   "cell_type": "code",
   "execution_count": 181,
   "metadata": {
    "tags": [
     "otter_answer_cell"
    ]
   },
   "outputs": [
    {
     "data": {
      "text/plain": [
       "UpdateResult({'n': 6772, 'nModified': 6772, 'ok': 1.0, 'updatedExisting': True}, acknowledged=True)"
      ]
     },
     "execution_count": 181,
     "metadata": {},
     "output_type": "execute_result"
    }
   ],
   "source": [
    "review_boolean = mydb[\"review_boolean\"]\n",
    "review_boolean.drop()\n",
    "\n",
    "\n",
    "if 'text_text' not in review_boolean.index_information():\n",
    "    review_boolean.create_index([('text', TEXT)])\n",
    "review_boolean.insert_many(list(review.find({})))\n",
    "\n",
    "\n",
    "review_boolean.update_many(\n",
    "    {\"$text\": {\"$search\": \"disgusting horrible horrid gross bad hate\"}},\n",
    "    {\"$set\": {\"to_avoid\": \"true\"}}\n",
    ")\n",
    "\n",
    "\n",
    "review_boolean.update_many(\n",
    "    {\"to_avoid\": {\"$exists\": False}},\n",
    "    {\"$set\": {\"to_avoid\": \"false\"}}\n",
    ")"
   ]
  },
  {
   "cell_type": "code",
   "execution_count": 182,
   "metadata": {
    "tags": [
     "otter_answer_cell"
    ]
   },
   "outputs": [
    {
     "data": {
      "text/plain": [
       "{'_id': ObjectId('6806a735a79df360aaaadd9f'),\n",
       " 'review_id': 'lWC-xP3rd6obsecCYsGZRg',\n",
       " 'user_id': 'ak0TdVmGKo4pwqdJSTLwWw',\n",
       " 'business_id': 'buF9druCkbuXLX526sGELQ',\n",
       " 'stars': 4.0,\n",
       " 'useful': 3,\n",
       " 'funny': 1,\n",
       " 'cool': 1,\n",
       " 'text': \"Apparently Prides Osteria had a rough summer as evidenced by the almost empty dining room at 6:30 on a Friday night. However new blood in the kitchen seems to have revitalized the food from other customers recent visits. Waitstaff was warm but unobtrusive. By 8 pm or so when we left the bar was full and the dining room was much more lively than it had been. Perhaps Beverly residents prefer a later seating. \\n\\nAfter reading the mixed reviews of late I was a little tentative over our choice but luckily there was nothing to worry about in the food department. We started with the fried dough, burrata and prosciutto which were all lovely. Then although they don't offer half portions of pasta we each ordered the entree size and split them. We chose the tagliatelle bolognese and a four cheese filled pasta in a creamy sauce with bacon, asparagus and grana frita. Both were very good. We split a secondi which was the special Berkshire pork secreto, which was described as a pork skirt steak with garlic potato purée and romanesco broccoli (incorrectly described as a romanesco sauce). Some tables received bread before the meal but for some reason we did not. \\n\\nManagement also seems capable for when the tenants in the apartment above began playing basketball she intervened and also comped the tables a dessert. We ordered the apple dumpling with gelato and it was also quite tasty. Portions are not huge which I particularly like because I prefer to order courses. If you are someone who orders just a meal you may leave hungry depending on you appetite. Dining room was mostly younger crowd while the bar was definitely the over 40 set. Would recommend that the naysayers return to see the improvement although I personally don't know the former glory to be able to compare. Easy access to downtown Salem without the crowds on this month of October.\",\n",
       " 'date': '2014-10-11 03:34:02',\n",
       " 'to_avoid': 'false'}"
      ]
     },
     "execution_count": 182,
     "metadata": {},
     "output_type": "execute_result"
    }
   ],
   "source": [
    "review_boolean = mydb[\"review_boolean\"]\n",
    "review_boolean.find_one()"
   ]
  },
  {
   "cell_type": "code",
   "execution_count": 183,
   "metadata": {
    "tags": [
     "otter_answer_cell"
    ]
   },
   "outputs": [],
   "source": [
    "# Do not delete/edit this cell!\n",
    "# You must run this cell before running the autograder.\n",
    "review_boolean = mydb[\"review_boolean\"]\n",
    "grading_util.save_results(\"result_1e\", list(review_boolean.find({}, {'_id': 0})));"
   ]
  },
  {
   "cell_type": "code",
   "execution_count": 184,
   "metadata": {
    "deletable": false,
    "editable": false
   },
   "outputs": [
    {
     "data": {
      "text/html": [
       "<p><strong><pre style='display: inline;'>q1e</pre></strong> passed! 💯</p>"
      ],
      "text/plain": [
       "q1e results: All test cases passed!"
      ]
     },
     "execution_count": 184,
     "metadata": {},
     "output_type": "execute_result"
    }
   ],
   "source": [
    "grader.check(\"q1e\")"
   ]
  },
  {
   "cell_type": "markdown",
   "metadata": {},
   "source": [
    "<br>\n",
    "\n",
    "---\n",
    "### Question 1f\n",
    "\n",
    "Now, you have a change of heart: you decide that it's unfair to label restaurants as `to_avoid` without at least giving them a chance! Remove the `to_avoid` field from the `review_boolean` collection. Calculate the `difference` between the data size of `review_boolean` with the `to_avoid` field and without it. The code for making this calculation is provided but it is up to you to actually remove the field.\n",
    "\n",
    "***Deletions***: Deletions in Mongo make use of the `review_boolean.update_one(...)` or `review_boolean.update_many(...)` functionality discussed in Question 1e. However, this time, instead of using the `$set` operator which allows for the creation of new fields, we will use the [$unset](https://docs.mongodb.com/manual/reference/operator/update/unset/) operator which deletes them! (Very tidy!)\n",
    "\n",
    "**Before running the next cell, make sure to re-run your cell for Question 1e so you don't get a difference of 0!**"
   ]
  },
  {
   "cell_type": "code",
   "execution_count": 185,
   "metadata": {
    "tags": [
     "otter_answer_cell"
    ]
   },
   "outputs": [
    {
     "data": {
      "text/plain": [
       "149272"
      ]
     },
     "execution_count": 185,
     "metadata": {},
     "output_type": "execute_result"
    }
   ],
   "source": [
    "with_avoid = mydb.command(\"collstats\", \"review_boolean\")['size']\n",
    "\n",
    "review_boolean.update_many({}, {\"$unset\": {\"to_avoid\": \"\"}})\n",
    "\n",
    "without_avoid = mydb.command(\"collstats\", \"review_boolean\")['size']\n",
    "difference = with_avoid - without_avoid\n",
    "difference"
   ]
  },
  {
   "cell_type": "code",
   "execution_count": 186,
   "metadata": {
    "tags": [
     "otter_answer_cell"
    ]
   },
   "outputs": [],
   "source": [
    "# Do not delete/edit this cell!\n",
    "# You must run this cell before running the autograder.\n",
    "grading_util.save_results(\"result_1f\", difference);"
   ]
  },
  {
   "cell_type": "code",
   "execution_count": 187,
   "metadata": {
    "deletable": false,
    "editable": false
   },
   "outputs": [
    {
     "data": {
      "text/html": [
       "<p><strong><pre style='display: inline;'>q1f</pre></strong> passed! 🚀</p>"
      ],
      "text/plain": [
       "q1f results: All test cases passed!"
      ]
     },
     "execution_count": 187,
     "metadata": {},
     "output_type": "execute_result"
    }
   ],
   "source": [
    "grader.check(\"q1f\")"
   ]
  },
  {
   "cell_type": "markdown",
   "metadata": {},
   "source": [
    "<hr style=\"border: 5px solid #003262;\" />\n",
    "<hr style=\"border: 1px solid #fdb515;\" />\n",
    "\n",
    "## Question 2: JSON and Relational Models\n",
    "\n",
    "### Question 2a\n",
    "\n",
    "Now we have a good idea of how to do retrieval, aggregation, and updates in Mongo. But, we haven't talked about why we\n",
    "would want to use Mongo to store JSON! In order to explore this, let's take another look at the `business`\n",
    "collection. We will look at the first two entries."
   ]
  },
  {
   "cell_type": "code",
   "execution_count": 188,
   "metadata": {},
   "outputs": [
    {
     "data": {
      "text/plain": [
       "[{'_id': ObjectId('6806a702a79df360aaa86a56'),\n",
       "  'business_id': '6iYb2HFDywm3zjuRg0shjw',\n",
       "  'name': 'Oskar Blues Taproom',\n",
       "  'address': '921 Pearl St',\n",
       "  'city': 'Boulder',\n",
       "  'state': 'CO',\n",
       "  'postal_code': '80302',\n",
       "  'latitude': 40.0175444,\n",
       "  'longitude': -105.2833481,\n",
       "  'stars': 4.0,\n",
       "  'review_count': 86,\n",
       "  'is_open': 1,\n",
       "  'attributes': {'RestaurantsTableService': 'True',\n",
       "   'WiFi': \"u'free'\",\n",
       "   'BikeParking': 'True',\n",
       "   'BusinessParking': \"{'garage': False, 'street': True, 'validated': False, 'lot': False, 'valet': False}\",\n",
       "   'BusinessAcceptsCreditCards': 'True',\n",
       "   'RestaurantsReservations': 'False',\n",
       "   'WheelchairAccessible': 'True',\n",
       "   'Caters': 'True',\n",
       "   'OutdoorSeating': 'True',\n",
       "   'RestaurantsGoodForGroups': 'True',\n",
       "   'HappyHour': 'True',\n",
       "   'BusinessAcceptsBitcoin': 'False',\n",
       "   'RestaurantsPriceRange2': '2',\n",
       "   'Ambience': \"{'touristy': False, 'hipster': False, 'romantic': False, 'divey': False, 'intimate': False, 'trendy': False, 'upscale': False, 'classy': False, 'casual': True}\",\n",
       "   'HasTV': 'True',\n",
       "   'Alcohol': \"'beer_and_wine'\",\n",
       "   'GoodForMeal': \"{'dessert': False, 'latenight': False, 'lunch': False, 'dinner': False, 'brunch': False, 'breakfast': False}\",\n",
       "   'DogsAllowed': 'False',\n",
       "   'RestaurantsTakeOut': 'True',\n",
       "   'NoiseLevel': \"u'average'\",\n",
       "   'RestaurantsAttire': \"'casual'\",\n",
       "   'RestaurantsDelivery': 'None'},\n",
       "  'categories': 'Gastropubs, Food, Beer Gardens, Restaurants, Bars, American (Traditional), Beer Bar, Nightlife, Breweries',\n",
       "  'hours': {'Monday': '11:0-23:0',\n",
       "   'Tuesday': '11:0-23:0',\n",
       "   'Wednesday': '11:0-23:0',\n",
       "   'Thursday': '11:0-23:0',\n",
       "   'Friday': '11:0-23:0',\n",
       "   'Saturday': '11:0-23:0',\n",
       "   'Sunday': '11:0-23:0'}},\n",
       " {'_id': ObjectId('6806a702a79df360aaa86a57'),\n",
       "  'business_id': 'tCbdrRPZA0oiIYSmHG3J0w',\n",
       "  'name': 'Flying Elephants at PDX',\n",
       "  'address': '7000 NE Airport Way',\n",
       "  'city': 'Portland',\n",
       "  'state': 'OR',\n",
       "  'postal_code': '97218',\n",
       "  'latitude': 45.5889058992,\n",
       "  'longitude': -122.5933307507,\n",
       "  'stars': 4.0,\n",
       "  'review_count': 126,\n",
       "  'is_open': 1,\n",
       "  'attributes': {'RestaurantsTakeOut': 'True',\n",
       "   'RestaurantsAttire': \"u'casual'\",\n",
       "   'GoodForKids': 'True',\n",
       "   'BikeParking': 'False',\n",
       "   'OutdoorSeating': 'False',\n",
       "   'Ambience': \"{'romantic': False, 'intimate': False, 'touristy': False, 'hipster': False, 'divey': False, 'classy': False, 'trendy': False, 'upscale': False, 'casual': True}\",\n",
       "   'Caters': 'True',\n",
       "   'RestaurantsReservations': 'False',\n",
       "   'RestaurantsDelivery': 'False',\n",
       "   'HasTV': 'False',\n",
       "   'RestaurantsGoodForGroups': 'False',\n",
       "   'BusinessAcceptsCreditCards': 'True',\n",
       "   'NoiseLevel': \"u'average'\",\n",
       "   'ByAppointmentOnly': 'False',\n",
       "   'RestaurantsPriceRange2': '2',\n",
       "   'WiFi': \"u'free'\",\n",
       "   'BusinessParking': \"{'garage': True, 'street': False, 'validated': False, 'lot': False, 'valet': False}\",\n",
       "   'Alcohol': \"u'beer_and_wine'\",\n",
       "   'GoodForMeal': \"{'dessert': False, 'latenight': False, 'lunch': True, 'dinner': False, 'brunch': False, 'breakfast': True}\"},\n",
       "  'categories': 'Salad, Soup, Sandwiches, Delis, Restaurants, Cafes, Vegetarian',\n",
       "  'hours': {'Monday': '5:0-18:0',\n",
       "   'Tuesday': '5:0-17:0',\n",
       "   'Wednesday': '5:0-18:0',\n",
       "   'Thursday': '5:0-18:0',\n",
       "   'Friday': '5:0-18:0',\n",
       "   'Saturday': '5:0-18:0',\n",
       "   'Sunday': '5:0-18:0'}}]"
      ]
     },
     "execution_count": 188,
     "metadata": {},
     "output_type": "execute_result"
    }
   ],
   "source": [
    "list(business.find({}).limit(2))"
   ]
  },
  {
   "cell_type": "markdown",
   "metadata": {
    "deletable": false,
    "editable": false
   },
   "source": [
    "<!-- BEGIN QUESTION -->\n",
    "\n",
    "What are **two** benefits of storing this data in MongoDB with JSON over a relational database management system such as Postgres?\n",
    "Please reference specific examples from the `business` collection to back up your claims. \n",
    "\n",
    "Format your answer as follows:\n",
    "\n",
    "1. Benefit #1, Example #1.\n",
    "2. Benefit #2, Example #2.\n",
    "\n",
    "**Limit each benefit to one sentence and each example to one sentence for a total of at most four sentences.**"
   ]
  },
  {
   "cell_type": "markdown",
   "metadata": {
    "tags": [
     "otter_answer_cell"
    ]
   },
   "source": [
    "Benefit #1: MongoDB allows flexible schema design, so documents can include fields only when relevant.\n",
    "Example #1: The attributes field in \"Oskar Blues Taproom\" contains detailed subfields like BusinessParking, HappyHour, and WiFi, which wouldn't fit neatly into fixed relational tables.\n",
    "Benefit #2: MongoDB supports rich embedded documents, which enables easy storage of complex nested data without normalization.\n",
    "Example #2: The hours field in both businesses stores each day’s opening time in a nested dictionary, avoiding the need for a separate \"hours\" table as would be needed in Postgres.\n"
   ]
  },
  {
   "cell_type": "markdown",
   "metadata": {
    "deletable": false,
    "editable": false
   },
   "source": [
    "<!-- END QUESTION -->\n",
    "\n",
    "<br>\n",
    "\n",
    "---\n",
    "### Question 2b\n",
    "\n",
    "It seems like MongoDB is getting all the love when it comes to JSON support! However, modern iterations of relational databases\n",
    "such as Postgres 9.3+ also have [excellent JSON functionality](https://www.postgresql.org/docs/9.3/functions-json.html) as we will soon explore in this task. First, let's set up a\n",
    "bit of scaffolding. The following cell will import the `yelp_academic_dataset_review.json` data into a table called `reviews` in the Postgres Yelp database."
   ]
  },
  {
   "cell_type": "code",
   "execution_count": 189,
   "metadata": {
    "scrolled": true
   },
   "outputs": [
    {
     "data": {
      "text/html": [
       "<span style=\"None\">Switching to connection &#x27;postgresql://jovyan@127.0.0.1:5432/postgres&#x27;</span>"
      ],
      "text/plain": [
       "Switching to connection 'postgresql://jovyan@127.0.0.1:5432/postgres'"
      ]
     },
     "metadata": {},
     "output_type": "display_data"
    },
    {
     "name": "stdout",
     "output_type": "stream",
     "text": [
      "ERROR:  database \"yelp\" is being accessed by other users\n",
      "DETAIL:  There is 1 other session using the database.\n",
      "ERROR:  database \"yelp\" already exists\n",
      "DROP TABLE\n",
      "CREATE TABLE\n",
      "COPY 7500\n"
     ]
    },
    {
     "data": {
      "text/html": [
       "<span style=\"None\">Running query in &#x27;postgresql://jovyan@127.0.0.1:5432/postgres&#x27;</span>"
      ],
      "text/plain": [
       "Running query in 'postgresql://jovyan@127.0.0.1:5432/postgres'"
      ]
     },
     "metadata": {},
     "output_type": "display_data"
    },
    {
     "data": {
      "text/html": [
       "<table>\n",
       "    <thead>\n",
       "        <tr>\n",
       "            <th>Name</th>\n",
       "            <th>Owner</th>\n",
       "            <th>Encoding</th>\n",
       "            <th>Collate</th>\n",
       "            <th>Ctype</th>\n",
       "            <th>Access privileges</th>\n",
       "        </tr>\n",
       "    </thead>\n",
       "    <tbody>\n",
       "        <tr>\n",
       "            <td>baseball</td>\n",
       "            <td>jovyan</td>\n",
       "            <td>UTF8</td>\n",
       "            <td>en_US.utf8</td>\n",
       "            <td>en_US.utf8</td>\n",
       "            <td>None</td>\n",
       "        </tr>\n",
       "        <tr>\n",
       "            <td>billboard</td>\n",
       "            <td>jovyan</td>\n",
       "            <td>UTF8</td>\n",
       "            <td>en_US.utf8</td>\n",
       "            <td>en_US.utf8</td>\n",
       "            <td>None</td>\n",
       "        </tr>\n",
       "        <tr>\n",
       "            <td>imdb</td>\n",
       "            <td>jovyan</td>\n",
       "            <td>UTF8</td>\n",
       "            <td>en_US.utf8</td>\n",
       "            <td>en_US.utf8</td>\n",
       "            <td>None</td>\n",
       "        </tr>\n",
       "        <tr>\n",
       "            <td>jovyan</td>\n",
       "            <td>jovyan</td>\n",
       "            <td>UTF8</td>\n",
       "            <td>en_US.utf8</td>\n",
       "            <td>en_US.utf8</td>\n",
       "            <td>None</td>\n",
       "        </tr>\n",
       "        <tr>\n",
       "            <td>postgres</td>\n",
       "            <td>jovyan</td>\n",
       "            <td>UTF8</td>\n",
       "            <td>en_US.utf8</td>\n",
       "            <td>en_US.utf8</td>\n",
       "            <td>None</td>\n",
       "        </tr>\n",
       "        <tr>\n",
       "            <td>template0</td>\n",
       "            <td>jovyan</td>\n",
       "            <td>UTF8</td>\n",
       "            <td>en_US.utf8</td>\n",
       "            <td>en_US.utf8</td>\n",
       "            <td>=c/jovyan<br>jovyan=CTc/jovyan</td>\n",
       "        </tr>\n",
       "        <tr>\n",
       "            <td>template1</td>\n",
       "            <td>jovyan</td>\n",
       "            <td>UTF8</td>\n",
       "            <td>en_US.utf8</td>\n",
       "            <td>en_US.utf8</td>\n",
       "            <td>=c/jovyan<br>jovyan=CTc/jovyan</td>\n",
       "        </tr>\n",
       "        <tr>\n",
       "            <td>ucb_buildings</td>\n",
       "            <td>jovyan</td>\n",
       "            <td>UTF8</td>\n",
       "            <td>en_US.utf8</td>\n",
       "            <td>en_US.utf8</td>\n",
       "            <td>None</td>\n",
       "        </tr>\n",
       "        <tr>\n",
       "            <td>yelp</td>\n",
       "            <td>jovyan</td>\n",
       "            <td>UTF8</td>\n",
       "            <td>en_US.utf8</td>\n",
       "            <td>en_US.utf8</td>\n",
       "            <td>None</td>\n",
       "        </tr>\n",
       "    </tbody>\n",
       "</table>"
      ],
      "text/plain": [
       "+---------------+--------+----------+------------+------------+-------------------+\n",
       "|      Name     | Owner  | Encoding |  Collate   |   Ctype    | Access privileges |\n",
       "+---------------+--------+----------+------------+------------+-------------------+\n",
       "|    baseball   | jovyan |   UTF8   | en_US.utf8 | en_US.utf8 |        None       |\n",
       "|   billboard   | jovyan |   UTF8   | en_US.utf8 | en_US.utf8 |        None       |\n",
       "|      imdb     | jovyan |   UTF8   | en_US.utf8 | en_US.utf8 |        None       |\n",
       "|     jovyan    | jovyan |   UTF8   | en_US.utf8 | en_US.utf8 |        None       |\n",
       "|    postgres   | jovyan |   UTF8   | en_US.utf8 | en_US.utf8 |        None       |\n",
       "|   template0   | jovyan |   UTF8   | en_US.utf8 | en_US.utf8 |     =c/jovyan     |\n",
       "|               |        |          |            |            | jovyan=CTc/jovyan |\n",
       "|   template1   | jovyan |   UTF8   | en_US.utf8 | en_US.utf8 |     =c/jovyan     |\n",
       "|               |        |          |            |            | jovyan=CTc/jovyan |\n",
       "| ucb_buildings | jovyan |   UTF8   | en_US.utf8 | en_US.utf8 |        None       |\n",
       "|      yelp     | jovyan |   UTF8   | en_US.utf8 | en_US.utf8 |        None       |\n",
       "+---------------+--------+----------+------------+------------+-------------------+"
      ]
     },
     "execution_count": 189,
     "metadata": {},
     "output_type": "execute_result"
    }
   ],
   "source": [
    "%reload_ext sql\n",
    "%sql postgresql://jovyan@127.0.0.1:5432/postgres\n",
    "\n",
    "!psql -h localhost -c 'DROP DATABASE IF EXISTS yelp'\n",
    "!psql -h localhost -c 'CREATE DATABASE yelp'\n",
    "!psql -h localhost -d yelp -c 'DROP TABLE IF EXISTS reviews'\n",
    "!psql -h localhost -d yelp -c 'CREATE TABLE reviews(data TEXT);'\n",
    "# Dev path\n",
    "#!cat ~/_shared/data101-readwrite/proj4_data/yelp_academic_dataset_review.json | psql -h localhost -d yelp -c \"COPY reviews (data) FROM STDIN;\"\n",
    "# Student Path\n",
    "!cat ../../../_shared/data101-readonly/proj4_data/yelp_academic_dataset_review.json | psql -h localhost -d yelp -c \"COPY reviews (data) FROM STDIN;\"\n",
    "%sql \\l"
   ]
  },
  {
   "cell_type": "markdown",
   "metadata": {},
   "source": [
    "Now, run the following cell to connect to the Postgres Yelp database. There should be no errors after running the following cell."
   ]
  },
  {
   "cell_type": "code",
   "execution_count": 190,
   "metadata": {},
   "outputs": [
    {
     "data": {
      "text/html": [
       "<span style=\"None\">Switching to connection &#x27;postgresql://jovyan@127.0.0.1:5432/yelp&#x27;</span>"
      ],
      "text/plain": [
       "Switching to connection 'postgresql://jovyan@127.0.0.1:5432/yelp'"
      ]
     },
     "metadata": {},
     "output_type": "display_data"
    }
   ],
   "source": [
    "%sql postgresql://jovyan@127.0.0.1:5432/yelp"
   ]
  },
  {
   "cell_type": "markdown",
   "metadata": {},
   "source": [
    "Run the following cell to observe how this new `reviews` table looks. Note that the `data` column is stored as TEXT and not as JSON."
   ]
  },
  {
   "cell_type": "code",
   "execution_count": 191,
   "metadata": {},
   "outputs": [
    {
     "data": {
      "text/html": [
       "<span style=\"None\">Running query in &#x27;postgresql://jovyan@127.0.0.1:5432/yelp&#x27;</span>"
      ],
      "text/plain": [
       "Running query in 'postgresql://jovyan@127.0.0.1:5432/yelp'"
      ]
     },
     "metadata": {},
     "output_type": "display_data"
    },
    {
     "data": {
      "text/html": [
       "<span style=\"color: green\">3 rows affected.</span>"
      ],
      "text/plain": [
       "3 rows affected."
      ]
     },
     "metadata": {},
     "output_type": "display_data"
    },
    {
     "data": {
      "text/html": [
       "<table>\n",
       "    <thead>\n",
       "        <tr>\n",
       "            <th>data</th>\n",
       "        </tr>\n",
       "    </thead>\n",
       "    <tbody>\n",
       "        <tr>\n",
       "            <td>{\"review_id\":\"lWC-xP3rd6obsecCYsGZRg\",\"user_id\":\"ak0TdVmGKo4pwqdJSTLwWw\",\"business_id\":\"buF9druCkbuXLX526sGELQ\",\"stars\":4.0,\"useful\":3,\"funny\":1,\"cool\":1,\"text\":\"Apparently Prides Osteria had a rough summer as evidenced by the almost empty dining room at 6:30 on a Friday night. However new blood in the kitchen seems to have revitalized the food from other customers recent visits. Waitstaff was warm but unobtrusive. By 8 pm or so when we left the bar was full and the dining room was much more lively than it had been. Perhaps Beverly residents prefer a later seating. <br><br>After reading the mixed reviews of late I was a little tentative over our choice but luckily there was nothing to worry about in the food department. We started with the fried dough, burrata and prosciutto which were all lovely. Then although they don't offer half portions of pasta we each ordered the entree size and split them. We chose the tagliatelle bolognese and a four cheese filled pasta in a creamy sauce with bacon, asparagus and grana frita. Both were very good. We split a secondi which was the special Berkshire pork secreto, which was described as a pork skirt steak with garlic potato purée and romanesco broccoli (incorrectly described as a romanesco sauce). Some tables received bread before the meal but for some reason we did not. <br><br>Management also seems capable for when the tenants in the apartment above began playing basketball she intervened and also comped the tables a dessert. We ordered the apple dumpling with gelato and it was also quite tasty. Portions are not huge which I particularly like because I prefer to order courses. If you are someone who orders just a meal you may leave hungry depending on you appetite. Dining room was mostly younger crowd while the bar was definitely the over 40 set. Would recommend that the naysayers return to see the improvement although I personally don't know the former glory to be able to compare. Easy access to downtown Salem without the crowds on this month of October.\",\"date\":\"2014-10-11 03:34:02\"}</td>\n",
       "        </tr>\n",
       "        <tr>\n",
       "            <td>{\"review_id\":\"8bFej1QE5LXp4O05qjGqXA\",\"user_id\":\"YoVfDbnISlW0f7abNQACIg\",\"business_id\":\"RA4V8pr014UyUbDvI-LW2A\",\"stars\":4.0,\"useful\":1,\"funny\":0,\"cool\":0,\"text\":\"This store is pretty good. Not as great as Walmart (or my preferred, Milford Target), but closer and in a easier area to get to.  <br>The store itself is pretty clean and organized, the staff are friendly (most of the time), and BEST of all is the Self Checkout this store has! <br>Great clearance sections throughout, and great prices on everything in the store, in general (they pricematch too!). <br>Christian, Debbie, Jen and Hanna are all very friendly, helpful, sensitive to all customer needs. Definitely one of the better Target locations in the area, and they do a GREAT job assisting customers for being such a busy store. Located directly in the Framingham Mall on Cochituate Rd / Route 30. 4 stars.\",\"date\":\"2015-07-03 20:38:25\"}</td>\n",
       "        </tr>\n",
       "        <tr>\n",
       "            <td>{\"review_id\":\"NDhkzczKjLshODbqDoNLSg\",\"user_id\":\"eC5evKn1TWDyHCyQAwguUw\",\"business_id\":\"_sS2LBIGNT5NQb6PD1Vtjw\",\"stars\":5.0,\"useful\":0,\"funny\":0,\"cool\":0,\"text\":\"I called WVM on the recommendation of a couple of friends who had used them in the past and thought they did a nice job. I'm a fan now, too.<br><br>Evan and Cody showed up right on time for my move this past weekend. They were friendly and energetic, working quickly but carefully to get all my things moved out of the old place and into the new one in less than 2.5 hours. All of my (heavy) furniture arrived in perfect condition, and they took extra care not to scratch the wood floors in the process.<br><br>I hope not to move again anytime soon, but next time I do, I'll be calling WVM.\",\"date\":\"2013-05-28 20:38:06\"}</td>\n",
       "        </tr>\n",
       "    </tbody>\n",
       "</table>"
      ],
      "text/plain": [
       "+---------------------------------------------------------------------------------------------------------------------------------------------------------------------------------------------------------------------------------------------------------------------------------------------------------------------------------------------------------------------------------------------------------------------------------------------------------------------------------------------------------------------------------------------------------------------------------------------------------------------------------------------------------------------------------------------------------------------------------------------------------------------------------+\n",
       "|                                                                                                                                                                                                                                                                                                                                                                                       data                                                                                                                                                                                                                                                                                                                                                                                      |\n",
       "+---------------------------------------------------------------------------------------------------------------------------------------------------------------------------------------------------------------------------------------------------------------------------------------------------------------------------------------------------------------------------------------------------------------------------------------------------------------------------------------------------------------------------------------------------------------------------------------------------------------------------------------------------------------------------------------------------------------------------------------------------------------------------------+\n",
       "|                                                                                           {\"review_id\":\"lWC-xP3rd6obsecCYsGZRg\",\"user_id\":\"ak0TdVmGKo4pwqdJSTLwWw\",\"business_id\":\"buF9druCkbuXLX526sGELQ\",\"stars\":4.0,\"useful\":3,\"funny\":1,\"cool\":1,\"text\":\"Apparently Prides Osteria had a rough summer as evidenced by the almost empty dining room at 6:30 on a Friday night. However new blood in the kitchen seems to have revitalized the food from other customers recent visits. Waitstaff was warm but unobtrusive. By 8 pm or so when we left the bar was full and the dining room was much more lively than it had been. Perhaps Beverly residents prefer a later seating.                                                                                           |\n",
       "|                                                                                                                                                                                                                                                                                                                                                                                                                                                                                                                                                                                                                                                                                                                                                                                 |\n",
       "| After reading the mixed reviews of late I was a little tentative over our choice but luckily there was nothing to worry about in the food department. We started with the fried dough, burrata and prosciutto which were all lovely. Then although they don't offer half portions of pasta we each ordered the entree size and split them. We chose the tagliatelle bolognese and a four cheese filled pasta in a creamy sauce with bacon, asparagus and grana frita. Both were very good. We split a secondi which was the special Berkshire pork secreto, which was described as a pork skirt steak with garlic potato purée and romanesco broccoli (incorrectly described as a romanesco sauce). Some tables received bread before the meal but for some reason we did not.  |\n",
       "|                                                                                                                                                                                                                                                                                                                                                                                                                                                                                                                                                                                                                                                                                                                                                                                 |\n",
       "|                Management also seems capable for when the tenants in the apartment above began playing basketball she intervened and also comped the tables a dessert. We ordered the apple dumpling with gelato and it was also quite tasty. Portions are not huge which I particularly like because I prefer to order courses. If you are someone who orders just a meal you may leave hungry depending on you appetite. Dining room was mostly younger crowd while the bar was definitely the over 40 set. Would recommend that the naysayers return to see the improvement although I personally don't know the former glory to be able to compare. Easy access to downtown Salem without the crowds on this month of October.\",\"date\":\"2014-10-11 03:34:02\"}               |\n",
       "|                                                                                                                                                                                                                                       {\"review_id\":\"8bFej1QE5LXp4O05qjGqXA\",\"user_id\":\"YoVfDbnISlW0f7abNQACIg\",\"business_id\":\"RA4V8pr014UyUbDvI-LW2A\",\"stars\":4.0,\"useful\":1,\"funny\":0,\"cool\":0,\"text\":\"This store is pretty good. Not as great as Walmart (or my preferred, Milford Target), but closer and in a easier area to get to.                                                                                                                                                                                                                                        |\n",
       "|                                                                                                                                                                                                                                                                                                                 The store itself is pretty clean and organized, the staff are friendly (most of the time), and BEST of all is the Self Checkout this store has!                                                                                                                                                                                                                                                                                                                 |\n",
       "|                                                                                                                                                                                                                                                                                                                              Great clearance sections throughout, and great prices on everything in the store, in general (they pricematch too!).                                                                                                                                                                                                                                                                                                                               |\n",
       "|                                                                                                                                                                                                                Christian, Debbie, Jen and Hanna are all very friendly, helpful, sensitive to all customer needs. Definitely one of the better Target locations in the area, and they do a GREAT job assisting customers for being such a busy store. Located directly in the Framingham Mall on Cochituate Rd / Route 30. 4 stars.\",\"date\":\"2015-07-03 20:38:25\"}                                                                                                                                                                                                               |\n",
       "|                                                                                                                                                                                                                                  {\"review_id\":\"NDhkzczKjLshODbqDoNLSg\",\"user_id\":\"eC5evKn1TWDyHCyQAwguUw\",\"business_id\":\"_sS2LBIGNT5NQb6PD1Vtjw\",\"stars\":5.0,\"useful\":0,\"funny\":0,\"cool\":0,\"text\":\"I called WVM on the recommendation of a couple of friends who had used them in the past and thought they did a nice job. I'm a fan now, too.                                                                                                                                                                                                                                 |\n",
       "|                                                                                                                                                                                                                                                                                                                                                                                                                                                                                                                                                                                                                                                                                                                                                                                 |\n",
       "|                                                                                                                                                                                                       Evan and Cody showed up right on time for my move this past weekend. They were friendly and energetic, working quickly but carefully to get all my things moved out of the old place and into the new one in less than 2.5 hours. All of my (heavy) furniture arrived in perfect condition, and they took extra care not to scratch the wood floors in the process.                                                                                                                                                                                                       |\n",
       "|                                                                                                                                                                                                                                                                                                                                                                                                                                                                                                                                                                                                                                                                                                                                                                                 |\n",
       "|                                                                                                                                                                                                                                                                                                                                  I hope not to move again anytime soon, but next time I do, I'll be calling WVM.\",\"date\":\"2013-05-28 20:38:06\"}                                                                                                                                                                                                                                                                                                                                 |\n",
       "+---------------------------------------------------------------------------------------------------------------------------------------------------------------------------------------------------------------------------------------------------------------------------------------------------------------------------------------------------------------------------------------------------------------------------------------------------------------------------------------------------------------------------------------------------------------------------------------------------------------------------------------------------------------------------------------------------------------------------------------------------------------------------------+"
      ]
     },
     "execution_count": 191,
     "metadata": {},
     "output_type": "execute_result"
    }
   ],
   "source": [
    "%%sql\n",
    "SELECT * FROM reviews LIMIT 3;"
   ]
  },
  {
   "cell_type": "markdown",
   "metadata": {},
   "source": [
    "Observe how the reviews table consists of one column named `data`. This column contains all the JSON documents in the \n",
    "reviews collection *in text format*. Use [Postgres' JSON functions](https://www.postgresql.org/docs/9.3/functions-json.html) to write a query that converts the JSON object fields into their own `TEXT` columns. (**Hint:** One of the operators in Table 9-40 may be useful). To be more concrete, your query should contain 8 columns in this particular order:\n",
    "\n",
    "| review_id | user_id | business_id | stars | useful | funny | cool | text |\n",
    "| :--- | :--- | :--- | :--- | :--- | :--- | :--- | :--- |\n",
    "\n",
    "Each row should correspond to one JSON document. Some skeleton code (that does the mundane work of converting data to JSON properly) is provided to you. You will only need to fill in the `SELECT` clause.\n",
    "\n",
    "Hint: The `values` column is what stores the JSON data for each row. "
   ]
  },
  {
   "cell_type": "code",
   "execution_count": 192,
   "metadata": {
    "tags": [
     "otter_answer_cell"
    ]
   },
   "outputs": [
    {
     "data": {
      "text/html": [
       "<span style=\"None\">Running query in &#x27;postgresql://jovyan@127.0.0.1:5432/yelp&#x27;</span>"
      ],
      "text/plain": [
       "Running query in 'postgresql://jovyan@127.0.0.1:5432/yelp'"
      ]
     },
     "metadata": {},
     "output_type": "display_data"
    },
    {
     "data": {
      "text/html": [
       "<span style=\"color: green\">10 rows affected.</span>"
      ],
      "text/plain": [
       "10 rows affected."
      ]
     },
     "metadata": {},
     "output_type": "display_data"
    }
   ],
   "source": [
    "%%sql --save query_2b result_2b <<\n",
    "SELECT \n",
    "  values->>'review_id' AS review_id,\n",
    "  values->>'user_id' AS user_id,\n",
    "  values->>'business_id' AS business_id,\n",
    "  values->>'stars' AS stars,\n",
    "  values->>'useful' AS useful,\n",
    "  values->>'funny' AS funny,\n",
    "  values->>'cool' AS cool,\n",
    "  values->>'text' AS text\n",
    "FROM (SELECT CAST(regexp_replace(data, E'[\\\\n\\\\r]+', '','g') AS JSON) AS values FROM reviews) AS b\n",
    "ORDER BY review_id\n",
    "LIMIT 10;"
   ]
  },
  {
   "cell_type": "code",
   "execution_count": 193,
   "metadata": {
    "tags": [
     "otter_answer_cell"
    ]
   },
   "outputs": [
    {
     "data": {
      "text/html": [
       "<div>\n",
       "<style scoped>\n",
       "    .dataframe tbody tr th:only-of-type {\n",
       "        vertical-align: middle;\n",
       "    }\n",
       "\n",
       "    .dataframe tbody tr th {\n",
       "        vertical-align: top;\n",
       "    }\n",
       "\n",
       "    .dataframe thead th {\n",
       "        text-align: right;\n",
       "    }\n",
       "</style>\n",
       "<table border=\"1\" class=\"dataframe\">\n",
       "  <thead>\n",
       "    <tr style=\"text-align: right;\">\n",
       "      <th></th>\n",
       "      <th>review_id</th>\n",
       "      <th>user_id</th>\n",
       "      <th>business_id</th>\n",
       "      <th>stars</th>\n",
       "      <th>useful</th>\n",
       "      <th>funny</th>\n",
       "      <th>cool</th>\n",
       "      <th>text</th>\n",
       "    </tr>\n",
       "  </thead>\n",
       "  <tbody>\n",
       "    <tr>\n",
       "      <th>0</th>\n",
       "      <td>000bviMESLXmlIFKDzCEfw</td>\n",
       "      <td>f7LnyAbhP5OSXvv_xiuZhw</td>\n",
       "      <td>SNuCspoI3HKcwJpZL5FcjQ</td>\n",
       "      <td>3.0</td>\n",
       "      <td>2</td>\n",
       "      <td>0</td>\n",
       "      <td>0</td>\n",
       "      <td>I went there not having read any reviews.  Fro...</td>\n",
       "    </tr>\n",
       "    <tr>\n",
       "      <th>1</th>\n",
       "      <td>003VeQn6SrVQS4sYHlc0gg</td>\n",
       "      <td>ba8ZSYE11LVepGCxwP9Vpg</td>\n",
       "      <td>rdS7hBBeukiX4Led9OT8sg</td>\n",
       "      <td>5.0</td>\n",
       "      <td>0</td>\n",
       "      <td>0</td>\n",
       "      <td>0</td>\n",
       "      <td>Molana has one of the most tender Chicken Barg...</td>\n",
       "    </tr>\n",
       "    <tr>\n",
       "      <th>2</th>\n",
       "      <td>00HovWV7VcZZPx5IleoeWA</td>\n",
       "      <td>Nzaq0bJcE3q_bRdFrsFRsA</td>\n",
       "      <td>Ln-8CbKGZGmF-GCqMoMcpA</td>\n",
       "      <td>4.0</td>\n",
       "      <td>0</td>\n",
       "      <td>0</td>\n",
       "      <td>0</td>\n",
       "      <td>This place is really new, but they were pretty...</td>\n",
       "    </tr>\n",
       "    <tr>\n",
       "      <th>3</th>\n",
       "      <td>00pmZ82_w6Mpky6dl2jpiA</td>\n",
       "      <td>r7e-6OS8A_gE_0CTUjQR3g</td>\n",
       "      <td>IDxaD_0_9TlWyKKXBFwjMA</td>\n",
       "      <td>1.0</td>\n",
       "      <td>0</td>\n",
       "      <td>0</td>\n",
       "      <td>0</td>\n",
       "      <td>The food was great .. we had breakfast... the ...</td>\n",
       "    </tr>\n",
       "    <tr>\n",
       "      <th>4</th>\n",
       "      <td>021UtGruSN1RA5YRS92E7w</td>\n",
       "      <td>6cyn5sP2OCarYV02KWtuGQ</td>\n",
       "      <td>5HMXgD_gui5n0Tc_hadesg</td>\n",
       "      <td>3.0</td>\n",
       "      <td>0</td>\n",
       "      <td>0</td>\n",
       "      <td>0</td>\n",
       "      <td>The atmosphere is great for drinks but I'd say...</td>\n",
       "    </tr>\n",
       "    <tr>\n",
       "      <th>5</th>\n",
       "      <td>03lRn8FzfnMojQvCvYmPfg</td>\n",
       "      <td>HUiCXGr6u91zQ6RppIpPdg</td>\n",
       "      <td>slBGJOdBV1KHzNoWf2e2FQ</td>\n",
       "      <td>2.0</td>\n",
       "      <td>0</td>\n",
       "      <td>0</td>\n",
       "      <td>0</td>\n",
       "      <td>This place is a so-so. The service is ok. We g...</td>\n",
       "    </tr>\n",
       "    <tr>\n",
       "      <th>6</th>\n",
       "      <td>03V4Y5Yql2T7_Fs186Fbfg</td>\n",
       "      <td>mpDCL8ZtHh6hbH_JfHPL2w</td>\n",
       "      <td>CCK1fCaqCC8LUWu5tRCbmg</td>\n",
       "      <td>3.0</td>\n",
       "      <td>0</td>\n",
       "      <td>0</td>\n",
       "      <td>0</td>\n",
       "      <td>Food is ok, seemed like too many veggies and n...</td>\n",
       "    </tr>\n",
       "    <tr>\n",
       "      <th>7</th>\n",
       "      <td>04dUiVd_qE8K289SZdliyg</td>\n",
       "      <td>iwvndJ05-Q5KjSsHhjNKOw</td>\n",
       "      <td>24bxH8U1DRu1biUYaaEv8w</td>\n",
       "      <td>4.0</td>\n",
       "      <td>0</td>\n",
       "      <td>0</td>\n",
       "      <td>0</td>\n",
       "      <td>I recently tried Hound Dogs Pizza...a little l...</td>\n",
       "    </tr>\n",
       "    <tr>\n",
       "      <th>8</th>\n",
       "      <td>05QXu-K-g7Lt1SjqmSvuLA</td>\n",
       "      <td>HYijQXEbn8osKsiaNjqHeg</td>\n",
       "      <td>ERoYrBHNmTEEChY3RGaOGQ</td>\n",
       "      <td>5.0</td>\n",
       "      <td>0</td>\n",
       "      <td>0</td>\n",
       "      <td>1</td>\n",
       "      <td>Make sure to beat the Saturday rush for brunch...</td>\n",
       "    </tr>\n",
       "    <tr>\n",
       "      <th>9</th>\n",
       "      <td>05xtlX1HTqaUWssNCy_DEw</td>\n",
       "      <td>uaDx7fnZhiBz3Hqq8VuroQ</td>\n",
       "      <td>PX_xyQcEj1bnaec2oMwH2w</td>\n",
       "      <td>1.0</td>\n",
       "      <td>1</td>\n",
       "      <td>0</td>\n",
       "      <td>0</td>\n",
       "      <td>DON'T GO HERE !!!!  YOU WILL WAIT 2 HOURS FOR ...</td>\n",
       "    </tr>\n",
       "  </tbody>\n",
       "</table>\n",
       "</div>"
      ],
      "text/plain": [
       "                review_id                 user_id             business_id  \\\n",
       "0  000bviMESLXmlIFKDzCEfw  f7LnyAbhP5OSXvv_xiuZhw  SNuCspoI3HKcwJpZL5FcjQ   \n",
       "1  003VeQn6SrVQS4sYHlc0gg  ba8ZSYE11LVepGCxwP9Vpg  rdS7hBBeukiX4Led9OT8sg   \n",
       "2  00HovWV7VcZZPx5IleoeWA  Nzaq0bJcE3q_bRdFrsFRsA  Ln-8CbKGZGmF-GCqMoMcpA   \n",
       "3  00pmZ82_w6Mpky6dl2jpiA  r7e-6OS8A_gE_0CTUjQR3g  IDxaD_0_9TlWyKKXBFwjMA   \n",
       "4  021UtGruSN1RA5YRS92E7w  6cyn5sP2OCarYV02KWtuGQ  5HMXgD_gui5n0Tc_hadesg   \n",
       "5  03lRn8FzfnMojQvCvYmPfg  HUiCXGr6u91zQ6RppIpPdg  slBGJOdBV1KHzNoWf2e2FQ   \n",
       "6  03V4Y5Yql2T7_Fs186Fbfg  mpDCL8ZtHh6hbH_JfHPL2w  CCK1fCaqCC8LUWu5tRCbmg   \n",
       "7  04dUiVd_qE8K289SZdliyg  iwvndJ05-Q5KjSsHhjNKOw  24bxH8U1DRu1biUYaaEv8w   \n",
       "8  05QXu-K-g7Lt1SjqmSvuLA  HYijQXEbn8osKsiaNjqHeg  ERoYrBHNmTEEChY3RGaOGQ   \n",
       "9  05xtlX1HTqaUWssNCy_DEw  uaDx7fnZhiBz3Hqq8VuroQ  PX_xyQcEj1bnaec2oMwH2w   \n",
       "\n",
       "  stars useful funny cool                                               text  \n",
       "0   3.0      2     0    0  I went there not having read any reviews.  Fro...  \n",
       "1   5.0      0     0    0  Molana has one of the most tender Chicken Barg...  \n",
       "2   4.0      0     0    0  This place is really new, but they were pretty...  \n",
       "3   1.0      0     0    0  The food was great .. we had breakfast... the ...  \n",
       "4   3.0      0     0    0  The atmosphere is great for drinks but I'd say...  \n",
       "5   2.0      0     0    0  This place is a so-so. The service is ok. We g...  \n",
       "6   3.0      0     0    0  Food is ok, seemed like too many veggies and n...  \n",
       "7   4.0      0     0    0  I recently tried Hound Dogs Pizza...a little l...  \n",
       "8   5.0      0     0    1  Make sure to beat the Saturday rush for brunch...  \n",
       "9   1.0      1     0    0  DON'T GO HERE !!!!  YOU WILL WAIT 2 HOURS FOR ...  "
      ]
     },
     "execution_count": 193,
     "metadata": {},
     "output_type": "execute_result"
    }
   ],
   "source": [
    "# Do not delete/edit this cell!\n",
    "# You must run this cell before running the autograder.\n",
    "query_2b = %sqlcmd snippets query_2b\n",
    "grading_util.save_results(\"result_2b\", query_2b, result_2b)\n",
    "result_2b.DataFrame()"
   ]
  },
  {
   "cell_type": "code",
   "execution_count": 194,
   "metadata": {
    "deletable": false,
    "editable": false
   },
   "outputs": [
    {
     "data": {
      "text/html": [
       "<p><strong><pre style='display: inline;'>q2b</pre></strong> passed! 💯</p>"
      ],
      "text/plain": [
       "q2b results: All test cases passed!"
      ]
     },
     "execution_count": 194,
     "metadata": {},
     "output_type": "execute_result"
    }
   ],
   "source": [
    "grader.check(\"q2b\")"
   ]
  },
  {
   "cell_type": "markdown",
   "metadata": {},
   "source": [
    "<br>\n",
    "\n",
    "---\n",
    "### Question 2c\n",
    "\n",
    "One important aspect of data engineering that we have not referred to yet is joins. We have seen that through the use of indices, selection/projection predicate pushdowns, and various physical implementations (as well as orderings) that joins can be done quite efficiently in relational SQL based databases. How do joins fare in Mongo where the data stored is inherently semi-structured? Let's investigate! For this question, we have provided you access to the tables `business_complete` and `review_complete` which contain the collections `business` and `review`  in relational form as described in Question 2b (the columns of the relations\n",
    "are fields in the JSON document). Each relation has its respective `id` (`business_id` or `review_id`) column as its primary key."
   ]
  },
  {
   "cell_type": "code",
   "execution_count": 195,
   "metadata": {},
   "outputs": [
    {
     "name": "stdout",
     "output_type": "stream",
     "text": [
      "DROP TABLE\n",
      "CREATE TABLE\n",
      "DROP TABLE\n",
      "CREATE TABLE\n",
      "COPY 35\n",
      "COPY 7500\n"
     ]
    }
   ],
   "source": [
    "!psql -h localhost -d yelp -c 'DROP TABLE IF EXISTS business_complete'\n",
    "!psql -h localhost -d yelp -c 'CREATE TABLE business_complete(business_id TEXT PRIMARY KEY, name TEXT, address TEXT, city TEXT, state TEXT, postal_code TEXT, latitude TEXT,longitude TEXT, stars TEXT, review_count TEXT, is_open TEXT, attributes TEXT, categories TEXT, hours TEXT);'\n",
    "!psql -h localhost -d yelp -c 'DROP TABLE IF EXISTS review_complete'\n",
    "!psql -h localhost -d yelp -c 'CREATE TABLE review_complete(review_id TEXT PRIMARY KEY, user_id TEXT, business_id TEXT, stars TEXT, useful TEXT, funny TEXT, cool TEXT,text TEXT);'\n",
    "\n",
    "# DEV PATH\n",
    "# !cat ~/_shared/data101-readwrite/proj4_data/business.csv | psql -h localhost -d yelp -c \"COPY business_complete (business_id,name,address,city,state,postal_code,latitude,longitude,stars,review_count,is_open,attributes,categories,hours) FROM STDIN CSV HEADER;\"\n",
    "# !cat ~/_shared/data101-readwrite/proj4_data/review.csv | psql -h localhost -d yelp -c \"COPY review_complete (review_id, user_id, business_id, stars, useful, funny, cool, text) FROM STDIN CSV HEADER;\"\n",
    "# STUDENT PATH\n",
    "!cat ../../../_shared/data101-readonly/proj4_data/business.csv | psql -h localhost -d yelp -c \"COPY business_complete (business_id,name,address,city,state,postal_code,latitude,longitude,stars,review_count,is_open,attributes,categories,hours) FROM STDIN CSV HEADER;\"\n",
    "!cat ../../../_shared/data101-readonly/proj4_data/review.csv | psql -h localhost -d yelp -c \"COPY review_complete (review_id, user_id, business_id, stars, useful, funny, cool, text) FROM STDIN CSV HEADER;\""
   ]
  },
  {
   "cell_type": "markdown",
   "metadata": {},
   "source": [
    "Let's take a look at how `review_complete` looks."
   ]
  },
  {
   "cell_type": "code",
   "execution_count": 196,
   "metadata": {},
   "outputs": [
    {
     "data": {
      "text/html": [
       "<span style=\"None\">Running query in &#x27;postgresql://jovyan@127.0.0.1:5432/yelp&#x27;</span>"
      ],
      "text/plain": [
       "Running query in 'postgresql://jovyan@127.0.0.1:5432/yelp'"
      ]
     },
     "metadata": {},
     "output_type": "display_data"
    },
    {
     "data": {
      "text/html": [
       "<span style=\"color: green\">1 rows affected.</span>"
      ],
      "text/plain": [
       "1 rows affected."
      ]
     },
     "metadata": {},
     "output_type": "display_data"
    },
    {
     "data": {
      "text/html": [
       "<table>\n",
       "    <thead>\n",
       "        <tr>\n",
       "            <th>review_id</th>\n",
       "            <th>user_id</th>\n",
       "            <th>business_id</th>\n",
       "            <th>stars</th>\n",
       "            <th>useful</th>\n",
       "            <th>funny</th>\n",
       "            <th>cool</th>\n",
       "            <th>text</th>\n",
       "        </tr>\n",
       "    </thead>\n",
       "    <tbody>\n",
       "        <tr>\n",
       "            <td>lWC-xP3rd6obsecCYsGZRg</td>\n",
       "            <td>ak0TdVmGKo4pwqdJSTLwWw</td>\n",
       "            <td>buF9druCkbuXLX526sGELQ</td>\n",
       "            <td>4.0</td>\n",
       "            <td>3</td>\n",
       "            <td>1</td>\n",
       "            <td>1</td>\n",
       "            <td>Apparently Prides Osteria had a rough summer as evidenced by the almost empty dining room at 6:30 on a Friday night. However new blood in the kitchen seems to have revitalized the food from other customers recent visits. Waitstaff was warm but unobtrusive. By 8 pm or so when we left the bar was full and the dining room was much more lively than it had been. Perhaps Beverly residents prefer a later seating. After reading the mixed reviews of late I was a little tentative over our choice but luckily there was nothing to worry about in the food department. We started with the fried dough, burrata and prosciutto which were all lovely. Then although they don't offer half portions of pasta we each ordered the entree size and split them. We chose the tagliatelle bolognese and a four cheese filled pasta in a creamy sauce with bacon, asparagus and grana frita. Both were very good. We split a secondi which was the special Berkshire pork secreto, which was described as a pork skirt steak with garlic potato purée and romanesco broccoli (incorrectly described as a romanesco sauce). Some tables received bread before the meal but for some reason we did not. Management also seems capable for when the tenants in the apartment above began playing basketball she intervened and also comped the tables a dessert. We ordered the apple dumpling with gelato and it was also quite tasty. Portions are not huge which I particularly like because I prefer to order courses. If you are someone who orders just a meal you may leave hungry depending on you appetite. Dining room was mostly younger crowd while the bar was definitely the over 40 set. Would recommend that the naysayers return to see the improvement although I personally don't know the former glory to be able to compare. Easy access to downtown Salem without the crowds on this month of October.</td>\n",
       "        </tr>\n",
       "    </tbody>\n",
       "</table>"
      ],
      "text/plain": [
       "+------------------------+------------------------+------------------------+-------+--------+-------+------+------------------------------------------------------------------------------------------------------------------------------------------------------------------------------------------------------------------------------------------------------------------------------------------------------------------------------------------------------------------------------------------------------------------------------------------------------------------------------------------------------------------------------------------------------------------------------------------------------------------------------------------------------------------------------------------------------------------------------------------------------------------------------------------------------------------------------------------------------------------------------------------------------------------------------------------------------------------------------------------------------------------------------------------------------------------------------------------------------------------------------------------------------------------------------------------------------------------------------------------------------------------------------------------------------------------------------------------------------------------------------------------------------------------------------------------------------------------------------------------------------------------------------------------------------------------------------------------------------------------------------------------------------------------------------------------------------------------------------------------------------------------------------------------------------------------------------------------------------------------------------------------------------------------------------+\n",
       "|       review_id        |        user_id         |      business_id       | stars | useful | funny | cool |                                                                                                                                                                                                                                                                                                                                                                                                                                                                                                                                                                                                                                                                                                                                                                                                                                                                                                                                                             text                                                                                                                                                                                                                                                                                                                                                                                                                                                                                                                                                                                                                                                                                                                                                                                                                                                                                                                                                             |\n",
       "+------------------------+------------------------+------------------------+-------+--------+-------+------+------------------------------------------------------------------------------------------------------------------------------------------------------------------------------------------------------------------------------------------------------------------------------------------------------------------------------------------------------------------------------------------------------------------------------------------------------------------------------------------------------------------------------------------------------------------------------------------------------------------------------------------------------------------------------------------------------------------------------------------------------------------------------------------------------------------------------------------------------------------------------------------------------------------------------------------------------------------------------------------------------------------------------------------------------------------------------------------------------------------------------------------------------------------------------------------------------------------------------------------------------------------------------------------------------------------------------------------------------------------------------------------------------------------------------------------------------------------------------------------------------------------------------------------------------------------------------------------------------------------------------------------------------------------------------------------------------------------------------------------------------------------------------------------------------------------------------------------------------------------------------------------------------------------------------+\n",
       "| lWC-xP3rd6obsecCYsGZRg | ak0TdVmGKo4pwqdJSTLwWw | buF9druCkbuXLX526sGELQ |  4.0  |   3    |   1   |  1   | Apparently Prides Osteria had a rough summer as evidenced by the almost empty dining room at 6:30 on a Friday night. However new blood in the kitchen seems to have revitalized the food from other customers recent visits. Waitstaff was warm but unobtrusive. By 8 pm or so when we left the bar was full and the dining room was much more lively than it had been. Perhaps Beverly residents prefer a later seating. After reading the mixed reviews of late I was a little tentative over our choice but luckily there was nothing to worry about in the food department. We started with the fried dough, burrata and prosciutto which were all lovely. Then although they don't offer half portions of pasta we each ordered the entree size and split them. We chose the tagliatelle bolognese and a four cheese filled pasta in a creamy sauce with bacon, asparagus and grana frita. Both were very good. We split a secondi which was the special Berkshire pork secreto, which was described as a pork skirt steak with garlic potato purée and romanesco broccoli (incorrectly described as a romanesco sauce). Some tables received bread before the meal but for some reason we did not. Management also seems capable for when the tenants in the apartment above began playing basketball she intervened and also comped the tables a dessert. We ordered the apple dumpling with gelato and it was also quite tasty. Portions are not huge which I particularly like because I prefer to order courses. If you are someone who orders just a meal you may leave hungry depending on you appetite. Dining room was mostly younger crowd while the bar was definitely the over 40 set. Would recommend that the naysayers return to see the improvement although I personally don't know the former glory to be able to compare. Easy access to downtown Salem without the crowds on this month of October. |\n",
       "+------------------------+------------------------+------------------------+-------+--------+-------+------+------------------------------------------------------------------------------------------------------------------------------------------------------------------------------------------------------------------------------------------------------------------------------------------------------------------------------------------------------------------------------------------------------------------------------------------------------------------------------------------------------------------------------------------------------------------------------------------------------------------------------------------------------------------------------------------------------------------------------------------------------------------------------------------------------------------------------------------------------------------------------------------------------------------------------------------------------------------------------------------------------------------------------------------------------------------------------------------------------------------------------------------------------------------------------------------------------------------------------------------------------------------------------------------------------------------------------------------------------------------------------------------------------------------------------------------------------------------------------------------------------------------------------------------------------------------------------------------------------------------------------------------------------------------------------------------------------------------------------------------------------------------------------------------------------------------------------------------------------------------------------------------------------------------------------+"
      ]
     },
     "execution_count": 196,
     "metadata": {},
     "output_type": "execute_result"
    }
   ],
   "source": [
    "%%sql\n",
    "SELECT * FROM review_complete LIMIT 1;"
   ]
  },
  {
   "cell_type": "markdown",
   "metadata": {},
   "source": [
    "At this current moment in time, Mongo only supports left joins (via the lookup aggregation stage). This is what we will compare against SQL.\n",
    "\n",
    "Let's start by writing a SQL query (as a Python string below) that displays all the reviews along with their associated business information. You should perform a **left join** between the `review_complete` table and the `business_complete` table on the `business_id` column, and then project all columns. Keep a mental note of the **execution time** that you see in the query plan."
   ]
  },
  {
   "cell_type": "code",
   "execution_count": 197,
   "metadata": {
    "tags": [
     "otter_answer_cell"
    ]
   },
   "outputs": [
    {
     "name": "stdout",
     "output_type": "stream",
     "text": [
      "                                                         QUERY PLAN                                                          \n",
      "-----------------------------------------------------------------------------------------------------------------------------\n",
      " Hash Left Join  (cost=13.82..778.08 rows=15792 width=704) (actual time=0.070..3.855 rows=7500 loops=1)\n",
      "   Hash Cond: (review_complete.business_id = business_complete.business_id)\n",
      "   ->  Seq Scan on review_complete  (cost=0.00..721.92 rows=15792 width=256) (actual time=0.004..2.083 rows=7500 loops=1)\n",
      "   ->  Hash  (cost=11.70..11.70 rows=170 width=448) (actual time=0.049..0.051 rows=35 loops=1)\n",
      "         Buckets: 1024  Batches: 1  Memory Usage: 32kB\n",
      "         ->  Seq Scan on business_complete  (cost=0.00..11.70 rows=170 width=448) (actual time=0.006..0.015 rows=35 loops=1)\n",
      " Planning Time: 0.586 ms\n",
      " Execution Time: 4.133 ms\n",
      "(8 rows)\n",
      "\n"
     ]
    }
   ],
   "source": [
    "result_2c_str = \"\"\"\n",
    "SELECT *\n",
    "FROM review_complete\n",
    "LEFT JOIN business_complete\n",
    "ON review_complete.business_id = business_complete.business_id\n",
    "\"\"\"\n",
    "!psql -h localhost -d yelp -c \"explain analyze $result_2c_str\""
   ]
  },
  {
   "cell_type": "markdown",
   "metadata": {
    "deletable": false,
    "editable": false
   },
   "source": [
    "Now, let's perform the equivalent left join in Mongo between `review` and `business`. **The output array field should be named as `business_info`**. Feel free to refer to the `$lookup` [documentation](https://docs.mongodb.com/manual/reference/operator/aggregation/lookup/).\n",
    "\n",
    "**Note:** You will provide a single-stage pipeline to `review.aggregate(...)` as your solution. Save your pipeline to `q2c_pipeline`."
   ]
  },
  {
   "cell_type": "code",
   "execution_count": 198,
   "metadata": {
    "tags": [
     "otter_answer_cell"
    ]
   },
   "outputs": [],
   "source": [
    "# We first create an index on business_id in the business collection\n",
    "business.create_index('business_id', unique=True)\n",
    "\n",
    "q2c_pipeline = [\n",
    "    {\n",
    "        \"$lookup\": {\n",
    "            \"from\": \"business\",\n",
    "            \"localField\": \"business_id\",\n",
    "            \"foreignField\": \"business_id\",\n",
    "            \"as\": \"business_info\"\n",
    "        }\n",
    "    }\n",
    "]\n",
    "\n",
    "result_2c = list(review.aggregate(q2c_pipeline))[:5]\n",
    "# Uncomment the line below to see your output\n",
    "# result_2c"
   ]
  },
  {
   "cell_type": "code",
   "execution_count": 199,
   "metadata": {
    "tags": [
     "otter_answer_cell"
    ]
   },
   "outputs": [],
   "source": [
    "# Do not delete/edit this cell!\n",
    "# You must run this cell before running the autograder.\n",
    "result_2c = list(review.aggregate(q2c_pipeline))[:5]\n",
    "grading_util.save_results(\"result_2c\", result_2c);"
   ]
  },
  {
   "cell_type": "code",
   "execution_count": 200,
   "metadata": {
    "deletable": false,
    "editable": false
   },
   "outputs": [
    {
     "data": {
      "text/html": [
       "<p><strong><pre style='display: inline;'>q2c</pre></strong> passed! 🍀</p>"
      ],
      "text/plain": [
       "q2c results: All test cases passed!"
      ]
     },
     "execution_count": 200,
     "metadata": {},
     "output_type": "execute_result"
    }
   ],
   "source": [
    "grader.check(\"q2c\")"
   ]
  },
  {
   "cell_type": "markdown",
   "metadata": {},
   "source": [
    "Run the following cell to examine the query plan for the Mongo query that you just wrote. Again, make a mental note of the execution time that you see. (Look at the value corresponding to the key `executionTimeMillis`, **NOT TO BE CONFUSED WITH `executionTimeMillisEstimate`**)."
   ]
  },
  {
   "cell_type": "code",
   "execution_count": 201,
   "metadata": {},
   "outputs": [
    {
     "data": {
      "text/plain": [
       "{'explainVersion': '1',\n",
       " 'stages': [{'$cursor': {'queryPlanner': {'namespace': 'yelp.review',\n",
       "     'indexFilterSet': False,\n",
       "     'parsedQuery': {},\n",
       "     'queryHash': '8B3D4AB8',\n",
       "     'planCacheKey': 'D542626C',\n",
       "     'maxIndexedOrSolutionsReached': False,\n",
       "     'maxIndexedAndSolutionsReached': False,\n",
       "     'maxScansToExplodeReached': False,\n",
       "     'winningPlan': {'stage': 'COLLSCAN', 'direction': 'forward'},\n",
       "     'rejectedPlans': []},\n",
       "    'executionStats': {'executionSuccess': True,\n",
       "     'nReturned': 7500,\n",
       "     'executionTimeMillis': 394,\n",
       "     'totalKeysExamined': 0,\n",
       "     'totalDocsExamined': 7500,\n",
       "     'executionStages': {'stage': 'COLLSCAN',\n",
       "      'nReturned': 7500,\n",
       "      'executionTimeMillisEstimate': 0,\n",
       "      'works': 7502,\n",
       "      'advanced': 7500,\n",
       "      'needTime': 1,\n",
       "      'needYield': 0,\n",
       "      'saveState': 10,\n",
       "      'restoreState': 10,\n",
       "      'isEOF': 1,\n",
       "      'direction': 'forward',\n",
       "      'docsExamined': 7500}}},\n",
       "   'nReturned': 7500,\n",
       "   'executionTimeMillisEstimate': 5},\n",
       "  {'$lookup': {'from': 'business',\n",
       "    'as': 'business_info',\n",
       "    'localField': 'business_id',\n",
       "    'foreignField': 'business_id'},\n",
       "   'totalDocsExamined': 7500,\n",
       "   'totalKeysExamined': 7500,\n",
       "   'collectionScans': 0,\n",
       "   'indexesUsed': ['business_id_1'],\n",
       "   'nReturned': 7500,\n",
       "   'executionTimeMillisEstimate': 394}],\n",
       " 'serverInfo': {'host': 'jupyter-yashshah2311',\n",
       "  'port': 27017,\n",
       "  'version': '5.0.11',\n",
       "  'gitVersion': 'd08c3c41c105cde798ca934e3ac3426ac11b57c3'},\n",
       " 'serverParameters': {'internalQueryFacetBufferSizeBytes': 104857600,\n",
       "  'internalQueryFacetMaxOutputDocSizeBytes': 104857600,\n",
       "  'internalLookupStageIntermediateDocumentMaxSizeBytes': 104857600,\n",
       "  'internalDocumentSourceGroupMaxMemoryBytes': 104857600,\n",
       "  'internalQueryMaxBlockingSortMemoryUsageBytes': 104857600,\n",
       "  'internalQueryProhibitBlockingMergeOnMongoS': 0,\n",
       "  'internalQueryMaxAddToSetBytes': 104857600,\n",
       "  'internalDocumentSourceSetWindowFieldsMaxMemoryBytes': 104857600},\n",
       " 'command': {'aggregate': 'review',\n",
       "  'pipeline': [{'$lookup': {'from': 'business',\n",
       "     'localField': 'business_id',\n",
       "     'foreignField': 'business_id',\n",
       "     'as': 'business_info'}}],\n",
       "  'cursor': {},\n",
       "  '$db': 'yelp'},\n",
       " 'ok': 1.0}"
      ]
     },
     "execution_count": 201,
     "metadata": {},
     "output_type": "execute_result"
    }
   ],
   "source": [
    "mydb.command('explain', {'aggregate': 'review', 'pipeline': q2c_pipeline, 'cursor': {}}, verbosity='executionStats')"
   ]
  },
  {
   "cell_type": "markdown",
   "metadata": {
    "deletable": false,
    "editable": false
   },
   "source": [
    "<!-- BEGIN QUESTION -->\n",
    "\n",
    "<br>\n",
    "\n",
    "---\n",
    "### Question 2d\n",
    "\n",
    "In the last question, you performed equivalent left joins in both Postgres and Mongo. Now, examine their query plans, paying special attention to `executionTimeMillis`. Which database system was faster? What gives the database system you chose an advantage over the other? Keep your response to at most three sentences."
   ]
  },
  {
   "cell_type": "markdown",
   "metadata": {
    "tags": [
     "otter_answer_cell"
    ]
   },
   "source": [
    "Postgres was faster, with an execution time of 3.924 ms compared to Mongo’s 400 ms.\n",
    "This is likely because Postgres uses a hash join with indexed scan, which is optimized for relational joins.\n",
    "MongoDB’s $lookup performs a left outer join but requires scanning and matching across documents, which can be slower without a proper index."
   ]
  },
  {
   "cell_type": "markdown",
   "metadata": {
    "deletable": false,
    "editable": false
   },
   "source": [
    "<!-- END QUESTION -->\n",
    "\n",
    "<hr style=\"border: 5px solid #003262;\" />\n",
    "<hr style=\"border: 1px solid #fdb515;\" />\n",
    "\n",
    "## Question 3: Dataframes / Pandas\n",
    "\n",
    "### Question 3a\n",
    "\n",
    "So far, we've talked about NoSQL / document databases like Mongo and relational databases like Postgres. Now, we will explore data transformation with a different data model: dataframes. Dataframes are similar to relations; we will dive into the differences here. To this end, we will use Pandas, a Python package that allows us to work with dataframes. Pandas is widely adopted by data scientists for data loading, wrangling, cleaning, and analysis. To start, let us export our MongoDB collections into Pandas using a function called `json_normalize`. We need to truncate\n",
    "`business` before we can use it to meet the memory constraints set by Jupyter. The variable `business_trunc` will contain the reference to the truncated business collection."
   ]
  },
  {
   "cell_type": "code",
   "execution_count": 202,
   "metadata": {},
   "outputs": [],
   "source": [
    "business_trunc = mydb[\"business_trunc\"]\n",
    "business_trunc.drop()\n",
    "count = 0\n",
    "for document in business.find({}):\n",
    "    business_trunc.insert_one(document)\n",
    "    count += 1\n",
    "    if count == 1000:\n",
    "        break\n",
    "\n",
    "business_cursor = business_trunc.find({})\n",
    "review_cursor = mydb[\"reviews\"].find({})\n",
    "user_cursor = mydb[\"users\"].find({})\n",
    "\n",
    "# Load the collections into Pandas. \n",
    "from pandas import json_normalize\n",
    "user_df = json_normalize(user_cursor)\n",
    "review_df = json_normalize(review_cursor)\n",
    "business_df = json_normalize(business_cursor)"
   ]
  },
  {
   "cell_type": "markdown",
   "metadata": {},
   "source": [
    "For the rest of Question 3, please use the three dataframes we just created: `user_df`, `review_df`, and `business_df`. Let's take a look at the first five rows of `business_df`."
   ]
  },
  {
   "cell_type": "code",
   "execution_count": 203,
   "metadata": {},
   "outputs": [
    {
     "data": {
      "text/html": [
       "<div>\n",
       "<style scoped>\n",
       "    .dataframe tbody tr th:only-of-type {\n",
       "        vertical-align: middle;\n",
       "    }\n",
       "\n",
       "    .dataframe tbody tr th {\n",
       "        vertical-align: top;\n",
       "    }\n",
       "\n",
       "    .dataframe thead th {\n",
       "        text-align: right;\n",
       "    }\n",
       "</style>\n",
       "<table border=\"1\" class=\"dataframe\">\n",
       "  <thead>\n",
       "    <tr style=\"text-align: right;\">\n",
       "      <th></th>\n",
       "      <th>_id</th>\n",
       "      <th>business_id</th>\n",
       "      <th>name</th>\n",
       "      <th>address</th>\n",
       "      <th>city</th>\n",
       "      <th>state</th>\n",
       "      <th>postal_code</th>\n",
       "      <th>latitude</th>\n",
       "      <th>longitude</th>\n",
       "      <th>stars</th>\n",
       "      <th>...</th>\n",
       "      <th>attributes.GoodForDancing</th>\n",
       "      <th>attributes.BestNights</th>\n",
       "      <th>attributes.Music</th>\n",
       "      <th>attributes.BYOB</th>\n",
       "      <th>attributes.CoatCheck</th>\n",
       "      <th>attributes.Smoking</th>\n",
       "      <th>attributes.DriveThru</th>\n",
       "      <th>attributes.BYOBCorkage</th>\n",
       "      <th>attributes.Corkage</th>\n",
       "      <th>attributes.RestaurantsCounterService</th>\n",
       "    </tr>\n",
       "  </thead>\n",
       "  <tbody>\n",
       "    <tr>\n",
       "      <th>0</th>\n",
       "      <td>6806a702a79df360aaa86a56</td>\n",
       "      <td>6iYb2HFDywm3zjuRg0shjw</td>\n",
       "      <td>Oskar Blues Taproom</td>\n",
       "      <td>921 Pearl St</td>\n",
       "      <td>Boulder</td>\n",
       "      <td>CO</td>\n",
       "      <td>80302</td>\n",
       "      <td>40.017544</td>\n",
       "      <td>-105.283348</td>\n",
       "      <td>4.0</td>\n",
       "      <td>...</td>\n",
       "      <td>NaN</td>\n",
       "      <td>NaN</td>\n",
       "      <td>NaN</td>\n",
       "      <td>NaN</td>\n",
       "      <td>NaN</td>\n",
       "      <td>NaN</td>\n",
       "      <td>NaN</td>\n",
       "      <td>NaN</td>\n",
       "      <td>NaN</td>\n",
       "      <td>NaN</td>\n",
       "    </tr>\n",
       "    <tr>\n",
       "      <th>1</th>\n",
       "      <td>6806a702a79df360aaa86a57</td>\n",
       "      <td>tCbdrRPZA0oiIYSmHG3J0w</td>\n",
       "      <td>Flying Elephants at PDX</td>\n",
       "      <td>7000 NE Airport Way</td>\n",
       "      <td>Portland</td>\n",
       "      <td>OR</td>\n",
       "      <td>97218</td>\n",
       "      <td>45.588906</td>\n",
       "      <td>-122.593331</td>\n",
       "      <td>4.0</td>\n",
       "      <td>...</td>\n",
       "      <td>NaN</td>\n",
       "      <td>NaN</td>\n",
       "      <td>NaN</td>\n",
       "      <td>NaN</td>\n",
       "      <td>NaN</td>\n",
       "      <td>NaN</td>\n",
       "      <td>NaN</td>\n",
       "      <td>NaN</td>\n",
       "      <td>NaN</td>\n",
       "      <td>NaN</td>\n",
       "    </tr>\n",
       "    <tr>\n",
       "      <th>2</th>\n",
       "      <td>6806a702a79df360aaa86a58</td>\n",
       "      <td>bvN78flM8NLprQ1a1y5dRg</td>\n",
       "      <td>The Reclaimory</td>\n",
       "      <td>4720 Hawthorne Ave</td>\n",
       "      <td>Portland</td>\n",
       "      <td>OR</td>\n",
       "      <td>97214</td>\n",
       "      <td>45.511907</td>\n",
       "      <td>-122.613693</td>\n",
       "      <td>4.5</td>\n",
       "      <td>...</td>\n",
       "      <td>NaN</td>\n",
       "      <td>NaN</td>\n",
       "      <td>NaN</td>\n",
       "      <td>NaN</td>\n",
       "      <td>NaN</td>\n",
       "      <td>NaN</td>\n",
       "      <td>NaN</td>\n",
       "      <td>NaN</td>\n",
       "      <td>NaN</td>\n",
       "      <td>NaN</td>\n",
       "    </tr>\n",
       "    <tr>\n",
       "      <th>3</th>\n",
       "      <td>6806a702a79df360aaa86a59</td>\n",
       "      <td>oaepsyvc0J17qwi8cfrOWg</td>\n",
       "      <td>Great Clips</td>\n",
       "      <td>2566 Enterprise Rd</td>\n",
       "      <td>Orange City</td>\n",
       "      <td>FL</td>\n",
       "      <td>32763</td>\n",
       "      <td>28.914482</td>\n",
       "      <td>-81.295979</td>\n",
       "      <td>3.0</td>\n",
       "      <td>...</td>\n",
       "      <td>NaN</td>\n",
       "      <td>NaN</td>\n",
       "      <td>NaN</td>\n",
       "      <td>NaN</td>\n",
       "      <td>NaN</td>\n",
       "      <td>NaN</td>\n",
       "      <td>NaN</td>\n",
       "      <td>NaN</td>\n",
       "      <td>NaN</td>\n",
       "      <td>NaN</td>\n",
       "    </tr>\n",
       "    <tr>\n",
       "      <th>4</th>\n",
       "      <td>6806a702a79df360aaa86a5a</td>\n",
       "      <td>PE9uqAjdw0E4-8mjGl3wVA</td>\n",
       "      <td>Crossfit Terminus</td>\n",
       "      <td>1046 Memorial Dr SE</td>\n",
       "      <td>Atlanta</td>\n",
       "      <td>GA</td>\n",
       "      <td>30316</td>\n",
       "      <td>33.747027</td>\n",
       "      <td>-84.353424</td>\n",
       "      <td>4.0</td>\n",
       "      <td>...</td>\n",
       "      <td>NaN</td>\n",
       "      <td>NaN</td>\n",
       "      <td>NaN</td>\n",
       "      <td>NaN</td>\n",
       "      <td>NaN</td>\n",
       "      <td>NaN</td>\n",
       "      <td>NaN</td>\n",
       "      <td>NaN</td>\n",
       "      <td>NaN</td>\n",
       "      <td>NaN</td>\n",
       "    </tr>\n",
       "  </tbody>\n",
       "</table>\n",
       "<p>5 rows × 58 columns</p>\n",
       "</div>"
      ],
      "text/plain": [
       "                        _id             business_id                     name  \\\n",
       "0  6806a702a79df360aaa86a56  6iYb2HFDywm3zjuRg0shjw      Oskar Blues Taproom   \n",
       "1  6806a702a79df360aaa86a57  tCbdrRPZA0oiIYSmHG3J0w  Flying Elephants at PDX   \n",
       "2  6806a702a79df360aaa86a58  bvN78flM8NLprQ1a1y5dRg           The Reclaimory   \n",
       "3  6806a702a79df360aaa86a59  oaepsyvc0J17qwi8cfrOWg              Great Clips   \n",
       "4  6806a702a79df360aaa86a5a  PE9uqAjdw0E4-8mjGl3wVA        Crossfit Terminus   \n",
       "\n",
       "               address         city state postal_code   latitude   longitude  \\\n",
       "0         921 Pearl St      Boulder    CO       80302  40.017544 -105.283348   \n",
       "1  7000 NE Airport Way     Portland    OR       97218  45.588906 -122.593331   \n",
       "2   4720 Hawthorne Ave     Portland    OR       97214  45.511907 -122.613693   \n",
       "3   2566 Enterprise Rd  Orange City    FL       32763  28.914482  -81.295979   \n",
       "4  1046 Memorial Dr SE      Atlanta    GA       30316  33.747027  -84.353424   \n",
       "\n",
       "   stars  ...  attributes.GoodForDancing  attributes.BestNights  \\\n",
       "0    4.0  ...                        NaN                    NaN   \n",
       "1    4.0  ...                        NaN                    NaN   \n",
       "2    4.5  ...                        NaN                    NaN   \n",
       "3    3.0  ...                        NaN                    NaN   \n",
       "4    4.0  ...                        NaN                    NaN   \n",
       "\n",
       "  attributes.Music attributes.BYOB attributes.CoatCheck attributes.Smoking  \\\n",
       "0              NaN             NaN                  NaN                NaN   \n",
       "1              NaN             NaN                  NaN                NaN   \n",
       "2              NaN             NaN                  NaN                NaN   \n",
       "3              NaN             NaN                  NaN                NaN   \n",
       "4              NaN             NaN                  NaN                NaN   \n",
       "\n",
       "  attributes.DriveThru attributes.BYOBCorkage attributes.Corkage  \\\n",
       "0                  NaN                    NaN                NaN   \n",
       "1                  NaN                    NaN                NaN   \n",
       "2                  NaN                    NaN                NaN   \n",
       "3                  NaN                    NaN                NaN   \n",
       "4                  NaN                    NaN                NaN   \n",
       "\n",
       "  attributes.RestaurantsCounterService  \n",
       "0                                  NaN  \n",
       "1                                  NaN  \n",
       "2                                  NaN  \n",
       "3                                  NaN  \n",
       "4                                  NaN  \n",
       "\n",
       "[5 rows x 58 columns]"
      ]
     },
     "execution_count": 203,
     "metadata": {},
     "output_type": "execute_result"
    }
   ],
   "source": [
    "business_df.head()"
   ]
  },
  {
   "cell_type": "markdown",
   "metadata": {
    "deletable": false,
    "editable": false
   },
   "source": [
    "<!-- BEGIN QUESTION -->\n",
    "\n",
    "1. What do you notice about how the columns of `business_df` are constructed, e.g. how are fields and subfields represented in the dataframe?\n",
    "2. How are values that are not found in every document handled in the pandas dataframe?\n",
    "\n",
    "Hint: You will need to horizontally scroll to view all the column names and values. \n",
    "\n",
    "**Format your answer as follows and use one sentence per question:**\n",
    "\n",
    "1. Sentence 1\n",
    "2. Sentence 2"
   ]
  },
  {
   "cell_type": "code",
   "execution_count": 204,
   "metadata": {
    "tags": [
     "otter_answer_cell"
    ]
   },
   "outputs": [
    {
     "ename": "SyntaxError",
     "evalue": "unmatched ')' (1284427564.py, line 1)",
     "output_type": "error",
     "traceback": [
      "\u001b[0;36m  Cell \u001b[0;32mIn[204], line 1\u001b[0;36m\u001b[0m\n\u001b[0;31m    1)The columns of business_df are flattened so that nested fields and subfields are split into separate columns, using dot notation to indicate hierarchy (e.g., attributes.BusinessAcceptsCreditCards).\u001b[0m\n\u001b[0m     ^\u001b[0m\n\u001b[0;31mSyntaxError\u001b[0m\u001b[0;31m:\u001b[0m unmatched ')'\n"
     ]
    }
   ],
   "source": [
    "1)The columns of business_df are flattened so that nested fields and subfields are split into separate columns, using dot notation to indicate hierarchy (e.g., attributes.BusinessAcceptsCreditCards).\n",
    "2)Values that are not found in every document are represented as NaN in the Pandas dataframe, indicating missing or null values."
   ]
  },
  {
   "cell_type": "markdown",
   "metadata": {
    "deletable": false,
    "editable": false
   },
   "source": [
    "<!-- END QUESTION -->\n",
    "\n",
    "<br>\n",
    "\n",
    "---\n",
    "### Question 3b\n",
    "\n",
    "In the previous question, we talked about how Mongo and Postgres approach joins. Pandas is also capable of performing joins using the [merge](https://pandas.pydata.org/docs/reference/api/pandas.DataFrame.merge.html) function! For this task, perform an inner join on `business_df` with itself on the column `stars`. The final dataframe should be saved to a variable called `result_3b` and should only contain 3 columns in this particular order: the name of the first restaurant, the name of the second restaurant, and the number of the stars. Your dataframe header should look like this:\n",
    "\n",
    "| name_x | name_y | stars |\n",
    "| :--- | :--- | :--- |\n",
    "\n",
    "Note that the `_x` and `_y` get appended automatically by Pandas during the `merge`. You don't have to do anything special to achieve this.\n",
    "\n",
    "**Hint:** Check out [this tutorial](https://pandas.pydata.org/docs/getting_started/intro_tutorials/03_subset_data.html) on selecting a subset of the dataframe. This will be helpful in the rest of Question 3 as well!"
   ]
  },
  {
   "cell_type": "code",
   "execution_count": 205,
   "metadata": {
    "tags": [
     "otter_answer_cell"
    ]
   },
   "outputs": [
    {
     "data": {
      "text/html": [
       "<div>\n",
       "<style scoped>\n",
       "    .dataframe tbody tr th:only-of-type {\n",
       "        vertical-align: middle;\n",
       "    }\n",
       "\n",
       "    .dataframe tbody tr th {\n",
       "        vertical-align: top;\n",
       "    }\n",
       "\n",
       "    .dataframe thead th {\n",
       "        text-align: right;\n",
       "    }\n",
       "</style>\n",
       "<table border=\"1\" class=\"dataframe\">\n",
       "  <thead>\n",
       "    <tr style=\"text-align: right;\">\n",
       "      <th></th>\n",
       "      <th>name_x</th>\n",
       "      <th>name_y</th>\n",
       "      <th>stars</th>\n",
       "    </tr>\n",
       "  </thead>\n",
       "  <tbody>\n",
       "    <tr>\n",
       "      <th>0</th>\n",
       "      <td>Oskar Blues Taproom</td>\n",
       "      <td>Oskar Blues Taproom</td>\n",
       "      <td>4.0</td>\n",
       "    </tr>\n",
       "    <tr>\n",
       "      <th>1</th>\n",
       "      <td>Oskar Blues Taproom</td>\n",
       "      <td>Flying Elephants at PDX</td>\n",
       "      <td>4.0</td>\n",
       "    </tr>\n",
       "    <tr>\n",
       "      <th>2</th>\n",
       "      <td>Oskar Blues Taproom</td>\n",
       "      <td>Crossfit Terminus</td>\n",
       "      <td>4.0</td>\n",
       "    </tr>\n",
       "    <tr>\n",
       "      <th>3</th>\n",
       "      <td>Oskar Blues Taproom</td>\n",
       "      <td>Capital City Barber Shop</td>\n",
       "      <td>4.0</td>\n",
       "    </tr>\n",
       "    <tr>\n",
       "      <th>4</th>\n",
       "      <td>Oskar Blues Taproom</td>\n",
       "      <td>Star Kreations Salon and Spa</td>\n",
       "      <td>4.0</td>\n",
       "    </tr>\n",
       "    <tr>\n",
       "      <th>...</th>\n",
       "      <td>...</td>\n",
       "      <td>...</td>\n",
       "      <td>...</td>\n",
       "    </tr>\n",
       "    <tr>\n",
       "      <th>153959</th>\n",
       "      <td>White Egret Farm</td>\n",
       "      <td>Bluffs at Town Lake</td>\n",
       "      <td>1.5</td>\n",
       "    </tr>\n",
       "    <tr>\n",
       "      <th>153960</th>\n",
       "      <td>White Egret Farm</td>\n",
       "      <td>Taco Cabana</td>\n",
       "      <td>1.5</td>\n",
       "    </tr>\n",
       "    <tr>\n",
       "      <th>153961</th>\n",
       "      <td>White Egret Farm</td>\n",
       "      <td>Shaws</td>\n",
       "      <td>1.5</td>\n",
       "    </tr>\n",
       "    <tr>\n",
       "      <th>153962</th>\n",
       "      <td>White Egret Farm</td>\n",
       "      <td>Steak ’n Shake</td>\n",
       "      <td>1.5</td>\n",
       "    </tr>\n",
       "    <tr>\n",
       "      <th>153963</th>\n",
       "      <td>White Egret Farm</td>\n",
       "      <td>White Egret Farm</td>\n",
       "      <td>1.5</td>\n",
       "    </tr>\n",
       "  </tbody>\n",
       "</table>\n",
       "<p>153964 rows × 3 columns</p>\n",
       "</div>"
      ],
      "text/plain": [
       "                     name_x                        name_y  stars\n",
       "0       Oskar Blues Taproom           Oskar Blues Taproom    4.0\n",
       "1       Oskar Blues Taproom       Flying Elephants at PDX    4.0\n",
       "2       Oskar Blues Taproom             Crossfit Terminus    4.0\n",
       "3       Oskar Blues Taproom      Capital City Barber Shop    4.0\n",
       "4       Oskar Blues Taproom  Star Kreations Salon and Spa    4.0\n",
       "...                     ...                           ...    ...\n",
       "153959     White Egret Farm           Bluffs at Town Lake    1.5\n",
       "153960     White Egret Farm                   Taco Cabana    1.5\n",
       "153961     White Egret Farm                         Shaws    1.5\n",
       "153962     White Egret Farm                Steak ’n Shake    1.5\n",
       "153963     White Egret Farm              White Egret Farm    1.5\n",
       "\n",
       "[153964 rows x 3 columns]"
      ]
     },
     "execution_count": 205,
     "metadata": {},
     "output_type": "execute_result"
    }
   ],
   "source": [
    "result_3b = business_df.merge(business_df, on=\"stars\")[['name_x', 'name_y', 'stars']]\n",
    "result_3b"
   ]
  },
  {
   "cell_type": "code",
   "execution_count": 206,
   "metadata": {
    "tags": [
     "otter_answer_cell"
    ]
   },
   "outputs": [],
   "source": [
    "# Do not delete/edit this cell!\n",
    "# You must run this cell before running the autograder.\n",
    "grading_util.save_results(\"result_3b\", result_3b.sort_values(['name_x', 'name_y', 'stars'])[:50]);"
   ]
  },
  {
   "cell_type": "code",
   "execution_count": 207,
   "metadata": {
    "deletable": false,
    "editable": false
   },
   "outputs": [
    {
     "data": {
      "text/html": [
       "<p><strong><pre style='display: inline;'>q3b</pre></strong> passed! 🚀</p>"
      ],
      "text/plain": [
       "q3b results: All test cases passed!"
      ]
     },
     "execution_count": 207,
     "metadata": {},
     "output_type": "execute_result"
    }
   ],
   "source": [
    "grader.check(\"q3b\")"
   ]
  },
  {
   "cell_type": "markdown",
   "metadata": {},
   "source": [
    "<br>\n",
    "\n",
    "---\n",
    "### Question 3c\n",
    "\n",
    "Due to the nested representation of the data, there are a lot of missing fields with `NaN` values in the `business_df` dataframe as you may have noticed in Question 3a. Construct a dataframe `missing_value_df` with two columns: `column_name` and `percent_missing`. `percent_missing` should be the percentage of `NaN` values in the corresponding column in `business_df`. \n",
    "\n",
    "For example, if 25% of values are `NaN` in the `name` column, then `percent_missing` would have the value `25.0` (***not*** 0.25).\n",
    "\n",
    "Your dataframe header should look like this:\n",
    "\n",
    "| column_name | percent_missing |\n",
    "| :--- | :--- |\n",
    "\n",
    "**Hint:** Use Pandas' [isnull](https://pandas.pydata.org/docs/reference/api/pandas.DataFrame.isnull.html) function followed by [sum](https://pandas.pydata.org/docs/reference/api/pandas.DataFrame.sum.html)."
   ]
  },
  {
   "cell_type": "code",
   "execution_count": 208,
   "metadata": {
    "scrolled": true,
    "tags": [
     "otter_answer_cell"
    ]
   },
   "outputs": [
    {
     "data": {
      "text/html": [
       "<div>\n",
       "<style scoped>\n",
       "    .dataframe tbody tr th:only-of-type {\n",
       "        vertical-align: middle;\n",
       "    }\n",
       "\n",
       "    .dataframe tbody tr th {\n",
       "        vertical-align: top;\n",
       "    }\n",
       "\n",
       "    .dataframe thead th {\n",
       "        text-align: right;\n",
       "    }\n",
       "</style>\n",
       "<table border=\"1\" class=\"dataframe\">\n",
       "  <thead>\n",
       "    <tr style=\"text-align: right;\">\n",
       "      <th></th>\n",
       "      <th>column_name</th>\n",
       "      <th>percent_missing</th>\n",
       "    </tr>\n",
       "  </thead>\n",
       "  <tbody>\n",
       "    <tr>\n",
       "      <th>0</th>\n",
       "      <td>_id</td>\n",
       "      <td>0.0</td>\n",
       "    </tr>\n",
       "    <tr>\n",
       "      <th>1</th>\n",
       "      <td>business_id</td>\n",
       "      <td>0.0</td>\n",
       "    </tr>\n",
       "    <tr>\n",
       "      <th>2</th>\n",
       "      <td>name</td>\n",
       "      <td>0.0</td>\n",
       "    </tr>\n",
       "    <tr>\n",
       "      <th>3</th>\n",
       "      <td>address</td>\n",
       "      <td>0.0</td>\n",
       "    </tr>\n",
       "    <tr>\n",
       "      <th>4</th>\n",
       "      <td>city</td>\n",
       "      <td>0.0</td>\n",
       "    </tr>\n",
       "    <tr>\n",
       "      <th>5</th>\n",
       "      <td>state</td>\n",
       "      <td>0.0</td>\n",
       "    </tr>\n",
       "    <tr>\n",
       "      <th>6</th>\n",
       "      <td>postal_code</td>\n",
       "      <td>0.0</td>\n",
       "    </tr>\n",
       "    <tr>\n",
       "      <th>7</th>\n",
       "      <td>latitude</td>\n",
       "      <td>0.0</td>\n",
       "    </tr>\n",
       "    <tr>\n",
       "      <th>8</th>\n",
       "      <td>longitude</td>\n",
       "      <td>0.0</td>\n",
       "    </tr>\n",
       "    <tr>\n",
       "      <th>9</th>\n",
       "      <td>stars</td>\n",
       "      <td>0.0</td>\n",
       "    </tr>\n",
       "    <tr>\n",
       "      <th>10</th>\n",
       "      <td>review_count</td>\n",
       "      <td>0.0</td>\n",
       "    </tr>\n",
       "    <tr>\n",
       "      <th>11</th>\n",
       "      <td>is_open</td>\n",
       "      <td>0.0</td>\n",
       "    </tr>\n",
       "    <tr>\n",
       "      <th>12</th>\n",
       "      <td>categories</td>\n",
       "      <td>0.1</td>\n",
       "    </tr>\n",
       "    <tr>\n",
       "      <th>13</th>\n",
       "      <td>attributes.RestaurantsTableService</td>\n",
       "      <td>89.1</td>\n",
       "    </tr>\n",
       "    <tr>\n",
       "      <th>14</th>\n",
       "      <td>attributes.WiFi</td>\n",
       "      <td>64.8</td>\n",
       "    </tr>\n",
       "    <tr>\n",
       "      <th>15</th>\n",
       "      <td>attributes.BikeParking</td>\n",
       "      <td>52.2</td>\n",
       "    </tr>\n",
       "    <tr>\n",
       "      <th>16</th>\n",
       "      <td>attributes.BusinessParking</td>\n",
       "      <td>38.6</td>\n",
       "    </tr>\n",
       "    <tr>\n",
       "      <th>17</th>\n",
       "      <td>attributes.BusinessAcceptsCreditCards</td>\n",
       "      <td>25.4</td>\n",
       "    </tr>\n",
       "    <tr>\n",
       "      <th>18</th>\n",
       "      <td>attributes.RestaurantsReservations</td>\n",
       "      <td>72.8</td>\n",
       "    </tr>\n",
       "    <tr>\n",
       "      <th>19</th>\n",
       "      <td>attributes.WheelchairAccessible</td>\n",
       "      <td>80.0</td>\n",
       "    </tr>\n",
       "    <tr>\n",
       "      <th>20</th>\n",
       "      <td>attributes.Caters</td>\n",
       "      <td>75.5</td>\n",
       "    </tr>\n",
       "    <tr>\n",
       "      <th>21</th>\n",
       "      <td>attributes.OutdoorSeating</td>\n",
       "      <td>71.1</td>\n",
       "    </tr>\n",
       "    <tr>\n",
       "      <th>22</th>\n",
       "      <td>attributes.RestaurantsGoodForGroups</td>\n",
       "      <td>73.7</td>\n",
       "    </tr>\n",
       "    <tr>\n",
       "      <th>23</th>\n",
       "      <td>attributes.HappyHour</td>\n",
       "      <td>90.9</td>\n",
       "    </tr>\n",
       "    <tr>\n",
       "      <th>24</th>\n",
       "      <td>attributes.BusinessAcceptsBitcoin</td>\n",
       "      <td>90.2</td>\n",
       "    </tr>\n",
       "    <tr>\n",
       "      <th>25</th>\n",
       "      <td>attributes.RestaurantsPriceRange2</td>\n",
       "      <td>42.2</td>\n",
       "    </tr>\n",
       "    <tr>\n",
       "      <th>26</th>\n",
       "      <td>attributes.Ambience</td>\n",
       "      <td>73.8</td>\n",
       "    </tr>\n",
       "    <tr>\n",
       "      <th>27</th>\n",
       "      <td>attributes.HasTV</td>\n",
       "      <td>73.9</td>\n",
       "    </tr>\n",
       "    <tr>\n",
       "      <th>28</th>\n",
       "      <td>attributes.Alcohol</td>\n",
       "      <td>74.4</td>\n",
       "    </tr>\n",
       "    <tr>\n",
       "      <th>29</th>\n",
       "      <td>attributes.GoodForMeal</td>\n",
       "      <td>81.4</td>\n",
       "    </tr>\n",
       "    <tr>\n",
       "      <th>30</th>\n",
       "      <td>attributes.DogsAllowed</td>\n",
       "      <td>87.8</td>\n",
       "    </tr>\n",
       "    <tr>\n",
       "      <th>31</th>\n",
       "      <td>attributes.RestaurantsTakeOut</td>\n",
       "      <td>65.4</td>\n",
       "    </tr>\n",
       "    <tr>\n",
       "      <th>32</th>\n",
       "      <td>attributes.NoiseLevel</td>\n",
       "      <td>76.4</td>\n",
       "    </tr>\n",
       "    <tr>\n",
       "      <th>33</th>\n",
       "      <td>attributes.RestaurantsAttire</td>\n",
       "      <td>75.5</td>\n",
       "    </tr>\n",
       "    <tr>\n",
       "      <th>34</th>\n",
       "      <td>attributes.RestaurantsDelivery</td>\n",
       "      <td>68.6</td>\n",
       "    </tr>\n",
       "    <tr>\n",
       "      <th>35</th>\n",
       "      <td>hours.Monday</td>\n",
       "      <td>24.0</td>\n",
       "    </tr>\n",
       "    <tr>\n",
       "      <th>36</th>\n",
       "      <td>hours.Tuesday</td>\n",
       "      <td>19.6</td>\n",
       "    </tr>\n",
       "    <tr>\n",
       "      <th>37</th>\n",
       "      <td>hours.Wednesday</td>\n",
       "      <td>18.6</td>\n",
       "    </tr>\n",
       "    <tr>\n",
       "      <th>38</th>\n",
       "      <td>hours.Thursday</td>\n",
       "      <td>17.6</td>\n",
       "    </tr>\n",
       "    <tr>\n",
       "      <th>39</th>\n",
       "      <td>hours.Friday</td>\n",
       "      <td>18.6</td>\n",
       "    </tr>\n",
       "    <tr>\n",
       "      <th>40</th>\n",
       "      <td>hours.Saturday</td>\n",
       "      <td>29.7</td>\n",
       "    </tr>\n",
       "    <tr>\n",
       "      <th>41</th>\n",
       "      <td>hours.Sunday</td>\n",
       "      <td>46.5</td>\n",
       "    </tr>\n",
       "    <tr>\n",
       "      <th>42</th>\n",
       "      <td>attributes.GoodForKids</td>\n",
       "      <td>64.7</td>\n",
       "    </tr>\n",
       "    <tr>\n",
       "      <th>43</th>\n",
       "      <td>attributes.ByAppointmentOnly</td>\n",
       "      <td>66.7</td>\n",
       "    </tr>\n",
       "    <tr>\n",
       "      <th>44</th>\n",
       "      <td>hours</td>\n",
       "      <td>100.0</td>\n",
       "    </tr>\n",
       "    <tr>\n",
       "      <th>45</th>\n",
       "      <td>attributes.AcceptsInsurance</td>\n",
       "      <td>95.0</td>\n",
       "    </tr>\n",
       "    <tr>\n",
       "      <th>46</th>\n",
       "      <td>attributes</td>\n",
       "      <td>100.0</td>\n",
       "    </tr>\n",
       "    <tr>\n",
       "      <th>47</th>\n",
       "      <td>attributes.HairSpecializesIn</td>\n",
       "      <td>99.2</td>\n",
       "    </tr>\n",
       "    <tr>\n",
       "      <th>48</th>\n",
       "      <td>attributes.GoodForDancing</td>\n",
       "      <td>97.5</td>\n",
       "    </tr>\n",
       "    <tr>\n",
       "      <th>49</th>\n",
       "      <td>attributes.BestNights</td>\n",
       "      <td>96.5</td>\n",
       "    </tr>\n",
       "    <tr>\n",
       "      <th>50</th>\n",
       "      <td>attributes.Music</td>\n",
       "      <td>95.4</td>\n",
       "    </tr>\n",
       "    <tr>\n",
       "      <th>51</th>\n",
       "      <td>attributes.BYOB</td>\n",
       "      <td>98.3</td>\n",
       "    </tr>\n",
       "    <tr>\n",
       "      <th>52</th>\n",
       "      <td>attributes.CoatCheck</td>\n",
       "      <td>97.0</td>\n",
       "    </tr>\n",
       "    <tr>\n",
       "      <th>53</th>\n",
       "      <td>attributes.Smoking</td>\n",
       "      <td>97.1</td>\n",
       "    </tr>\n",
       "    <tr>\n",
       "      <th>54</th>\n",
       "      <td>attributes.DriveThru</td>\n",
       "      <td>96.8</td>\n",
       "    </tr>\n",
       "    <tr>\n",
       "      <th>55</th>\n",
       "      <td>attributes.BYOBCorkage</td>\n",
       "      <td>97.9</td>\n",
       "    </tr>\n",
       "    <tr>\n",
       "      <th>56</th>\n",
       "      <td>attributes.Corkage</td>\n",
       "      <td>98.1</td>\n",
       "    </tr>\n",
       "    <tr>\n",
       "      <th>57</th>\n",
       "      <td>attributes.RestaurantsCounterService</td>\n",
       "      <td>99.9</td>\n",
       "    </tr>\n",
       "  </tbody>\n",
       "</table>\n",
       "</div>"
      ],
      "text/plain": [
       "                              column_name  percent_missing\n",
       "0                                     _id              0.0\n",
       "1                             business_id              0.0\n",
       "2                                    name              0.0\n",
       "3                                 address              0.0\n",
       "4                                    city              0.0\n",
       "5                                   state              0.0\n",
       "6                             postal_code              0.0\n",
       "7                                latitude              0.0\n",
       "8                               longitude              0.0\n",
       "9                                   stars              0.0\n",
       "10                           review_count              0.0\n",
       "11                                is_open              0.0\n",
       "12                             categories              0.1\n",
       "13     attributes.RestaurantsTableService             89.1\n",
       "14                        attributes.WiFi             64.8\n",
       "15                 attributes.BikeParking             52.2\n",
       "16             attributes.BusinessParking             38.6\n",
       "17  attributes.BusinessAcceptsCreditCards             25.4\n",
       "18     attributes.RestaurantsReservations             72.8\n",
       "19        attributes.WheelchairAccessible             80.0\n",
       "20                      attributes.Caters             75.5\n",
       "21              attributes.OutdoorSeating             71.1\n",
       "22    attributes.RestaurantsGoodForGroups             73.7\n",
       "23                   attributes.HappyHour             90.9\n",
       "24      attributes.BusinessAcceptsBitcoin             90.2\n",
       "25      attributes.RestaurantsPriceRange2             42.2\n",
       "26                    attributes.Ambience             73.8\n",
       "27                       attributes.HasTV             73.9\n",
       "28                     attributes.Alcohol             74.4\n",
       "29                 attributes.GoodForMeal             81.4\n",
       "30                 attributes.DogsAllowed             87.8\n",
       "31          attributes.RestaurantsTakeOut             65.4\n",
       "32                  attributes.NoiseLevel             76.4\n",
       "33           attributes.RestaurantsAttire             75.5\n",
       "34         attributes.RestaurantsDelivery             68.6\n",
       "35                           hours.Monday             24.0\n",
       "36                          hours.Tuesday             19.6\n",
       "37                        hours.Wednesday             18.6\n",
       "38                         hours.Thursday             17.6\n",
       "39                           hours.Friday             18.6\n",
       "40                         hours.Saturday             29.7\n",
       "41                           hours.Sunday             46.5\n",
       "42                 attributes.GoodForKids             64.7\n",
       "43           attributes.ByAppointmentOnly             66.7\n",
       "44                                  hours            100.0\n",
       "45            attributes.AcceptsInsurance             95.0\n",
       "46                             attributes            100.0\n",
       "47           attributes.HairSpecializesIn             99.2\n",
       "48              attributes.GoodForDancing             97.5\n",
       "49                  attributes.BestNights             96.5\n",
       "50                       attributes.Music             95.4\n",
       "51                        attributes.BYOB             98.3\n",
       "52                   attributes.CoatCheck             97.0\n",
       "53                     attributes.Smoking             97.1\n",
       "54                   attributes.DriveThru             96.8\n",
       "55                 attributes.BYOBCorkage             97.9\n",
       "56                     attributes.Corkage             98.1\n",
       "57   attributes.RestaurantsCounterService             99.9"
      ]
     },
     "execution_count": 208,
     "metadata": {},
     "output_type": "execute_result"
    }
   ],
   "source": [
    "missing_value_df = pd.DataFrame({'column_name': business_df.columns,\n",
    "                                 'column_name': business_df.columns,\n",
    "    'percent_missing': (business_df.isnull().sum() / len(business_df)) * 100\n",
    "})\n",
    "missing_value_df.reset_index(drop=True, inplace=True)\n",
    "missing_value_df"
   ]
  },
  {
   "cell_type": "code",
   "execution_count": 209,
   "metadata": {
    "tags": [
     "otter_answer_cell"
    ]
   },
   "outputs": [],
   "source": [
    "# Do not delete/edit this cell!\n",
    "# You must run this cell before running the autograder.\n",
    "grading_util.save_results(\"result_3c\", missing_value_df);"
   ]
  },
  {
   "cell_type": "code",
   "execution_count": 210,
   "metadata": {
    "deletable": false,
    "editable": false
   },
   "outputs": [
    {
     "data": {
      "text/html": [
       "<p><strong><pre style='display: inline;'>q3c</pre></strong> passed! 🌟</p>"
      ],
      "text/plain": [
       "q3c results: All test cases passed!"
      ]
     },
     "execution_count": 210,
     "metadata": {},
     "output_type": "execute_result"
    }
   ],
   "source": [
    "grader.check(\"q3c\")"
   ]
  },
  {
   "cell_type": "markdown",
   "metadata": {},
   "source": [
    "<br>\n",
    "\n",
    "---\n",
    "### Question 3d\n",
    "\n",
    "Plot a histogram distribution of the percentage of NaN values across all columns (via Pandas' [hist](https://pandas.pydata.org/docs/reference/api/pandas.DataFrame.hist.html) function). Don't worry about adding titles / making it look nice—we won't be grading the plot."
   ]
  },
  {
   "cell_type": "code",
   "execution_count": 211,
   "metadata": {
    "deletable": false,
    "editable": false
   },
   "outputs": [
    {
     "data": {
      "text/html": [
       "<div>\n",
       "<style scoped>\n",
       "    .dataframe tbody tr th:only-of-type {\n",
       "        vertical-align: middle;\n",
       "    }\n",
       "\n",
       "    .dataframe tbody tr th {\n",
       "        vertical-align: top;\n",
       "    }\n",
       "\n",
       "    .dataframe thead th {\n",
       "        text-align: right;\n",
       "    }\n",
       "</style>\n",
       "<table border=\"1\" class=\"dataframe\">\n",
       "  <thead>\n",
       "    <tr style=\"text-align: right;\">\n",
       "      <th></th>\n",
       "      <th>column_name</th>\n",
       "      <th>percent_missing</th>\n",
       "    </tr>\n",
       "  </thead>\n",
       "  <tbody>\n",
       "    <tr>\n",
       "      <th>0</th>\n",
       "      <td>_id</td>\n",
       "      <td>0.0</td>\n",
       "    </tr>\n",
       "    <tr>\n",
       "      <th>1</th>\n",
       "      <td>business_id</td>\n",
       "      <td>0.0</td>\n",
       "    </tr>\n",
       "    <tr>\n",
       "      <th>2</th>\n",
       "      <td>name</td>\n",
       "      <td>0.0</td>\n",
       "    </tr>\n",
       "    <tr>\n",
       "      <th>3</th>\n",
       "      <td>address</td>\n",
       "      <td>0.0</td>\n",
       "    </tr>\n",
       "    <tr>\n",
       "      <th>4</th>\n",
       "      <td>city</td>\n",
       "      <td>0.0</td>\n",
       "    </tr>\n",
       "  </tbody>\n",
       "</table>\n",
       "</div>"
      ],
      "text/plain": [
       "   column_name  percent_missing\n",
       "0          _id              0.0\n",
       "1  business_id              0.0\n",
       "2         name              0.0\n",
       "3      address              0.0\n",
       "4         city              0.0"
      ]
     },
     "execution_count": 211,
     "metadata": {},
     "output_type": "execute_result"
    }
   ],
   "source": [
    "missing_value_df.head()"
   ]
  },
  {
   "cell_type": "code",
   "execution_count": 212,
   "metadata": {
    "tags": [
     "otter_answer_cell"
    ]
   },
   "outputs": [
    {
     "data": {
      "text/plain": [
       "<Axes: >"
      ]
     },
     "execution_count": 212,
     "metadata": {},
     "output_type": "execute_result"
    },
    {
     "data": {
      "image/png": "[encoded data removed]",
      "text/plain": [
       "<Figure size 640x480 with 1 Axes>"
      ]
     },
     "metadata": {},
     "output_type": "display_data"
    }
   ],
   "source": [
    "missing_value_df['percent_missing'].hist()"
   ]
  },
  {
   "cell_type": "markdown",
   "metadata": {
    "deletable": false,
    "editable": false
   },
   "source": [
    "Examine the histogram that you just plotted. How many columns are 90%+ `NaN`? Input your answer into `result_q3d` as an integer (e.g. if your answer is 6, then **explicitly** declare/hard-code `result_q3d = 6`. Do not refer to any values in the dataframe; self-created dataframes are not saved in the export file, so any references to them will not work.)"
   ]
  },
  {
   "cell_type": "code",
   "execution_count": 213,
   "metadata": {
    "tags": [
     "otter_answer_cell"
    ]
   },
   "outputs": [],
   "source": [
    "result_q3d = 16"
   ]
  },
  {
   "cell_type": "code",
   "execution_count": 214,
   "metadata": {
    "deletable": false,
    "editable": false
   },
   "outputs": [
    {
     "data": {
      "text/html": [
       "<p><strong><pre style='display: inline;'>q3d</pre></strong> passed! 🍀</p>"
      ],
      "text/plain": [
       "q3d results: All test cases passed!"
      ]
     },
     "execution_count": 214,
     "metadata": {},
     "output_type": "execute_result"
    }
   ],
   "source": [
    "grader.check(\"q3d\")"
   ]
  },
  {
   "cell_type": "markdown",
   "metadata": {},
   "source": [
    "<br>\n",
    "\n",
    "---\n",
    "### Question 3e\n",
    "\n",
    "Let us now alter `business_df` to exclude the columns with more than 80%+ `NaN` values (keeping columns with 80% `NaN` values or less). This likely means the corresponding attributes are not an important factor for most businesses so we can get rid of them in our `business_df`. Create a new dataframe called `important_attribute_business_df` which only contains these columns.\n",
    "\n",
    "**Hint:** Check out [this section](https://pandas.pydata.org/docs/getting_started/intro_tutorials/03_subset_data.html#how-do-i-select-specific-rows-and-columns-from-a-dataframe) from the tutorial linked in Question 3b."
   ]
  },
  {
   "cell_type": "code",
   "execution_count": 215,
   "metadata": {
    "tags": [
     "otter_answer_cell"
    ]
   },
   "outputs": [
    {
     "data": {
      "text/html": [
       "<div>\n",
       "<style scoped>\n",
       "    .dataframe tbody tr th:only-of-type {\n",
       "        vertical-align: middle;\n",
       "    }\n",
       "\n",
       "    .dataframe tbody tr th {\n",
       "        vertical-align: top;\n",
       "    }\n",
       "\n",
       "    .dataframe thead th {\n",
       "        text-align: right;\n",
       "    }\n",
       "</style>\n",
       "<table border=\"1\" class=\"dataframe\">\n",
       "  <thead>\n",
       "    <tr style=\"text-align: right;\">\n",
       "      <th></th>\n",
       "      <th>_id</th>\n",
       "      <th>business_id</th>\n",
       "      <th>name</th>\n",
       "      <th>address</th>\n",
       "      <th>city</th>\n",
       "      <th>state</th>\n",
       "      <th>postal_code</th>\n",
       "      <th>latitude</th>\n",
       "      <th>longitude</th>\n",
       "      <th>stars</th>\n",
       "      <th>...</th>\n",
       "      <th>attributes.RestaurantsDelivery</th>\n",
       "      <th>hours.Monday</th>\n",
       "      <th>hours.Tuesday</th>\n",
       "      <th>hours.Wednesday</th>\n",
       "      <th>hours.Thursday</th>\n",
       "      <th>hours.Friday</th>\n",
       "      <th>hours.Saturday</th>\n",
       "      <th>hours.Sunday</th>\n",
       "      <th>attributes.GoodForKids</th>\n",
       "      <th>attributes.ByAppointmentOnly</th>\n",
       "    </tr>\n",
       "  </thead>\n",
       "  <tbody>\n",
       "    <tr>\n",
       "      <th>0</th>\n",
       "      <td>6806a702a79df360aaa86a56</td>\n",
       "      <td>6iYb2HFDywm3zjuRg0shjw</td>\n",
       "      <td>Oskar Blues Taproom</td>\n",
       "      <td>921 Pearl St</td>\n",
       "      <td>Boulder</td>\n",
       "      <td>CO</td>\n",
       "      <td>80302</td>\n",
       "      <td>40.017544</td>\n",
       "      <td>-105.283348</td>\n",
       "      <td>4.0</td>\n",
       "      <td>...</td>\n",
       "      <td>None</td>\n",
       "      <td>11:0-23:0</td>\n",
       "      <td>11:0-23:0</td>\n",
       "      <td>11:0-23:0</td>\n",
       "      <td>11:0-23:0</td>\n",
       "      <td>11:0-23:0</td>\n",
       "      <td>11:0-23:0</td>\n",
       "      <td>11:0-23:0</td>\n",
       "      <td>NaN</td>\n",
       "      <td>NaN</td>\n",
       "    </tr>\n",
       "    <tr>\n",
       "      <th>1</th>\n",
       "      <td>6806a702a79df360aaa86a57</td>\n",
       "      <td>tCbdrRPZA0oiIYSmHG3J0w</td>\n",
       "      <td>Flying Elephants at PDX</td>\n",
       "      <td>7000 NE Airport Way</td>\n",
       "      <td>Portland</td>\n",
       "      <td>OR</td>\n",
       "      <td>97218</td>\n",
       "      <td>45.588906</td>\n",
       "      <td>-122.593331</td>\n",
       "      <td>4.0</td>\n",
       "      <td>...</td>\n",
       "      <td>False</td>\n",
       "      <td>5:0-18:0</td>\n",
       "      <td>5:0-17:0</td>\n",
       "      <td>5:0-18:0</td>\n",
       "      <td>5:0-18:0</td>\n",
       "      <td>5:0-18:0</td>\n",
       "      <td>5:0-18:0</td>\n",
       "      <td>5:0-18:0</td>\n",
       "      <td>True</td>\n",
       "      <td>False</td>\n",
       "    </tr>\n",
       "    <tr>\n",
       "      <th>2</th>\n",
       "      <td>6806a702a79df360aaa86a58</td>\n",
       "      <td>bvN78flM8NLprQ1a1y5dRg</td>\n",
       "      <td>The Reclaimory</td>\n",
       "      <td>4720 Hawthorne Ave</td>\n",
       "      <td>Portland</td>\n",
       "      <td>OR</td>\n",
       "      <td>97214</td>\n",
       "      <td>45.511907</td>\n",
       "      <td>-122.613693</td>\n",
       "      <td>4.5</td>\n",
       "      <td>...</td>\n",
       "      <td>NaN</td>\n",
       "      <td>NaN</td>\n",
       "      <td>NaN</td>\n",
       "      <td>NaN</td>\n",
       "      <td>11:0-18:0</td>\n",
       "      <td>11:0-18:0</td>\n",
       "      <td>11:0-18:0</td>\n",
       "      <td>11:0-18:0</td>\n",
       "      <td>NaN</td>\n",
       "      <td>False</td>\n",
       "    </tr>\n",
       "    <tr>\n",
       "      <th>3</th>\n",
       "      <td>6806a702a79df360aaa86a59</td>\n",
       "      <td>oaepsyvc0J17qwi8cfrOWg</td>\n",
       "      <td>Great Clips</td>\n",
       "      <td>2566 Enterprise Rd</td>\n",
       "      <td>Orange City</td>\n",
       "      <td>FL</td>\n",
       "      <td>32763</td>\n",
       "      <td>28.914482</td>\n",
       "      <td>-81.295979</td>\n",
       "      <td>3.0</td>\n",
       "      <td>...</td>\n",
       "      <td>NaN</td>\n",
       "      <td>NaN</td>\n",
       "      <td>NaN</td>\n",
       "      <td>NaN</td>\n",
       "      <td>NaN</td>\n",
       "      <td>NaN</td>\n",
       "      <td>NaN</td>\n",
       "      <td>NaN</td>\n",
       "      <td>True</td>\n",
       "      <td>False</td>\n",
       "    </tr>\n",
       "    <tr>\n",
       "      <th>4</th>\n",
       "      <td>6806a702a79df360aaa86a5a</td>\n",
       "      <td>PE9uqAjdw0E4-8mjGl3wVA</td>\n",
       "      <td>Crossfit Terminus</td>\n",
       "      <td>1046 Memorial Dr SE</td>\n",
       "      <td>Atlanta</td>\n",
       "      <td>GA</td>\n",
       "      <td>30316</td>\n",
       "      <td>33.747027</td>\n",
       "      <td>-84.353424</td>\n",
       "      <td>4.0</td>\n",
       "      <td>...</td>\n",
       "      <td>NaN</td>\n",
       "      <td>16:0-19:0</td>\n",
       "      <td>16:0-19:0</td>\n",
       "      <td>16:0-19:0</td>\n",
       "      <td>16:0-19:0</td>\n",
       "      <td>16:0-19:0</td>\n",
       "      <td>9:0-11:0</td>\n",
       "      <td>NaN</td>\n",
       "      <td>False</td>\n",
       "      <td>NaN</td>\n",
       "    </tr>\n",
       "  </tbody>\n",
       "</table>\n",
       "<p>5 rows × 39 columns</p>\n",
       "</div>"
      ],
      "text/plain": [
       "                        _id             business_id                     name  \\\n",
       "0  6806a702a79df360aaa86a56  6iYb2HFDywm3zjuRg0shjw      Oskar Blues Taproom   \n",
       "1  6806a702a79df360aaa86a57  tCbdrRPZA0oiIYSmHG3J0w  Flying Elephants at PDX   \n",
       "2  6806a702a79df360aaa86a58  bvN78flM8NLprQ1a1y5dRg           The Reclaimory   \n",
       "3  6806a702a79df360aaa86a59  oaepsyvc0J17qwi8cfrOWg              Great Clips   \n",
       "4  6806a702a79df360aaa86a5a  PE9uqAjdw0E4-8mjGl3wVA        Crossfit Terminus   \n",
       "\n",
       "               address         city state postal_code   latitude   longitude  \\\n",
       "0         921 Pearl St      Boulder    CO       80302  40.017544 -105.283348   \n",
       "1  7000 NE Airport Way     Portland    OR       97218  45.588906 -122.593331   \n",
       "2   4720 Hawthorne Ave     Portland    OR       97214  45.511907 -122.613693   \n",
       "3   2566 Enterprise Rd  Orange City    FL       32763  28.914482  -81.295979   \n",
       "4  1046 Memorial Dr SE      Atlanta    GA       30316  33.747027  -84.353424   \n",
       "\n",
       "   stars  ...  attributes.RestaurantsDelivery  hours.Monday hours.Tuesday  \\\n",
       "0    4.0  ...                            None     11:0-23:0     11:0-23:0   \n",
       "1    4.0  ...                           False      5:0-18:0      5:0-17:0   \n",
       "2    4.5  ...                             NaN           NaN           NaN   \n",
       "3    3.0  ...                             NaN           NaN           NaN   \n",
       "4    4.0  ...                             NaN     16:0-19:0     16:0-19:0   \n",
       "\n",
       "  hours.Wednesday hours.Thursday hours.Friday hours.Saturday hours.Sunday  \\\n",
       "0       11:0-23:0      11:0-23:0    11:0-23:0      11:0-23:0    11:0-23:0   \n",
       "1        5:0-18:0       5:0-18:0     5:0-18:0       5:0-18:0     5:0-18:0   \n",
       "2             NaN      11:0-18:0    11:0-18:0      11:0-18:0    11:0-18:0   \n",
       "3             NaN            NaN          NaN            NaN          NaN   \n",
       "4       16:0-19:0      16:0-19:0    16:0-19:0       9:0-11:0          NaN   \n",
       "\n",
       "  attributes.GoodForKids attributes.ByAppointmentOnly  \n",
       "0                    NaN                          NaN  \n",
       "1                   True                        False  \n",
       "2                    NaN                        False  \n",
       "3                   True                        False  \n",
       "4                  False                          NaN  \n",
       "\n",
       "[5 rows x 39 columns]"
      ]
     },
     "execution_count": 215,
     "metadata": {},
     "output_type": "execute_result"
    }
   ],
   "source": [
    "valid_columns = missing_value_df[missing_value_df['percent_missing'] <= 80]['column_name']\n",
    "important_attribute_business_df = business_df[valid_columns]\n",
    "important_attribute_business_df.head()"
   ]
  },
  {
   "cell_type": "code",
   "execution_count": 216,
   "metadata": {
    "tags": [
     "otter_answer_cell"
    ]
   },
   "outputs": [],
   "source": [
    "# Do not delete/edit this cell!\n",
    "# You must run this cell before running the autograder.\n",
    "grading_util.save_results(\"result_3e\", important_attribute_business_df);"
   ]
  },
  {
   "cell_type": "code",
   "execution_count": 217,
   "metadata": {
    "deletable": false,
    "editable": false
   },
   "outputs": [
    {
     "data": {
      "text/html": [
       "<p><strong><pre style='display: inline;'>q3e</pre></strong> passed! 🚀</p>"
      ],
      "text/plain": [
       "q3e results: All test cases passed!"
      ]
     },
     "execution_count": 217,
     "metadata": {},
     "output_type": "execute_result"
    }
   ],
   "source": [
    "grader.check(\"q3e\")"
   ]
  },
  {
   "cell_type": "markdown",
   "metadata": {},
   "source": [
    "<br>\n",
    "\n",
    "---\n",
    "### Question 3f\n",
    "\n",
    "At this point, you have had experience with manipulating data on Mongo, Postgres, and Pandas. In this question, we will provide you with three scenarios and using the lessons you've learned so far, please specify which of the three (Mongo, Postgres, or Pandas) would work best for this specific use case.\n",
    "\n",
    "#### Question 3fi\n",
    "\n",
    "You are doing a data journalism piece on college sports. You collect a list of colleges and for each collegiate sport program within that college, you find the budget assigned for that program. Each college may offer a different variety of sports programs. You have a choice between the following:\n",
    "\n",
    "A) Representing this data in JSON (e.g. \n",
    "```\n",
    "{\n",
    "    \"UC Berkeley\": {\n",
    "        \"football\": \"10000000\", \n",
    "        \"wrestling\": \"344582\", \n",
    "        ...}\n",
    "}\n",
    "```\n",
    ") and importing into Mongo.\n",
    "\n",
    "B) Representing this data as a schema in Postgres where the columns are the names of the sports.\n",
    "\n",
    "C) Representing this data as a dataframe in Pandas where the columns are the names of the sports.\n",
    "\n",
    "You would like to find the aggregate of budgets across different sports (average, sum, median, mode). What would be the best option for storing this data?\n",
    "\n",
    "**Set the value of `q3fi` to `'A'`, `'B'`, or `'C'`.**"
   ]
  },
  {
   "cell_type": "code",
   "execution_count": 218,
   "metadata": {
    "tags": [
     "otter_answer_cell"
    ]
   },
   "outputs": [],
   "source": [
    "q3fi = 'C'"
   ]
  },
  {
   "cell_type": "code",
   "execution_count": 219,
   "metadata": {
    "deletable": false,
    "editable": false
   },
   "outputs": [
    {
     "data": {
      "text/html": [
       "<p><strong><pre style='display: inline;'>q3fi</pre></strong> passed! 🌟</p>"
      ],
      "text/plain": [
       "q3fi results: All test cases passed!"
      ]
     },
     "execution_count": 219,
     "metadata": {},
     "output_type": "execute_result"
    }
   ],
   "source": [
    "grader.check(\"q3fi\")"
   ]
  },
  {
   "cell_type": "markdown",
   "metadata": {},
   "source": [
    "#### Question 3fii\n",
    "\n",
    "You would now like to investigate the effect of budgets on student-athlete scholarships. After doing some research, you find a dataset that contains a list of every single athlete at every single college and their sport and scholarship levels (this is a massive 10GB+ dataset with millions of rows). You find another dataset that contains a list of colleges, their sports programs, and the program budget. This is another massive dataset with hundreds of thousands of rows. You would like to perform an inner join between the two datasets on school and program so you can view each student-athlete's scholarship with their sport's budget. You have a choice between the following:\n",
    "\n",
    "A) Representing each dataset in JSON (e.g. \n",
    "```\n",
    "{\"athletes\": [\n",
    "    {\"Chase Garbers\": {\n",
    "        \"school\": \"UC Berkeley\", \n",
    "        \"scholarship\": \"full\", \n",
    "        \"sport\": \"football\", \n",
    "        ...\n",
    "        }\n",
    "    }, \n",
    "    ...\n",
    "]}\n",
    "```\n",
    "and \n",
    "```\n",
    "{\"schools\": [\n",
    "    {\"UC Berkeley\": {\n",
    "        \"football\": {\n",
    "            \"budget\": \"10000000\"\n",
    "         }, \n",
    "         ...\n",
    "         }\n",
    "    }, \n",
    "    ...\n",
    " ]}\n",
    " ```\n",
    "), importing into Mongo, and doing a join there.\n",
    "\n",
    "B) Representing this data as 2 schemas in Postgres where the columns for the first schema are \n",
    "[`student_name`, `school`, `sport`, `scholarship`] and for the second [`school`, `sport`, `budget`].\n",
    "\n",
    "C) Representing this data as 2 dataframes in Pandas with the same columns as Postgres.\n",
    "\n",
    "What would be the best option for storing this data?\n",
    "\n",
    "**Set the value of `q3fii` to `'A'`, `'B'`, or `'C'`.**"
   ]
  },
  {
   "cell_type": "code",
   "execution_count": 220,
   "metadata": {
    "tags": [
     "otter_answer_cell"
    ]
   },
   "outputs": [],
   "source": [
    "q3fii = 'B'"
   ]
  },
  {
   "cell_type": "code",
   "execution_count": 221,
   "metadata": {
    "deletable": false,
    "editable": false
   },
   "outputs": [
    {
     "data": {
      "text/html": [
       "<p><strong><pre style='display: inline;'>q3fii</pre></strong> passed! 💯</p>"
      ],
      "text/plain": [
       "q3fii results: All test cases passed!"
      ]
     },
     "execution_count": 221,
     "metadata": {},
     "output_type": "execute_result"
    }
   ],
   "source": [
    "grader.check(\"q3fii\")"
   ]
  },
  {
   "cell_type": "markdown",
   "metadata": {},
   "source": [
    "#### Question 3fiii\n",
    "\n",
    "Finally, you are ready to start writing your article! You decide to focus on just the data from UC Berkeley. You have access to a dataset of just UC Berkeley athletes along with their sports and scholarship levels. The scholarship level data was improperly cleaned: some scholarships are recorded as strings \"full\", \"half\", or \"none\" and some are recorded as integer percentages 0-100. You would like to provide this data to your readers in a format that is susceptible to easy visualizations: e.g. graphs that show how many athletes have a full vs. half vs. no scholarship, which sports have the highest percentages of athletes with full scholarships etc. What is the best way to store this data for this purpose?\n",
    "\n",
    "A) Represent the dataset in JSON e.g.\n",
    "```\n",
    "{\"athletes\": [\n",
    "    {\n",
    "       \"Chase Garbers\": {\n",
    "         \"scholarship\": \"full\", \n",
    "         \"sport\": \"football\"\n",
    "       }\n",
    "    },\n",
    "    {\n",
    "        \"Danielle Vosk\": {\n",
    "          \"scholarship\": 25,\n",
    "          \"sport\": \"basketball\"\n",
    "        }\n",
    "    },\n",
    "    ...\n",
    "    ]\n",
    "}\n",
    "```\n",
    "B) Represent this data as a schema in Postgres where the columns are [`student_name`, `sport`, `scholarship`]\n",
    "\n",
    "C) Represent this data as a dataframe in Pandas with the same columns as Postgres.\n",
    "    \n",
    "**Set the value of `q3fiii` to `'A'`, `'B'`, or `'C'`.**"
   ]
  },
  {
   "cell_type": "code",
   "execution_count": 222,
   "metadata": {
    "tags": [
     "otter_answer_cell"
    ]
   },
   "outputs": [],
   "source": [
    "q3fiii = 'C'"
   ]
  },
  {
   "cell_type": "code",
   "execution_count": 223,
   "metadata": {
    "deletable": false,
    "editable": false
   },
   "outputs": [
    {
     "data": {
      "text/html": [
       "<p><strong><pre style='display: inline;'>q3fiii</pre></strong> passed! 🚀</p>"
      ],
      "text/plain": [
       "q3fiii results: All test cases passed!"
      ]
     },
     "execution_count": 223,
     "metadata": {},
     "output_type": "execute_result"
    }
   ],
   "source": [
    "grader.check(\"q3fiii\")"
   ]
  },
  {
   "cell_type": "markdown",
   "metadata": {},
   "source": [
    "<hr style=\"border: 5px solid #003262;\" />\n",
    "<hr style=\"border: 1px solid #fdb515;\" />\n",
    "\n",
    "## Question 4: Messy JSON\n",
    "\n",
    "Many of the queries you've seen or written thus far were relatively reliable: aggregating and collecting over fields\n",
    "that you know exist for sure. But the nature of Mongo documents is that they are inherently flexible and semi-structured. Not every document will share every single field! In this question, we will explore how Mongo handles these use cases using the `business` collection.\n",
    "\n",
    "### Question 4a\n",
    "\n",
    "Imagine you are in charge of managing your family reunion. You would like to book a private room at a restaurant.\n",
    "However, you would also like to optimize for chaos. You notice that in some restaurants' `attributes`, there is an attribute called `RestaurantsGoodForGroups`. You would like to write a query that returns all restaurants that **do not** have the `RestaurantsGoodForGroups` attribute so that the trajectory of the reunion is determined by fate. (**Hint:** Search up the `$exists` keyword). \n",
    "\n",
    "How many restaurants do not have the `RestaurantsGoodForGroups` attribute? Ensure that your output for the autograder is the **number of restaurants that do not have the `RestaurantsGoodForGroups` attribute** stored in `q4a` as an integer.\n",
    "\n",
    "**Note:** You would like this list to consist solely of restaurants. We define a restaurant as a business that has the word `Restaurants` in the `categories` field. You should perform a similar `$text` `$search` as in Question 1d. **We will work with this definition for the rest of the Question 4 as well!**"
   ]
  },
  {
   "cell_type": "code",
   "execution_count": 224,
   "metadata": {
    "tags": [
     "otter_answer_cell"
    ]
   },
   "outputs": [
    {
     "data": {
      "text/plain": [
       "{'_id': ObjectId('6806a71ba79df360aaa9a6b9'),\n",
       " 'business_id': 'dccGsIn_djWePrI0WAaxOQ',\n",
       " 'name': 'Mimi’s Burgers',\n",
       " 'address': '2287 West Broadway',\n",
       " 'city': 'Vancouver',\n",
       " 'state': 'BC',\n",
       " 'postal_code': 'V6K 2E4',\n",
       " 'latitude': 49.2640947295,\n",
       " 'longitude': -123.1569830592,\n",
       " 'stars': 4.5,\n",
       " 'review_count': 23,\n",
       " 'is_open': 1,\n",
       " 'attributes': {'BikeParking': 'True',\n",
       "  'Alcohol': \"u'full_bar'\",\n",
       "  'BusinessParking': \"{'garage': False, 'street': True, 'validated': False, 'lot': False, 'valet': False}\",\n",
       "  'WiFi': \"u'free'\",\n",
       "  'RestaurantsTakeOut': 'None',\n",
       "  'WheelchairAccessible': 'True',\n",
       "  'OutdoorSeating': 'True',\n",
       "  'RestaurantsTableService': 'True',\n",
       "  'BYOB': 'False',\n",
       "  'Caters': 'True',\n",
       "  'HasTV': 'True'},\n",
       " 'categories': 'Restaurants, Pop-Up Restaurants, Burgers',\n",
       " 'hours': {'Wednesday': '11:30-20:0',\n",
       "  'Thursday': '11:30-21:0',\n",
       "  'Friday': '11:30-21:0',\n",
       "  'Saturday': '11:30-21:0',\n",
       "  'Sunday': '11:30-20:0'}}"
      ]
     },
     "execution_count": 224,
     "metadata": {},
     "output_type": "execute_result"
    }
   ],
   "source": [
    "# The following text index may be useful!\n",
    "if 'categories_text' not in business.index_information():\n",
    "    business.create_index([('categories', TEXT)])\n",
    "\n",
    "q4a_cursor = business.find({\n",
    "    \"$text\": {\"$search\": \"Restaurants\"},\n",
    "    \"attributes.RestaurantsGoodForGroups\": {\"$exists\": False}\n",
    "})\n",
    "q4a_result = list(q4a_cursor)\n",
    "q4a = len(q4a_result)\n",
    "q4a_result[0]"
   ]
  },
  {
   "cell_type": "code",
   "execution_count": 225,
   "metadata": {
    "tags": [
     "otter_answer_cell"
    ]
   },
   "outputs": [
    {
     "data": {
      "text/plain": [
       "8237"
      ]
     },
     "execution_count": 225,
     "metadata": {},
     "output_type": "execute_result"
    }
   ],
   "source": [
    "# Do not delete/edit this cell!\n",
    "# You must run this cell before running the autograder.\n",
    "grading_util.save_results(\"result_4a\", q4a)[0]"
   ]
  },
  {
   "cell_type": "code",
   "execution_count": 226,
   "metadata": {
    "deletable": false,
    "editable": false
   },
   "outputs": [
    {
     "data": {
      "text/html": [
       "<p><strong><pre style='display: inline;'>q4a</pre></strong> passed! ✨</p>"
      ],
      "text/plain": [
       "q4a results: All test cases passed!"
      ]
     },
     "execution_count": 226,
     "metadata": {},
     "output_type": "execute_result"
    }
   ],
   "source": [
    "grader.check(\"q4a\")"
   ]
  },
  {
   "cell_type": "markdown",
   "metadata": {},
   "source": [
    "<br>\n",
    "\n",
    "---\n",
    "### Question 4b\n",
    "\n",
    "Your relatives inform you that they would like to be at the restaurant when it opens to beat the crowds. Furthermore, after gathering their availabilities, most of your relatives would prefer for the meal to be on a Friday and for the start time of the meal to be between 5:00 - 6:59 PM (17:00-18:59). Find the number of restaurants that open on Fridays between 17:00-18:59 and store this in a variable labeled `q4b`.\n",
    "\n",
    "As a reminder, **in order for a business to be a restaurant, it must have `Restaurants` in its categories.**\n",
    "\n",
    "Also, be aware that **`hours` can either be a dictionary or `None`**. Depending on how you write your aggregation pipeline, you may or may not need to explicitly deal with this. Hint: Read the [\\$match](https://www.mongodb.com/docs/manual/reference/operator/aggregation/match/) documentation carefully. **What does it automatically filter out?**\n",
    "\n",
    "**Hint**:\n",
    "- Once you have the Friday hours of a particular restaurant, you only need to look at the first time listed. For example, suppose Restaurant A has Friday hours like so: `15:00-16:00`. Restaurant A opens at 15:00, which is outside the range from 17:00-18:59, inclusive. Thus, we would not want to include this in our count. This is because your relatives want to be **at the restaurant when it opens.**\n",
    "- Set up an aggregation pipeline using the [\\$set](https://www.mongodb.com/docs/manual/reference/operator/aggregation/set/) and [\\$match](https://www.mongodb.com/docs/manual/reference/operator/aggregation/match/) stage operators. You may also want to use the [\\$split](https://www.mongodb.com/docs/manual/reference/operator/aggregation/split/) operator to parse out the Friday hours as an integer and then use comparison operators to find the restaurants that are open during the specified time. Note that using dot notation for array indexing in aggregation pipelines may not work as expected, so we recommend using [\\$arrayElemAt](https://www.mongodb.com/docs/manual/reference/operator/aggregation/arrayElemAt/) operator.\n",
    "- You may assume that the open hour times are well formed, e.g. the format is HH:MM-HH:MM where HH represents the hour (from 0-23) and MM represents the minutes (from 0-59).\n",
    "- Your pipeline might need multiple steps to split the open hour, so take your time!"
   ]
  },
  {
   "cell_type": "code",
   "execution_count": 227,
   "metadata": {
    "tags": [
     "otter_answer_cell"
    ]
   },
   "outputs": [
    {
     "data": {
      "text/plain": [
       "{'_id': ObjectId('6806a720a79df360aaa9dfa2'),\n",
       " 'business_id': '01sx-Pd8o_R9UGE20vPpSA',\n",
       " 'name': \"Rabottini's Pizza Pop Up\",\n",
       " 'address': '182 Western Ave',\n",
       " 'city': 'Allston',\n",
       " 'state': 'MA',\n",
       " 'postal_code': '02134',\n",
       " 'latitude': 42.3631875,\n",
       " 'longitude': -71.1297881,\n",
       " 'stars': 4.5,\n",
       " 'review_count': 31,\n",
       " 'is_open': 0,\n",
       " 'attributes': {'RestaurantsTakeOut': 'True',\n",
       "  'RestaurantsGoodForGroups': 'True',\n",
       "  'GoodForKids': 'True',\n",
       "  'OutdoorSeating': 'True',\n",
       "  'Ambience': \"{'touristy': False, 'hipster': False, 'romantic': False, 'divey': False, 'intimate': False, 'trendy': False, 'upscale': False, 'classy': False, 'casual': False}\"},\n",
       " 'categories': 'Pizza, Restaurants, Pop-Up Restaurants',\n",
       " 'hours': {'Tuesday': '17:0-22:0',\n",
       "  'Wednesday': '17:0-22:0',\n",
       "  'Thursday': '17:0-22:0',\n",
       "  'Friday': '17:0-22:0',\n",
       "  'Saturday': '17:0-22:0'},\n",
       " 'friday_open': '17:0',\n",
       " 'friday_hour': 17}"
      ]
     },
     "execution_count": 227,
     "metadata": {},
     "output_type": "execute_result"
    }
   ],
   "source": [
    "q4b_cursor = business.aggregate([\n",
    "    {\"$match\": {\n",
    "        \"$text\": {\"$search\": \"Restaurants\"},\n",
    "        \"hours.Friday\": {\"$exists\": True, \"$ne\": None}\n",
    "    }},\n",
    "    {\"$set\": {\n",
    "        \"friday_open\": {\"$arrayElemAt\": [{\"$split\": [\"$hours.Friday\", \"-\"]}, 0]}\n",
    "    }},\n",
    "    {\"$set\": {\n",
    "        \"friday_hour\": {\n",
    "            \"$toInt\": {\n",
    "                \"$arrayElemAt\": [{\"$split\": [\"$friday_open\", \":\"]}, 0]\n",
    "            }\n",
    "        }\n",
    "    }},\n",
    "    {\"$match\": {\n",
    "        \"friday_hour\": {\"$gte\": 17, \"$lte\": 18}\n",
    "    }}\n",
    "])\n",
    "q4b_result = list(q4b_cursor)\n",
    "q4b = len(q4b_result)\n",
    "q4b_result[0]"
   ]
  },
  {
   "cell_type": "code",
   "execution_count": 228,
   "metadata": {
    "tags": [
     "otter_answer_cell"
    ]
   },
   "outputs": [
    {
     "data": {
      "text/plain": [
       "3348"
      ]
     },
     "execution_count": 228,
     "metadata": {},
     "output_type": "execute_result"
    }
   ],
   "source": [
    "# Do not delete/edit this cell!\n",
    "# You must run this cell before running the autograder.\n",
    "grading_util.save_results(\"result_4b\", q4b)[0]"
   ]
  },
  {
   "cell_type": "code",
   "execution_count": 229,
   "metadata": {
    "deletable": false,
    "editable": false
   },
   "outputs": [
    {
     "data": {
      "text/html": [
       "<p><strong><pre style='display: inline;'>q4b</pre></strong> passed! ✨</p>"
      ],
      "text/plain": [
       "q4b results: All test cases passed!"
      ]
     },
     "execution_count": 229,
     "metadata": {},
     "output_type": "execute_result"
    }
   ],
   "source": [
    "grader.check(\"q4b\")"
   ]
  },
  {
   "cell_type": "markdown",
   "metadata": {},
   "source": [
    "<br>\n",
    "\n",
    "---\n",
    "### Question 4c\n",
    "\n",
    "Some members of your family are vegetarian so you would like to only eat at restaurants with the `Vegetarian` category. \n",
    "However, the `categories` are stored as a single string! You would like to make it easy to access `Vegetarian` as a separate field. Write a query that does the following: for every category in `categories`, add a new document that contains the `ObjectId` of the restaurant (labeled `_id`), the name of the business (labeled `name`), and the category (labeled `category`).\n",
    "\n",
    "For example, a document \n",
    "```\n",
    "{\n",
    "    \"_id\": ObjectId('606ffb0123cf2e5079dbd91f'), \n",
    "    \"name\": \"Wendy's\", \n",
    "     ..., \n",
    "     categories\" : \"Salad, Vegetarian, Restaurants\"\n",
    "} \n",
    "```\n",
    "would become \n",
    "```\n",
    "{\n",
    "    \"_id\": ObjectId('606ffb0123cf2e5079dbd91f'), \n",
    "    \"name\": \"Wendy's\",\n",
    "    “category”: \"Salad\"\n",
    "}\n",
    "```\n",
    "and \n",
    "```\n",
    "{\n",
    "    \"_id\": ObjectId('606ffb0123cf2e5079dbd91f'), \n",
    "    \"name\": \"Wendy's\",\n",
    "    “category”: \"Vegetarian\"\n",
    "}\n",
    "```\n",
    "and\n",
    "```\n",
    "{\n",
    "    \"_id\": ObjectId('606ffb0123cf2e5079dbd91f'), \n",
    "    \"name\": \"Wendy's\",\n",
    "    “category”: \"Restaurants\"\n",
    "}\n",
    "```\n",
    "\n",
    "Finally, to ensure your output is consistent with the autograder, sort in ascending order by `name` and break ties on `category`. Save your pipeline to a variable called `q4c_pipeline`.\n",
    "\n",
    "**Hints:**\n",
    "- Before doing anything else, **make sure that you filter businesses to only include restaurants, as defined in Question 4a and 4b**\n",
    "- The `$unwind` operator may be helpful here. You can find the documentation [here](https://www.mongodb.com/docs/manual/reference/operator/aggregation/unwind/). Be sure to check what object type `$unwind` operates on and watch out to make sure you don't have any unnecessary space in the `category` field."
   ]
  },
  {
   "cell_type": "code",
   "execution_count": 230,
   "metadata": {
    "scrolled": true,
    "tags": [
     "otter_answer_cell"
    ]
   },
   "outputs": [],
   "source": [
    "q4c_pipeline = [\n",
    "    {\n",
    "        \"$match\": {\n",
    "            \"$text\": { \"$search\": \"Restaurants\" }\n",
    "        }\n",
    "    },\n",
    "    {\n",
    "        \"$project\": {\n",
    "            \"_id\": 1,\n",
    "            \"name\": 1,\n",
    "            \"categories\": { \"$split\": [\"$categories\", \", \"] }\n",
    "        }\n",
    "    },\n",
    "    {\n",
    "        \"$unwind\": \"$categories\"\n",
    "    },\n",
    "    {\n",
    "        \"$project\": {\n",
    "            \"_id\": 1,\n",
    "            \"name\": 1,\n",
    "            \"category\": \"$categories\"\n",
    "        }\n",
    "    },\n",
    "    {\n",
    "        \"$sort\": {\n",
    "            \"name\": 1,\n",
    "            \"category\": 1\n",
    "        }\n",
    "    }\n",
    "]\n",
    "result_4c = list(business.aggregate(q4c_pipeline))"
   ]
  },
  {
   "cell_type": "code",
   "execution_count": 231,
   "metadata": {
    "tags": [
     "otter_answer_cell"
    ]
   },
   "outputs": [
    {
     "data": {
      "text/plain": [
       "[{'_id': ObjectId('6806a706a79df360aaa8a06d'),\n",
       "  'name': \" Gruby's New York Deli\",\n",
       "  'category': 'Caterers'},\n",
       " {'_id': ObjectId('6806a706a79df360aaa8a06d'),\n",
       "  'name': \" Gruby's New York Deli\",\n",
       "  'category': 'Delis'},\n",
       " {'_id': ObjectId('6806a706a79df360aaa8a06d'),\n",
       "  'name': \" Gruby's New York Deli\",\n",
       "  'category': 'Event Planning & Services'},\n",
       " {'_id': ObjectId('6806a706a79df360aaa8a06d'),\n",
       "  'name': \" Gruby's New York Deli\",\n",
       "  'category': 'Kosher'},\n",
       " {'_id': ObjectId('6806a706a79df360aaa8a06d'),\n",
       "  'name': \" Gruby's New York Deli\",\n",
       "  'category': 'Restaurants'}]"
      ]
     },
     "execution_count": 231,
     "metadata": {},
     "output_type": "execute_result"
    }
   ],
   "source": [
    "result_4c[:5]"
   ]
  },
  {
   "cell_type": "code",
   "execution_count": 232,
   "metadata": {
    "tags": [
     "otter_answer_cell"
    ]
   },
   "outputs": [],
   "source": [
    "# Do not delete/edit this cell!\n",
    "# You must run this cell before running the autograder.\n",
    "result_4c = list(business.aggregate(q4c_pipeline))[:50]\n",
    "grading_util.save_results(\"result_4c\", result_4c);"
   ]
  },
  {
   "cell_type": "code",
   "execution_count": 233,
   "metadata": {
    "deletable": false,
    "editable": false
   },
   "outputs": [
    {
     "data": {
      "text/html": [
       "<p><strong><pre style='display: inline;'>q4c</pre></strong> passed! 🚀</p>"
      ],
      "text/plain": [
       "q4c results: All test cases passed!"
      ]
     },
     "execution_count": 233,
     "metadata": {},
     "output_type": "execute_result"
    }
   ],
   "source": [
    "grader.check(\"q4c\")"
   ]
  },
  {
   "cell_type": "markdown",
   "metadata": {},
   "source": [
    "<br>\n",
    "\n",
    "---\n",
    "### Question 4d\n",
    "This change in representation has made it super easy to view all the vegetarian restaurants and count them without the use of an index; this is because we can now simply filter by whether or not `'Vegetarian'` is the value of the `category` field in our document! Write some code to count how many vegetarian restaurants are in our dataset—notice that there is only one more pipeline stage you'll need to add on top of the pipeline stages in Question 4c."
   ]
  },
  {
   "cell_type": "code",
   "execution_count": 234,
   "metadata": {
    "tags": [
     "otter_answer_cell"
    ]
   },
   "outputs": [],
   "source": [
    "q4d_pipeline = q4c_pipeline[:] # copy pipeline from Q4c\n",
    "\n",
    "extra_stage = {\n",
    "    \"$match\": {\n",
    "        \"category\": \"Vegetarian\"\n",
    "    }\n",
    "}\n",
    "q4d_pipeline.append(extra_stage)\n",
    "\n",
    "result_4d = list(business.aggregate(q4d_pipeline))\n",
    "\n",
    "veg_count = len(result_4d)"
   ]
  },
  {
   "cell_type": "code",
   "execution_count": 235,
   "metadata": {
    "tags": [
     "otter_answer_cell"
    ]
   },
   "outputs": [
    {
     "data": {
      "text/plain": [
       "1482"
      ]
     },
     "execution_count": 235,
     "metadata": {},
     "output_type": "execute_result"
    }
   ],
   "source": [
    "# Do not delete/edit this cell!\n",
    "# You must run this cell before running the autograder.\n",
    "grading_util.save_results(\"result_4d\", veg_count)[0]"
   ]
  },
  {
   "cell_type": "code",
   "execution_count": 236,
   "metadata": {
    "deletable": false,
    "editable": false
   },
   "outputs": [
    {
     "data": {
      "text/html": [
       "<p><strong><pre style='display: inline;'>q4d</pre></strong> passed! 🍀</p>"
      ],
      "text/plain": [
       "q4d results: All test cases passed!"
      ]
     },
     "execution_count": 236,
     "metadata": {},
     "output_type": "execute_result"
    }
   ],
   "source": [
    "grader.check(\"q4d\")"
   ]
  },
  {
   "cell_type": "markdown",
   "metadata": {},
   "source": [
    "## Congratulations! You have finished Project 4.\n",
    "\n",
    "Run the following cell to zip and download the results of your queries. You will also need to run the export cell at the end of the notebook.\n",
    "\n",
    "**Please save your notebook before exporting (this is a good time to do it!)** Otherwise, we may not be able to export your written responses to `proj4.pdf`. We will not be accepting regrade requests for failure to render written responses.\n",
    "\n",
    "**For your submission on Gradescope, you will only need to submit the single `proj4.zip` file generated by the export cell.** Please ensure that your submission `proj4.zip` file includes `proj4.pdf`, `proj4.ipynb`, and `results.zip`. \n",
    "\n",
    "**Please ensure that public tests pass upon submission.** It is your responsibility to wait until the autograder finishes running. We will not be accepting regrade requests for submission issues.\n",
    "\n",
    "**Common submission issues:** You MUST submit the generated zip file to the autograder. However, Safari is known to automatically unzip files upon downloading. You can fix this by going into Safari preferences, and deselect the box with the text \"Open safe files after downloading\" under the \"General\" tab. If you experience issues with downloading via clicking on the link, you can also navigate to the project 3 directory within JupyterHub (remove `proj4.ipynb` from the url), and manually download the generated zip files. Please post on Ed if you encounter any other submission issues.\n",
    "\n",
    "Run the following cell to zip and download the results of your queries. You will also need to run the export cell at the end of the notebook."
   ]
  },
  {
   "cell_type": "code",
   "execution_count": 237,
   "metadata": {},
   "outputs": [],
   "source": [
    "grading_util.prepare_submission_and_cleanup()"
   ]
  },
  {
   "cell_type": "markdown",
   "metadata": {
    "deletable": false,
    "editable": false
   },
   "source": [
    "---\n",
    "\n",
    "To double-check your work, the cell below will rerun all of the autograder tests."
   ]
  },
  {
   "cell_type": "code",
   "execution_count": 238,
   "metadata": {
    "deletable": false,
    "editable": false
   },
   "outputs": [
    {
     "data": {
      "text/plain": [
       "q1a results: All test cases passed!\n",
       "\n",
       "q1b results: All test cases passed!\n",
       "\n",
       "q1c results: All test cases passed!\n",
       "\n",
       "q1d results: All test cases passed!\n",
       "\n",
       "q1e results: All test cases passed!\n",
       "\n",
       "q1f results: All test cases passed!\n",
       "\n",
       "q2b results: All test cases passed!\n",
       "\n",
       "q2c results: All test cases passed!\n",
       "\n",
       "q3b results: All test cases passed!\n",
       "\n",
       "q3c results: All test cases passed!\n",
       "\n",
       "q3d results: All test cases passed!\n",
       "\n",
       "q3e results: All test cases passed!\n",
       "\n",
       "q3fi results: All test cases passed!\n",
       "\n",
       "q3fii results: All test cases passed!\n",
       "\n",
       "q3fiii results: All test cases passed!\n",
       "\n",
       "q4a results: All test cases passed!\n",
       "\n",
       "q4b results: All test cases passed!\n",
       "\n",
       "q4c results: All test cases passed!\n",
       "\n",
       "q4d results: All test cases passed!"
      ]
     },
     "execution_count": 238,
     "metadata": {},
     "output_type": "execute_result"
    }
   ],
   "source": [
    "grader.check_all()"
   ]
  },
  {
   "cell_type": "markdown",
   "metadata": {
    "deletable": false,
    "editable": false
   },
   "source": [
    "## Submission\n",
    "\n",
    "Make sure you have run all cells in your notebook in order before running the cell below, so that all images/graphs appear in the output. The cell below will generate a zip file for you to submit. **Please save before exporting!**"
   ]
  },
  {
   "cell_type": "code",
   "execution_count": 239,
   "metadata": {
    "deletable": false,
    "editable": false
   },
   "outputs": [
    {
     "data": {
      "text/html": [
       "\n",
       "                    <p>\n",
       "                        Your submission has been exported. Click\n",
       "                        <a href=\"proj4_2025_04_21T21_52_13_656720.zip\" download=\"proj4_2025_04_21T21_52_13_656720.zip\" target=\"_blank\">here</a> to download\n",
       "                        the zip file.\n",
       "                    </p>\n",
       "                "
      ],
      "text/plain": [
       "<IPython.core.display.HTML object>"
      ]
     },
     "metadata": {},
     "output_type": "display_data"
    }
   ],
   "source": [
    "# Save your notebook first, then run this cell to export your submission.\n",
    "grader.export(files=['results.zip'])"
   ]
  },
  {
   "cell_type": "markdown",
   "metadata": {},
   "source": [
    " "
   ]
  }
 ],
 "metadata": {
  "kernelspec": {
   "display_name": "Python 3 (ipykernel)",
   "language": "python",
   "name": "python3"
  },
  "language_info": {
   "codemirror_mode": {
    "name": "ipython",
    "version": 3
   },
   "file_extension": ".py",
   "mimetype": "text/x-python",
   "name": "python",
   "nbconvert_exporter": "python",
   "pygments_lexer": "ipython3",
   "version": "3.11.12"
  },
  "otter": {
   "OK_FORMAT": true,
   "tests": {
    "q1a": {
     "name": "q1a",
     "points": 1,
     "suites": [
      {
       "cases": [
        {
         "code": ">>> result_1a = grading_util.load_results('result_1a')[0]\n>>> '-' in result_1a and ':' in result_1a\nTrue",
         "hidden": false,
         "locked": false
        }
       ],
       "scored": true,
       "setup": "",
       "teardown": "",
       "type": "doctest"
      }
     ]
    },
    "q1b": {
     "name": "q1b",
     "points": 1,
     "suites": [
      {
       "cases": [
        {
         "code": ">>> result_1b = grading_util.load_results('result_1b')[0]\n>>> 3 <= result_1b <= 4.5\nTrue",
         "hidden": false,
         "locked": false
        }
       ],
       "scored": true,
       "setup": "",
       "teardown": "",
       "type": "doctest"
      }
     ]
    },
    "q1c": {
     "name": "q1c",
     "points": 2,
     "suites": [
      {
       "cases": [
        {
         "code": ">>> result_1c = grading_util.load_results('result_1c')[0]\n>>> len(result_1c)\n31",
         "hidden": false,
         "locked": false
        },
        {
         "code": ">>> result_1c = grading_util.load_results('result_1c')[0]\n>>> are_keys_correct = []\n>>> VALID_KEYS = set(['average_stars', 'city_state'])\n>>> for doc in result_1c:\n...     are_keys_correct.append(set(doc.keys()) == VALID_KEYS)\n>>> all(are_keys_correct)\nTrue",
         "hidden": false,
         "locked": false
        },
        {
         "code": ">>> result_1c = grading_util.load_results('result_1c')[0]\n>>> average_stars = list(map(lambda doc: doc['average_stars'], result_1c))\n>>> all((average_stars[i] >= average_stars[i + 1] for i in range(len(average_stars) - 1)))\nTrue",
         "hidden": false,
         "locked": false
        },
        {
         "code": ">>> result_1c = grading_util.load_results('result_1c')[0]\n>>> city_states = list(map(lambda doc: doc['city_state'], result_1c))\n>>> sorted_docs = sorted(result_1c, key=lambda doc: (-doc['average_stars'], doc['city_state']))\n>>> expected_city_states = list(map(lambda doc: doc['city_state'], sorted_docs))\n>>> city_states == expected_city_states\nTrue",
         "hidden": false,
         "locked": false
        }
       ],
       "scored": true,
       "setup": "",
       "teardown": "",
       "type": "doctest"
      }
     ]
    },
    "q1d": {
     "name": "q1d",
     "points": 1,
     "suites": [
      {
       "cases": [
        {
         "code": ">>> result_1d = grading_util.load_results('result_1d')[0]\n>>> 700 <= result_1d <= 800\nTrue",
         "hidden": false,
         "locked": false
        }
       ],
       "scored": true,
       "setup": "",
       "teardown": "",
       "type": "doctest"
      }
     ]
    },
    "q1e": {
     "name": "q1e",
     "points": 2,
     "suites": [
      {
       "cases": [
        {
         "code": ">>> result_1e = grading_util.load_results('result_1e')[0]\n>>> len(result_1e)\n7500",
         "hidden": false,
         "locked": false
        },
        {
         "code": ">>> result_1e = grading_util.load_results('result_1e')[0]\n>>> num_trues = 0\n>>> for doc in result_1e:\n...     if doc['to_avoid'] == 'true':\n...         num_trues += 1\n>>> num_trues\n728",
         "hidden": false,
         "locked": false
        },
        {
         "code": ">>> result_1e = grading_util.load_results('result_1e')[0]\n>>> num_falses = 0\n>>> for doc in result_1e:\n...     if doc['to_avoid'] == 'false':\n...         num_falses += 1\n>>> num_falses\n6772",
         "hidden": false,
         "locked": false
        }
       ],
       "scored": true,
       "setup": "",
       "teardown": "",
       "type": "doctest"
      }
     ]
    },
    "q1f": {
     "name": "q1f",
     "points": 1,
     "suites": [
      {
       "cases": [
        {
         "code": ">>> difference = grading_util.load_results('result_1f')[0]\n>>> 0 < difference <= 300000\nTrue",
         "hidden": false,
         "locked": false
        }
       ],
       "scored": true,
       "setup": "",
       "teardown": "",
       "type": "doctest"
      }
     ]
    },
    "q2b": {
     "name": "q2b",
     "points": 1,
     "suites": [
      {
       "cases": [
        {
         "code": ">>> query_2b, result_2b_df = grading_util.load_results('result_2b')\n>>> result_2b_df.shape\n(10, 8)",
         "hidden": false,
         "locked": false
        },
        {
         "code": ">>> query_2b, result_2b_df = grading_util.load_results('result_2b')\n>>> str(list(result_2b_df.columns))\n\"['review_id', 'user_id', 'business_id', 'stars', 'useful', 'funny', 'cool', 'text']\"",
         "hidden": false,
         "locked": false
        },
        {
         "code": ">>> query_2b, result_2b_df = grading_util.load_results('result_2b')\n>>> result_2b_df['review_id'].iloc[:5]\n0    000bviMESLXmlIFKDzCEfw\n1    003VeQn6SrVQS4sYHlc0gg\n2    00HovWV7VcZZPx5IleoeWA\n3    00pmZ82_w6Mpky6dl2jpiA\n4    021UtGruSN1RA5YRS92E7w\nName: review_id, dtype: object",
         "hidden": false,
         "locked": false
        },
        {
         "code": ">>> query_2b, result_2b_df = grading_util.load_results('result_2b')\n>>> result_2b_df['user_id'].iloc[:5]\n0    f7LnyAbhP5OSXvv_xiuZhw\n1    ba8ZSYE11LVepGCxwP9Vpg\n2    Nzaq0bJcE3q_bRdFrsFRsA\n3    r7e-6OS8A_gE_0CTUjQR3g\n4    6cyn5sP2OCarYV02KWtuGQ\nName: user_id, dtype: object",
         "hidden": false,
         "locked": false
        },
        {
         "code": ">>> query_2b, result_2b_df = grading_util.load_results('result_2b')\n>>> result_2b_df['business_id'].iloc[:5]\n0    SNuCspoI3HKcwJpZL5FcjQ\n1    rdS7hBBeukiX4Led9OT8sg\n2    Ln-8CbKGZGmF-GCqMoMcpA\n3    IDxaD_0_9TlWyKKXBFwjMA\n4    5HMXgD_gui5n0Tc_hadesg\nName: business_id, dtype: object",
         "hidden": false,
         "locked": false
        },
        {
         "code": ">>> query_2b, result_2b_df = grading_util.load_results('result_2b')\n>>> result_2b_df['stars'].iloc[:5]\n0    3.0\n1    5.0\n2    4.0\n3    1.0\n4    3.0\nName: stars, dtype: object",
         "hidden": false,
         "locked": false
        },
        {
         "code": ">>> query_2b, result_2b_df = grading_util.load_results('result_2b')\n>>> result_2b_df['useful'].iloc[:5]\n0    2\n1    0\n2    0\n3    0\n4    0\nName: useful, dtype: object",
         "hidden": false,
         "locked": false
        },
        {
         "code": ">>> query_2b, result_2b_df = grading_util.load_results('result_2b')\n>>> result_2b_df['funny'].iloc[:5]\n0    0\n1    0\n2    0\n3    0\n4    0\nName: funny, dtype: object",
         "hidden": false,
         "locked": false
        },
        {
         "code": ">>> query_2b, result_2b_df = grading_util.load_results('result_2b')\n>>> result_2b_df['cool'].iloc[:5]\n0    0\n1    0\n2    0\n3    0\n4    0\nName: cool, dtype: object",
         "hidden": false,
         "locked": false
        },
        {
         "code": ">>> query_2b, result_2b_df = grading_util.load_results('result_2b')\n>>> result_2b_df['text'].iloc[:5]\n0    I went there not having read any reviews.  Fro...\n1    Molana has one of the most tender Chicken Barg...\n2    This place is really new, but they were pretty...\n3    The food was great .. we had breakfast... the ...\n4    The atmosphere is great for drinks but I'd say...\nName: text, dtype: object",
         "hidden": false,
         "locked": false
        }
       ],
       "scored": true,
       "setup": "",
       "teardown": "",
       "type": "doctest"
      }
     ]
    },
    "q2c": {
     "name": "q2c",
     "points": 1,
     "suites": [
      {
       "cases": [
        {
         "code": ">>> result_2c = grading_util.load_results('result_2c')[0]\n>>> len(result_2c)\n5",
         "hidden": false,
         "locked": false
        },
        {
         "code": ">>> result_2c = grading_util.load_results('result_2c')[0]\n>>> all(list(map(lambda doc: 'business_info' in doc.keys(), result_2c)))\nTrue",
         "hidden": false,
         "locked": false
        },
        {
         "code": ">>> result_2c = grading_util.load_results('result_2c')[0]\n>>> all(list(map(lambda doc: 'review_id' in doc.keys(), result_2c)))\nTrue",
         "hidden": false,
         "locked": false
        },
        {
         "code": ">>> result_2c = grading_util.load_results('result_2c')[0]\n>>> all(list(map(lambda doc: 'business_id' in doc.keys(), result_2c)))\nTrue",
         "hidden": false,
         "locked": false
        }
       ],
       "scored": true,
       "setup": "",
       "teardown": "",
       "type": "doctest"
      }
     ]
    },
    "q3b": {
     "name": "q3b",
     "points": 1,
     "suites": [
      {
       "cases": [
        {
         "code": ">>> result_3b_df = grading_util.load_results('result_3b')[0]\n>>> result_3b_df.shape\n(50, 3)",
         "hidden": false,
         "locked": false
        },
        {
         "code": ">>> result_3b_df = grading_util.load_results('result_3b')[0]\n>>> str(list(result_3b_df.columns))\n\"['name_x', 'name_y', 'stars']\"",
         "hidden": false,
         "locked": false
        },
        {
         "code": ">>> result_3b_df = grading_util.load_results('result_3b')[0]\n>>> str(list(result_3b_df['name_x'].iloc[:25]))\n\"['081 Wood Fired Pizza', '081 Wood Fired Pizza', '081 Wood Fired Pizza', '081 Wood Fired Pizza', '081 Wood Fired Pizza', '081 Wood Fired Pizza', '081 Wood Fired Pizza', '081 Wood Fired Pizza', '081 Wood Fired Pizza', '081 Wood Fired Pizza', '081 Wood Fired Pizza', '081 Wood Fired Pizza', '081 Wood Fired Pizza', '081 Wood Fired Pizza', '081 Wood Fired Pizza', '081 Wood Fired Pizza', '081 Wood Fired Pizza', '081 Wood Fired Pizza', '081 Wood Fired Pizza', '081 Wood Fired Pizza', '081 Wood Fired Pizza', '081 Wood Fired Pizza', '081 Wood Fired Pizza', '081 Wood Fired Pizza', '081 Wood Fired Pizza']\"",
         "hidden": false,
         "locked": false
        },
        {
         "code": ">>> result_3b_df = grading_util.load_results('result_3b')[0]\n>>> str(list(result_3b_df['name_y'].iloc[:25]))\n'[\\'081 Wood Fired Pizza\\', \"Abee\\'s Hi-Tech Automotive Service\", \\'Advance Auto Parts\\', \\'Alberta Abbey\\', \"Andy\\'s Frozen Custard\", \\'Angel New & Used Tires\\', \\'Appliance Guys, Inc\\', \\'Archery Games Boston\\', \\'Argo & Lehne Jewelers\\', \\'Artistic Threading Studio\\', \\'Austin General Dentistry\\', \\'Austin Strings\\', \\'B Street Coffee House\\', \\'BCC Limos\\', \\'Bambolina Restaurant\\', \\'Bar Rione\\', \\'Barley Swine\\', \\'BedMart Mattress Superstores\\', \\'Bernard Watch Co.\\', \\'Bertolli Floors\\', \\'Bicycle One\\', \\'Big Kahuna\\', \\'Bites & Bubbles\\', \\'Body In Motion\\', \\'Boxwood Biscuit\\']'",
         "hidden": false,
         "locked": false
        },
        {
         "code": ">>> result_3b_df = grading_util.load_results('result_3b')[0]\n>>> str(list(result_3b_df['stars'].iloc[:25]))\n'[4.5, 4.5, 4.5, 4.5, 4.5, 4.5, 4.5, 4.5, 4.5, 4.5, 4.5, 4.5, 4.5, 4.5, 4.5, 4.5, 4.5, 4.5, 4.5, 4.5, 4.5, 4.5, 4.5, 4.5, 4.5]'",
         "hidden": false,
         "locked": false
        }
       ],
       "scored": true,
       "setup": "",
       "teardown": "",
       "type": "doctest"
      }
     ]
    },
    "q3c": {
     "name": "q3c",
     "points": 1,
     "suites": [
      {
       "cases": [
        {
         "code": ">>> result_3c_df = grading_util.load_results('result_3c')[0]\n>>> result_3c_df.shape\n(58, 2)",
         "hidden": false,
         "locked": false
        },
        {
         "code": ">>> result_3c_df = grading_util.load_results('result_3c')[0]\n>>> str(list(result_3c_df.columns))\n\"['column_name', 'percent_missing']\"",
         "hidden": false,
         "locked": false
        },
        {
         "code": ">>> result_3c_df = grading_util.load_results('result_3c')[0]\n>>> list(result_3c_df.loc[result_3c_df['column_name'] == '_id']['percent_missing'])[0]\n0.0",
         "hidden": false,
         "locked": false
        },
        {
         "code": ">>> result_3c_df = grading_util.load_results('result_3c')[0]\n>>> list(result_3c_df.loc[result_3c_df['column_name'] == 'attributes.RestaurantsTableService']['percent_missing'])[0]\n89.1",
         "hidden": false,
         "locked": false
        },
        {
         "code": ">>> result_3c_df = grading_util.load_results('result_3c')[0]\n>>> list(result_3c_df.loc[result_3c_df['column_name'] == 'hours.Sunday']['percent_missing'])[0]\n46.5",
         "hidden": false,
         "locked": false
        }
       ],
       "scored": true,
       "setup": "",
       "teardown": "",
       "type": "doctest"
      }
     ]
    },
    "q3d": {
     "name": "q3d",
     "points": 1,
     "suites": [
      {
       "cases": [
        {
         "code": ">>> 1 <= result_q3d <= 58\nTrue",
         "hidden": false,
         "locked": false
        }
       ],
       "scored": true,
       "setup": "",
       "teardown": "",
       "type": "doctest"
      }
     ]
    },
    "q3e": {
     "name": "q3e",
     "points": 1,
     "suites": [
      {
       "cases": [
        {
         "code": ">>> result_3e_df = grading_util.load_results('result_3e')[0]\n>>> result_3e_df.shape\n(1000, 39)",
         "hidden": false,
         "locked": false
        }
       ],
       "scored": true,
       "setup": "",
       "teardown": "",
       "type": "doctest"
      }
     ]
    },
    "q3fi": {
     "name": "q3fi",
     "points": 1,
     "suites": [
      {
       "cases": [
        {
         "code": ">>> len(q3fi)\n1",
         "hidden": false,
         "locked": false
        },
        {
         "code": ">>> 'A' <= q3fi <= 'C'\nTrue",
         "hidden": false,
         "locked": false
        }
       ],
       "scored": true,
       "setup": "",
       "teardown": "",
       "type": "doctest"
      }
     ]
    },
    "q3fii": {
     "name": "q3fii",
     "points": 1,
     "suites": [
      {
       "cases": [
        {
         "code": ">>> len(q3fii)\n1",
         "hidden": false,
         "locked": false
        },
        {
         "code": ">>> 'A' <= q3fii <= 'C'\nTrue",
         "hidden": false,
         "locked": false
        }
       ],
       "scored": true,
       "setup": "",
       "teardown": "",
       "type": "doctest"
      }
     ]
    },
    "q3fiii": {
     "name": "q3fiii",
     "points": 1,
     "suites": [
      {
       "cases": [
        {
         "code": ">>> len(q3fiii)\n1",
         "hidden": false,
         "locked": false
        },
        {
         "code": ">>> 'A' <= q3fiii <= 'C'\nTrue",
         "hidden": false,
         "locked": false
        }
       ],
       "scored": true,
       "setup": "",
       "teardown": "",
       "type": "doctest"
      }
     ]
    },
    "q4a": {
     "name": "q4a",
     "points": 1,
     "suites": [
      {
       "cases": [
        {
         "code": ">>> q4a = grading_util.load_results('result_4a')[0]\n>>> 8200 <= q4a <= 8300\nTrue",
         "hidden": false,
         "locked": false
        }
       ],
       "scored": true,
       "setup": "",
       "teardown": "",
       "type": "doctest"
      }
     ]
    },
    "q4b": {
     "name": "q4b",
     "points": 2,
     "suites": [
      {
       "cases": [
        {
         "code": ">>> q4b = grading_util.load_results('result_4b')[0]\n>>> 3300 <= q4b <= 3400\nTrue",
         "hidden": false,
         "locked": false
        }
       ],
       "scored": true,
       "setup": "",
       "teardown": "",
       "type": "doctest"
      }
     ]
    },
    "q4c": {
     "name": "q4c",
     "points": 2,
     "suites": [
      {
       "cases": [
        {
         "code": ">>> result_4c = grading_util.load_results('result_4c')[0]\n>>> str(list(map(lambda doc: doc['name'], result_4c[:25])))\n'[\" Gruby\\'s New York Deli\", \" Gruby\\'s New York Deli\", \" Gruby\\'s New York Deli\", \" Gruby\\'s New York Deli\", \" Gruby\\'s New York Deli\", \" Gruby\\'s New York Deli\", \" Gruby\\'s New York Deli\", \\'# 19\\', \\'# 19\\', \\'# 19\\', \\'#1 Express China Lee\\', \\'#1 Express China Lee\\', \\'#FROYO Premium Frozen Yogurt\\', \\'#FROYO Premium Frozen Yogurt\\', \\'#FROYO Premium Frozen Yogurt\\', \\'#FROYO Premium Frozen Yogurt\\', \\'& Juice\\', \\'& Juice\\', \\'& Juice\\', \\'& Juice\\', \\'& Juice\\', \\'& Juice Co.\\', \\'& Juice Co.\\', \\'& Juice Co.\\', \\'& Juice Co.\\']'",
         "hidden": false,
         "locked": false
        },
        {
         "code": ">>> result_4c = grading_util.load_results('result_4c')[0]\n>>> str(list(map(lambda doc: doc['category'], result_4c[:25])))\n\"['Caterers', 'Delis', 'Event Planning & Services', 'Kosher', 'Restaurants', 'Salad', 'Sandwiches', 'Food', 'Restaurants', 'Sandwiches', 'Chinese', 'Restaurants', 'American (New)', 'Food', 'Ice Cream & Frozen Yogurt', 'Restaurants', 'Food', 'Juice Bars & Smoothies', 'Restaurants', 'Vegan', 'Vegetarian', 'Food', 'Gluten-Free', 'Juice Bars & Smoothies', 'Restaurants']\"",
         "hidden": false,
         "locked": false
        }
       ],
       "scored": true,
       "setup": "",
       "teardown": "",
       "type": "doctest"
      }
     ]
    },
    "q4d": {
     "name": "q4d",
     "points": 1,
     "suites": [
      {
       "cases": [
        {
         "code": ">>> veg_count = grading_util.load_results('result_4d')[0]\n>>> 1400 < veg_count < 1500\nTrue",
         "hidden": false,
         "locked": false
        }
       ],
       "scored": true,
       "setup": "",
       "teardown": "",
       "type": "doctest"
      }
     ]
    }
   }
  }
 },
 "nbformat": 4,
 "nbformat_minor": 4
}
